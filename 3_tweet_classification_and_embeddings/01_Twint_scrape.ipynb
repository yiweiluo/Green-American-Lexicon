{
 "cells": [
  {
   "cell_type": "markdown",
   "metadata": {},
   "source": [
    "Documentation: https://pypi.org/project/twint/"
   ]
  },
  {
   "cell_type": "code",
   "execution_count": 4,
   "metadata": {},
   "outputs": [],
   "source": [
    "import pandas as pd\n",
    "import numpy as np\n",
    "import csv\n",
    "from collections import Counter"
   ]
  },
  {
   "cell_type": "code",
   "execution_count": 2,
   "metadata": {},
   "outputs": [],
   "source": [
    "# Read in 100 users per side\n",
    "influential_csv = pd.read_csv('influential_tweeters.csv')"
   ]
  },
  {
   "cell_type": "code",
   "execution_count": 3,
   "metadata": {
    "scrolled": true
   },
   "outputs": [
    {
     "data": {
      "text/html": [
       "<div>\n",
       "<style scoped>\n",
       "    .dataframe tbody tr th:only-of-type {\n",
       "        vertical-align: middle;\n",
       "    }\n",
       "\n",
       "    .dataframe tbody tr th {\n",
       "        vertical-align: top;\n",
       "    }\n",
       "\n",
       "    .dataframe thead th {\n",
       "        text-align: right;\n",
       "    }\n",
       "</style>\n",
       "<table border=\"1\" class=\"dataframe\">\n",
       "  <thead>\n",
       "    <tr style=\"text-align: right;\">\n",
       "      <th></th>\n",
       "      <th>affirming</th>\n",
       "      <th>denying</th>\n",
       "    </tr>\n",
       "  </thead>\n",
       "  <tbody>\n",
       "    <tr>\n",
       "      <td>0</td>\n",
       "      <td>algore</td>\n",
       "      <td>skepticscience</td>\n",
       "    </tr>\n",
       "    <tr>\n",
       "      <td>1</td>\n",
       "      <td>oxfamgb</td>\n",
       "      <td>ScienceNotDogma</td>\n",
       "    </tr>\n",
       "    <tr>\n",
       "      <td>2</td>\n",
       "      <td>globalactplan</td>\n",
       "      <td>Carbongate</td>\n",
       "    </tr>\n",
       "    <tr>\n",
       "      <td>3</td>\n",
       "      <td>GreenpeaceUK</td>\n",
       "      <td>Neets2245</td>\n",
       "    </tr>\n",
       "    <tr>\n",
       "      <td>4</td>\n",
       "      <td>WWF_Climate</td>\n",
       "      <td>Co2Green</td>\n",
       "    </tr>\n",
       "    <tr>\n",
       "      <td>5</td>\n",
       "      <td>OneClimate</td>\n",
       "      <td>thegwpfcom</td>\n",
       "    </tr>\n",
       "    <tr>\n",
       "      <td>6</td>\n",
       "      <td>Ed_Miliband</td>\n",
       "      <td>CO2Coalition</td>\n",
       "    </tr>\n",
       "    <tr>\n",
       "      <td>7</td>\n",
       "      <td>CarolineLucas</td>\n",
       "      <td>Action4Life_</td>\n",
       "    </tr>\n",
       "    <tr>\n",
       "      <td>8</td>\n",
       "      <td>DECCgovuk</td>\n",
       "      <td>fredpalmercoal</td>\n",
       "    </tr>\n",
       "    <tr>\n",
       "      <td>9</td>\n",
       "      <td>the_ecologist</td>\n",
       "      <td>NoTricksZone</td>\n",
       "    </tr>\n",
       "    <tr>\n",
       "      <td>10</td>\n",
       "      <td>James_BG</td>\n",
       "      <td>FChecker76</td>\n",
       "    </tr>\n",
       "    <tr>\n",
       "      <td>11</td>\n",
       "      <td>Revkin</td>\n",
       "      <td>caleb_rossiter</td>\n",
       "    </tr>\n",
       "    <tr>\n",
       "      <td>12</td>\n",
       "      <td>ClimateDesk</td>\n",
       "      <td>FriendsofCoalWV</td>\n",
       "    </tr>\n",
       "    <tr>\n",
       "      <td>13</td>\n",
       "      <td>climateprogress</td>\n",
       "      <td>JunkScience</td>\n",
       "    </tr>\n",
       "    <tr>\n",
       "      <td>14</td>\n",
       "      <td>grist</td>\n",
       "      <td>CO2notes</td>\n",
       "    </tr>\n",
       "    <tr>\n",
       "      <td>15</td>\n",
       "      <td>TreeHugger</td>\n",
       "      <td>ClimateSkeptic</td>\n",
       "    </tr>\n",
       "    <tr>\n",
       "      <td>16</td>\n",
       "      <td>kate_sheppard</td>\n",
       "      <td>eloarefab</td>\n",
       "    </tr>\n",
       "    <tr>\n",
       "      <td>17</td>\n",
       "      <td>drvox</td>\n",
       "      <td>adapt2030</td>\n",
       "    </tr>\n",
       "    <tr>\n",
       "      <td>18</td>\n",
       "      <td>bradplumer</td>\n",
       "      <td>JWSpry</td>\n",
       "    </tr>\n",
       "    <tr>\n",
       "      <td>19</td>\n",
       "      <td>simondonner</td>\n",
       "      <td>pplonia</td>\n",
       "    </tr>\n",
       "    <tr>\n",
       "      <td>20</td>\n",
       "      <td>ayanaeliza</td>\n",
       "      <td>ILuvCO2</td>\n",
       "    </tr>\n",
       "    <tr>\n",
       "      <td>21</td>\n",
       "      <td>MaryHeglar</td>\n",
       "      <td>uk_ecology</td>\n",
       "    </tr>\n",
       "    <tr>\n",
       "      <td>22</td>\n",
       "      <td>maanvisings</td>\n",
       "      <td>IceAgeFarmer</td>\n",
       "    </tr>\n",
       "    <tr>\n",
       "      <td>23</td>\n",
       "      <td>ABarnardNYT</td>\n",
       "      <td>msroberts0619</td>\n",
       "    </tr>\n",
       "    <tr>\n",
       "      <td>24</td>\n",
       "      <td>earthinstitute</td>\n",
       "      <td>wattsupwiththat</td>\n",
       "    </tr>\n",
       "    <tr>\n",
       "      <td>25</td>\n",
       "      <td>lisalsong</td>\n",
       "      <td>ThiagoMaia2503</td>\n",
       "    </tr>\n",
       "    <tr>\n",
       "      <td>26</td>\n",
       "      <td>dwallacewells</td>\n",
       "      <td>realDonaldTrump</td>\n",
       "    </tr>\n",
       "    <tr>\n",
       "      <td>27</td>\n",
       "      <td>GretaThunberg</td>\n",
       "      <td>ccdeditor</td>\n",
       "    </tr>\n",
       "    <tr>\n",
       "      <td>28</td>\n",
       "      <td>kzhill</td>\n",
       "      <td>ClimateDepot</td>\n",
       "    </tr>\n",
       "    <tr>\n",
       "      <td>29</td>\n",
       "      <td>J_M_Fitton</td>\n",
       "      <td>Electroversenet</td>\n",
       "    </tr>\n",
       "    <tr>\n",
       "      <td>30</td>\n",
       "      <td>YaleE360</td>\n",
       "      <td>FriendsOScience</td>\n",
       "    </tr>\n",
       "    <tr>\n",
       "      <td>31</td>\n",
       "      <td>guardianeco</td>\n",
       "      <td>ClimatismBlog</td>\n",
       "    </tr>\n",
       "    <tr>\n",
       "      <td>32</td>\n",
       "      <td>Amelia_Womack</td>\n",
       "      <td>ClimateRealists</td>\n",
       "    </tr>\n",
       "    <tr>\n",
       "      <td>33</td>\n",
       "      <td>ClimateHome</td>\n",
       "      <td>Tony__Heller</td>\n",
       "    </tr>\n",
       "    <tr>\n",
       "      <td>34</td>\n",
       "      <td>KarlMathiesen</td>\n",
       "      <td>ChrisMartzWX</td>\n",
       "    </tr>\n",
       "    <tr>\n",
       "      <td>35</td>\n",
       "      <td>PaulEDawson</td>\n",
       "      <td>IceAgeBob</td>\n",
       "    </tr>\n",
       "    <tr>\n",
       "      <td>36</td>\n",
       "      <td>floodsg</td>\n",
       "      <td>UvMeter</td>\n",
       "    </tr>\n",
       "    <tr>\n",
       "      <td>37</td>\n",
       "      <td>Khayhoe</td>\n",
       "      <td>GrandSolarMin</td>\n",
       "    </tr>\n",
       "    <tr>\n",
       "      <td>38</td>\n",
       "      <td>TimesClimate</td>\n",
       "      <td>KnowYourGreen1</td>\n",
       "    </tr>\n",
       "    <tr>\n",
       "      <td>39</td>\n",
       "      <td>DrShepherd2013</td>\n",
       "      <td>seanhannity</td>\n",
       "    </tr>\n",
       "    <tr>\n",
       "      <td>40</td>\n",
       "      <td>EstherNgumbi</td>\n",
       "      <td>Timbooooon</td>\n",
       "    </tr>\n",
       "    <tr>\n",
       "      <td>41</td>\n",
       "      <td>climategeek</td>\n",
       "      <td>StarryPole</td>\n",
       "    </tr>\n",
       "    <tr>\n",
       "      <td>42</td>\n",
       "      <td>coralsncaves</td>\n",
       "      <td>co2_the</td>\n",
       "    </tr>\n",
       "    <tr>\n",
       "      <td>43</td>\n",
       "      <td>NaomiAKlein</td>\n",
       "      <td>grand_solar</td>\n",
       "    </tr>\n",
       "    <tr>\n",
       "      <td>44</td>\n",
       "      <td>JustinHGillis</td>\n",
       "      <td>ClimateHiJinx</td>\n",
       "    </tr>\n",
       "    <tr>\n",
       "      <td>45</td>\n",
       "      <td>SasjaBeslik</td>\n",
       "      <td>caleb_rossiter</td>\n",
       "    </tr>\n",
       "    <tr>\n",
       "      <td>46</td>\n",
       "      <td>PEspinosaC</td>\n",
       "      <td>SylviaD32911201</td>\n",
       "    </tr>\n",
       "    <tr>\n",
       "      <td>47</td>\n",
       "      <td>MikeHudema</td>\n",
       "      <td>ScubaHobbs</td>\n",
       "    </tr>\n",
       "    <tr>\n",
       "      <td>48</td>\n",
       "      <td>LeoDiCaprio</td>\n",
       "      <td>notGHGs</td>\n",
       "    </tr>\n",
       "    <tr>\n",
       "      <td>49</td>\n",
       "      <td>tveitdal</td>\n",
       "      <td>clim8resistance</td>\n",
       "    </tr>\n",
       "  </tbody>\n",
       "</table>\n",
       "</div>"
      ],
      "text/plain": [
       "          affirming          denying\n",
       "0            algore   skepticscience\n",
       "1           oxfamgb  ScienceNotDogma\n",
       "2     globalactplan       Carbongate\n",
       "3      GreenpeaceUK        Neets2245\n",
       "4       WWF_Climate         Co2Green\n",
       "5        OneClimate       thegwpfcom\n",
       "6       Ed_Miliband     CO2Coalition\n",
       "7     CarolineLucas     Action4Life_\n",
       "8         DECCgovuk   fredpalmercoal\n",
       "9     the_ecologist     NoTricksZone\n",
       "10         James_BG       FChecker76\n",
       "11           Revkin   caleb_rossiter\n",
       "12      ClimateDesk  FriendsofCoalWV\n",
       "13  climateprogress      JunkScience\n",
       "14            grist         CO2notes\n",
       "15       TreeHugger   ClimateSkeptic\n",
       "16    kate_sheppard        eloarefab\n",
       "17            drvox        adapt2030\n",
       "18       bradplumer           JWSpry\n",
       "19      simondonner          pplonia\n",
       "20       ayanaeliza          ILuvCO2\n",
       "21       MaryHeglar       uk_ecology\n",
       "22      maanvisings     IceAgeFarmer\n",
       "23      ABarnardNYT    msroberts0619\n",
       "24   earthinstitute  wattsupwiththat\n",
       "25        lisalsong   ThiagoMaia2503\n",
       "26    dwallacewells  realDonaldTrump\n",
       "27    GretaThunberg        ccdeditor\n",
       "28           kzhill     ClimateDepot\n",
       "29       J_M_Fitton  Electroversenet\n",
       "30         YaleE360  FriendsOScience\n",
       "31      guardianeco    ClimatismBlog\n",
       "32    Amelia_Womack  ClimateRealists\n",
       "33      ClimateHome     Tony__Heller\n",
       "34    KarlMathiesen     ChrisMartzWX\n",
       "35      PaulEDawson        IceAgeBob\n",
       "36          floodsg          UvMeter\n",
       "37          Khayhoe    GrandSolarMin\n",
       "38     TimesClimate   KnowYourGreen1\n",
       "39   DrShepherd2013      seanhannity\n",
       "40     EstherNgumbi       Timbooooon\n",
       "41      climategeek       StarryPole\n",
       "42     coralsncaves          co2_the\n",
       "43      NaomiAKlein      grand_solar\n",
       "44    JustinHGillis    ClimateHiJinx\n",
       "45      SasjaBeslik   caleb_rossiter\n",
       "46       PEspinosaC  SylviaD32911201\n",
       "47       MikeHudema       ScubaHobbs\n",
       "48      LeoDiCaprio          notGHGs\n",
       "49         tveitdal  clim8resistance"
      ]
     },
     "execution_count": 3,
     "metadata": {},
     "output_type": "execute_result"
    }
   ],
   "source": [
    "influential_csv.head(50)"
   ]
  },
  {
   "cell_type": "code",
   "execution_count": 4,
   "metadata": {},
   "outputs": [
    {
     "data": {
      "text/plain": [
       "(99, 2)"
      ]
     },
     "execution_count": 4,
     "metadata": {},
     "output_type": "execute_result"
    }
   ],
   "source": [
    "influential_csv.shape"
   ]
  },
  {
   "cell_type": "code",
   "execution_count": 5,
   "metadata": {},
   "outputs": [
    {
     "name": "stdout",
     "output_type": "stream",
     "text": [
      "96\n",
      "96\n"
     ]
    }
   ],
   "source": [
    "print(len(np.unique(influential_csv['denying'])))\n",
    "print(len(np.unique(influential_csv['affirming'])))"
   ]
  },
  {
   "cell_type": "code",
   "execution_count": 6,
   "metadata": {},
   "outputs": [
    {
     "name": "stdout",
     "output_type": "stream",
     "text": [
      "99\n",
      "99\n"
     ]
    }
   ],
   "source": [
    "print(len(influential_csv['denying']))\n",
    "print(len(influential_csv['affirming']))"
   ]
  },
  {
   "cell_type": "code",
   "execution_count": 11,
   "metadata": {},
   "outputs": [
    {
     "data": {
      "text/plain": [
       "[]"
      ]
     },
     "execution_count": 11,
     "metadata": {},
     "output_type": "execute_result"
    }
   ],
   "source": [
    "[x for x in Counter(influential_csv['denying']) if Counter(influential_csv['denying'])[x] > 1]"
   ]
  },
  {
   "cell_type": "code",
   "execution_count": 12,
   "metadata": {},
   "outputs": [
    {
     "data": {
      "text/plain": [
       "[]"
      ]
     },
     "execution_count": 12,
     "metadata": {},
     "output_type": "execute_result"
    }
   ],
   "source": [
    "[x for x in Counter(influential_csv['affirming']) if Counter(influential_csv['affirming'])[x] > 1]"
   ]
  },
  {
   "cell_type": "code",
   "execution_count": 9,
   "metadata": {},
   "outputs": [],
   "source": [
    "influential_csv['denying'].drop_duplicates(keep='first',inplace=True)\n",
    "influential_csv['affirming'].drop_duplicates(keep='first',inplace=True)"
   ]
  },
  {
   "cell_type": "code",
   "execution_count": 10,
   "metadata": {},
   "outputs": [
    {
     "data": {
      "text/plain": [
       "(99, 2)"
      ]
     },
     "execution_count": 10,
     "metadata": {},
     "output_type": "execute_result"
    }
   ],
   "source": [
    "influential_csv.shape"
   ]
  },
  {
   "cell_type": "markdown",
   "metadata": {},
   "source": [
    "Scrape these users' tweets using Twint:"
   ]
  },
  {
   "cell_type": "code",
   "execution_count": 13,
   "metadata": {},
   "outputs": [],
   "source": [
    "import twint\n",
    "import nest_asyncio\n",
    "import os\n",
    "nest_asyncio.apply()"
   ]
  },
  {
   "cell_type": "code",
   "execution_count": 14,
   "metadata": {},
   "outputs": [],
   "source": [
    "SEARCH_TERMS = [\"sea\",\"ice\",\"melt\",\"co2\",\"methane\",\"greenhouse\",\"carbon\",\n",
    "               \"emission\",\"anthropogenic\",\"temperature\",\"warming\",\"climate\",\"coal\",\"IPCC\",\"environment\",\n",
    "               \"environmental\",\"cap and trade\",'energy','planet','renewable','fossil fuel','environmentalist']\n",
    "# TO DO: expand search_terms w/ some of Zach's terms"
   ]
  },
  {
   "cell_type": "code",
   "execution_count": 15,
   "metadata": {},
   "outputs": [],
   "source": [
    "SCRAPE_DIR = '/per_user_search_term_scrapes'"
   ]
  },
  {
   "cell_type": "code",
   "execution_count": 16,
   "metadata": {
    "code_folding": [
     0
    ]
   },
   "outputs": [],
   "source": [
    "def create_twint_config(user,end_date,search_term):\n",
    "    c = twint.Config()\n",
    "    c.Show_hashtags = True\n",
    "    c.Count = True\n",
    "    c.Stats = True\n",
    "    c.Store_csv = True\n",
    "    c.Retweets = False\n",
    "    c.Custom[\"tweet\"] = [\"id\", \"date\", \"time\", \"tweet\", \"mentions\", \"replies_count\", \"retweets_count\", \n",
    "                         \"likes_count\", \"hashtags\", \"username\"]\n",
    "    c.Format = \"ID {id} -||- Date {date} -||- Time {time} -||- Tweet {tweet} -||- Mentions {mentions} -||- \\\n",
    "    Repliescount {replies_count} \\\n",
    "    -||- Retweetscount {retweets_count} -||- Likescount {likes_count} -||- Hashtags {hashtags} -||- Username {username}\"\n",
    "    sep = \" -||- \"\n",
    "    c.Username = user\n",
    "    c.Until = end_date\n",
    "    c.Search = search_term\n",
    "    \n",
    "    return c"
   ]
  },
  {
   "cell_type": "markdown",
   "metadata": {},
   "source": [
    "# RESET"
   ]
  },
  {
   "cell_type": "code",
   "execution_count": 28,
   "metadata": {
    "scrolled": true
   },
   "outputs": [
    {
     "data": {
      "text/html": [
       "<div>\n",
       "<style scoped>\n",
       "    .dataframe tbody tr th:only-of-type {\n",
       "        vertical-align: middle;\n",
       "    }\n",
       "\n",
       "    .dataframe tbody tr th {\n",
       "        vertical-align: top;\n",
       "    }\n",
       "\n",
       "    .dataframe thead th {\n",
       "        text-align: right;\n",
       "    }\n",
       "</style>\n",
       "<table border=\"1\" class=\"dataframe\">\n",
       "  <thead>\n",
       "    <tr style=\"text-align: right;\">\n",
       "      <th></th>\n",
       "      <th>affirming</th>\n",
       "      <th>denying</th>\n",
       "    </tr>\n",
       "  </thead>\n",
       "  <tbody>\n",
       "    <tr>\n",
       "      <td>0</td>\n",
       "      <td>algore</td>\n",
       "      <td>skepticscience</td>\n",
       "    </tr>\n",
       "    <tr>\n",
       "      <td>1</td>\n",
       "      <td>oxfamgb</td>\n",
       "      <td>ScienceNotDogma</td>\n",
       "    </tr>\n",
       "    <tr>\n",
       "      <td>2</td>\n",
       "      <td>globalactplan</td>\n",
       "      <td>Carbongate</td>\n",
       "    </tr>\n",
       "    <tr>\n",
       "      <td>3</td>\n",
       "      <td>GreenpeaceUK</td>\n",
       "      <td>Neets2245</td>\n",
       "    </tr>\n",
       "    <tr>\n",
       "      <td>4</td>\n",
       "      <td>WWF_Climate</td>\n",
       "      <td>Co2Green</td>\n",
       "    </tr>\n",
       "    <tr>\n",
       "      <td>5</td>\n",
       "      <td>OneClimate</td>\n",
       "      <td>thegwpfcom</td>\n",
       "    </tr>\n",
       "    <tr>\n",
       "      <td>6</td>\n",
       "      <td>Ed_Miliband</td>\n",
       "      <td>CO2Coalition</td>\n",
       "    </tr>\n",
       "    <tr>\n",
       "      <td>7</td>\n",
       "      <td>CarolineLucas</td>\n",
       "      <td>Action4Life_</td>\n",
       "    </tr>\n",
       "    <tr>\n",
       "      <td>8</td>\n",
       "      <td>DECCgovuk</td>\n",
       "      <td>fredpalmercoal</td>\n",
       "    </tr>\n",
       "    <tr>\n",
       "      <td>9</td>\n",
       "      <td>the_ecologist</td>\n",
       "      <td>NoTricksZone</td>\n",
       "    </tr>\n",
       "    <tr>\n",
       "      <td>10</td>\n",
       "      <td>James_BG</td>\n",
       "      <td>FChecker76</td>\n",
       "    </tr>\n",
       "    <tr>\n",
       "      <td>11</td>\n",
       "      <td>Revkin</td>\n",
       "      <td>caleb_rossiter</td>\n",
       "    </tr>\n",
       "    <tr>\n",
       "      <td>12</td>\n",
       "      <td>ClimateDesk</td>\n",
       "      <td>FriendsofCoalWV</td>\n",
       "    </tr>\n",
       "    <tr>\n",
       "      <td>13</td>\n",
       "      <td>climateprogress</td>\n",
       "      <td>JunkScience</td>\n",
       "    </tr>\n",
       "    <tr>\n",
       "      <td>14</td>\n",
       "      <td>grist</td>\n",
       "      <td>CO2notes</td>\n",
       "    </tr>\n",
       "    <tr>\n",
       "      <td>15</td>\n",
       "      <td>TreeHugger</td>\n",
       "      <td>ClimateSkeptic</td>\n",
       "    </tr>\n",
       "    <tr>\n",
       "      <td>16</td>\n",
       "      <td>kate_sheppard</td>\n",
       "      <td>eloarefab</td>\n",
       "    </tr>\n",
       "    <tr>\n",
       "      <td>17</td>\n",
       "      <td>drvox</td>\n",
       "      <td>adapt2030</td>\n",
       "    </tr>\n",
       "    <tr>\n",
       "      <td>18</td>\n",
       "      <td>bradplumer</td>\n",
       "      <td>JWSpry</td>\n",
       "    </tr>\n",
       "    <tr>\n",
       "      <td>19</td>\n",
       "      <td>simondonner</td>\n",
       "      <td>pplonia</td>\n",
       "    </tr>\n",
       "  </tbody>\n",
       "</table>\n",
       "</div>"
      ],
      "text/plain": [
       "          affirming          denying\n",
       "0            algore   skepticscience\n",
       "1           oxfamgb  ScienceNotDogma\n",
       "2     globalactplan       Carbongate\n",
       "3      GreenpeaceUK        Neets2245\n",
       "4       WWF_Climate         Co2Green\n",
       "5        OneClimate       thegwpfcom\n",
       "6       Ed_Miliband     CO2Coalition\n",
       "7     CarolineLucas     Action4Life_\n",
       "8         DECCgovuk   fredpalmercoal\n",
       "9     the_ecologist     NoTricksZone\n",
       "10         James_BG       FChecker76\n",
       "11           Revkin   caleb_rossiter\n",
       "12      ClimateDesk  FriendsofCoalWV\n",
       "13  climateprogress      JunkScience\n",
       "14            grist         CO2notes\n",
       "15       TreeHugger   ClimateSkeptic\n",
       "16    kate_sheppard        eloarefab\n",
       "17            drvox        adapt2030\n",
       "18       bradplumer           JWSpry\n",
       "19      simondonner          pplonia"
      ]
     },
     "execution_count": 28,
     "metadata": {},
     "output_type": "execute_result"
    }
   ],
   "source": [
    "influential_csv.head(20)"
   ]
  },
  {
   "cell_type": "code",
   "execution_count": 2407,
   "metadata": {},
   "outputs": [
    {
     "name": "stdout",
     "output_type": "stream",
     "text": [
      "Current denying user: EcoSenseNow\n"
     ]
    }
   ],
   "source": [
    "curr_deny = influential_csv.iloc[92]['denying']\n",
    "print('Current denying user:',curr_deny)\n",
    "#c.Username = curr_affirm"
   ]
  },
  {
   "cell_type": "markdown",
   "metadata": {},
   "source": [
    "## RESTART HERE"
   ]
  },
  {
   "cell_type": "code",
   "execution_count": 2519,
   "metadata": {},
   "outputs": [],
   "source": [
    "config = create_twint_config(\n",
    "    curr_deny,None,None)"
   ]
  },
  {
   "cell_type": "code",
   "execution_count": 2526,
   "metadata": {},
   "outputs": [
    {
     "data": {
      "text/plain": [
       "{'Show_hashtags': True,\n",
       " 'Count': True,\n",
       " 'Stats': True,\n",
       " 'Store_csv': True,\n",
       " 'Retweets': False,\n",
       " 'Format': 'ID {id} -||- Date {date} -||- Time {time} -||- Tweet {tweet} -||- Mentions {mentions} -||-     Repliescount {replies_count}     -||- Retweetscount {retweets_count} -||- Likescount {likes_count} -||- Hashtags {hashtags} -||- Username {username}',\n",
       " 'Username': 'EcoSenseNow',\n",
       " 'Until': '2013-04-30',\n",
       " 'Search': 'environmentalist'}"
      ]
     },
     "execution_count": 2526,
     "metadata": {},
     "output_type": "execute_result"
    }
   ],
   "source": [
    "config.__dict__"
   ]
  },
  {
   "cell_type": "code",
   "execution_count": 2527,
   "metadata": {},
   "outputs": [],
   "source": [
    "if config.Search == None:\n",
    "    start_index = 0\n",
    "else:\n",
    "    start_index = SEARCH_TERMS.index(config.Search)"
   ]
  },
  {
   "cell_type": "code",
   "execution_count": 2528,
   "metadata": {},
   "outputs": [
    {
     "data": {
      "text/plain": [
       "21"
      ]
     },
     "execution_count": 2528,
     "metadata": {},
     "output_type": "execute_result"
    }
   ],
   "source": [
    "start_index"
   ]
  },
  {
   "cell_type": "code",
   "execution_count": 2530,
   "metadata": {
    "scrolled": true
   },
   "outputs": [
    {
     "name": "stdout",
     "output_type": "stream",
     "text": [
      "Getting tweets with keyword: environmentalist\n"
     ]
    },
    {
     "name": "stderr",
     "output_type": "stream",
     "text": [
      "CRITICAL:root:twint.run:Twint:Feed:noDataExpecting value: line 1 column 1 (char 0)\n",
      "CRITICAL:root:twint.run:Twint:Feed:noDataExpecting value: line 1 column 1 (char 0)\n",
      "CRITICAL:root:twint.run:Twint:Feed:noDataExpecting value: line 1 column 1 (char 0)\n"
     ]
    },
    {
     "name": "stdout",
     "output_type": "stream",
     "text": [
      "[+] Finished: Successfully collected 0 Tweets from @EcoSenseNow.\n"
     ]
    }
   ],
   "source": [
    "for ix in range(21,len(SEARCH_TERMS)):\n",
    "    search_term = SEARCH_TERMS[ix]\n",
    "    #config.Until = None\n",
    "    config.Search = search_term\n",
    "    config.Output = os.getcwd()+SCRAPE_DIR+'/{}_search-term={}.csv'.format(config.Username,config.Search)\n",
    "    print('Getting tweets with keyword: ' + config.Search)#search_term in SEARCH_TERMS:\n",
    "    #c.Search = search_term\n",
    "    #c.Pandas = True\n",
    "    #c.Store_object = True\n",
    "    #c.Output = os.getcwd()+SCRAPE_DIR+'/{}_search-term={}.csv'.format(c.Username,c.Search)\n",
    "    twint.run.Search(config)\n",
    "    "
   ]
  },
  {
   "cell_type": "code",
   "execution_count": 2524,
   "metadata": {},
   "outputs": [
    {
     "data": {
      "text/plain": [
       "(21, 'environmentalist')"
      ]
     },
     "execution_count": 2524,
     "metadata": {},
     "output_type": "execute_result"
    }
   ],
   "source": [
    "old_ix = ix\n",
    "\n",
    "ix,search_term"
   ]
  },
  {
   "cell_type": "code",
   "execution_count": 2525,
   "metadata": {
    "scrolled": true
   },
   "outputs": [],
   "source": [
    "latest_tweets = pd.read_csv(os.getcwd()+SCRAPE_DIR+'/{}_search-term={}.csv'.format(config.Username,search_term))\n",
    "latest_date = latest_tweets['date'].iloc[-1]\n",
    "config = create_twint_config(curr_deny,latest_date,config.Search)"
   ]
  },
  {
   "cell_type": "markdown",
   "metadata": {},
   "source": [
    "Organize scraped Tweets from all searchterms in df; remove duplicates."
   ]
  },
  {
   "cell_type": "code",
   "execution_count": 2531,
   "metadata": {},
   "outputs": [
    {
     "data": {
      "text/plain": [
       "'EcoSenseNow'"
      ]
     },
     "execution_count": 2531,
     "metadata": {},
     "output_type": "execute_result"
    }
   ],
   "source": [
    "config.Username"
   ]
  },
  {
   "cell_type": "code",
   "execution_count": 2532,
   "metadata": {
    "scrolled": true
   },
   "outputs": [],
   "source": [
    "user_tweets = []\n",
    "for search_term in SEARCH_TERMS:\n",
    "    try:\n",
    "        tweets_per_search_term = pd.read_csv(os.getcwd()+SCRAPE_DIR+'/{}_search-term={}.csv'.format(config.Username,search_term))\n",
    "        tweets_per_search_term['search_term'] = search_term\n",
    "        user_tweets.append(tweets_per_search_term)\n",
    "    except FileNotFoundError:\n",
    "        pass"
   ]
  },
  {
   "cell_type": "code",
   "execution_count": 2533,
   "metadata": {
    "scrolled": true
   },
   "outputs": [
    {
     "data": {
      "text/plain": [
       "21"
      ]
     },
     "execution_count": 2533,
     "metadata": {},
     "output_type": "execute_result"
    }
   ],
   "source": [
    "len(user_tweets) # each one is a df"
   ]
  },
  {
   "cell_type": "code",
   "execution_count": 2534,
   "metadata": {
    "scrolled": true
   },
   "outputs": [
    {
     "data": {
      "text/html": [
       "<div>\n",
       "<style scoped>\n",
       "    .dataframe tbody tr th:only-of-type {\n",
       "        vertical-align: middle;\n",
       "    }\n",
       "\n",
       "    .dataframe tbody tr th {\n",
       "        vertical-align: top;\n",
       "    }\n",
       "\n",
       "    .dataframe thead th {\n",
       "        text-align: right;\n",
       "    }\n",
       "</style>\n",
       "<table border=\"1\" class=\"dataframe\">\n",
       "  <thead>\n",
       "    <tr style=\"text-align: right;\">\n",
       "      <th></th>\n",
       "      <th>id</th>\n",
       "      <th>date</th>\n",
       "      <th>time</th>\n",
       "      <th>tweet</th>\n",
       "      <th>mentions</th>\n",
       "      <th>replies_count</th>\n",
       "      <th>retweets_count</th>\n",
       "      <th>likes_count</th>\n",
       "      <th>hashtags</th>\n",
       "      <th>username</th>\n",
       "      <th>search_term</th>\n",
       "    </tr>\n",
       "  </thead>\n",
       "  <tbody>\n",
       "    <tr>\n",
       "      <td>0</td>\n",
       "      <td>1190303540347977728</td>\n",
       "      <td>2019-11-01</td>\n",
       "      <td>09:24:13</td>\n",
       "      <td>And that the land is rising faster than the se...</td>\n",
       "      <td>['awco2011']</td>\n",
       "      <td>1</td>\n",
       "      <td>2</td>\n",
       "      <td>7</td>\n",
       "      <td>[]</td>\n",
       "      <td>ecosensenow</td>\n",
       "      <td>sea</td>\n",
       "    </tr>\n",
       "    <tr>\n",
       "      <td>1</td>\n",
       "      <td>1182711109536509952</td>\n",
       "      <td>2019-10-11</td>\n",
       "      <td>10:34:36</td>\n",
       "      <td>Hah! I am 72 and I have seen sea foam many tim...</td>\n",
       "      <td>[]</td>\n",
       "      <td>23</td>\n",
       "      <td>189</td>\n",
       "      <td>556</td>\n",
       "      <td>[]</td>\n",
       "      <td>ecosensenow</td>\n",
       "      <td>sea</td>\n",
       "    </tr>\n",
       "    <tr>\n",
       "      <td>2</td>\n",
       "      <td>1181714167310368768</td>\n",
       "      <td>2019-10-08</td>\n",
       "      <td>16:33:07</td>\n",
       "      <td>Predictions, predictions, all we ever  get are...</td>\n",
       "      <td>[]</td>\n",
       "      <td>20</td>\n",
       "      <td>477</td>\n",
       "      <td>836</td>\n",
       "      <td>[]</td>\n",
       "      <td>ecosensenow</td>\n",
       "      <td>sea</td>\n",
       "    </tr>\n",
       "    <tr>\n",
       "      <td>3</td>\n",
       "      <td>1180495902428942336</td>\n",
       "      <td>2019-10-05</td>\n",
       "      <td>07:52:10</td>\n",
       "      <td>Interesting study showing marsh plants help bu...</td>\n",
       "      <td>[]</td>\n",
       "      <td>4</td>\n",
       "      <td>81</td>\n",
       "      <td>182</td>\n",
       "      <td>[]</td>\n",
       "      <td>ecosensenow</td>\n",
       "      <td>sea</td>\n",
       "    </tr>\n",
       "    <tr>\n",
       "      <td>4</td>\n",
       "      <td>1180141725739675648</td>\n",
       "      <td>2019-10-04</td>\n",
       "      <td>08:24:48</td>\n",
       "      <td>It is not “waste”. Used nuclear fuel can be re...</td>\n",
       "      <td>['mrsjanecoles']</td>\n",
       "      <td>11</td>\n",
       "      <td>22</td>\n",
       "      <td>94</td>\n",
       "      <td>[]</td>\n",
       "      <td>ecosensenow</td>\n",
       "      <td>sea</td>\n",
       "    </tr>\n",
       "    <tr>\n",
       "      <td>...</td>\n",
       "      <td>...</td>\n",
       "      <td>...</td>\n",
       "      <td>...</td>\n",
       "      <td>...</td>\n",
       "      <td>...</td>\n",
       "      <td>...</td>\n",
       "      <td>...</td>\n",
       "      <td>...</td>\n",
       "      <td>...</td>\n",
       "      <td>...</td>\n",
       "      <td>...</td>\n",
       "    </tr>\n",
       "    <tr>\n",
       "      <td>485</td>\n",
       "      <td>406415906827292673</td>\n",
       "      <td>2013-11-29</td>\n",
       "      <td>05:34:37</td>\n",
       "      <td>@MillenniaIT We already have thousands of \"fis...</td>\n",
       "      <td>[]</td>\n",
       "      <td>1</td>\n",
       "      <td>0</td>\n",
       "      <td>0</td>\n",
       "      <td>[]</td>\n",
       "      <td>ecosensenow</td>\n",
       "      <td>sea</td>\n",
       "    </tr>\n",
       "    <tr>\n",
       "      <td>486</td>\n",
       "      <td>406266734023147520</td>\n",
       "      <td>2013-11-28</td>\n",
       "      <td>19:41:52</td>\n",
       "      <td>Total sea ice, Arctic and Antarctic, now highe...</td>\n",
       "      <td>[]</td>\n",
       "      <td>4</td>\n",
       "      <td>30</td>\n",
       "      <td>7</td>\n",
       "      <td>[]</td>\n",
       "      <td>ecosensenow</td>\n",
       "      <td>sea</td>\n",
       "    </tr>\n",
       "    <tr>\n",
       "      <td>487</td>\n",
       "      <td>401397113344368640</td>\n",
       "      <td>2013-11-15</td>\n",
       "      <td>09:11:44</td>\n",
       "      <td>@GreenGregDennis  Says damage worse due to sea...</td>\n",
       "      <td>['greengregdennis']</td>\n",
       "      <td>1</td>\n",
       "      <td>0</td>\n",
       "      <td>0</td>\n",
       "      <td>[]</td>\n",
       "      <td>ecosensenow</td>\n",
       "      <td>sea</td>\n",
       "    </tr>\n",
       "    <tr>\n",
       "      <td>488</td>\n",
       "      <td>397734134165950464</td>\n",
       "      <td>2013-11-05</td>\n",
       "      <td>06:36:21</td>\n",
       "      <td>@JWSpry @SteveSGoddard Meanwhile Antarctic sea...</td>\n",
       "      <td>['jwspry']</td>\n",
       "      <td>0</td>\n",
       "      <td>2</td>\n",
       "      <td>0</td>\n",
       "      <td>[]</td>\n",
       "      <td>ecosensenow</td>\n",
       "      <td>sea</td>\n",
       "    </tr>\n",
       "    <tr>\n",
       "      <td>489</td>\n",
       "      <td>395678519138607104</td>\n",
       "      <td>2013-10-30</td>\n",
       "      <td>15:28:04</td>\n",
       "      <td>@Wary12 @mark_lynas Barely ever a mention that...</td>\n",
       "      <td>['wary12', 'mark_lynas']</td>\n",
       "      <td>1</td>\n",
       "      <td>0</td>\n",
       "      <td>0</td>\n",
       "      <td>[]</td>\n",
       "      <td>ecosensenow</td>\n",
       "      <td>sea</td>\n",
       "    </tr>\n",
       "  </tbody>\n",
       "</table>\n",
       "<p>490 rows × 11 columns</p>\n",
       "</div>"
      ],
      "text/plain": [
       "                      id        date      time  \\\n",
       "0    1190303540347977728  2019-11-01  09:24:13   \n",
       "1    1182711109536509952  2019-10-11  10:34:36   \n",
       "2    1181714167310368768  2019-10-08  16:33:07   \n",
       "3    1180495902428942336  2019-10-05  07:52:10   \n",
       "4    1180141725739675648  2019-10-04  08:24:48   \n",
       "..                   ...         ...       ...   \n",
       "485   406415906827292673  2013-11-29  05:34:37   \n",
       "486   406266734023147520  2013-11-28  19:41:52   \n",
       "487   401397113344368640  2013-11-15  09:11:44   \n",
       "488   397734134165950464  2013-11-05  06:36:21   \n",
       "489   395678519138607104  2013-10-30  15:28:04   \n",
       "\n",
       "                                                 tweet  \\\n",
       "0    And that the land is rising faster than the se...   \n",
       "1    Hah! I am 72 and I have seen sea foam many tim...   \n",
       "2    Predictions, predictions, all we ever  get are...   \n",
       "3    Interesting study showing marsh plants help bu...   \n",
       "4    It is not “waste”. Used nuclear fuel can be re...   \n",
       "..                                                 ...   \n",
       "485  @MillenniaIT We already have thousands of \"fis...   \n",
       "486  Total sea ice, Arctic and Antarctic, now highe...   \n",
       "487  @GreenGregDennis  Says damage worse due to sea...   \n",
       "488  @JWSpry @SteveSGoddard Meanwhile Antarctic sea...   \n",
       "489  @Wary12 @mark_lynas Barely ever a mention that...   \n",
       "\n",
       "                     mentions  replies_count  retweets_count  likes_count  \\\n",
       "0                ['awco2011']              1               2            7   \n",
       "1                          []             23             189          556   \n",
       "2                          []             20             477          836   \n",
       "3                          []              4              81          182   \n",
       "4            ['mrsjanecoles']             11              22           94   \n",
       "..                        ...            ...             ...          ...   \n",
       "485                        []              1               0            0   \n",
       "486                        []              4              30            7   \n",
       "487       ['greengregdennis']              1               0            0   \n",
       "488                ['jwspry']              0               2            0   \n",
       "489  ['wary12', 'mark_lynas']              1               0            0   \n",
       "\n",
       "    hashtags     username search_term  \n",
       "0         []  ecosensenow         sea  \n",
       "1         []  ecosensenow         sea  \n",
       "2         []  ecosensenow         sea  \n",
       "3         []  ecosensenow         sea  \n",
       "4         []  ecosensenow         sea  \n",
       "..       ...          ...         ...  \n",
       "485       []  ecosensenow         sea  \n",
       "486       []  ecosensenow         sea  \n",
       "487       []  ecosensenow         sea  \n",
       "488       []  ecosensenow         sea  \n",
       "489       []  ecosensenow         sea  \n",
       "\n",
       "[490 rows x 11 columns]"
      ]
     },
     "execution_count": 2534,
     "metadata": {},
     "output_type": "execute_result"
    }
   ],
   "source": [
    "user_tweets[0]"
   ]
  },
  {
   "cell_type": "code",
   "execution_count": 2535,
   "metadata": {},
   "outputs": [
    {
     "data": {
      "text/plain": [
       "(13633, 11)"
      ]
     },
     "execution_count": 2535,
     "metadata": {},
     "output_type": "execute_result"
    }
   ],
   "source": [
    "full_tweets = pd.concat(user_tweets,ignore_index=True)\n",
    "full_tweets.shape"
   ]
  },
  {
   "cell_type": "code",
   "execution_count": 2536,
   "metadata": {
    "scrolled": true
   },
   "outputs": [
    {
     "data": {
      "text/plain": [
       "co2                 4502\n",
       "climate             2675\n",
       "energy              1254\n",
       "warming              805\n",
       "ice                  734\n",
       "carbon               577\n",
       "coal                 513\n",
       "temperature          498\n",
       "sea                  490\n",
       "IPCC                 344\n",
       "fossil fuel          300\n",
       "planet               247\n",
       "greenhouse           220\n",
       "renewable            131\n",
       "environmental        125\n",
       "environment           72\n",
       "methane               49\n",
       "melt                  39\n",
       "environmentalist      33\n",
       "emission              16\n",
       "anthropogenic          9\n",
       "Name: search_term, dtype: int64"
      ]
     },
     "execution_count": 2536,
     "metadata": {},
     "output_type": "execute_result"
    }
   ],
   "source": [
    "full_tweets['search_term'].value_counts()"
   ]
  },
  {
   "cell_type": "code",
   "execution_count": 2537,
   "metadata": {
    "scrolled": true
   },
   "outputs": [
    {
     "name": "stdout",
     "output_type": "stream",
     "text": [
      "2434\n"
     ]
    }
   ],
   "source": [
    "#from collections import Counter\n",
    "counted_ids = Counter(full_tweets['id'])\n",
    "print(len([(id_,counted_ids[id_]) for id_ in counted_ids if counted_ids[id_] > 1]))"
   ]
  },
  {
   "cell_type": "code",
   "execution_count": 2538,
   "metadata": {
    "scrolled": true
   },
   "outputs": [
    {
     "data": {
      "text/plain": [
       "5222"
      ]
     },
     "execution_count": 2538,
     "metadata": {},
     "output_type": "execute_result"
    }
   ],
   "source": [
    "np.sum([counted_ids[id_] for id_ in counted_ids if counted_ids[id_] > 1])"
   ]
  },
  {
   "cell_type": "code",
   "execution_count": 2539,
   "metadata": {},
   "outputs": [
    {
     "data": {
      "text/plain": [
       "(10845, 11)"
      ]
     },
     "execution_count": 2539,
     "metadata": {},
     "output_type": "execute_result"
    }
   ],
   "source": [
    "full_tweets.drop_duplicates(subset =\"id\", keep = 'first', inplace = True)\n",
    "full_tweets.shape"
   ]
  },
  {
   "cell_type": "code",
   "execution_count": 2540,
   "metadata": {
    "scrolled": true
   },
   "outputs": [
    {
     "name": "stdout",
     "output_type": "stream",
     "text": [
      "EcoSenseNow\n"
     ]
    }
   ],
   "source": [
    "print(config.Username)"
   ]
  },
  {
   "cell_type": "code",
   "execution_count": 2541,
   "metadata": {},
   "outputs": [],
   "source": [
    "full_tweets.to_pickle('{}_unique_tweets.pkl'.format(config.Username))"
   ]
  },
  {
   "cell_type": "code",
   "execution_count": 2542,
   "metadata": {},
   "outputs": [],
   "source": [
    "full_tweets = pd.read_pickle('{}_unique_tweets.pkl'.format(config.Username))"
   ]
  },
  {
   "cell_type": "code",
   "execution_count": 2543,
   "metadata": {
    "scrolled": false
   },
   "outputs": [
    {
     "data": {
      "text/html": [
       "<div>\n",
       "<style scoped>\n",
       "    .dataframe tbody tr th:only-of-type {\n",
       "        vertical-align: middle;\n",
       "    }\n",
       "\n",
       "    .dataframe tbody tr th {\n",
       "        vertical-align: top;\n",
       "    }\n",
       "\n",
       "    .dataframe thead th {\n",
       "        text-align: right;\n",
       "    }\n",
       "</style>\n",
       "<table border=\"1\" class=\"dataframe\">\n",
       "  <thead>\n",
       "    <tr style=\"text-align: right;\">\n",
       "      <th></th>\n",
       "      <th>id</th>\n",
       "      <th>date</th>\n",
       "      <th>time</th>\n",
       "      <th>tweet</th>\n",
       "      <th>mentions</th>\n",
       "      <th>replies_count</th>\n",
       "      <th>retweets_count</th>\n",
       "      <th>likes_count</th>\n",
       "      <th>hashtags</th>\n",
       "      <th>username</th>\n",
       "      <th>search_term</th>\n",
       "    </tr>\n",
       "  </thead>\n",
       "  <tbody>\n",
       "    <tr>\n",
       "      <td>0</td>\n",
       "      <td>1190303540347977728</td>\n",
       "      <td>2019-11-01</td>\n",
       "      <td>09:24:13</td>\n",
       "      <td>And that the land is rising faster than the se...</td>\n",
       "      <td>['awco2011']</td>\n",
       "      <td>1</td>\n",
       "      <td>2</td>\n",
       "      <td>7</td>\n",
       "      <td>[]</td>\n",
       "      <td>ecosensenow</td>\n",
       "      <td>sea</td>\n",
       "    </tr>\n",
       "    <tr>\n",
       "      <td>1</td>\n",
       "      <td>1182711109536509952</td>\n",
       "      <td>2019-10-11</td>\n",
       "      <td>10:34:36</td>\n",
       "      <td>Hah! I am 72 and I have seen sea foam many tim...</td>\n",
       "      <td>[]</td>\n",
       "      <td>23</td>\n",
       "      <td>189</td>\n",
       "      <td>556</td>\n",
       "      <td>[]</td>\n",
       "      <td>ecosensenow</td>\n",
       "      <td>sea</td>\n",
       "    </tr>\n",
       "    <tr>\n",
       "      <td>2</td>\n",
       "      <td>1181714167310368768</td>\n",
       "      <td>2019-10-08</td>\n",
       "      <td>16:33:07</td>\n",
       "      <td>Predictions, predictions, all we ever  get are...</td>\n",
       "      <td>[]</td>\n",
       "      <td>20</td>\n",
       "      <td>477</td>\n",
       "      <td>836</td>\n",
       "      <td>[]</td>\n",
       "      <td>ecosensenow</td>\n",
       "      <td>sea</td>\n",
       "    </tr>\n",
       "    <tr>\n",
       "      <td>3</td>\n",
       "      <td>1180495902428942336</td>\n",
       "      <td>2019-10-05</td>\n",
       "      <td>07:52:10</td>\n",
       "      <td>Interesting study showing marsh plants help bu...</td>\n",
       "      <td>[]</td>\n",
       "      <td>4</td>\n",
       "      <td>81</td>\n",
       "      <td>182</td>\n",
       "      <td>[]</td>\n",
       "      <td>ecosensenow</td>\n",
       "      <td>sea</td>\n",
       "    </tr>\n",
       "    <tr>\n",
       "      <td>4</td>\n",
       "      <td>1180141725739675648</td>\n",
       "      <td>2019-10-04</td>\n",
       "      <td>08:24:48</td>\n",
       "      <td>It is not “waste”. Used nuclear fuel can be re...</td>\n",
       "      <td>['mrsjanecoles']</td>\n",
       "      <td>11</td>\n",
       "      <td>22</td>\n",
       "      <td>94</td>\n",
       "      <td>[]</td>\n",
       "      <td>ecosensenow</td>\n",
       "      <td>sea</td>\n",
       "    </tr>\n",
       "    <tr>\n",
       "      <td>...</td>\n",
       "      <td>...</td>\n",
       "      <td>...</td>\n",
       "      <td>...</td>\n",
       "      <td>...</td>\n",
       "      <td>...</td>\n",
       "      <td>...</td>\n",
       "      <td>...</td>\n",
       "      <td>...</td>\n",
       "      <td>...</td>\n",
       "      <td>...</td>\n",
       "      <td>...</td>\n",
       "    </tr>\n",
       "    <tr>\n",
       "      <td>13628</td>\n",
       "      <td>584559955954532352</td>\n",
       "      <td>2015-04-04</td>\n",
       "      <td>20:35:28</td>\n",
       "      <td>RT @rln_nelson: .Cut me slack! That was early ...</td>\n",
       "      <td>['rln_nelson', 'kaboom1776', 'appflyer']</td>\n",
       "      <td>0</td>\n",
       "      <td>3</td>\n",
       "      <td>4</td>\n",
       "      <td>[]</td>\n",
       "      <td>ecosensenow</td>\n",
       "      <td>environmentalist</td>\n",
       "    </tr>\n",
       "    <tr>\n",
       "      <td>13629</td>\n",
       "      <td>426058118141730816</td>\n",
       "      <td>2014-01-22</td>\n",
       "      <td>10:25:45</td>\n",
       "      <td>@BsBioNick @Greenpeace Glad you like \"Confessi...</td>\n",
       "      <td>['bsbionick', 'greenpeace']</td>\n",
       "      <td>1</td>\n",
       "      <td>0</td>\n",
       "      <td>0</td>\n",
       "      <td>[]</td>\n",
       "      <td>ecosensenow</td>\n",
       "      <td>environmentalist</td>\n",
       "    </tr>\n",
       "    <tr>\n",
       "      <td>13630</td>\n",
       "      <td>419139485071187968</td>\n",
       "      <td>2014-01-03</td>\n",
       "      <td>08:13:35</td>\n",
       "      <td>@RadicalOmnivore Way too \"serious\". I am not j...</td>\n",
       "      <td>['radicalomnivore']</td>\n",
       "      <td>1</td>\n",
       "      <td>0</td>\n",
       "      <td>0</td>\n",
       "      <td>[]</td>\n",
       "      <td>ecosensenow</td>\n",
       "      <td>environmentalist</td>\n",
       "    </tr>\n",
       "    <tr>\n",
       "      <td>13631</td>\n",
       "      <td>332198880563318785</td>\n",
       "      <td>2013-05-08</td>\n",
       "      <td>11:22:39</td>\n",
       "      <td>The making of a #sensible #environmentalist.  ...</td>\n",
       "      <td>[]</td>\n",
       "      <td>0</td>\n",
       "      <td>3</td>\n",
       "      <td>2</td>\n",
       "      <td>['#sensible', '#environmentalist']</td>\n",
       "      <td>ecosensenow</td>\n",
       "      <td>environmentalist</td>\n",
       "    </tr>\n",
       "    <tr>\n",
       "      <td>13632</td>\n",
       "      <td>329333805796188162</td>\n",
       "      <td>2013-04-30</td>\n",
       "      <td>13:37:52</td>\n",
       "      <td>http://bit.ly/gnWG0x  The making of a sensibl...</td>\n",
       "      <td>[]</td>\n",
       "      <td>0</td>\n",
       "      <td>0</td>\n",
       "      <td>1</td>\n",
       "      <td>['#confessions', '#trees', '#treesaretheanswer']</td>\n",
       "      <td>ecosensenow</td>\n",
       "      <td>environmentalist</td>\n",
       "    </tr>\n",
       "  </tbody>\n",
       "</table>\n",
       "<p>10845 rows × 11 columns</p>\n",
       "</div>"
      ],
      "text/plain": [
       "                        id        date      time  \\\n",
       "0      1190303540347977728  2019-11-01  09:24:13   \n",
       "1      1182711109536509952  2019-10-11  10:34:36   \n",
       "2      1181714167310368768  2019-10-08  16:33:07   \n",
       "3      1180495902428942336  2019-10-05  07:52:10   \n",
       "4      1180141725739675648  2019-10-04  08:24:48   \n",
       "...                    ...         ...       ...   \n",
       "13628   584559955954532352  2015-04-04  20:35:28   \n",
       "13629   426058118141730816  2014-01-22  10:25:45   \n",
       "13630   419139485071187968  2014-01-03  08:13:35   \n",
       "13631   332198880563318785  2013-05-08  11:22:39   \n",
       "13632   329333805796188162  2013-04-30  13:37:52   \n",
       "\n",
       "                                                   tweet  \\\n",
       "0      And that the land is rising faster than the se...   \n",
       "1      Hah! I am 72 and I have seen sea foam many tim...   \n",
       "2      Predictions, predictions, all we ever  get are...   \n",
       "3      Interesting study showing marsh plants help bu...   \n",
       "4      It is not “waste”. Used nuclear fuel can be re...   \n",
       "...                                                  ...   \n",
       "13628  RT @rln_nelson: .Cut me slack! That was early ...   \n",
       "13629  @BsBioNick @Greenpeace Glad you like \"Confessi...   \n",
       "13630  @RadicalOmnivore Way too \"serious\". I am not j...   \n",
       "13631  The making of a #sensible #environmentalist.  ...   \n",
       "13632   http://bit.ly/gnWG0x  The making of a sensibl...   \n",
       "\n",
       "                                       mentions  replies_count  \\\n",
       "0                                  ['awco2011']              1   \n",
       "1                                            []             23   \n",
       "2                                            []             20   \n",
       "3                                            []              4   \n",
       "4                              ['mrsjanecoles']             11   \n",
       "...                                         ...            ...   \n",
       "13628  ['rln_nelson', 'kaboom1776', 'appflyer']              0   \n",
       "13629               ['bsbionick', 'greenpeace']              1   \n",
       "13630                       ['radicalomnivore']              1   \n",
       "13631                                        []              0   \n",
       "13632                                        []              0   \n",
       "\n",
       "       retweets_count  likes_count  \\\n",
       "0                   2            7   \n",
       "1                 189          556   \n",
       "2                 477          836   \n",
       "3                  81          182   \n",
       "4                  22           94   \n",
       "...               ...          ...   \n",
       "13628               3            4   \n",
       "13629               0            0   \n",
       "13630               0            0   \n",
       "13631               3            2   \n",
       "13632               0            1   \n",
       "\n",
       "                                               hashtags     username  \\\n",
       "0                                                    []  ecosensenow   \n",
       "1                                                    []  ecosensenow   \n",
       "2                                                    []  ecosensenow   \n",
       "3                                                    []  ecosensenow   \n",
       "4                                                    []  ecosensenow   \n",
       "...                                                 ...          ...   \n",
       "13628                                                []  ecosensenow   \n",
       "13629                                                []  ecosensenow   \n",
       "13630                                                []  ecosensenow   \n",
       "13631                ['#sensible', '#environmentalist']  ecosensenow   \n",
       "13632  ['#confessions', '#trees', '#treesaretheanswer']  ecosensenow   \n",
       "\n",
       "            search_term  \n",
       "0                   sea  \n",
       "1                   sea  \n",
       "2                   sea  \n",
       "3                   sea  \n",
       "4                   sea  \n",
       "...                 ...  \n",
       "13628  environmentalist  \n",
       "13629  environmentalist  \n",
       "13630  environmentalist  \n",
       "13631  environmentalist  \n",
       "13632  environmentalist  \n",
       "\n",
       "[10845 rows x 11 columns]"
      ]
     },
     "execution_count": 2543,
     "metadata": {},
     "output_type": "execute_result"
    }
   ],
   "source": [
    "full_tweets"
   ]
  },
  {
   "cell_type": "code",
   "execution_count": 1,
   "metadata": {},
   "outputs": [
    {
     "data": {
      "text/plain": [
       "88"
      ]
     },
     "execution_count": 1,
     "metadata": {},
     "output_type": "execute_result"
    }
   ],
   "source": [
    "import os\n",
    "len(os.listdir(os.getcwd()+'/affirm_tweets/'))"
   ]
  },
  {
   "cell_type": "code",
   "execution_count": 6,
   "metadata": {
    "scrolled": true
   },
   "outputs": [
    {
     "data": {
      "text/plain": [
       "['50ShadesGreenNZ_unique_tweets.pkl',\n",
       " '_My2_Cents__unique_tweets.pkl',\n",
       " 'Action4Life__unique_tweets.pkl',\n",
       " 'adapt2030_unique_tweets.pkl',\n",
       " 'AGWHOAX1_unique_tweets.pkl',\n",
       " 'AmazingPatriot_unique_tweets.pkl',\n",
       " 'Angels_of_Truth_unique_tweets.pkl',\n",
       " 'caleb_rossiter_unique_tweets.pkl',\n",
       " 'Carbongate_unique_tweets.pkl',\n",
       " 'ccdeditor_unique_tweets.pkl',\n",
       " 'ChrisMartzWX_unique_tweets.pkl',\n",
       " 'clim8resistance_unique_tweets.pkl',\n",
       " 'ClimateDepot_unique_tweets.pkl',\n",
       " 'ClimatePoet_unique_tweets.pkl',\n",
       " 'ClimateRealists_unique_tweets.pkl',\n",
       " 'ClimateSkeptic_unique_tweets.pkl',\n",
       " 'ClimatismBlog_unique_tweets.pkl',\n",
       " 'co2_the_unique_tweets.pkl',\n",
       " 'CO2Coalition_unique_tweets.pkl',\n",
       " 'Co2Green_unique_tweets.pkl',\n",
       " 'CO2notes_unique_tweets.pkl',\n",
       " 'CoolsensuS_unique_tweets.pkl',\n",
       " 'DaveMyFace_unique_tweets.pkl',\n",
       " 'DenierBot_unique_tweets.pkl',\n",
       " 'dieselfastpitch_unique_tweets.pkl',\n",
       " 'digitaldoc4_unique_tweets.pkl',\n",
       " 'drwaheeduddin_unique_tweets.pkl',\n",
       " 'EcoSenseNow_unique_tweets.pkl',\n",
       " 'EdBohman_unique_tweets.pkl',\n",
       " 'EdwinThwaites_unique_tweets.pkl',\n",
       " 'ElectricElecti1_unique_tweets.pkl',\n",
       " 'Electroversenet_unique_tweets.pkl',\n",
       " 'eloarefab_unique_tweets.pkl',\n",
       " 'enzoilragu_unique_tweets.pkl',\n",
       " 'FChecker76_unique_tweets.pkl',\n",
       " 'fredpalmercoal_unique_tweets.pkl',\n",
       " 'FriendsofCoalWV_unique_tweets.pkl',\n",
       " 'FriendsOScience_unique_tweets.pkl',\n",
       " 'globalsugarwar_unique_tweets.pkl',\n",
       " 'grand_solar_unique_tweets.pkl',\n",
       " 'GrandSolarMin_unique_tweets.pkl',\n",
       " 'GTMGQ_unique_tweets.pkl',\n",
       " 'IceAgeBob_unique_tweets.pkl',\n",
       " 'IceAgeFarmer_unique_tweets.pkl',\n",
       " 'Ike_Kiefer_unique_tweets.pkl',\n",
       " 'IQ2high2bTexGov_unique_tweets.pkl',\n",
       " 'JaggerMickOZ_unique_tweets.pkl',\n",
       " 'JimMaso02236687_unique_tweets.pkl',\n",
       " 'JunkScience_unique_tweets.pkl',\n",
       " 'JWSpry_unique_tweets.pkl',\n",
       " 'kjell_yvik_unique_tweets.pkl',\n",
       " 'KnowYourGreen1_unique_tweets.pkl',\n",
       " 'laurienappo_unique_tweets.pkl',\n",
       " 'manny_ottawa_unique_tweets.pkl',\n",
       " 'mattyg130_unique_tweets.pkl',\n",
       " 'MedBennett_unique_tweets.pkl',\n",
       " 'msroberts0619_unique_tweets.pkl',\n",
       " 'Neets2245_unique_tweets.pkl',\n",
       " 'NikolovScience_unique_tweets.pkl',\n",
       " 'notGHGs_unique_tweets.pkl',\n",
       " 'NoTricksZone_unique_tweets.pkl',\n",
       " 'novakglobal_unique_tweets.pkl',\n",
       " 'pplonia_unique_tweets.pkl',\n",
       " 'realDonaldTrump_unique_tweets.pkl',\n",
       " 'rgr1973_unique_tweets.pkl',\n",
       " 'RogTallbloke_unique_tweets.pkl',\n",
       " 'RokoshME_unique_tweets.pkl',\n",
       " 'SA_TEXROD_unique_tweets.pkl',\n",
       " 'ScienceNotDogma_unique_tweets.pkl',\n",
       " 'SConwaySmith_unique_tweets.pkl',\n",
       " 'ScubaHobbs_unique_tweets.pkl',\n",
       " 'seanhannity_unique_tweets.pkl',\n",
       " 'skepticscience_unique_tweets.pkl',\n",
       " 'SolarPowerEng_unique_tweets.pkl',\n",
       " 'StarryPole_unique_tweets.pkl',\n",
       " 'SuperFoxyLoxy_unique_tweets.pkl',\n",
       " 'swcrisis_unique_tweets.pkl',\n",
       " 'SylviaD32911201_unique_tweets.pkl',\n",
       " 'tan123_unique_tweets.pkl',\n",
       " 'Th3Hum4nB3ing_unique_tweets.pkl',\n",
       " 'thegwpfcom_unique_tweets.pkl',\n",
       " 'ThiagoMaia2503_unique_tweets.pkl',\n",
       " 'Timbooooon_unique_tweets.pkl',\n",
       " 'Tony__Heller_unique_tweets.pkl',\n",
       " 'uk_ecology_unique_tweets.pkl',\n",
       " 'UvMeter_unique_tweets.pkl',\n",
       " 'VFigment_unique_tweets.pkl',\n",
       " 'wattsupwiththat_unique_tweets.pkl',\n",
       " 'willynerdal1_unique_tweets.pkl']"
      ]
     },
     "execution_count": 6,
     "metadata": {},
     "output_type": "execute_result"
    }
   ],
   "source": [
    "os.listdir(os.getcwd()+'/deny_tweets/')"
   ]
  },
  {
   "cell_type": "code",
   "execution_count": 10,
   "metadata": {},
   "outputs": [],
   "source": [
    "all_deny_tweets = []\n",
    "for file in os.listdir(os.getcwd()+'/deny_tweets/'):\n",
    "    tweets_per_user = pd.read_pickle(os.getcwd()+'/deny_tweets/'+file)\n",
    "    all_deny_tweets.append(tweets_per_user)"
   ]
  },
  {
   "cell_type": "code",
   "execution_count": 11,
   "metadata": {},
   "outputs": [
    {
     "data": {
      "text/plain": [
       "(290084, 11)"
      ]
     },
     "execution_count": 11,
     "metadata": {},
     "output_type": "execute_result"
    }
   ],
   "source": [
    "deny_tweets = pd.concat(all_deny_tweets)\n",
    "deny_tweets.shape"
   ]
  },
  {
   "cell_type": "code",
   "execution_count": 6,
   "metadata": {
    "scrolled": true
   },
   "outputs": [],
   "source": [
    "all_affirm_tweets = []\n",
    "for file in os.listdir(os.getcwd()+'/affirm_tweets/'):\n",
    "    tweets_per_user = pd.read_pickle(os.getcwd()+'/affirm_tweets/'+file)\n",
    "    all_affirm_tweets.append(tweets_per_user)"
   ]
  },
  {
   "cell_type": "code",
   "execution_count": 7,
   "metadata": {},
   "outputs": [
    {
     "data": {
      "text/plain": [
       "(230802, 11)"
      ]
     },
     "execution_count": 7,
     "metadata": {},
     "output_type": "execute_result"
    }
   ],
   "source": [
    "affirm_tweets = pd.concat(all_affirm_tweets)\n",
    "affirm_tweets.shape"
   ]
  },
  {
   "cell_type": "code",
   "execution_count": 12,
   "metadata": {},
   "outputs": [
    {
     "data": {
      "text/plain": [
       "Index(['id', 'date', 'time', 'tweet', 'mentions', 'replies_count',\n",
       "       'retweets_count', 'likes_count', 'hashtags', 'username', 'search_term'],\n",
       "      dtype='object')"
      ]
     },
     "execution_count": 12,
     "metadata": {},
     "output_type": "execute_result"
    }
   ],
   "source": [
    "deny_tweets.columns"
   ]
  },
  {
   "cell_type": "code",
   "execution_count": 13,
   "metadata": {},
   "outputs": [],
   "source": [
    "%matplotlib inline"
   ]
  },
  {
   "cell_type": "code",
   "execution_count": 22,
   "metadata": {
    "scrolled": true
   },
   "outputs": [
    {
     "data": {
      "text/plain": [
       "tan123             39788\n",
       "carbongate         27694\n",
       "friendsoscience    21829\n",
       "tony__heller       19680\n",
       "jwspry             15452\n",
       "climaterealists    13339\n",
       "ccdeditor          11077\n",
       "sylviad32911201    10862\n",
       "ecosensenow        10845\n",
       "climatedepot       10388\n",
       "Name: username, dtype: int64"
      ]
     },
     "execution_count": 22,
     "metadata": {},
     "output_type": "execute_result"
    }
   ],
   "source": [
    "deny_tweets['username'].value_counts()[:10]"
   ]
  },
  {
   "cell_type": "code",
   "execution_count": 23,
   "metadata": {
    "scrolled": true
   },
   "outputs": [
    {
     "data": {
      "text/plain": [
       "climatehome        23722\n",
       "grist              18293\n",
       "tveitdal           15355\n",
       "climateprogress    12718\n",
       "james_bg           10125\n",
       "mikehudema          8658\n",
       "revkin              8406\n",
       "leohickman          7157\n",
       "andrealearned       7107\n",
       "pauledawson         6750\n",
       "Name: username, dtype: int64"
      ]
     },
     "execution_count": 23,
     "metadata": {},
     "output_type": "execute_result"
    }
   ],
   "source": [
    "affirm_tweets['username'].value_counts()[:10]"
   ]
  },
  {
   "cell_type": "code",
   "execution_count": 19,
   "metadata": {
    "code_folding": [
     0
    ]
   },
   "outputs": [
    {
     "data": {
      "text/html": [
       "<div>\n",
       "<style scoped>\n",
       "    .dataframe tbody tr th:only-of-type {\n",
       "        vertical-align: middle;\n",
       "    }\n",
       "\n",
       "    .dataframe tbody tr th {\n",
       "        vertical-align: top;\n",
       "    }\n",
       "\n",
       "    .dataframe thead th {\n",
       "        text-align: right;\n",
       "    }\n",
       "</style>\n",
       "<table border=\"1\" class=\"dataframe\">\n",
       "  <thead>\n",
       "    <tr style=\"text-align: right;\">\n",
       "      <th></th>\n",
       "      <th>deny</th>\n",
       "      <th>affirm</th>\n",
       "    </tr>\n",
       "  </thead>\n",
       "  <tbody>\n",
       "    <tr>\n",
       "      <td>retweets</td>\n",
       "      <td>{'mean': 15.3, 'min': 0, 'max': 97641}</td>\n",
       "      <td>{'mean': 38.2, 'min': 0, 'max': 87661}</td>\n",
       "    </tr>\n",
       "    <tr>\n",
       "      <td>likes</td>\n",
       "      <td>{'mean': 41.3, 'min': 0, 'max': 222429}</td>\n",
       "      <td>{'mean': 83.1, 'min': 0, 'max': 430370}</td>\n",
       "    </tr>\n",
       "  </tbody>\n",
       "</table>\n",
       "</div>"
      ],
      "text/plain": [
       "                                             deny  \\\n",
       "retweets   {'mean': 15.3, 'min': 0, 'max': 97641}   \n",
       "likes     {'mean': 41.3, 'min': 0, 'max': 222429}   \n",
       "\n",
       "                                           affirm  \n",
       "retweets   {'mean': 38.2, 'min': 0, 'max': 87661}  \n",
       "likes     {'mean': 83.1, 'min': 0, 'max': 430370}  "
      ]
     },
     "execution_count": 19,
     "metadata": {},
     "output_type": "execute_result"
    }
   ],
   "source": [
    "engagement_df = pd.DataFrame.from_dict({'deny':\n",
    "                                        {'retweets':\n",
    "                                         {'mean':round(deny_tweets['retweets_count'].mean(),1),\n",
    "                                         'min':round(deny_tweets['retweets_count'].min(),1),\n",
    "                                         'max':round(deny_tweets['retweets_count'].max(),1)},\n",
    "                                        'likes':\n",
    "                                         {'mean':round(deny_tweets['likes_count'].mean(),1),\n",
    "                                         'min':round(deny_tweets['likes_count'].min(),1),\n",
    "                                         'max':round(deny_tweets['likes_count'].max(),1)}\n",
    "                                        },\n",
    "                                       'affirm':\n",
    "                                        {\n",
    "                                            'retweets':\n",
    "                                            {'mean':round(affirm_tweets['retweets_count'].mean(),1),\n",
    "                                         'min':round(affirm_tweets['retweets_count'].min(),1),\n",
    "                                         'max':round(affirm_tweets['retweets_count'].max(),1)},\n",
    "                                        'likes':\n",
    "                                         {'mean':round(affirm_tweets['likes_count'].mean(),1),\n",
    "                                         'min':round(affirm_tweets['likes_count'].min(),1),\n",
    "                                         'max':round(affirm_tweets['likes_count'].max(),1)}\n",
    "                                            \n",
    "                                        }\n",
    "                                       })\n",
    "engagement_df"
   ]
  },
  {
   "cell_type": "code",
   "execution_count": 64,
   "metadata": {},
   "outputs": [
    {
     "data": {
      "text/html": [
       "<div>\n",
       "<style scoped>\n",
       "    .dataframe tbody tr th:only-of-type {\n",
       "        vertical-align: middle;\n",
       "    }\n",
       "\n",
       "    .dataframe tbody tr th {\n",
       "        vertical-align: top;\n",
       "    }\n",
       "\n",
       "    .dataframe thead th {\n",
       "        text-align: right;\n",
       "    }\n",
       "</style>\n",
       "<table border=\"1\" class=\"dataframe\">\n",
       "  <thead>\n",
       "    <tr style=\"text-align: right;\">\n",
       "      <th></th>\n",
       "      <th>date</th>\n",
       "      <th>time</th>\n",
       "      <th>tweet</th>\n",
       "      <th>mentions</th>\n",
       "      <th>replies_count</th>\n",
       "      <th>retweets_count</th>\n",
       "      <th>likes_count</th>\n",
       "      <th>hashtags</th>\n",
       "      <th>username</th>\n",
       "      <th>search_term</th>\n",
       "    </tr>\n",
       "    <tr>\n",
       "      <th>id</th>\n",
       "      <th></th>\n",
       "      <th></th>\n",
       "      <th></th>\n",
       "      <th></th>\n",
       "      <th></th>\n",
       "      <th></th>\n",
       "      <th></th>\n",
       "      <th></th>\n",
       "      <th></th>\n",
       "      <th></th>\n",
       "    </tr>\n",
       "  </thead>\n",
       "  <tbody>\n",
       "    <tr>\n",
       "      <td>265895292191248385</td>\n",
       "      <td>2012-11-06</td>\n",
       "      <td>11:15:52</td>\n",
       "      <td>The concept of global warming was created by a...</td>\n",
       "      <td>[]</td>\n",
       "      <td>12724</td>\n",
       "      <td>97641</td>\n",
       "      <td>67914</td>\n",
       "      <td>[]</td>\n",
       "      <td>realdonaldtrump</td>\n",
       "      <td>warming</td>\n",
       "    </tr>\n",
       "  </tbody>\n",
       "</table>\n",
       "</div>"
      ],
      "text/plain": [
       "                          date      time  \\\n",
       "id                                         \n",
       "265895292191248385  2012-11-06  11:15:52   \n",
       "\n",
       "                                                                tweet  \\\n",
       "id                                                                      \n",
       "265895292191248385  The concept of global warming was created by a...   \n",
       "\n",
       "                   mentions  replies_count  retweets_count  likes_count  \\\n",
       "id                                                                        \n",
       "265895292191248385       []          12724           97641        67914   \n",
       "\n",
       "                   hashtags         username search_term  \n",
       "id                                                        \n",
       "265895292191248385       []  realdonaldtrump     warming  "
      ]
     },
     "execution_count": 64,
     "metadata": {},
     "output_type": "execute_result"
    }
   ],
   "source": [
    "deny_tweets.loc[deny_tweets['retweets_count'] == deny_tweets['retweets_count'].max()]"
   ]
  },
  {
   "cell_type": "code",
   "execution_count": 25,
   "metadata": {},
   "outputs": [
    {
     "data": {
      "text/html": [
       "<div>\n",
       "<style scoped>\n",
       "    .dataframe tbody tr th:only-of-type {\n",
       "        vertical-align: middle;\n",
       "    }\n",
       "\n",
       "    .dataframe tbody tr th {\n",
       "        vertical-align: top;\n",
       "    }\n",
       "\n",
       "    .dataframe thead th {\n",
       "        text-align: right;\n",
       "    }\n",
       "</style>\n",
       "<table border=\"1\" class=\"dataframe\">\n",
       "  <thead>\n",
       "    <tr style=\"text-align: right;\">\n",
       "      <th></th>\n",
       "      <th>id</th>\n",
       "      <th>date</th>\n",
       "      <th>time</th>\n",
       "      <th>tweet</th>\n",
       "      <th>mentions</th>\n",
       "      <th>replies_count</th>\n",
       "      <th>retweets_count</th>\n",
       "      <th>likes_count</th>\n",
       "      <th>hashtags</th>\n",
       "      <th>username</th>\n",
       "      <th>search_term</th>\n",
       "    </tr>\n",
       "  </thead>\n",
       "  <tbody>\n",
       "    <tr>\n",
       "      <td>283</td>\n",
       "      <td>1089691985164800001</td>\n",
       "      <td>2019-01-27</td>\n",
       "      <td>17:09:49</td>\n",
       "      <td>After all that I have done for the Military, o...</td>\n",
       "      <td>[]</td>\n",
       "      <td>65462</td>\n",
       "      <td>45667</td>\n",
       "      <td>222429</td>\n",
       "      <td>[]</td>\n",
       "      <td>realdonaldtrump</td>\n",
       "      <td>energy</td>\n",
       "    </tr>\n",
       "  </tbody>\n",
       "</table>\n",
       "</div>"
      ],
      "text/plain": [
       "                      id        date      time  \\\n",
       "283  1089691985164800001  2019-01-27  17:09:49   \n",
       "\n",
       "                                                 tweet mentions  \\\n",
       "283  After all that I have done for the Military, o...       []   \n",
       "\n",
       "     replies_count  retweets_count  likes_count hashtags         username  \\\n",
       "283          65462           45667       222429       []  realdonaldtrump   \n",
       "\n",
       "    search_term  \n",
       "283      energy  "
      ]
     },
     "execution_count": 25,
     "metadata": {},
     "output_type": "execute_result"
    }
   ],
   "source": [
    "deny_tweets.loc[deny_tweets['likes_count'] == deny_tweets['likes_count'].max()]"
   ]
  },
  {
   "cell_type": "code",
   "execution_count": 68,
   "metadata": {},
   "outputs": [
    {
     "data": {
      "text/plain": [
       "'After all that I have done for the Military, our great Veterans, Judges (99), Justices (2), Tax & Regulation Cuts, the Economy, Energy, Trade & MUCH MORE, does anybody really think I won’t build the WALL? Done more in first two years than any President! MAKE AMERICA GREAT AGAIN!'"
      ]
     },
     "execution_count": 68,
     "metadata": {},
     "output_type": "execute_result"
    }
   ],
   "source": [
    "deny_tweets.loc[1089691985164800001]['tweet']"
   ]
  },
  {
   "cell_type": "code",
   "execution_count": 26,
   "metadata": {},
   "outputs": [
    {
     "data": {
      "text/html": [
       "<div>\n",
       "<style scoped>\n",
       "    .dataframe tbody tr th:only-of-type {\n",
       "        vertical-align: middle;\n",
       "    }\n",
       "\n",
       "    .dataframe tbody tr th {\n",
       "        vertical-align: top;\n",
       "    }\n",
       "\n",
       "    .dataframe thead th {\n",
       "        text-align: right;\n",
       "    }\n",
       "</style>\n",
       "<table border=\"1\" class=\"dataframe\">\n",
       "  <thead>\n",
       "    <tr style=\"text-align: right;\">\n",
       "      <th></th>\n",
       "      <th>id</th>\n",
       "      <th>date</th>\n",
       "      <th>time</th>\n",
       "      <th>tweet</th>\n",
       "      <th>mentions</th>\n",
       "      <th>replies_count</th>\n",
       "      <th>retweets_count</th>\n",
       "      <th>likes_count</th>\n",
       "      <th>hashtags</th>\n",
       "      <th>username</th>\n",
       "      <th>search_term</th>\n",
       "    </tr>\n",
       "  </thead>\n",
       "  <tbody>\n",
       "    <tr>\n",
       "      <td>11</td>\n",
       "      <td>1151868495824642049</td>\n",
       "      <td>2019-07-18</td>\n",
       "      <td>07:57:04</td>\n",
       "      <td>Reminder of what people are calling the “radic...</td>\n",
       "      <td>[]</td>\n",
       "      <td>45949</td>\n",
       "      <td>87661</td>\n",
       "      <td>311822</td>\n",
       "      <td>[]</td>\n",
       "      <td>aoc</td>\n",
       "      <td>energy</td>\n",
       "    </tr>\n",
       "  </tbody>\n",
       "</table>\n",
       "</div>"
      ],
      "text/plain": [
       "                     id        date      time  \\\n",
       "11  1151868495824642049  2019-07-18  07:57:04   \n",
       "\n",
       "                                                tweet mentions  replies_count  \\\n",
       "11  Reminder of what people are calling the “radic...       []          45949   \n",
       "\n",
       "    retweets_count  likes_count hashtags username search_term  \n",
       "11           87661       311822       []      aoc      energy  "
      ]
     },
     "execution_count": 26,
     "metadata": {},
     "output_type": "execute_result"
    }
   ],
   "source": [
    "affirm_tweets.loc[affirm_tweets['retweets_count'] == affirm_tweets['retweets_count'].max()]"
   ]
  },
  {
   "cell_type": "code",
   "execution_count": 70,
   "metadata": {},
   "outputs": [],
   "source": [
    "affirm_tweets = affirm_tweets.set_index('id')"
   ]
  },
  {
   "cell_type": "code",
   "execution_count": 71,
   "metadata": {},
   "outputs": [
    {
     "data": {
      "text/plain": [
       "'Reminder of what people are calling the “radical, extreme-left agenda”:\\n\\n✅ Medicare for All\\n✅ A Living Wage & Labor Rights\\n✅ K-16 schooling, aka Public Colleges\\n✅ 100% Renewable Energy\\n✅ Fixing the pipes in Flint\\n✅ Not Hurting Immigrants\\n✅ Holding Wall Street Accountable'"
      ]
     },
     "execution_count": 71,
     "metadata": {},
     "output_type": "execute_result"
    }
   ],
   "source": [
    "affirm_tweets.loc[1151868495824642049]['tweet']"
   ]
  },
  {
   "cell_type": "code",
   "execution_count": 27,
   "metadata": {},
   "outputs": [
    {
     "data": {
      "text/html": [
       "<div>\n",
       "<style scoped>\n",
       "    .dataframe tbody tr th:only-of-type {\n",
       "        vertical-align: middle;\n",
       "    }\n",
       "\n",
       "    .dataframe tbody tr th {\n",
       "        vertical-align: top;\n",
       "    }\n",
       "\n",
       "    .dataframe thead th {\n",
       "        text-align: right;\n",
       "    }\n",
       "</style>\n",
       "<table border=\"1\" class=\"dataframe\">\n",
       "  <thead>\n",
       "    <tr style=\"text-align: right;\">\n",
       "      <th></th>\n",
       "      <th>id</th>\n",
       "      <th>date</th>\n",
       "      <th>time</th>\n",
       "      <th>tweet</th>\n",
       "      <th>mentions</th>\n",
       "      <th>replies_count</th>\n",
       "      <th>retweets_count</th>\n",
       "      <th>likes_count</th>\n",
       "      <th>hashtags</th>\n",
       "      <th>username</th>\n",
       "      <th>search_term</th>\n",
       "    </tr>\n",
       "  </thead>\n",
       "  <tbody>\n",
       "    <tr>\n",
       "      <td>14</td>\n",
       "      <td>1178002285751865344</td>\n",
       "      <td>2019-09-28</td>\n",
       "      <td>10:43:25</td>\n",
       "      <td>I have moved on from this climate thing... Fro...</td>\n",
       "      <td>[]</td>\n",
       "      <td>6157</td>\n",
       "      <td>59014</td>\n",
       "      <td>430370</td>\n",
       "      <td>[]</td>\n",
       "      <td>gretathunberg</td>\n",
       "      <td>climate</td>\n",
       "    </tr>\n",
       "  </tbody>\n",
       "</table>\n",
       "</div>"
      ],
      "text/plain": [
       "                     id        date      time  \\\n",
       "14  1178002285751865344  2019-09-28  10:43:25   \n",
       "\n",
       "                                                tweet mentions  replies_count  \\\n",
       "14  I have moved on from this climate thing... Fro...       []           6157   \n",
       "\n",
       "    retweets_count  likes_count hashtags       username search_term  \n",
       "14           59014       430370       []  gretathunberg     climate  "
      ]
     },
     "execution_count": 27,
     "metadata": {},
     "output_type": "execute_result"
    }
   ],
   "source": [
    "affirm_tweets.loc[affirm_tweets['likes_count'] == affirm_tweets['likes_count'].max()]"
   ]
  },
  {
   "cell_type": "code",
   "execution_count": 72,
   "metadata": {},
   "outputs": [
    {
     "data": {
      "text/plain": [
       "'I have moved on from this climate thing... From now on I will be doing death metal only!!  https://twitter.com/aliamjadrizvi/status/1177947891945627648\\xa0…'"
      ]
     },
     "execution_count": 72,
     "metadata": {},
     "output_type": "execute_result"
    }
   ],
   "source": [
    "affirm_tweets.loc[1178002285751865344]['tweet']"
   ]
  },
  {
   "cell_type": "code",
   "execution_count": 34,
   "metadata": {
    "scrolled": true
   },
   "outputs": [
    {
     "data": {
      "text/plain": [
       "ecosensenow        301\n",
       "realdonaldtrump    262\n",
       "manny_ottawa       179\n",
       "tony__heller        83\n",
       "junkscience         29\n",
       "electroversenet     27\n",
       "jwspry              15\n",
       "tan123              15\n",
       "nikolovscience      14\n",
       "jaggermickoz        12\n",
       "seanhannity          9\n",
       "drwaheeduddin        8\n",
       "climaterealists      8\n",
       "msroberts0619        6\n",
       "thegwpfcom           5\n",
       "sylviad32911201      5\n",
       "rokoshme             3\n",
       "thiagomaia2503       2\n",
       "wattsupwiththat      2\n",
       "sciencenotdogma      2\n",
       "clim8resistance      1\n",
       "notrickszone         1\n",
       "willynerdal1         1\n",
       "skepticscience       1\n",
       "ike_kiefer           1\n",
       "grand_solar          1\n",
       "rogtallbloke         1\n",
       "carbongate           1\n",
       "uk_ecology           1\n",
       "action4life_         1\n",
       "grandsolarmin        1\n",
       "climatepoet          1\n",
       "pplonia              1\n",
       "Name: username, dtype: int64"
      ]
     },
     "execution_count": 34,
     "metadata": {},
     "output_type": "execute_result"
    }
   ],
   "source": [
    "deny_tweets.sort_values('retweets_count',ascending=False).head(1000)['username'].value_counts()"
   ]
  },
  {
   "cell_type": "code",
   "execution_count": 36,
   "metadata": {
    "scrolled": true
   },
   "outputs": [
    {
     "data": {
      "text/plain": [
       "mikehudema         159\n",
       "gretathunberg      148\n",
       "carolinelucas      132\n",
       "leodicaprio        120\n",
       "algore              66\n",
       "billmckibben        59\n",
       "aoc                 52\n",
       "naomiaklein         42\n",
       "sunrisemvmt         34\n",
       "khayhoe             33\n",
       "tveitdal            22\n",
       "eriksolheim         15\n",
       "cathmckenna         12\n",
       "ed_miliband         10\n",
       "unfccc              10\n",
       "leohickman           7\n",
       "yalee360             7\n",
       "markruffalo          6\n",
       "extinctionr          5\n",
       "nrdc                 5\n",
       "greenpeaceuk         5\n",
       "dwallacewells        5\n",
       "dpcarrington         4\n",
       "chrisgpackham        4\n",
       "guardianeco          3\n",
       "grist                3\n",
       "pauledawson          3\n",
       "bradplumer           3\n",
       "usclimatestrike      2\n",
       "simondonner          2\n",
       "michaelemann         2\n",
       "thisiszerohour       2\n",
       "climateprogress      2\n",
       "sierraclub           2\n",
       "revkin               1\n",
       "maryheglar           1\n",
       "johnupton            1\n",
       "lisalsong            1\n",
       "350                  1\n",
       "ayanaeliza           1\n",
       "billnye              1\n",
       "climatehome          1\n",
       "jayinslee            1\n",
       "james_bg             1\n",
       "sasjabeslik          1\n",
       "earthjustice         1\n",
       "justinhgillis        1\n",
       "the_ecologist        1\n",
       "Name: username, dtype: int64"
      ]
     },
     "execution_count": 36,
     "metadata": {},
     "output_type": "execute_result"
    }
   ],
   "source": [
    "affirm_tweets.sort_values('retweets_count',ascending=False).head(1000)['username'].value_counts()"
   ]
  },
  {
   "cell_type": "code",
   "execution_count": 37,
   "metadata": {
    "scrolled": true
   },
   "outputs": [
    {
     "data": {
      "text/plain": [
       "gretathunberg      162\n",
       "carolinelucas      128\n",
       "leodicaprio        127\n",
       "mikehudema         124\n",
       "algore              72\n",
       "aoc                 55\n",
       "sunrisemvmt         53\n",
       "naomiaklein         49\n",
       "khayhoe             37\n",
       "billmckibben        34\n",
       "cathmckenna         28\n",
       "eriksolheim         17\n",
       "tveitdal            16\n",
       "markruffalo         14\n",
       "maryheglar          10\n",
       "ed_miliband          9\n",
       "extinctionr          6\n",
       "leohickman           6\n",
       "jayinslee            5\n",
       "chrisgpackham        5\n",
       "bradplumer           4\n",
       "dpcarrington         4\n",
       "grist                3\n",
       "nrdc                 3\n",
       "michaelemann         2\n",
       "unfccc               2\n",
       "drkatemarvel         2\n",
       "amelia_womack        2\n",
       "greenpeaceuk         2\n",
       "usclimatestrike      2\n",
       "evanlweber           1\n",
       "climatehome          1\n",
       "anniemleonard        1\n",
       "guardianeco          1\n",
       "pauledawson          1\n",
       "350                  1\n",
       "estherngumbi         1\n",
       "yalee360             1\n",
       "sasjabeslik          1\n",
       "thisiszerohour       1\n",
       "sierraclub           1\n",
       "simondonner          1\n",
       "johnupton            1\n",
       "the_ecologist        1\n",
       "ayanaeliza           1\n",
       "billnye              1\n",
       "climateprogress      1\n",
       "Name: username, dtype: int64"
      ]
     },
     "execution_count": 37,
     "metadata": {},
     "output_type": "execute_result"
    }
   ],
   "source": [
    "affirm_tweets.sort_values('likes_count',ascending=False).head(1000)['username'].value_counts()"
   ]
  },
  {
   "cell_type": "code",
   "execution_count": 18,
   "metadata": {},
   "outputs": [
    {
     "name": "stdout",
     "output_type": "stream",
     "text": [
      "15.321327615449318\n",
      "97641\n",
      "0\n"
     ]
    }
   ],
   "source": [
    "print(deny_tweets['retweets_count'].mean())\n",
    "print(deny_tweets['retweets_count'].max())\n",
    "print(deny_tweets['retweets_count'].min())"
   ]
  },
  {
   "cell_type": "code",
   "execution_count": 20,
   "metadata": {},
   "outputs": [
    {
     "name": "stdout",
     "output_type": "stream",
     "text": [
      "41.273731057211016\n",
      "222429\n",
      "0\n"
     ]
    }
   ],
   "source": [
    "print(deny_tweets['likes_count'].mean())\n",
    "print(deny_tweets['likes_count'].max())\n",
    "print(deny_tweets['likes_count'].min())"
   ]
  },
  {
   "cell_type": "code",
   "execution_count": 19,
   "metadata": {},
   "outputs": [
    {
     "name": "stdout",
     "output_type": "stream",
     "text": [
      "38.24847704959229\n",
      "87661\n",
      "0\n"
     ]
    }
   ],
   "source": [
    "print(affirm_tweets['retweets_count'].mean())\n",
    "print(affirm_tweets['retweets_count'].max())\n",
    "print(affirm_tweets['retweets_count'].min())"
   ]
  },
  {
   "cell_type": "code",
   "execution_count": 21,
   "metadata": {},
   "outputs": [
    {
     "name": "stdout",
     "output_type": "stream",
     "text": [
      "83.08710496442839\n",
      "430370\n",
      "0\n"
     ]
    }
   ],
   "source": [
    "print(affirm_tweets['likes_count'].mean())\n",
    "print(affirm_tweets['likes_count'].max())\n",
    "print(affirm_tweets['likes_count'].min())"
   ]
  },
  {
   "cell_type": "code",
   "execution_count": null,
   "metadata": {},
   "outputs": [],
   "source": [
    "deny_tweets.plot.hist(by='retweets_count',bins=10)"
   ]
  },
  {
   "cell_type": "code",
   "execution_count": null,
   "metadata": {},
   "outputs": [],
   "source": []
  }
 ],
 "metadata": {
  "kernelspec": {
   "display_name": "Python 3",
   "language": "python",
   "name": "python3"
  },
  "language_info": {
   "codemirror_mode": {
    "name": "ipython",
    "version": 3
   },
   "file_extension": ".py",
   "mimetype": "text/x-python",
   "name": "python",
   "nbconvert_exporter": "python",
   "pygments_lexer": "ipython3",
   "version": "3.7.1"
  }
 },
 "nbformat": 4,
 "nbformat_minor": 2
}
