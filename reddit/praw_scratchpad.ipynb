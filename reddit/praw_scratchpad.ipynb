{
 "cells": [
  {
   "cell_type": "code",
   "execution_count": 28,
   "metadata": {},
   "outputs": [],
   "source": [
    "import math\n",
    "from pprint import pprint\n",
    "import pandas as pd\n",
    "import numpy as np\n",
    "import nltk\n",
    "import matplotlib.pyplot as plt\n",
    "import seaborn as sns\n",
    "import praw\n",
    "import csv\n",
    "import os"
   ]
  },
  {
   "cell_type": "code",
   "execution_count": 2,
   "metadata": {},
   "outputs": [],
   "source": [
    "# Create reddit instance\n",
    "reddit = praw.Reddit(client_id='1sbu376RCBiWRw',\n",
    "                     client_secret='NbqiHMPiKicBXvgfrID-xVNktZM',\n",
    "                     user_agent='mac:cc_framing:v1 (by /u/emma_cc_research)')"
   ]
  },
  {
   "cell_type": "code",
   "execution_count": 50,
   "metadata": {
    "code_folding": [
     0
    ]
   },
   "outputs": [],
   "source": [
    "def get_submissions(subreddit_str):\n",
    "    \n",
    "    if not os.path.exists('praw_output'):\n",
    "        os.mkdir('praw_output')\n",
    "    \n",
    "    subreddit = reddit.subreddit(subreddit_str)\n",
    "    print('Getting submissions and comments from: {}'.format(subreddit.display_name))  \n",
    "    title = subreddit.title\n",
    "    desc = subreddit.description\n",
    "    \n",
    "    if not os.path.exists('subreddits.tsv'):\n",
    "        with open('subreddits.tsv','w') as f:\n",
    "            csvwriter = csv.writer(f, delimiter='\\t')\n",
    "            csvwriter.writerow([subreddit.display_name,title,desc])\n",
    "    else:\n",
    "        with open('subreddits.tsv','a') as f:\n",
    "            csvwriter = csv.writer(f, delimiter='\\t')\n",
    "            csvwriter.writerow([subreddit.display_name,title,desc])\n",
    "\n",
    "    # Write header\n",
    "    with open(os.path.join('praw_output','{}.tsv'.format(subreddit.display_name)), 'w', newline='\\n') as csvfile:\n",
    "        csvwriter = csv.writer(csvfile, delimiter='\\t',\n",
    "                                quotechar='|', quoting=csv.QUOTE_MINIMAL)\n",
    "        csvwriter.writerow(['title','author','date','is_video','id','num_downs','num_ups','upvote_ratio',\n",
    "                           'num_comments','score','text','subreddit'])\n",
    "        \n",
    "    # Write body\n",
    "    for submission in subreddit.new(limit=None):\n",
    "        sub_title = submission.title\n",
    "        sub_author = submission.author.name if submission.author is not None else -1\n",
    "        sub_date = submission.created\n",
    "        sub_is_vid = submission.is_video\n",
    "        sub_id = submission.id\n",
    "        sub_downvotes = submission.downs\n",
    "        sub_upvotes = submission.ups\n",
    "        sub_upvote_ratio = submission.upvote_ratio\n",
    "        sub_num_comments = submission.num_comments\n",
    "        sub_score = submission.score\n",
    "        sub_text = submission.selftext.strip().replace('\\t','').replace('\\n','')\n",
    "        sub_subreddit = submission.subreddit.display_name\n",
    "        with open(os.path.join('praw_output','{}.tsv'.format(subreddit.display_name)), 'a', newline='\\n') as csvfile:\n",
    "            csvwriter = csv.writer(csvfile, delimiter='\\t',\n",
    "                                quotechar='|', quoting=csv.QUOTE_MINIMAL)\n",
    "            csvwriter.writerow([sub_title,sub_author,sub_date,sub_is_vid,sub_id,sub_downvotes,\n",
    "                               sub_upvotes,sub_upvote_ratio,sub_num_comments,sub_score,sub_text,sub_subreddit])"
   ]
  },
  {
   "cell_type": "code",
   "execution_count": 51,
   "metadata": {
    "scrolled": true
   },
   "outputs": [
    {
     "name": "stdout",
     "output_type": "stream",
     "text": [
      "Getting submissions and comments from: redditdev\n"
     ]
    }
   ],
   "source": [
    "get_submissions('redditdev')"
   ]
  },
  {
   "cell_type": "code",
   "execution_count": 52,
   "metadata": {
    "scrolled": true
   },
   "outputs": [
    {
     "data": {
      "text/html": [
       "<div>\n",
       "<style scoped>\n",
       "    .dataframe tbody tr th:only-of-type {\n",
       "        vertical-align: middle;\n",
       "    }\n",
       "\n",
       "    .dataframe tbody tr th {\n",
       "        vertical-align: top;\n",
       "    }\n",
       "\n",
       "    .dataframe thead th {\n",
       "        text-align: right;\n",
       "    }\n",
       "</style>\n",
       "<table border=\"1\" class=\"dataframe\">\n",
       "  <thead>\n",
       "    <tr style=\"text-align: right;\">\n",
       "      <th></th>\n",
       "      <th>0</th>\n",
       "      <th>1</th>\n",
       "      <th>2</th>\n",
       "    </tr>\n",
       "  </thead>\n",
       "  <tbody>\n",
       "    <tr>\n",
       "      <th>0</th>\n",
       "      <td>redditdev</td>\n",
       "      <td>reddit Development</td>\n",
       "      <td>A subreddit for discussion of reddit API clien...</td>\n",
       "    </tr>\n",
       "    <tr>\n",
       "      <th>1</th>\n",
       "      <td>redditdev</td>\n",
       "      <td>reddit Development</td>\n",
       "      <td>A subreddit for discussion of reddit API clien...</td>\n",
       "    </tr>\n",
       "    <tr>\n",
       "      <th>2</th>\n",
       "      <td>redditdev</td>\n",
       "      <td>reddit Development</td>\n",
       "      <td>A subreddit for discussion of reddit API clien...</td>\n",
       "    </tr>\n",
       "  </tbody>\n",
       "</table>\n",
       "</div>"
      ],
      "text/plain": [
       "           0                   1  \\\n",
       "0  redditdev  reddit Development   \n",
       "1  redditdev  reddit Development   \n",
       "2  redditdev  reddit Development   \n",
       "\n",
       "                                                   2  \n",
       "0  A subreddit for discussion of reddit API clien...  \n",
       "1  A subreddit for discussion of reddit API clien...  \n",
       "2  A subreddit for discussion of reddit API clien...  "
      ]
     },
     "execution_count": 52,
     "metadata": {},
     "output_type": "execute_result"
    }
   ],
   "source": [
    "pd.read_csv('subreddits.tsv',sep='\\t',header=None)"
   ]
  },
  {
   "cell_type": "code",
   "execution_count": 54,
   "metadata": {
    "scrolled": true
   },
   "outputs": [],
   "source": [
    "redditdev_df = pd.read_csv('praw_output/redditdev.tsv',sep='\\t',header=0)"
   ]
  },
  {
   "cell_type": "code",
   "execution_count": 55,
   "metadata": {
    "scrolled": true
   },
   "outputs": [
    {
     "data": {
      "text/plain": [
       "Index(['title', 'author', 'date', 'is_video', 'id', 'num_downs', 'num_ups',\n",
       "       'upvote_ratio', 'num_comments', 'score', 'text', 'subreddit'],\n",
       "      dtype='object')"
      ]
     },
     "execution_count": 55,
     "metadata": {},
     "output_type": "execute_result"
    }
   ],
   "source": [
    "redditdev_df.columns"
   ]
  },
  {
   "cell_type": "code",
   "execution_count": 56,
   "metadata": {
    "scrolled": true
   },
   "outputs": [
    {
     "data": {
      "text/plain": [
       "False    999\n",
       "Name: is_video, dtype: int64"
      ]
     },
     "execution_count": 56,
     "metadata": {},
     "output_type": "execute_result"
    }
   ],
   "source": [
    "redditdev_df.is_video.value_counts()"
   ]
  },
  {
   "cell_type": "code",
   "execution_count": 57,
   "metadata": {
    "scrolled": true
   },
   "outputs": [
    {
     "data": {
      "text/plain": [
       "redditdev    999\n",
       "Name: subreddit, dtype: int64"
      ]
     },
     "execution_count": 57,
     "metadata": {},
     "output_type": "execute_result"
    }
   ],
   "source": [
    "redditdev_df.subreddit.value_counts()"
   ]
  },
  {
   "cell_type": "code",
   "execution_count": 58,
   "metadata": {
    "scrolled": true
   },
   "outputs": [
    {
     "data": {
      "text/html": [
       "<div>\n",
       "<style scoped>\n",
       "    .dataframe tbody tr th:only-of-type {\n",
       "        vertical-align: middle;\n",
       "    }\n",
       "\n",
       "    .dataframe tbody tr th {\n",
       "        vertical-align: top;\n",
       "    }\n",
       "\n",
       "    .dataframe thead th {\n",
       "        text-align: right;\n",
       "    }\n",
       "</style>\n",
       "<table border=\"1\" class=\"dataframe\">\n",
       "  <thead>\n",
       "    <tr style=\"text-align: right;\">\n",
       "      <th></th>\n",
       "      <th>title</th>\n",
       "      <th>author</th>\n",
       "      <th>date</th>\n",
       "      <th>is_video</th>\n",
       "      <th>id</th>\n",
       "      <th>num_downs</th>\n",
       "      <th>num_ups</th>\n",
       "      <th>upvote_ratio</th>\n",
       "      <th>num_comments</th>\n",
       "      <th>score</th>\n",
       "      <th>text</th>\n",
       "      <th>subreddit</th>\n",
       "    </tr>\n",
       "  </thead>\n",
       "  <tbody>\n",
       "    <tr>\n",
       "      <th>0</th>\n",
       "      <td>Find old user upvoted post</td>\n",
       "      <td>Snarbly</td>\n",
       "      <td>1.594867e+09</td>\n",
       "      <td>False</td>\n",
       "      <td>hrt38p</td>\n",
       "      <td>0</td>\n",
       "      <td>1</td>\n",
       "      <td>1.00</td>\n",
       "      <td>4</td>\n",
       "      <td>1</td>\n",
       "      <td>I'm attempting to access an account's old upvo...</td>\n",
       "      <td>redditdev</td>\n",
       "    </tr>\n",
       "    <tr>\n",
       "      <th>1</th>\n",
       "      <td>How to get top all time with a limit?</td>\n",
       "      <td>redditcreate9989</td>\n",
       "      <td>1.594854e+09</td>\n",
       "      <td>False</td>\n",
       "      <td>hrp9me</td>\n",
       "      <td>0</td>\n",
       "      <td>11</td>\n",
       "      <td>0.84</td>\n",
       "      <td>5</td>\n",
       "      <td>11</td>\n",
       "      <td>Hello. I'm trying to get the top post from all...</td>\n",
       "      <td>redditdev</td>\n",
       "    </tr>\n",
       "    <tr>\n",
       "      <th>2</th>\n",
       "      <td>Inquiry of access and use of the website data</td>\n",
       "      <td>vivi121</td>\n",
       "      <td>1.594851e+09</td>\n",
       "      <td>False</td>\n",
       "      <td>hroalq</td>\n",
       "      <td>0</td>\n",
       "      <td>1</td>\n",
       "      <td>1.00</td>\n",
       "      <td>1</td>\n",
       "      <td>1</td>\n",
       "      <td>I am programming in Python. I am curious that ...</td>\n",
       "      <td>redditdev</td>\n",
       "    </tr>\n",
       "    <tr>\n",
       "      <th>3</th>\n",
       "      <td>I want to remove all default universal require...</td>\n",
       "      <td>Xecman</td>\n",
       "      <td>1.594811e+09</td>\n",
       "      <td>False</td>\n",
       "      <td>hrfue0</td>\n",
       "      <td>0</td>\n",
       "      <td>0</td>\n",
       "      <td>0.50</td>\n",
       "      <td>2</td>\n",
       "      <td>0</td>\n",
       "      <td>Hi guys, I made a new sub and want even brand ...</td>\n",
       "      <td>redditdev</td>\n",
       "    </tr>\n",
       "    <tr>\n",
       "      <th>4</th>\n",
       "      <td>Not sure if this is the Right Sub - Question o...</td>\n",
       "      <td>natesroomrule</td>\n",
       "      <td>1.594806e+09</td>\n",
       "      <td>False</td>\n",
       "      <td>hremxm</td>\n",
       "      <td>0</td>\n",
       "      <td>4</td>\n",
       "      <td>0.75</td>\n",
       "      <td>5</td>\n",
       "      <td>4</td>\n",
       "      <td>I am new to all of this. Not a programmer by t...</td>\n",
       "      <td>redditdev</td>\n",
       "    </tr>\n",
       "    <tr>\n",
       "      <th>5</th>\n",
       "      <td>Help with configuring AutoMod Minimum Karma Re...</td>\n",
       "      <td>Xecman</td>\n",
       "      <td>1.594788e+09</td>\n",
       "      <td>False</td>\n",
       "      <td>hr9kkk</td>\n",
       "      <td>0</td>\n",
       "      <td>2</td>\n",
       "      <td>1.00</td>\n",
       "      <td>2</td>\n",
       "      <td>2</td>\n",
       "      <td>Hi all; this is probably really simple if you ...</td>\n",
       "      <td>redditdev</td>\n",
       "    </tr>\n",
       "    <tr>\n",
       "      <th>6</th>\n",
       "      <td>Old coder left and looking to update/remove wi...</td>\n",
       "      <td>bbopki</td>\n",
       "      <td>1.594777e+09</td>\n",
       "      <td>False</td>\n",
       "      <td>hr5t1k</td>\n",
       "      <td>0</td>\n",
       "      <td>1</td>\n",
       "      <td>1.00</td>\n",
       "      <td>3</td>\n",
       "      <td>1</td>\n",
       "      <td>I'm not sure if I am in the right place. Our o...</td>\n",
       "      <td>redditdev</td>\n",
       "    </tr>\n",
       "    <tr>\n",
       "      <th>7</th>\n",
       "      <td>Unauthorized error on request</td>\n",
       "      <td>BAG0N</td>\n",
       "      <td>1.594774e+09</td>\n",
       "      <td>False</td>\n",
       "      <td>hr53ut</td>\n",
       "      <td>0</td>\n",
       "      <td>1</td>\n",
       "      <td>1.00</td>\n",
       "      <td>5</td>\n",
       "      <td>1</td>\n",
       "      <td>I'm trying to request reddit api in python but...</td>\n",
       "      <td>redditdev</td>\n",
       "    </tr>\n",
       "    <tr>\n",
       "      <th>8</th>\n",
       "      <td>Are the bots that are still running all using ...</td>\n",
       "      <td>Capybasilisk</td>\n",
       "      <td>1.594769e+09</td>\n",
       "      <td>False</td>\n",
       "      <td>hr3g9n</td>\n",
       "      <td>0</td>\n",
       "      <td>17</td>\n",
       "      <td>1.00</td>\n",
       "      <td>10</td>\n",
       "      <td>17</td>\n",
       "      <td>I notice that some sitewide bots are still ope...</td>\n",
       "      <td>redditdev</td>\n",
       "    </tr>\n",
       "    <tr>\n",
       "      <th>9</th>\n",
       "      <td>I want to know the body of parent</td>\n",
       "      <td>JeongbinKim</td>\n",
       "      <td>1.594757e+09</td>\n",
       "      <td>False</td>\n",
       "      <td>hr088j</td>\n",
       "      <td>0</td>\n",
       "      <td>1</td>\n",
       "      <td>0.67</td>\n",
       "      <td>2</td>\n",
       "      <td>1</td>\n",
       "      <td>I want to know the parent comment of comment.I...</td>\n",
       "      <td>redditdev</td>\n",
       "    </tr>\n",
       "    <tr>\n",
       "      <th>10</th>\n",
       "      <td>[PRAW] Hello. I'm new to the Reddit API and I ...</td>\n",
       "      <td>BrainTaser</td>\n",
       "      <td>1.594747e+09</td>\n",
       "      <td>False</td>\n",
       "      <td>hqycyd</td>\n",
       "      <td>0</td>\n",
       "      <td>2</td>\n",
       "      <td>1.00</td>\n",
       "      <td>4</td>\n",
       "      <td>2</td>\n",
       "      <td>first off, how do I limit the number of commen...</td>\n",
       "      <td>redditdev</td>\n",
       "    </tr>\n",
       "    <tr>\n",
       "      <th>11</th>\n",
       "      <td>How would I check which subreddits a user mods?</td>\n",
       "      <td>TheSebtacular</td>\n",
       "      <td>1.594724e+09</td>\n",
       "      <td>False</td>\n",
       "      <td>hqtedw</td>\n",
       "      <td>0</td>\n",
       "      <td>3</td>\n",
       "      <td>1.00</td>\n",
       "      <td>10</td>\n",
       "      <td>3</td>\n",
       "      <td>If it’s not possible how would I check the mod...</td>\n",
       "      <td>redditdev</td>\n",
       "    </tr>\n",
       "    <tr>\n",
       "      <th>12</th>\n",
       "      <td>Issue running a second for loop with praw</td>\n",
       "      <td>llacerda</td>\n",
       "      <td>1.594706e+09</td>\n",
       "      <td>False</td>\n",
       "      <td>hqok3v</td>\n",
       "      <td>0</td>\n",
       "      <td>2</td>\n",
       "      <td>1.00</td>\n",
       "      <td>3</td>\n",
       "      <td>2</td>\n",
       "      <td>Hi, I was wondering if someone can help me wit...</td>\n",
       "      <td>redditdev</td>\n",
       "    </tr>\n",
       "    <tr>\n",
       "      <th>13</th>\n",
       "      <td>Error 429 when trying to obtain an access token</td>\n",
       "      <td>Hidden_R3D</td>\n",
       "      <td>1.594701e+09</td>\n",
       "      <td>False</td>\n",
       "      <td>hqn9av</td>\n",
       "      <td>0</td>\n",
       "      <td>1</td>\n",
       "      <td>1.00</td>\n",
       "      <td>8</td>\n",
       "      <td>1</td>\n",
       "      <td>I've been trying to make a Reddit bot, and whe...</td>\n",
       "      <td>redditdev</td>\n",
       "    </tr>\n",
       "    <tr>\n",
       "      <th>14</th>\n",
       "      <td>Check if post is an image and only a image</td>\n",
       "      <td>Lv35Boss</td>\n",
       "      <td>1.594680e+09</td>\n",
       "      <td>False</td>\n",
       "      <td>hqgcaa</td>\n",
       "      <td>0</td>\n",
       "      <td>10</td>\n",
       "      <td>1.00</td>\n",
       "      <td>6</td>\n",
       "      <td>10</td>\n",
       "      <td>I have searched for this on the internet and p...</td>\n",
       "      <td>redditdev</td>\n",
       "    </tr>\n",
       "  </tbody>\n",
       "</table>\n",
       "</div>"
      ],
      "text/plain": [
       "                                                title            author  \\\n",
       "0                          Find old user upvoted post           Snarbly   \n",
       "1               How to get top all time with a limit?  redditcreate9989   \n",
       "2       Inquiry of access and use of the website data           vivi121   \n",
       "3   I want to remove all default universal require...            Xecman   \n",
       "4   Not sure if this is the Right Sub - Question o...     natesroomrule   \n",
       "5   Help with configuring AutoMod Minimum Karma Re...            Xecman   \n",
       "6   Old coder left and looking to update/remove wi...            bbopki   \n",
       "7                       Unauthorized error on request             BAG0N   \n",
       "8   Are the bots that are still running all using ...      Capybasilisk   \n",
       "9                   I want to know the body of parent       JeongbinKim   \n",
       "10  [PRAW] Hello. I'm new to the Reddit API and I ...        BrainTaser   \n",
       "11    How would I check which subreddits a user mods?     TheSebtacular   \n",
       "12          Issue running a second for loop with praw          llacerda   \n",
       "13    Error 429 when trying to obtain an access token        Hidden_R3D   \n",
       "14         Check if post is an image and only a image          Lv35Boss   \n",
       "\n",
       "            date  is_video      id  num_downs  num_ups  upvote_ratio  \\\n",
       "0   1.594867e+09     False  hrt38p          0        1          1.00   \n",
       "1   1.594854e+09     False  hrp9me          0       11          0.84   \n",
       "2   1.594851e+09     False  hroalq          0        1          1.00   \n",
       "3   1.594811e+09     False  hrfue0          0        0          0.50   \n",
       "4   1.594806e+09     False  hremxm          0        4          0.75   \n",
       "5   1.594788e+09     False  hr9kkk          0        2          1.00   \n",
       "6   1.594777e+09     False  hr5t1k          0        1          1.00   \n",
       "7   1.594774e+09     False  hr53ut          0        1          1.00   \n",
       "8   1.594769e+09     False  hr3g9n          0       17          1.00   \n",
       "9   1.594757e+09     False  hr088j          0        1          0.67   \n",
       "10  1.594747e+09     False  hqycyd          0        2          1.00   \n",
       "11  1.594724e+09     False  hqtedw          0        3          1.00   \n",
       "12  1.594706e+09     False  hqok3v          0        2          1.00   \n",
       "13  1.594701e+09     False  hqn9av          0        1          1.00   \n",
       "14  1.594680e+09     False  hqgcaa          0       10          1.00   \n",
       "\n",
       "    num_comments  score                                               text  \\\n",
       "0              4      1  I'm attempting to access an account's old upvo...   \n",
       "1              5     11  Hello. I'm trying to get the top post from all...   \n",
       "2              1      1  I am programming in Python. I am curious that ...   \n",
       "3              2      0  Hi guys, I made a new sub and want even brand ...   \n",
       "4              5      4  I am new to all of this. Not a programmer by t...   \n",
       "5              2      2  Hi all; this is probably really simple if you ...   \n",
       "6              3      1  I'm not sure if I am in the right place. Our o...   \n",
       "7              5      1  I'm trying to request reddit api in python but...   \n",
       "8             10     17  I notice that some sitewide bots are still ope...   \n",
       "9              2      1  I want to know the parent comment of comment.I...   \n",
       "10             4      2  first off, how do I limit the number of commen...   \n",
       "11            10      3  If it’s not possible how would I check the mod...   \n",
       "12             3      2  Hi, I was wondering if someone can help me wit...   \n",
       "13             8      1  I've been trying to make a Reddit bot, and whe...   \n",
       "14             6     10  I have searched for this on the internet and p...   \n",
       "\n",
       "    subreddit  \n",
       "0   redditdev  \n",
       "1   redditdev  \n",
       "2   redditdev  \n",
       "3   redditdev  \n",
       "4   redditdev  \n",
       "5   redditdev  \n",
       "6   redditdev  \n",
       "7   redditdev  \n",
       "8   redditdev  \n",
       "9   redditdev  \n",
       "10  redditdev  \n",
       "11  redditdev  \n",
       "12  redditdev  \n",
       "13  redditdev  \n",
       "14  redditdev  "
      ]
     },
     "execution_count": 58,
     "metadata": {},
     "output_type": "execute_result"
    }
   ],
   "source": [
    "redditdev_df.head(15)"
   ]
  },
  {
   "cell_type": "code",
   "execution_count": 7,
   "metadata": {},
   "outputs": [],
   "source": [
    "# assume you have a Reddit instance bound to variable `reddit`\n",
    "top_level_comments = list(submission.comments)\n",
    "all_comments = submission.comments.list()"
   ]
  },
  {
   "cell_type": "code",
   "execution_count": 8,
   "metadata": {},
   "outputs": [
    {
     "data": {
      "text/plain": [
       "[Comment(id='fy1wqz6'), Comment(id='fy4ocqu')]"
      ]
     },
     "execution_count": 8,
     "metadata": {},
     "output_type": "execute_result"
    }
   ],
   "source": [
    "top_level_comments"
   ]
  },
  {
   "cell_type": "code",
   "execution_count": 9,
   "metadata": {},
   "outputs": [
    {
     "data": {
      "text/plain": [
       "[Comment(id='fy1wqz6'),\n",
       " Comment(id='fy4ocqu'),\n",
       " Comment(id='fy1wzrq'),\n",
       " Comment(id='fy1xzur'),\n",
       " Comment(id='fy1yu05')]"
      ]
     },
     "execution_count": 9,
     "metadata": {},
     "output_type": "execute_result"
    }
   ],
   "source": [
    "all_comments"
   ]
  },
  {
   "cell_type": "code",
   "execution_count": 10,
   "metadata": {
    "scrolled": true
   },
   "outputs": [
    {
     "name": "stdout",
     "output_type": "stream",
     "text": [
      "{'_fetched': True,\n",
      " '_reddit': <praw.reddit.Reddit object at 0x1259e8da0>,\n",
      " '_replies': <praw.models.comment_forest.CommentForest object at 0x125a9de48>,\n",
      " '_submission': Submission(id='hr53ut'),\n",
      " 'all_awardings': [],\n",
      " 'approved_at_utc': None,\n",
      " 'approved_by': None,\n",
      " 'archived': False,\n",
      " 'associated_award': None,\n",
      " 'author': Redditor(name='Dan6erbond'),\n",
      " 'author_flair_background_color': None,\n",
      " 'author_flair_css_class': 'lib-developer',\n",
      " 'author_flair_richtext': [],\n",
      " 'author_flair_template_id': 'e07f7d0a-5057-11e7-90fe-0e342a867c0a',\n",
      " 'author_flair_text': 'aPRAW Author',\n",
      " 'author_flair_text_color': 'dark',\n",
      " 'author_flair_type': 'text',\n",
      " 'author_fullname': 't2_11qzch',\n",
      " 'author_patreon_flair': False,\n",
      " 'author_premium': False,\n",
      " 'awarders': [],\n",
      " 'banned_at_utc': None,\n",
      " 'banned_by': None,\n",
      " 'body': 'Are you making sure to set the content-type to `urlformencoded`?',\n",
      " 'body_html': '<div class=\"md\"><p>Are you making sure to set the content-type '\n",
      "              'to <code>urlformencoded</code>?</p>\\n'\n",
      "              '</div>',\n",
      " 'can_gild': True,\n",
      " 'can_mod_post': False,\n",
      " 'collapsed': False,\n",
      " 'collapsed_because_crowd_control': None,\n",
      " 'collapsed_reason': None,\n",
      " 'controversiality': 0,\n",
      " 'created': 1594774529.0,\n",
      " 'created_utc': 1594745729.0,\n",
      " 'depth': 0,\n",
      " 'distinguished': None,\n",
      " 'downs': 0,\n",
      " 'edited': False,\n",
      " 'gilded': 0,\n",
      " 'gildings': {},\n",
      " 'id': 'fy1wqz6',\n",
      " 'is_submitter': False,\n",
      " 'likes': None,\n",
      " 'link_id': 't3_hr53ut',\n",
      " 'locked': False,\n",
      " 'mod_note': None,\n",
      " 'mod_reason_by': None,\n",
      " 'mod_reason_title': None,\n",
      " 'mod_reports': [],\n",
      " 'name': 't1_fy1wqz6',\n",
      " 'no_follow': True,\n",
      " 'num_reports': None,\n",
      " 'parent_id': 't3_hr53ut',\n",
      " 'permalink': '/r/redditdev/comments/hr53ut/unauthorized_error_on_request/fy1wqz6/',\n",
      " 'removal_reason': None,\n",
      " 'report_reasons': None,\n",
      " 'saved': False,\n",
      " 'score': 1,\n",
      " 'score_hidden': False,\n",
      " 'send_replies': True,\n",
      " 'stickied': False,\n",
      " 'subreddit': Subreddit(display_name='redditdev'),\n",
      " 'subreddit_id': 't5_2qizd',\n",
      " 'subreddit_name_prefixed': 'r/redditdev',\n",
      " 'subreddit_type': 'public',\n",
      " 'top_awarded_type': None,\n",
      " 'total_awards_received': 0,\n",
      " 'treatment_tags': [],\n",
      " 'ups': 1,\n",
      " 'user_reports': []}\n"
     ]
    }
   ],
   "source": [
    "pprint(vars(all_comments[0]))"
   ]
  },
  {
   "cell_type": "code",
   "execution_count": 12,
   "metadata": {},
   "outputs": [
    {
     "data": {
      "text/plain": [
       "'Dan6erbond'"
      ]
     },
     "execution_count": 12,
     "metadata": {},
     "output_type": "execute_result"
    }
   ],
   "source": [
    "all_comments[0].author.name"
   ]
  },
  {
   "cell_type": "code",
   "execution_count": 22,
   "metadata": {},
   "outputs": [
    {
     "data": {
      "text/plain": [
       "'redditdev'"
      ]
     },
     "execution_count": 22,
     "metadata": {},
     "output_type": "execute_result"
    }
   ],
   "source": [
    "all_comments[0].subreddit.display_name"
   ]
  },
  {
   "cell_type": "code",
   "execution_count": 23,
   "metadata": {},
   "outputs": [],
   "source": [
    "comment_meta = ['.author.name','.body','controversiality','id','permalink','likes','score','ups',\n",
    "                '.subreddit.display_name']"
   ]
  },
  {
   "cell_type": "code",
   "execution_count": null,
   "metadata": {},
   "outputs": [],
   "source": []
  }
 ],
 "metadata": {
  "kernelspec": {
   "display_name": "Python 3",
   "language": "python",
   "name": "python3"
  },
  "language_info": {
   "codemirror_mode": {
    "name": "ipython",
    "version": 3
   },
   "file_extension": ".py",
   "mimetype": "text/x-python",
   "name": "python",
   "nbconvert_exporter": "python",
   "pygments_lexer": "ipython3",
   "version": "3.7.1"
  }
 },
 "nbformat": 4,
 "nbformat_minor": 2
}
