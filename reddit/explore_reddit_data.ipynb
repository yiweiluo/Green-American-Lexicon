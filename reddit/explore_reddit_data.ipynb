{
 "cells": [
  {
   "cell_type": "code",
   "execution_count": 1,
   "metadata": {},
   "outputs": [],
   "source": [
    "import os\n",
    "import pandas as pd\n",
    "import numpy as np\n",
    "import pickle\n",
    "import glob\n",
    "from datetime import datetime"
   ]
  },
  {
   "cell_type": "code",
   "execution_count": 2,
   "metadata": {},
   "outputs": [],
   "source": [
    "PRAW_OUTPUT_DIR = 'praw_output'\n",
    "POSTS_DIR = 'posts'\n",
    "COMMENTS_DIR = 'post_comments'"
   ]
  },
  {
   "cell_type": "code",
   "execution_count": 3,
   "metadata": {},
   "outputs": [
    {
     "data": {
      "text/plain": [
       "(68, 58)"
      ]
     },
     "execution_count": 3,
     "metadata": {},
     "output_type": "execute_result"
    }
   ],
   "source": [
    "all_post_tsvs = glob.glob(os.path.join(PRAW_OUTPUT_DIR,POSTS_DIR,'*.tsv'))\n",
    "all_post_comment_tsvs = glob.glob(os.path.join(PRAW_OUTPUT_DIR,COMMENTS_DIR,'*.tsv'))\n",
    "len(all_post_tsvs),len(all_post_comment_tsvs)"
   ]
  },
  {
   "cell_type": "code",
   "execution_count": 4,
   "metadata": {},
   "outputs": [
    {
     "data": {
      "text/plain": [
       "((32301, 12), (371, 11))"
      ]
     },
     "execution_count": 4,
     "metadata": {},
     "output_type": "execute_result"
    }
   ],
   "source": [
    "# Join separate tsvs under single df\n",
    "post_dfs = [pd.read_csv(f,sep='\\t',header=0) for f in all_post_tsvs]\n",
    "all_posts_df = pd.concat(post_dfs,axis=0)\n",
    "comment_dfs = [pd.read_csv(f,sep='\\t',header=0) for f in all_post_comment_tsvs]\n",
    "all_comments_df = pd.concat(comment_dfs,axis=0)\n",
    "all_posts_df.shape,all_comments_df.shape"
   ]
  },
  {
   "cell_type": "code",
   "execution_count": 5,
   "metadata": {},
   "outputs": [],
   "source": [
    "# Add column for parsed date\n",
    "all_posts_df['parsed_date'] = all_posts_df.date.apply(lambda x: datetime.utcfromtimestamp(x) if not pd.isnull(x)\n",
    "                                                     else None)\n",
    "all_comments_df['parsed_date'] = all_comments_df.date.apply(lambda x: datetime.utcfromtimestamp(x) if not \n",
    "                                                           pd.isnull(x) else None)"
   ]
  },
  {
   "cell_type": "code",
   "execution_count": 6,
   "metadata": {},
   "outputs": [],
   "source": [
    "# Extract month, year\n",
    "all_posts_df['year'] = all_posts_df.parsed_date.apply(lambda x: x.year if not pd.isnull(x)\n",
    "                                                     else None)\n",
    "all_comments_df['year'] = all_comments_df.parsed_date.apply(lambda x: x.year if not \n",
    "                                                           pd.isnull(x) else None)\n",
    "all_posts_df['month'] = all_posts_df.parsed_date.apply(lambda x: x.month if not pd.isnull(x)\n",
    "                                                     else None)\n",
    "all_comments_df['month'] = all_comments_df.parsed_date.apply(lambda x: x.month if not \n",
    "                                                           pd.isnull(x) else None)"
   ]
  },
  {
   "cell_type": "code",
   "execution_count": 7,
   "metadata": {
    "scrolled": true
   },
   "outputs": [
    {
     "data": {
      "text/html": [
       "<div>\n",
       "<style scoped>\n",
       "    .dataframe tbody tr th:only-of-type {\n",
       "        vertical-align: middle;\n",
       "    }\n",
       "\n",
       "    .dataframe tbody tr th {\n",
       "        vertical-align: top;\n",
       "    }\n",
       "\n",
       "    .dataframe thead th {\n",
       "        text-align: right;\n",
       "    }\n",
       "</style>\n",
       "<table border=\"1\" class=\"dataframe\">\n",
       "  <thead>\n",
       "    <tr style=\"text-align: right;\">\n",
       "      <th></th>\n",
       "      <th>title</th>\n",
       "      <th>author</th>\n",
       "      <th>date</th>\n",
       "      <th>is_video</th>\n",
       "      <th>id</th>\n",
       "      <th>num_downs</th>\n",
       "      <th>num_ups</th>\n",
       "      <th>upvote_ratio</th>\n",
       "      <th>num_comments</th>\n",
       "      <th>score</th>\n",
       "      <th>text</th>\n",
       "      <th>subreddit</th>\n",
       "      <th>parsed_date</th>\n",
       "      <th>year</th>\n",
       "      <th>month</th>\n",
       "    </tr>\n",
       "  </thead>\n",
       "  <tbody>\n",
       "    <tr>\n",
       "      <th>0</th>\n",
       "      <td>Not Hard , we need a beautiful world and democ...</td>\n",
       "      <td>bappa158</td>\n",
       "      <td>1.594488e+09</td>\n",
       "      <td>False</td>\n",
       "      <td>hp71sk</td>\n",
       "      <td>0.0</td>\n",
       "      <td>1.0</td>\n",
       "      <td>1.0</td>\n",
       "      <td>0.0</td>\n",
       "      <td>1.0</td>\n",
       "      <td>NaN</td>\n",
       "      <td>350</td>\n",
       "      <td>2020-07-11 17:11:59</td>\n",
       "      <td>2020.0</td>\n",
       "      <td>7.0</td>\n",
       "    </tr>\n",
       "    <tr>\n",
       "      <th>1</th>\n",
       "      <td>Youth , democracy and new social orders. With ...</td>\n",
       "      <td>bappa158</td>\n",
       "      <td>1.594249e+09</td>\n",
       "      <td>False</td>\n",
       "      <td>hnike7</td>\n",
       "      <td>0.0</td>\n",
       "      <td>1.0</td>\n",
       "      <td>1.0</td>\n",
       "      <td>0.0</td>\n",
       "      <td>1.0</td>\n",
       "      <td>NaN</td>\n",
       "      <td>350</td>\n",
       "      <td>2020-07-08 23:00:03</td>\n",
       "      <td>2020.0</td>\n",
       "      <td>7.0</td>\n",
       "    </tr>\n",
       "    <tr>\n",
       "      <th>2</th>\n",
       "      <td>A tale of two Democracies. Narrative is in eng...</td>\n",
       "      <td>bappa158</td>\n",
       "      <td>1.593279e+09</td>\n",
       "      <td>False</td>\n",
       "      <td>hgqidf</td>\n",
       "      <td>0.0</td>\n",
       "      <td>1.0</td>\n",
       "      <td>0.6</td>\n",
       "      <td>0.0</td>\n",
       "      <td>1.0</td>\n",
       "      <td>NaN</td>\n",
       "      <td>350</td>\n",
       "      <td>2020-06-27 17:25:24</td>\n",
       "      <td>2020.0</td>\n",
       "      <td>6.0</td>\n",
       "    </tr>\n",
       "    <tr>\n",
       "      <th>3</th>\n",
       "      <td>Do you want to use your time and skills to res...</td>\n",
       "      <td>SavedWhale</td>\n",
       "      <td>1.593125e+09</td>\n",
       "      <td>False</td>\n",
       "      <td>hfndnl</td>\n",
       "      <td>0.0</td>\n",
       "      <td>3.0</td>\n",
       "      <td>1.0</td>\n",
       "      <td>0.0</td>\n",
       "      <td>3.0</td>\n",
       "      <td>I started a non-profit that connects volunteer...</td>\n",
       "      <td>350</td>\n",
       "      <td>2020-06-25 22:48:56</td>\n",
       "      <td>2020.0</td>\n",
       "      <td>6.0</td>\n",
       "    </tr>\n",
       "    <tr>\n",
       "      <th>4</th>\n",
       "      <td>Ture Democracy for all is the best solution</td>\n",
       "      <td>bappa158</td>\n",
       "      <td>1.592689e+09</td>\n",
       "      <td>False</td>\n",
       "      <td>hcmim7</td>\n",
       "      <td>0.0</td>\n",
       "      <td>1.0</td>\n",
       "      <td>1.0</td>\n",
       "      <td>0.0</td>\n",
       "      <td>1.0</td>\n",
       "      <td>NaN</td>\n",
       "      <td>350</td>\n",
       "      <td>2020-06-20 21:44:35</td>\n",
       "      <td>2020.0</td>\n",
       "      <td>6.0</td>\n",
       "    </tr>\n",
       "  </tbody>\n",
       "</table>\n",
       "</div>"
      ],
      "text/plain": [
       "                                               title      author  \\\n",
       "0  Not Hard , we need a beautiful world and democ...    bappa158   \n",
       "1  Youth , democracy and new social orders. With ...    bappa158   \n",
       "2  A tale of two Democracies. Narrative is in eng...    bappa158   \n",
       "3  Do you want to use your time and skills to res...  SavedWhale   \n",
       "4        Ture Democracy for all is the best solution    bappa158   \n",
       "\n",
       "           date is_video      id  num_downs  num_ups  upvote_ratio  \\\n",
       "0  1.594488e+09    False  hp71sk        0.0      1.0           1.0   \n",
       "1  1.594249e+09    False  hnike7        0.0      1.0           1.0   \n",
       "2  1.593279e+09    False  hgqidf        0.0      1.0           0.6   \n",
       "3  1.593125e+09    False  hfndnl        0.0      3.0           1.0   \n",
       "4  1.592689e+09    False  hcmim7        0.0      1.0           1.0   \n",
       "\n",
       "   num_comments  score                                               text  \\\n",
       "0           0.0    1.0                                                NaN   \n",
       "1           0.0    1.0                                                NaN   \n",
       "2           0.0    1.0                                                NaN   \n",
       "3           0.0    3.0  I started a non-profit that connects volunteer...   \n",
       "4           0.0    1.0                                                NaN   \n",
       "\n",
       "  subreddit         parsed_date    year  month  \n",
       "0       350 2020-07-11 17:11:59  2020.0    7.0  \n",
       "1       350 2020-07-08 23:00:03  2020.0    7.0  \n",
       "2       350 2020-06-27 17:25:24  2020.0    6.0  \n",
       "3       350 2020-06-25 22:48:56  2020.0    6.0  \n",
       "4       350 2020-06-20 21:44:35  2020.0    6.0  "
      ]
     },
     "execution_count": 7,
     "metadata": {},
     "output_type": "execute_result"
    }
   ],
   "source": [
    "all_posts_df.head()"
   ]
  },
  {
   "cell_type": "code",
   "execution_count": 29,
   "metadata": {},
   "outputs": [
    {
     "data": {
      "text/html": [
       "<div>\n",
       "<style scoped>\n",
       "    .dataframe tbody tr th:only-of-type {\n",
       "        vertical-align: middle;\n",
       "    }\n",
       "\n",
       "    .dataframe tbody tr th {\n",
       "        vertical-align: top;\n",
       "    }\n",
       "\n",
       "    .dataframe thead th {\n",
       "        text-align: right;\n",
       "    }\n",
       "</style>\n",
       "<table border=\"1\" class=\"dataframe\">\n",
       "  <thead>\n",
       "    <tr style=\"text-align: right;\">\n",
       "      <th></th>\n",
       "      <th>submission_id</th>\n",
       "      <th>author</th>\n",
       "      <th>text</th>\n",
       "      <th>date</th>\n",
       "      <th>id</th>\n",
       "      <th>controversiality</th>\n",
       "      <th>num_downs</th>\n",
       "      <th>num_ups</th>\n",
       "      <th>num_likes</th>\n",
       "      <th>score</th>\n",
       "      <th>subreddit</th>\n",
       "      <th>parsed_date</th>\n",
       "      <th>year</th>\n",
       "      <th>month</th>\n",
       "    </tr>\n",
       "  </thead>\n",
       "  <tbody>\n",
       "    <tr>\n",
       "      <th>0</th>\n",
       "      <td>1ojwx3</td>\n",
       "      <td>stricknacco</td>\n",
       "      <td>sounds good!</td>\n",
       "      <td>1.382445e+09</td>\n",
       "      <td>ccwwa76</td>\n",
       "      <td>0.0</td>\n",
       "      <td>0.0</td>\n",
       "      <td>2.0</td>\n",
       "      <td>NaN</td>\n",
       "      <td>2.0</td>\n",
       "      <td>350</td>\n",
       "      <td>2013-10-22 12:26:11</td>\n",
       "      <td>2013.0</td>\n",
       "      <td>10.0</td>\n",
       "    </tr>\n",
       "    <tr>\n",
       "      <th>0</th>\n",
       "      <td>sjh3v</td>\n",
       "      <td>gabefair</td>\n",
       "      <td>This is a follow up from http://www.reddit.com...</td>\n",
       "      <td>1.334949e+09</td>\n",
       "      <td>c4eibqo</td>\n",
       "      <td>0.0</td>\n",
       "      <td>0.0</td>\n",
       "      <td>1.0</td>\n",
       "      <td>NaN</td>\n",
       "      <td>1.0</td>\n",
       "      <td>350ppm</td>\n",
       "      <td>2012-04-20 19:13:35</td>\n",
       "      <td>2012.0</td>\n",
       "      <td>4.0</td>\n",
       "    </tr>\n",
       "    <tr>\n",
       "      <th>0</th>\n",
       "      <td>gjfj1f</td>\n",
       "      <td>-1</td>\n",
       "      <td>[removed]</td>\n",
       "      <td>1.589470e+09</td>\n",
       "      <td>fqkzya6</td>\n",
       "      <td>0.0</td>\n",
       "      <td>0.0</td>\n",
       "      <td>5.0</td>\n",
       "      <td>NaN</td>\n",
       "      <td>5.0</td>\n",
       "      <td>askaconservative</td>\n",
       "      <td>2020-05-14 15:32:10</td>\n",
       "      <td>2020.0</td>\n",
       "      <td>5.0</td>\n",
       "    </tr>\n",
       "    <tr>\n",
       "      <th>1</th>\n",
       "      <td>gjfj1f</td>\n",
       "      <td>oispa</td>\n",
       "      <td>&gt; what are your views on a minimum wage?It's a...</td>\n",
       "      <td>1.589461e+09</td>\n",
       "      <td>fqkoiqi</td>\n",
       "      <td>0.0</td>\n",
       "      <td>0.0</td>\n",
       "      <td>5.0</td>\n",
       "      <td>NaN</td>\n",
       "      <td>5.0</td>\n",
       "      <td>askaconservative</td>\n",
       "      <td>2020-05-14 12:54:25</td>\n",
       "      <td>2020.0</td>\n",
       "      <td>5.0</td>\n",
       "    </tr>\n",
       "    <tr>\n",
       "      <th>2</th>\n",
       "      <td>gjfj1f</td>\n",
       "      <td>DingbattheGreat</td>\n",
       "      <td>&gt; what are your views on a minimum wage? It sh...</td>\n",
       "      <td>1.589472e+09</td>\n",
       "      <td>fql1gde</td>\n",
       "      <td>0.0</td>\n",
       "      <td>0.0</td>\n",
       "      <td>3.0</td>\n",
       "      <td>NaN</td>\n",
       "      <td>3.0</td>\n",
       "      <td>askaconservative</td>\n",
       "      <td>2020-05-14 15:56:18</td>\n",
       "      <td>2020.0</td>\n",
       "      <td>5.0</td>\n",
       "    </tr>\n",
       "  </tbody>\n",
       "</table>\n",
       "</div>"
      ],
      "text/plain": [
       "  submission_id           author  \\\n",
       "0        1ojwx3      stricknacco   \n",
       "0         sjh3v         gabefair   \n",
       "0        gjfj1f               -1   \n",
       "1        gjfj1f            oispa   \n",
       "2        gjfj1f  DingbattheGreat   \n",
       "\n",
       "                                                text          date       id  \\\n",
       "0                                       sounds good!  1.382445e+09  ccwwa76   \n",
       "0  This is a follow up from http://www.reddit.com...  1.334949e+09  c4eibqo   \n",
       "0                                          [removed]  1.589470e+09  fqkzya6   \n",
       "1  > what are your views on a minimum wage?It's a...  1.589461e+09  fqkoiqi   \n",
       "2  > what are your views on a minimum wage? It sh...  1.589472e+09  fql1gde   \n",
       "\n",
       "   controversiality  num_downs  num_ups num_likes  score         subreddit  \\\n",
       "0               0.0        0.0      2.0       NaN    2.0               350   \n",
       "0               0.0        0.0      1.0       NaN    1.0            350ppm   \n",
       "0               0.0        0.0      5.0       NaN    5.0  askaconservative   \n",
       "1               0.0        0.0      5.0       NaN    5.0  askaconservative   \n",
       "2               0.0        0.0      3.0       NaN    3.0  askaconservative   \n",
       "\n",
       "          parsed_date    year  month  \n",
       "0 2013-10-22 12:26:11  2013.0   10.0  \n",
       "0 2012-04-20 19:13:35  2012.0    4.0  \n",
       "0 2020-05-14 15:32:10  2020.0    5.0  \n",
       "1 2020-05-14 12:54:25  2020.0    5.0  \n",
       "2 2020-05-14 15:56:18  2020.0    5.0  "
      ]
     },
     "execution_count": 29,
     "metadata": {},
     "output_type": "execute_result"
    }
   ],
   "source": [
    "all_comments_df.head()"
   ]
  },
  {
   "cell_type": "markdown",
   "metadata": {},
   "source": [
    "## Explore distribution of each attribute "
   ]
  },
  {
   "cell_type": "code",
   "execution_count": 8,
   "metadata": {},
   "outputs": [
    {
     "name": "stdout",
     "output_type": "stream",
     "text": [
      "Number of unique subreddits for posts: 63\n",
      "Number of unique subreddits for comments: 57\n"
     ]
    }
   ],
   "source": [
    "print('Number of unique subreddits for posts:',len(all_posts_df.subreddit.value_counts()))\n",
    "print('Number of unique subreddits for comments:',len(all_comments_df.subreddit.value_counts()))"
   ]
  },
  {
   "cell_type": "code",
   "execution_count": 9,
   "metadata": {},
   "outputs": [
    {
     "name": "stdout",
     "output_type": "stream",
     "text": [
      "Number of unique post authors: 9350\n",
      "Number of unique comment authors: 219\n",
      "Number of unique authors overall: 9491\n"
     ]
    }
   ],
   "source": [
    "print('Number of unique post authors:',len(all_posts_df.author.value_counts()))\n",
    "print('Number of unique comment authors:',len(all_comments_df.author.value_counts()))\n",
    "print('Number of unique authors overall:',len(set(all_comments_df.author.value_counts().index) | \n",
    "                                             set(all_posts_df.author.value_counts().index)))"
   ]
  },
  {
   "cell_type": "code",
   "execution_count": 11,
   "metadata": {
    "scrolled": true
   },
   "outputs": [
    {
     "name": "stdout",
     "output_type": "stream",
     "text": [
      "Distribution of posts/comments from different authors: AxesSubplot(0.125,0.125;0.775x0.755)\n"
     ]
    },
    {
     "data": {
      "image/png": "[encoded data removed]",
      "text/plain": [
       "<Figure size 432x288 with 1 Axes>"
      ]
     },
     "metadata": {
      "needs_background": "light"
     },
     "output_type": "display_data"
    }
   ],
   "source": [
    "%matplotlib inline\n",
    "print('Distribution of posts/comments from different authors:',all_posts_df.author.value_counts().plot.hist())"
   ]
  },
  {
   "cell_type": "code",
   "execution_count": 18,
   "metadata": {},
   "outputs": [
    {
     "data": {
      "text/plain": [
       "avogadros_number        922\n",
       "ILikeNeurons            579\n",
       "heystoopid              532\n",
       "Foubar                  494\n",
       "Vailhem                 372\n",
       "                       ... \n",
       "demon-haunted-world_      1\n",
       "BeautifulLongjumping      1\n",
       "ProhibitionJones          1\n",
       "CDninja                   1\n",
       "polodroid74               1\n",
       "Name: author, Length: 9348, dtype: int64"
      ]
     },
     "execution_count": 18,
     "metadata": {},
     "output_type": "execute_result"
    }
   ],
   "source": [
    "all_posts_df.loc[~all_posts_df.author.isin({-1,str(-1)})].author.value_counts()#.plot.hist(bins=20)"
   ]
  },
  {
   "cell_type": "code",
   "execution_count": 19,
   "metadata": {},
   "outputs": [
    {
     "name": "stdout",
     "output_type": "stream",
     "text": [
      "Distribution over time of posts: AxesSubplot(0.125,0.125;0.775x0.755)\n"
     ]
    },
    {
     "data": {
      "image/png": "[encoded data removed]",
      "text/plain": [
       "<Figure size 432x288 with 1 Axes>"
      ]
     },
     "metadata": {
      "needs_background": "light"
     },
     "output_type": "display_data"
    }
   ],
   "source": [
    "print('Distribution over time of posts:',all_posts_df.year.plot.hist())"
   ]
  },
  {
   "cell_type": "code",
   "execution_count": 20,
   "metadata": {},
   "outputs": [
    {
     "name": "stdout",
     "output_type": "stream",
     "text": [
      "Distribution over time of comments: AxesSubplot(0.125,0.125;0.775x0.755)\n"
     ]
    },
    {
     "data": {
      "image/png": "[encoded data removed]",
      "text/plain": [
       "<Figure size 432x288 with 1 Axes>"
      ]
     },
     "metadata": {
      "needs_background": "light"
     },
     "output_type": "display_data"
    }
   ],
   "source": [
    "print('Distribution over time of comments:',all_comments_df.year.plot.hist(bins=20))"
   ]
  },
  {
   "cell_type": "code",
   "execution_count": 40,
   "metadata": {},
   "outputs": [
    {
     "name": "stdout",
     "output_type": "stream",
     "text": [
      "Distribution over controversiality of comments:\n"
     ]
    },
    {
     "data": {
      "text/plain": [
       "0.0    364\n",
       "1.0      5\n",
       "Name: controversiality, dtype: int64"
      ]
     },
     "execution_count": 40,
     "metadata": {},
     "output_type": "execute_result"
    }
   ],
   "source": [
    "print('Distribution over controversiality of comments:')\n",
    "all_comments_df.controversiality.value_counts()"
   ]
  },
  {
   "cell_type": "code",
   "execution_count": 44,
   "metadata": {},
   "outputs": [
    {
     "data": {
      "text/plain": [
       "['These have all been covered at the daily briefings.  Have you watched them?    Not sure what else can be done.    As far as the past goes, yes, H1N1 wiped out the supplies, those need refreshed.',\n",
       " \"And the WHO was telling the world it wasn't contagious at that point. Meanwhile GEOTUS formed the task force and shut down travel from China, for which Dems attacked him.\",\n",
       " 'c0gpcim',\n",
       " \"If you ask a medical professional how best to prevent the spread of the virus, an economist how best to protect peoples livelihoods, and a mental health professional the best way of protecting people's sanity...you're going to end up with some very conflicting policy.Politicians have to draw it all together and make it work. Spoilers: you can't.\",\n",
       " \"Because global warming has been turned into a focal point of contrarians. The word itself has been tainted, and just because it's cold out doesn't mean that global warming isn't still a huge problem.\"]"
      ]
     },
     "execution_count": 44,
     "metadata": {},
     "output_type": "execute_result"
    }
   ],
   "source": [
    "# Examine most controversial comments\n",
    "list(all_comments_df.loc[all_comments_df.controversiality == 1.0].text)"
   ]
  },
  {
   "cell_type": "code",
   "execution_count": 49,
   "metadata": {
    "scrolled": true
   },
   "outputs": [
    {
     "data": {
      "text/plain": [
       "<class 'str'>      368\n",
       "<class 'float'>      3\n",
       "Name: id, dtype: int64"
      ]
     },
     "execution_count": 49,
     "metadata": {},
     "output_type": "execute_result"
    }
   ],
   "source": [
    "# Small bug in comment ids affecting 3 comments (does not seem consequential for now)\n",
    "all_comments_df.id.apply(lambda x: type(x)).value_counts()"
   ]
  },
  {
   "cell_type": "code",
   "execution_count": 50,
   "metadata": {},
   "outputs": [
    {
     "data": {
      "text/html": [
       "<div>\n",
       "<style scoped>\n",
       "    .dataframe tbody tr th:only-of-type {\n",
       "        vertical-align: middle;\n",
       "    }\n",
       "\n",
       "    .dataframe tbody tr th {\n",
       "        vertical-align: top;\n",
       "    }\n",
       "\n",
       "    .dataframe thead th {\n",
       "        text-align: right;\n",
       "    }\n",
       "</style>\n",
       "<table border=\"1\" class=\"dataframe\">\n",
       "  <thead>\n",
       "    <tr style=\"text-align: right;\">\n",
       "      <th></th>\n",
       "      <th>submission_id</th>\n",
       "      <th>author</th>\n",
       "      <th>text</th>\n",
       "      <th>date</th>\n",
       "      <th>id</th>\n",
       "      <th>controversiality</th>\n",
       "      <th>num_downs</th>\n",
       "      <th>num_ups</th>\n",
       "      <th>num_likes</th>\n",
       "      <th>score</th>\n",
       "      <th>subreddit</th>\n",
       "      <th>parsed_date</th>\n",
       "      <th>year</th>\n",
       "      <th>month</th>\n",
       "    </tr>\n",
       "  </thead>\n",
       "  <tbody>\n",
       "    <tr>\n",
       "      <th>0</th>\n",
       "      <td>ab3wt</td>\n",
       "      <td>heystoopid</td>\n",
       "      <td>|[Total BS](http://www.wunderground.com/blog/J...</td>\n",
       "      <td>NaN</td>\n",
       "      <td>NaN</td>\n",
       "      <td>NaN</td>\n",
       "      <td>NaN</td>\n",
       "      <td>NaN</td>\n",
       "      <td>NaN</td>\n",
       "      <td>NaN</td>\n",
       "      <td>NaN</td>\n",
       "      <td>NaT</td>\n",
       "      <td>NaN</td>\n",
       "      <td>NaN</td>\n",
       "    </tr>\n",
       "    <tr>\n",
       "      <th>1</th>\n",
       "      <td>[And crock of the week too !](http://climatepr...</td>\n",
       "      <td>NaN</td>\n",
       "      <td>NaN</td>\n",
       "      <td>NaN</td>\n",
       "      <td>NaN</td>\n",
       "      <td>NaN</td>\n",
       "      <td>NaN</td>\n",
       "      <td>NaN</td>\n",
       "      <td>NaN</td>\n",
       "      <td>NaN</td>\n",
       "      <td>NaN</td>\n",
       "      <td>NaT</td>\n",
       "      <td>NaN</td>\n",
       "      <td>NaN</td>\n",
       "    </tr>\n",
       "    <tr>\n",
       "      <th>2</th>\n",
       "      <td>[A word from a supreme authority on this issue...</td>\n",
       "      <td>1259988777.0</td>\n",
       "      <td>c0gpcim</td>\n",
       "      <td>0.0</td>\n",
       "      <td>0</td>\n",
       "      <td>1.0</td>\n",
       "      <td>NaN</td>\n",
       "      <td>1.0</td>\n",
       "      <td>climategate</td>\n",
       "      <td>NaN</td>\n",
       "      <td>NaN</td>\n",
       "      <td>1970-01-01</td>\n",
       "      <td>1970.0</td>\n",
       "      <td>1.0</td>\n",
       "    </tr>\n",
       "  </tbody>\n",
       "</table>\n",
       "</div>"
      ],
      "text/plain": [
       "                                       submission_id        author  \\\n",
       "0                                              ab3wt    heystoopid   \n",
       "1  [And crock of the week too !](http://climatepr...           NaN   \n",
       "2  [A word from a supreme authority on this issue...  1259988777.0   \n",
       "\n",
       "                                                text  date   id  \\\n",
       "0  |[Total BS](http://www.wunderground.com/blog/J...   NaN  NaN   \n",
       "1                                                NaN   NaN  NaN   \n",
       "2                                            c0gpcim   0.0    0   \n",
       "\n",
       "   controversiality  num_downs  num_ups    num_likes  score subreddit  \\\n",
       "0               NaN        NaN      NaN          NaN    NaN       NaN   \n",
       "1               NaN        NaN      NaN          NaN    NaN       NaN   \n",
       "2               1.0        NaN      1.0  climategate    NaN       NaN   \n",
       "\n",
       "  parsed_date    year  month  \n",
       "0         NaT     NaN    NaN  \n",
       "1         NaT     NaN    NaN  \n",
       "2  1970-01-01  1970.0    1.0  "
      ]
     },
     "execution_count": 50,
     "metadata": {},
     "output_type": "execute_result"
    }
   ],
   "source": [
    "all_comments_df.loc[all_comments_df.id.apply(lambda x: type(x) == float)]"
   ]
  },
  {
   "cell_type": "code",
   "execution_count": 51,
   "metadata": {},
   "outputs": [
    {
     "data": {
      "text/plain": [
       "<class 'str'>      31568\n",
       "<class 'float'>      733\n",
       "Name: id, dtype: int64"
      ]
     },
     "execution_count": 51,
     "metadata": {},
     "output_type": "execute_result"
    }
   ],
   "source": [
    "# But affects a lot more posts--not sure if they're truly NaNs or not\n",
    "all_posts_df.id.apply(lambda x: type(x)).value_counts()"
   ]
  },
  {
   "cell_type": "code",
   "execution_count": 52,
   "metadata": {
    "scrolled": true
   },
   "outputs": [
    {
     "data": {
      "text/html": [
       "<div>\n",
       "<style scoped>\n",
       "    .dataframe tbody tr th:only-of-type {\n",
       "        vertical-align: middle;\n",
       "    }\n",
       "\n",
       "    .dataframe tbody tr th {\n",
       "        vertical-align: top;\n",
       "    }\n",
       "\n",
       "    .dataframe thead th {\n",
       "        text-align: right;\n",
       "    }\n",
       "</style>\n",
       "<table border=\"1\" class=\"dataframe\">\n",
       "  <thead>\n",
       "    <tr style=\"text-align: right;\">\n",
       "      <th></th>\n",
       "      <th>title</th>\n",
       "      <th>author</th>\n",
       "      <th>date</th>\n",
       "      <th>is_video</th>\n",
       "      <th>id</th>\n",
       "      <th>num_downs</th>\n",
       "      <th>num_ups</th>\n",
       "      <th>upvote_ratio</th>\n",
       "      <th>num_comments</th>\n",
       "      <th>score</th>\n",
       "      <th>text</th>\n",
       "      <th>subreddit</th>\n",
       "      <th>parsed_date</th>\n",
       "      <th>year</th>\n",
       "      <th>month</th>\n",
       "    </tr>\n",
       "  </thead>\n",
       "  <tbody>\n",
       "    <tr>\n",
       "      <th>30</th>\n",
       "      <td>|IT’S TIME TO</td>\n",
       "      <td>NaN</td>\n",
       "      <td>NaN</td>\n",
       "      <td>NaN</td>\n",
       "      <td>NaN</td>\n",
       "      <td>NaN</td>\n",
       "      <td>NaN</td>\n",
       "      <td>NaN</td>\n",
       "      <td>NaN</td>\n",
       "      <td>NaN</td>\n",
       "      <td>NaN</td>\n",
       "      <td>NaN</td>\n",
       "      <td>NaT</td>\n",
       "      <td>NaN</td>\n",
       "      <td>NaN</td>\n",
       "    </tr>\n",
       "    <tr>\n",
       "      <th>31</th>\n",
       "      <td>CONNECT THE DOTS</td>\n",
       "      <td>NaN</td>\n",
       "      <td>NaN</td>\n",
       "      <td>NaN</td>\n",
       "      <td>NaN</td>\n",
       "      <td>NaN</td>\n",
       "      <td>NaN</td>\n",
       "      <td>NaN</td>\n",
       "      <td>NaN</td>\n",
       "      <td>NaN</td>\n",
       "      <td>NaN</td>\n",
       "      <td>NaN</td>\n",
       "      <td>NaT</td>\n",
       "      <td>NaN</td>\n",
       "      <td>NaN</td>\n",
       "    </tr>\n",
       "    <tr>\n",
       "      <th>34</th>\n",
       "      <td>|INSERT ___________ HERE</td>\n",
       "      <td>NaN</td>\n",
       "      <td>NaN</td>\n",
       "      <td>NaN</td>\n",
       "      <td>NaN</td>\n",
       "      <td>NaN</td>\n",
       "      <td>NaN</td>\n",
       "      <td>NaN</td>\n",
       "      <td>NaN</td>\n",
       "      <td>NaN</td>\n",
       "      <td>NaN</td>\n",
       "      <td>NaN</td>\n",
       "      <td>NaT</td>\n",
       "      <td>NaN</td>\n",
       "      <td>NaN</td>\n",
       "    </tr>\n",
       "    <tr>\n",
       "      <th>470</th>\n",
       "      <td>Started to school strike for climate change ou...</td>\n",
       "      <td>NaN</td>\n",
       "      <td>NaN</td>\n",
       "      <td>NaN</td>\n",
       "      <td>NaN</td>\n",
       "      <td>NaN</td>\n",
       "      <td>NaN</td>\n",
       "      <td>NaN</td>\n",
       "      <td>NaN</td>\n",
       "      <td>NaN</td>\n",
       "      <td>NaN</td>\n",
       "      <td>NaN</td>\n",
       "      <td>NaT</td>\n",
       "      <td>NaN</td>\n",
       "      <td>NaN</td>\n",
       "    </tr>\n",
       "    <tr>\n",
       "      <th>471</th>\n",
       "      <td>Greta Thunberg started the global movement Fri...</td>\n",
       "      <td>NaN</td>\n",
       "      <td>NaN</td>\n",
       "      <td>NaN</td>\n",
       "      <td>NaN</td>\n",
       "      <td>NaN</td>\n",
       "      <td>NaN</td>\n",
       "      <td>NaN</td>\n",
       "      <td>NaN</td>\n",
       "      <td>NaN</td>\n",
       "      <td>NaN</td>\n",
       "      <td>NaN</td>\n",
       "      <td>NaT</td>\n",
       "      <td>NaN</td>\n",
       "      <td>NaN</td>\n",
       "    </tr>\n",
       "    <tr>\n",
       "      <th>...</th>\n",
       "      <td>...</td>\n",
       "      <td>...</td>\n",
       "      <td>...</td>\n",
       "      <td>...</td>\n",
       "      <td>...</td>\n",
       "      <td>...</td>\n",
       "      <td>...</td>\n",
       "      <td>...</td>\n",
       "      <td>...</td>\n",
       "      <td>...</td>\n",
       "      <td>...</td>\n",
       "      <td>...</td>\n",
       "      <td>...</td>\n",
       "      <td>...</td>\n",
       "      <td>...</td>\n",
       "    </tr>\n",
       "    <tr>\n",
       "      <th>900</th>\n",
       "      <td>|Effect of Record Drought on Amazon Studied -</td>\n",
       "      <td>NaN</td>\n",
       "      <td>NaN</td>\n",
       "      <td>NaN</td>\n",
       "      <td>NaN</td>\n",
       "      <td>NaN</td>\n",
       "      <td>NaN</td>\n",
       "      <td>NaN</td>\n",
       "      <td>NaN</td>\n",
       "      <td>NaN</td>\n",
       "      <td>NaN</td>\n",
       "      <td>NaN</td>\n",
       "      <td>NaT</td>\n",
       "      <td>NaN</td>\n",
       "      <td>NaN</td>\n",
       "    </tr>\n",
       "    <tr>\n",
       "      <th>914</th>\n",
       "      <td>|Peru's arid capital in serious danger of runn...</td>\n",
       "      <td>NaN</td>\n",
       "      <td>NaN</td>\n",
       "      <td>NaN</td>\n",
       "      <td>NaN</td>\n",
       "      <td>NaN</td>\n",
       "      <td>NaN</td>\n",
       "      <td>NaN</td>\n",
       "      <td>NaN</td>\n",
       "      <td>NaN</td>\n",
       "      <td>NaN</td>\n",
       "      <td>NaN</td>\n",
       "      <td>NaT</td>\n",
       "      <td>NaN</td>\n",
       "      <td>NaN</td>\n",
       "    </tr>\n",
       "    <tr>\n",
       "      <th>918</th>\n",
       "      <td>|Scientists study record-breaking 2010 heatwave -</td>\n",
       "      <td>NaN</td>\n",
       "      <td>NaN</td>\n",
       "      <td>NaN</td>\n",
       "      <td>NaN</td>\n",
       "      <td>NaN</td>\n",
       "      <td>NaN</td>\n",
       "      <td>NaN</td>\n",
       "      <td>NaN</td>\n",
       "      <td>NaN</td>\n",
       "      <td>NaN</td>\n",
       "      <td>NaN</td>\n",
       "      <td>NaT</td>\n",
       "      <td>NaN</td>\n",
       "      <td>NaN</td>\n",
       "    </tr>\n",
       "    <tr>\n",
       "      <th>953</th>\n",
       "      <td>|China's weather forecasters reluctant to conf...</td>\n",
       "      <td>NaN</td>\n",
       "      <td>NaN</td>\n",
       "      <td>NaN</td>\n",
       "      <td>NaN</td>\n",
       "      <td>NaN</td>\n",
       "      <td>NaN</td>\n",
       "      <td>NaN</td>\n",
       "      <td>NaN</td>\n",
       "      <td>NaN</td>\n",
       "      <td>NaN</td>\n",
       "      <td>NaN</td>\n",
       "      <td>NaT</td>\n",
       "      <td>NaN</td>\n",
       "      <td>NaN</td>\n",
       "    </tr>\n",
       "    <tr>\n",
       "      <th>354</th>\n",
       "      <td>Steven Busulwa, an animal keeper, runs away fr...</td>\n",
       "      <td>ecology</td>\n",
       "      <td>NaN</td>\n",
       "      <td>NaN</td>\n",
       "      <td>NaN</td>\n",
       "      <td>NaN</td>\n",
       "      <td>NaN</td>\n",
       "      <td>NaN</td>\n",
       "      <td>NaN</td>\n",
       "      <td>NaN</td>\n",
       "      <td>NaN</td>\n",
       "      <td>NaN</td>\n",
       "      <td>NaT</td>\n",
       "      <td>NaN</td>\n",
       "      <td>NaN</td>\n",
       "    </tr>\n",
       "  </tbody>\n",
       "</table>\n",
       "<p>733 rows × 15 columns</p>\n",
       "</div>"
      ],
      "text/plain": [
       "                                                 title   author  date  \\\n",
       "30                                       |IT’S TIME TO      NaN   NaN   \n",
       "31                                    CONNECT THE DOTS      NaN   NaN   \n",
       "34                            |INSERT ___________ HERE      NaN   NaN   \n",
       "470  Started to school strike for climate change ou...      NaN   NaN   \n",
       "471  Greta Thunberg started the global movement Fri...      NaN   NaN   \n",
       "..                                                 ...      ...   ...   \n",
       "900     |Effect of Record Drought on Amazon Studied -       NaN   NaN   \n",
       "914  |Peru's arid capital in serious danger of runn...      NaN   NaN   \n",
       "918  |Scientists study record-breaking 2010 heatwave -      NaN   NaN   \n",
       "953  |China's weather forecasters reluctant to conf...      NaN   NaN   \n",
       "354  Steven Busulwa, an animal keeper, runs away fr...  ecology   NaN   \n",
       "\n",
       "    is_video   id  num_downs  num_ups  upvote_ratio  num_comments  score text  \\\n",
       "30       NaN  NaN        NaN      NaN           NaN           NaN    NaN  NaN   \n",
       "31       NaN  NaN        NaN      NaN           NaN           NaN    NaN  NaN   \n",
       "34       NaN  NaN        NaN      NaN           NaN           NaN    NaN  NaN   \n",
       "470      NaN  NaN        NaN      NaN           NaN           NaN    NaN  NaN   \n",
       "471      NaN  NaN        NaN      NaN           NaN           NaN    NaN  NaN   \n",
       "..       ...  ...        ...      ...           ...           ...    ...  ...   \n",
       "900      NaN  NaN        NaN      NaN           NaN           NaN    NaN  NaN   \n",
       "914      NaN  NaN        NaN      NaN           NaN           NaN    NaN  NaN   \n",
       "918      NaN  NaN        NaN      NaN           NaN           NaN    NaN  NaN   \n",
       "953      NaN  NaN        NaN      NaN           NaN           NaN    NaN  NaN   \n",
       "354      NaN  NaN        NaN      NaN           NaN           NaN    NaN  NaN   \n",
       "\n",
       "    subreddit parsed_date  year  month  \n",
       "30        NaN         NaT   NaN    NaN  \n",
       "31        NaN         NaT   NaN    NaN  \n",
       "34        NaN         NaT   NaN    NaN  \n",
       "470       NaN         NaT   NaN    NaN  \n",
       "471       NaN         NaT   NaN    NaN  \n",
       "..        ...         ...   ...    ...  \n",
       "900       NaN         NaT   NaN    NaN  \n",
       "914       NaN         NaT   NaN    NaN  \n",
       "918       NaN         NaT   NaN    NaN  \n",
       "953       NaN         NaT   NaN    NaN  \n",
       "354       NaN         NaT   NaN    NaN  \n",
       "\n",
       "[733 rows x 15 columns]"
      ]
     },
     "execution_count": 52,
     "metadata": {},
     "output_type": "execute_result"
    }
   ],
   "source": [
    "all_posts_df.loc[all_posts_df.id.apply(lambda x: type(x) == float)]"
   ]
  },
  {
   "cell_type": "code",
   "execution_count": 57,
   "metadata": {
    "scrolled": true
   },
   "outputs": [
    {
     "data": {
      "text/plain": [
       "<matplotlib.axes._subplots.AxesSubplot at 0x11faeee80>"
      ]
     },
     "execution_count": 57,
     "metadata": {},
     "output_type": "execute_result"
    },
    {
     "data": {
      "image/png": "[encoded data removed]",
      "text/plain": [
       "<Figure size 432x288 with 1 Axes>"
      ]
     },
     "metadata": {
      "needs_background": "light"
     },
     "output_type": "display_data"
    }
   ],
   "source": [
    "all_posts_df.num_ups.plot.hist(bins=10)"
   ]
  },
  {
   "cell_type": "code",
   "execution_count": 58,
   "metadata": {},
   "outputs": [
    {
     "data": {
      "text/plain": [
       "<matplotlib.axes._subplots.AxesSubplot at 0x11cb807f0>"
      ]
     },
     "execution_count": 58,
     "metadata": {},
     "output_type": "execute_result"
    },
    {
     "data": {
      "image/png": "[encoded data removed]",
      "text/plain": [
       "<Figure size 432x288 with 1 Axes>"
      ]
     },
     "metadata": {
      "needs_background": "light"
     },
     "output_type": "display_data"
    }
   ],
   "source": [
    "all_posts_df.num_downs.plot.hist(bins=10)"
   ]
  },
  {
   "cell_type": "code",
   "execution_count": 60,
   "metadata": {},
   "outputs": [
    {
     "data": {
      "text/plain": [
       "<matplotlib.axes._subplots.AxesSubplot at 0x11c29d6a0>"
      ]
     },
     "execution_count": 60,
     "metadata": {},
     "output_type": "execute_result"
    },
    {
     "data": {
      "image/png": "[encoded data removed]",
      "text/plain": [
       "<Figure size 432x288 with 1 Axes>"
      ]
     },
     "metadata": {
      "needs_background": "light"
     },
     "output_type": "display_data"
    }
   ],
   "source": [
    "# Better signal that num_ups/num_downs--probably best available signal\n",
    "all_posts_df.upvote_ratio.plot.hist(bins=10) "
   ]
  },
  {
   "cell_type": "code",
   "execution_count": 24,
   "metadata": {
    "scrolled": true
   },
   "outputs": [
    {
     "data": {
      "text/plain": [
       "<matplotlib.axes._subplots.AxesSubplot at 0x117b2c780>"
      ]
     },
     "execution_count": 24,
     "metadata": {},
     "output_type": "execute_result"
    },
    {
     "data": {
      "image/png": "[encoded data removed]",
      "text/plain": [
       "<Figure size 432x288 with 1 Axes>"
      ]
     },
     "metadata": {
      "needs_background": "light"
     },
     "output_type": "display_data"
    }
   ],
   "source": [
    "# Log upvote ratio:\n",
    "all_posts_df.upvote_ratio.apply(lambda x: np.log(x+0.001)).plot.hist(bins=20) "
   ]
  },
  {
   "cell_type": "code",
   "execution_count": 61,
   "metadata": {},
   "outputs": [
    {
     "data": {
      "text/plain": [
       "<matplotlib.axes._subplots.AxesSubplot at 0x1118dc5c0>"
      ]
     },
     "execution_count": 61,
     "metadata": {},
     "output_type": "execute_result"
    },
    {
     "data": {
      "image/png": "[encoded data removed]",
      "text/plain": [
       "<Figure size 432x288 with 1 Axes>"
      ]
     },
     "metadata": {
      "needs_background": "light"
     },
     "output_type": "display_data"
    }
   ],
   "source": [
    "all_posts_df.score.plot.hist(bins=10)"
   ]
  },
  {
   "cell_type": "code",
   "execution_count": 56,
   "metadata": {
    "scrolled": true
   },
   "outputs": [
    {
     "data": {
      "text/plain": [
       "<matplotlib.axes._subplots.AxesSubplot at 0x11fa3d8d0>"
      ]
     },
     "execution_count": 56,
     "metadata": {},
     "output_type": "execute_result"
    },
    {
     "data": {
      "image/png": "[encoded data removed]",
      "text/plain": [
       "<Figure size 432x288 with 1 Axes>"
      ]
     },
     "metadata": {
      "needs_background": "light"
     },
     "output_type": "display_data"
    }
   ],
   "source": [
    "all_comments_df.num_ups.plot.hist(bins=10) # not a great signal"
   ]
  },
  {
   "cell_type": "code",
   "execution_count": 62,
   "metadata": {},
   "outputs": [
    {
     "data": {
      "text/plain": [
       "<matplotlib.axes._subplots.AxesSubplot at 0x11f87f390>"
      ]
     },
     "execution_count": 62,
     "metadata": {},
     "output_type": "execute_result"
    },
    {
     "data": {
      "image/png": "[encoded data removed]",
      "text/plain": [
       "<Figure size 432x288 with 1 Axes>"
      ]
     },
     "metadata": {
      "needs_background": "light"
     },
     "output_type": "display_data"
    }
   ],
   "source": [
    "# Score is the same as num_ups\n",
    "all_comments_df.score.plot.hist(bins=10)"
   ]
  },
  {
   "cell_type": "code",
   "execution_count": 59,
   "metadata": {},
   "outputs": [
    {
     "data": {
      "text/plain": [
       "<matplotlib.axes._subplots.AxesSubplot at 0x11c11eb38>"
      ]
     },
     "execution_count": 59,
     "metadata": {},
     "output_type": "execute_result"
    },
    {
     "data": {
      "image/png": "[encoded data removed]",
      "text/plain": [
       "<Figure size 432x288 with 1 Axes>"
      ]
     },
     "metadata": {
      "needs_background": "light"
     },
     "output_type": "display_data"
    }
   ],
   "source": [
    "all_comments_df.num_downs.plot.hist(bins=10)"
   ]
  },
  {
   "cell_type": "code",
   "execution_count": 64,
   "metadata": {},
   "outputs": [
    {
     "data": {
      "text/plain": [
       "0    NaN\n",
       "0    NaN\n",
       "0    NaN\n",
       "1    NaN\n",
       "2    NaN\n",
       "    ... \n",
       "0    NaN\n",
       "1    NaN\n",
       "2    NaN\n",
       "0    NaN\n",
       "1    NaN\n",
       "Name: num_likes, Length: 371, dtype: object"
      ]
     },
     "execution_count": 64,
     "metadata": {},
     "output_type": "execute_result"
    }
   ],
   "source": [
    "all_comments_df.num_likes#.plot.hist(bins=10)\n",
    "# Comments don't have upvote ratio available as attribute"
   ]
  },
  {
   "cell_type": "code",
   "execution_count": 82,
   "metadata": {},
   "outputs": [
    {
     "data": {
      "text/plain": [
       "False    31505\n",
       "True        63\n",
       "Name: is_video, dtype: int64"
      ]
     },
     "execution_count": 82,
     "metadata": {},
     "output_type": "execute_result"
    }
   ],
   "source": [
    "# 63 posts are videos\n",
    "all_posts_df.is_video.value_counts()"
   ]
  },
  {
   "cell_type": "markdown",
   "metadata": {},
   "source": [
    "## Explore general properties of text"
   ]
  },
  {
   "cell_type": "code",
   "execution_count": 67,
   "metadata": {},
   "outputs": [
    {
     "data": {
      "text/html": [
       "<div>\n",
       "<style scoped>\n",
       "    .dataframe tbody tr th:only-of-type {\n",
       "        vertical-align: middle;\n",
       "    }\n",
       "\n",
       "    .dataframe tbody tr th {\n",
       "        vertical-align: top;\n",
       "    }\n",
       "\n",
       "    .dataframe thead th {\n",
       "        text-align: right;\n",
       "    }\n",
       "</style>\n",
       "<table border=\"1\" class=\"dataframe\">\n",
       "  <thead>\n",
       "    <tr style=\"text-align: right;\">\n",
       "      <th></th>\n",
       "      <th>submission_id</th>\n",
       "      <th>author</th>\n",
       "      <th>text</th>\n",
       "      <th>date</th>\n",
       "      <th>id</th>\n",
       "      <th>controversiality</th>\n",
       "      <th>num_downs</th>\n",
       "      <th>num_ups</th>\n",
       "      <th>num_likes</th>\n",
       "      <th>score</th>\n",
       "      <th>subreddit</th>\n",
       "      <th>parsed_date</th>\n",
       "      <th>year</th>\n",
       "      <th>month</th>\n",
       "    </tr>\n",
       "  </thead>\n",
       "  <tbody>\n",
       "    <tr>\n",
       "      <th>1</th>\n",
       "      <td>[And crock of the week too !](http://climatepr...</td>\n",
       "      <td>NaN</td>\n",
       "      <td>NaN</td>\n",
       "      <td>NaN</td>\n",
       "      <td>NaN</td>\n",
       "      <td>NaN</td>\n",
       "      <td>NaN</td>\n",
       "      <td>NaN</td>\n",
       "      <td>NaN</td>\n",
       "      <td>NaN</td>\n",
       "      <td>NaN</td>\n",
       "      <td>NaT</td>\n",
       "      <td>NaN</td>\n",
       "      <td>NaN</td>\n",
       "    </tr>\n",
       "  </tbody>\n",
       "</table>\n",
       "</div>"
      ],
      "text/plain": [
       "                                       submission_id author text  date   id  \\\n",
       "1  [And crock of the week too !](http://climatepr...    NaN  NaN   NaN  NaN   \n",
       "\n",
       "   controversiality  num_downs  num_ups num_likes  score subreddit  \\\n",
       "1               NaN        NaN      NaN       NaN    NaN       NaN   \n",
       "\n",
       "  parsed_date  year  month  \n",
       "1         NaT   NaN    NaN  "
      ]
     },
     "execution_count": 67,
     "metadata": {},
     "output_type": "execute_result"
    }
   ],
   "source": [
    "all_comments_df.loc[all_comments_df.text.apply(lambda x: type(x) == float)]"
   ]
  },
  {
   "cell_type": "code",
   "execution_count": 71,
   "metadata": {},
   "outputs": [
    {
     "data": {
      "text/plain": [
       "<matplotlib.axes._subplots.AxesSubplot at 0x11fb3c7b8>"
      ]
     },
     "execution_count": 71,
     "metadata": {},
     "output_type": "execute_result"
    },
    {
     "data": {
      "image/png": "[encoded data removed]",
      "text/plain": [
       "<Figure size 432x288 with 1 Axes>"
      ]
     },
     "metadata": {
      "needs_background": "light"
     },
     "output_type": "display_data"
    }
   ],
   "source": [
    "# Length of comments in \"words\" (split on whitespace)\n",
    "all_comments_df.text.apply(lambda x: len(x.split()) if type(x) != float else 0).plot.hist()"
   ]
  },
  {
   "cell_type": "code",
   "execution_count": 30,
   "metadata": {},
   "outputs": [
    {
     "name": "stdout",
     "output_type": "stream",
     "text": [
      "(261, 15) (2460, 18) (32192, 18)\n"
     ]
    }
   ],
   "source": [
    "# Number of posts/comments with <=50 words, per Reid's threshold\n",
    "all_comments_df['length'] = all_comments_df.text.apply(lambda x: len(x.split()) if type(x) != float else 0)\n",
    "all_posts_df['text_length'] = all_posts_df.text.apply(lambda x: len(x.split()) if type(x) != float else 0)\n",
    "all_posts_df['title_length'] = all_posts_df.title.apply(lambda x: len(x.split()) if type(x) != float else 0)\n",
    "print(all_comments_df.loc[all_comments_df.length.apply(lambda x: x > 0 and x <= 50)].shape,\n",
    "all_posts_df.loc[all_posts_df.text_length.apply(lambda x: x > 0 and x <= 50)].shape,\n",
    "     all_posts_df.loc[all_posts_df.title_length.apply(lambda x: x > 0 and x <= 50)].shape)"
   ]
  },
  {
   "cell_type": "code",
   "execution_count": 79,
   "metadata": {},
   "outputs": [
    {
     "data": {
      "text/plain": [
       "9      16\n",
       "7       5\n",
       "58      5\n",
       "78      4\n",
       "221     4\n",
       "       ..\n",
       "244     1\n",
       "430     1\n",
       "192     1\n",
       "238     1\n",
       "0       1\n",
       "Name: text, Length: 263, dtype: int64"
      ]
     },
     "execution_count": 79,
     "metadata": {},
     "output_type": "execute_result"
    }
   ],
   "source": [
    "all_comments_df.text.apply(lambda x: len(x) if type(x) != float else 0).value_counts()"
   ]
  },
  {
   "cell_type": "code",
   "execution_count": 90,
   "metadata": {},
   "outputs": [
    {
     "data": {
      "text/plain": [
       "(32301, 15)"
      ]
     },
     "execution_count": 90,
     "metadata": {},
     "output_type": "execute_result"
    }
   ],
   "source": [
    "# Posts with title content: there are 32.2k (all have titles)\n",
    "posts_with_titles = all_posts_df.loc[~pd.isnull(all_posts_df.title)]\n",
    "posts_with_titles.shape"
   ]
  },
  {
   "cell_type": "code",
   "execution_count": 84,
   "metadata": {
    "scrolled": false
   },
   "outputs": [
    {
     "data": {
      "text/plain": [
       "(6620, 15)"
      ]
     },
     "execution_count": 84,
     "metadata": {},
     "output_type": "execute_result"
    }
   ],
   "source": [
    "# Posts with text content: there are only 6.6k\n",
    "posts_with_text = all_posts_df.loc[~pd.isnull(all_posts_df.text)]\n",
    "posts_with_text.shape"
   ]
  },
  {
   "cell_type": "code",
   "execution_count": 91,
   "metadata": {},
   "outputs": [
    {
     "data": {
      "text/plain": [
       "<matplotlib.axes._subplots.AxesSubplot at 0x120ef0e80>"
      ]
     },
     "execution_count": 91,
     "metadata": {},
     "output_type": "execute_result"
    },
    {
     "data": {
      "image/png": "[encoded data removed]",
      "text/plain": [
       "<Figure size 432x288 with 1 Axes>"
      ]
     },
     "metadata": {
      "needs_background": "light"
     },
     "output_type": "display_data"
    }
   ],
   "source": [
    "# Length of titles in whitespace-split \"words\"\n",
    "posts_with_titles.title.apply(lambda x: len(x.split())).plot.hist(bins=50)"
   ]
  },
  {
   "cell_type": "code",
   "execution_count": 86,
   "metadata": {},
   "outputs": [
    {
     "data": {
      "text/plain": [
       "<matplotlib.axes._subplots.AxesSubplot at 0x120c7dac8>"
      ]
     },
     "execution_count": 86,
     "metadata": {},
     "output_type": "execute_result"
    },
    {
     "data": {
      "image/png": "[encoded data removed]",
      "text/plain": [
       "<Figure size 432x288 with 1 Axes>"
      ]
     },
     "metadata": {
      "needs_background": "light"
     },
     "output_type": "display_data"
    }
   ],
   "source": [
    "# Length of posts in whitespace-split \"words\"\n",
    "posts_with_text.text.apply(lambda x: len(x.split())).plot.hist(bins=50)"
   ]
  },
  {
   "cell_type": "code",
   "execution_count": 92,
   "metadata": {},
   "outputs": [
    {
     "data": {
      "text/plain": [
       "9      2565\n",
       "10     2499\n",
       "8      2489\n",
       "11     2386\n",
       "7      2206\n",
       "       ... \n",
       "73        1\n",
       "58        1\n",
       "156       1\n",
       "61        1\n",
       "815       1\n",
       "Name: title, Length: 63, dtype: int64"
      ]
     },
     "execution_count": 92,
     "metadata": {},
     "output_type": "execute_result"
    }
   ],
   "source": [
    "# Titles\n",
    "posts_with_titles.title.apply(lambda x: len(x.split())).value_counts()"
   ]
  },
  {
   "cell_type": "code",
   "execution_count": 88,
   "metadata": {},
   "outputs": [
    {
     "data": {
      "text/plain": [
       "1       144\n",
       "32       67\n",
       "38       65\n",
       "22       63\n",
       "34       62\n",
       "       ... \n",
       "909       1\n",
       "945       1\n",
       "953       1\n",
       "961       1\n",
       "1843      1\n",
       "Name: text, Length: 615, dtype: int64"
      ]
     },
     "execution_count": 88,
     "metadata": {},
     "output_type": "execute_result"
    }
   ],
   "source": [
    "# A lot of posts have 1 word?\n",
    "posts_with_text.text.apply(lambda x: len(x.split())).value_counts()"
   ]
  },
  {
   "cell_type": "code",
   "execution_count": 89,
   "metadata": {
    "scrolled": true
   },
   "outputs": [
    {
     "data": {
      "text/html": [
       "<div>\n",
       "<style scoped>\n",
       "    .dataframe tbody tr th:only-of-type {\n",
       "        vertical-align: middle;\n",
       "    }\n",
       "\n",
       "    .dataframe tbody tr th {\n",
       "        vertical-align: top;\n",
       "    }\n",
       "\n",
       "    .dataframe thead th {\n",
       "        text-align: right;\n",
       "    }\n",
       "</style>\n",
       "<table border=\"1\" class=\"dataframe\">\n",
       "  <thead>\n",
       "    <tr style=\"text-align: right;\">\n",
       "      <th></th>\n",
       "      <th>title</th>\n",
       "      <th>author</th>\n",
       "      <th>date</th>\n",
       "      <th>is_video</th>\n",
       "      <th>id</th>\n",
       "      <th>num_downs</th>\n",
       "      <th>num_ups</th>\n",
       "      <th>upvote_ratio</th>\n",
       "      <th>num_comments</th>\n",
       "      <th>score</th>\n",
       "      <th>text</th>\n",
       "      <th>subreddit</th>\n",
       "      <th>parsed_date</th>\n",
       "      <th>year</th>\n",
       "      <th>month</th>\n",
       "    </tr>\n",
       "  </thead>\n",
       "  <tbody>\n",
       "    <tr>\n",
       "      <th>26</th>\n",
       "      <td>Do you agree with -- and/or can you explain wh...</td>\n",
       "      <td>WentzToDJax</td>\n",
       "      <td>1.594729e+09</td>\n",
       "      <td>False</td>\n",
       "      <td>hqulpf</td>\n",
       "      <td>0.0</td>\n",
       "      <td>2.0</td>\n",
       "      <td>0.63</td>\n",
       "      <td>9.0</td>\n",
       "      <td>2.0</td>\n",
       "      <td>https://www.minnpost.com/eric-black-ink/2013/0...</td>\n",
       "      <td>askaconservative</td>\n",
       "      <td>2020-07-14 12:08:34</td>\n",
       "      <td>2020.0</td>\n",
       "      <td>7.0</td>\n",
       "    </tr>\n",
       "    <tr>\n",
       "      <th>161</th>\n",
       "      <td>What do you think about bayonets being issued ...</td>\n",
       "      <td>Lavaknight368</td>\n",
       "      <td>1.593848e+09</td>\n",
       "      <td>False</td>\n",
       "      <td>hktcbx</td>\n",
       "      <td>0.0</td>\n",
       "      <td>3.0</td>\n",
       "      <td>1.00</td>\n",
       "      <td>21.0</td>\n",
       "      <td>3.0</td>\n",
       "      <td>https://thehill.com/policy/defense/505717-mill...</td>\n",
       "      <td>askaconservative</td>\n",
       "      <td>2020-07-04 07:32:46</td>\n",
       "      <td>2020.0</td>\n",
       "      <td>7.0</td>\n",
       "    </tr>\n",
       "    <tr>\n",
       "      <th>311</th>\n",
       "      <td>How likely is Trump to win (%)?</td>\n",
       "      <td>renaissance_pancakes</td>\n",
       "      <td>1.592994e+09</td>\n",
       "      <td>False</td>\n",
       "      <td>hesd7h</td>\n",
       "      <td>0.0</td>\n",
       "      <td>5.0</td>\n",
       "      <td>0.70</td>\n",
       "      <td>23.0</td>\n",
       "      <td>5.0</td>\n",
       "      <td>Go.</td>\n",
       "      <td>askaconservative</td>\n",
       "      <td>2020-06-24 10:20:14</td>\n",
       "      <td>2020.0</td>\n",
       "      <td>6.0</td>\n",
       "    </tr>\n",
       "    <tr>\n",
       "      <th>507</th>\n",
       "      <td>Are there any good conservative historians who...</td>\n",
       "      <td>ActualStreet</td>\n",
       "      <td>1.592009e+09</td>\n",
       "      <td>False</td>\n",
       "      <td>h7o8lv</td>\n",
       "      <td>0.0</td>\n",
       "      <td>6.0</td>\n",
       "      <td>0.88</td>\n",
       "      <td>3.0</td>\n",
       "      <td>6.0</td>\n",
       "      <td>Thanks</td>\n",
       "      <td>askaconservative</td>\n",
       "      <td>2020-06-13 00:42:35</td>\n",
       "      <td>2020.0</td>\n",
       "      <td>6.0</td>\n",
       "    </tr>\n",
       "    <tr>\n",
       "      <th>627</th>\n",
       "      <td>What should happen to Kayleigh McEnany if she ...</td>\n",
       "      <td>fizzywater42</td>\n",
       "      <td>1.591473e+09</td>\n",
       "      <td>False</td>\n",
       "      <td>gxpnui</td>\n",
       "      <td>0.0</td>\n",
       "      <td>17.0</td>\n",
       "      <td>0.80</td>\n",
       "      <td>11.0</td>\n",
       "      <td>17.0</td>\n",
       "      <td>https://www.huffpost.com/entry/trump-maralago-...</td>\n",
       "      <td>askaconservative</td>\n",
       "      <td>2020-06-06 19:56:19</td>\n",
       "      <td>2020.0</td>\n",
       "      <td>6.0</td>\n",
       "    </tr>\n",
       "    <tr>\n",
       "      <th>...</th>\n",
       "      <td>...</td>\n",
       "      <td>...</td>\n",
       "      <td>...</td>\n",
       "      <td>...</td>\n",
       "      <td>...</td>\n",
       "      <td>...</td>\n",
       "      <td>...</td>\n",
       "      <td>...</td>\n",
       "      <td>...</td>\n",
       "      <td>...</td>\n",
       "      <td>...</td>\n",
       "      <td>...</td>\n",
       "      <td>...</td>\n",
       "      <td>...</td>\n",
       "      <td>...</td>\n",
       "    </tr>\n",
       "    <tr>\n",
       "      <th>92</th>\n",
       "      <td>Alex O'Connor (A.K.A. Cosmic Skeptic) is curre...</td>\n",
       "      <td>Omnibeneviolent</td>\n",
       "      <td>1.594266e+09</td>\n",
       "      <td>False</td>\n",
       "      <td>hnntvy</td>\n",
       "      <td>0.0</td>\n",
       "      <td>10.0</td>\n",
       "      <td>0.72</td>\n",
       "      <td>0.0</td>\n",
       "      <td>10.0</td>\n",
       "      <td>https://www.reddit.com/r/vegan/comments/hnmyk0...</td>\n",
       "      <td>skeptic</td>\n",
       "      <td>2020-07-09 03:36:18</td>\n",
       "      <td>2020.0</td>\n",
       "      <td>7.0</td>\n",
       "    </tr>\n",
       "    <tr>\n",
       "      <th>167</th>\n",
       "      <td>I love science guys!</td>\n",
       "      <td>AmazingPineaple6</td>\n",
       "      <td>1.593731e+09</td>\n",
       "      <td>False</td>\n",
       "      <td>hjyncq</td>\n",
       "      <td>0.0</td>\n",
       "      <td>0.0</td>\n",
       "      <td>0.10</td>\n",
       "      <td>0.0</td>\n",
       "      <td>0.0</td>\n",
       "      <td>https://encrypted-tbn0.gstatic.com/images?q=tb...</td>\n",
       "      <td>skeptic</td>\n",
       "      <td>2020-07-02 23:04:38</td>\n",
       "      <td>2020.0</td>\n",
       "      <td>7.0</td>\n",
       "    </tr>\n",
       "    <tr>\n",
       "      <th>490</th>\n",
       "      <td>Virus man-made according to Norwegian researcher</td>\n",
       "      <td>oli_gendebien</td>\n",
       "      <td>1.591601e+09</td>\n",
       "      <td>False</td>\n",
       "      <td>gyn7bl</td>\n",
       "      <td>0.0</td>\n",
       "      <td>0.0</td>\n",
       "      <td>0.25</td>\n",
       "      <td>9.0</td>\n",
       "      <td>0.0</td>\n",
       "      <td>https://www.forbes.com/sites/davidnikel/2020/0...</td>\n",
       "      <td>skeptic</td>\n",
       "      <td>2020-06-08 07:23:49</td>\n",
       "      <td>2020.0</td>\n",
       "      <td>6.0</td>\n",
       "    </tr>\n",
       "    <tr>\n",
       "      <th>1</th>\n",
       "      <td>A new nature economy could generate up to $10....</td>\n",
       "      <td>clim8pablo</td>\n",
       "      <td>1.594849e+09</td>\n",
       "      <td>False</td>\n",
       "      <td>hrnlof</td>\n",
       "      <td>0.0</td>\n",
       "      <td>11.0</td>\n",
       "      <td>1.00</td>\n",
       "      <td>0.0</td>\n",
       "      <td>11.0</td>\n",
       "      <td>[https://www.weforum.org/reports/new-nature-ec...</td>\n",
       "      <td>sustainability</td>\n",
       "      <td>2020-07-15 21:31:58</td>\n",
       "      <td>2020.0</td>\n",
       "      <td>7.0</td>\n",
       "    </tr>\n",
       "    <tr>\n",
       "      <th>318</th>\n",
       "      <td>Hey! I did an animation about the \"Lazy person...</td>\n",
       "      <td>ezgipncr</td>\n",
       "      <td>1.589438e+09</td>\n",
       "      <td>False</td>\n",
       "      <td>gj9cac</td>\n",
       "      <td>0.0</td>\n",
       "      <td>3.0</td>\n",
       "      <td>1.00</td>\n",
       "      <td>0.0</td>\n",
       "      <td>3.0</td>\n",
       "      <td>[https://youtu.be/K-v1pGKvQsM](https://youtu.b...</td>\n",
       "      <td>sustainability</td>\n",
       "      <td>2020-05-14 06:26:52</td>\n",
       "      <td>2020.0</td>\n",
       "      <td>5.0</td>\n",
       "    </tr>\n",
       "  </tbody>\n",
       "</table>\n",
       "<p>144 rows × 15 columns</p>\n",
       "</div>"
      ],
      "text/plain": [
       "                                                 title                author  \\\n",
       "26   Do you agree with -- and/or can you explain wh...           WentzToDJax   \n",
       "161  What do you think about bayonets being issued ...         Lavaknight368   \n",
       "311                    How likely is Trump to win (%)?  renaissance_pancakes   \n",
       "507  Are there any good conservative historians who...          ActualStreet   \n",
       "627  What should happen to Kayleigh McEnany if she ...          fizzywater42   \n",
       "..                                                 ...                   ...   \n",
       "92   Alex O'Connor (A.K.A. Cosmic Skeptic) is curre...       Omnibeneviolent   \n",
       "167                               I love science guys!      AmazingPineaple6   \n",
       "490   Virus man-made according to Norwegian researcher         oli_gendebien   \n",
       "1    A new nature economy could generate up to $10....            clim8pablo   \n",
       "318  Hey! I did an animation about the \"Lazy person...              ezgipncr   \n",
       "\n",
       "             date is_video      id  num_downs  num_ups  upvote_ratio  \\\n",
       "26   1.594729e+09    False  hqulpf        0.0      2.0          0.63   \n",
       "161  1.593848e+09    False  hktcbx        0.0      3.0          1.00   \n",
       "311  1.592994e+09    False  hesd7h        0.0      5.0          0.70   \n",
       "507  1.592009e+09    False  h7o8lv        0.0      6.0          0.88   \n",
       "627  1.591473e+09    False  gxpnui        0.0     17.0          0.80   \n",
       "..            ...      ...     ...        ...      ...           ...   \n",
       "92   1.594266e+09    False  hnntvy        0.0     10.0          0.72   \n",
       "167  1.593731e+09    False  hjyncq        0.0      0.0          0.10   \n",
       "490  1.591601e+09    False  gyn7bl        0.0      0.0          0.25   \n",
       "1    1.594849e+09    False  hrnlof        0.0     11.0          1.00   \n",
       "318  1.589438e+09    False  gj9cac        0.0      3.0          1.00   \n",
       "\n",
       "     num_comments  score                                               text  \\\n",
       "26            9.0    2.0  https://www.minnpost.com/eric-black-ink/2013/0...   \n",
       "161          21.0    3.0  https://thehill.com/policy/defense/505717-mill...   \n",
       "311          23.0    5.0                                                Go.   \n",
       "507           3.0    6.0                                             Thanks   \n",
       "627          11.0   17.0  https://www.huffpost.com/entry/trump-maralago-...   \n",
       "..            ...    ...                                                ...   \n",
       "92            0.0   10.0  https://www.reddit.com/r/vegan/comments/hnmyk0...   \n",
       "167           0.0    0.0  https://encrypted-tbn0.gstatic.com/images?q=tb...   \n",
       "490           9.0    0.0  https://www.forbes.com/sites/davidnikel/2020/0...   \n",
       "1             0.0   11.0  [https://www.weforum.org/reports/new-nature-ec...   \n",
       "318           0.0    3.0  [https://youtu.be/K-v1pGKvQsM](https://youtu.b...   \n",
       "\n",
       "            subreddit         parsed_date    year  month  \n",
       "26   askaconservative 2020-07-14 12:08:34  2020.0    7.0  \n",
       "161  askaconservative 2020-07-04 07:32:46  2020.0    7.0  \n",
       "311  askaconservative 2020-06-24 10:20:14  2020.0    6.0  \n",
       "507  askaconservative 2020-06-13 00:42:35  2020.0    6.0  \n",
       "627  askaconservative 2020-06-06 19:56:19  2020.0    6.0  \n",
       "..                ...                 ...     ...    ...  \n",
       "92            skeptic 2020-07-09 03:36:18  2020.0    7.0  \n",
       "167           skeptic 2020-07-02 23:04:38  2020.0    7.0  \n",
       "490           skeptic 2020-06-08 07:23:49  2020.0    6.0  \n",
       "1      sustainability 2020-07-15 21:31:58  2020.0    7.0  \n",
       "318    sustainability 2020-05-14 06:26:52  2020.0    5.0  \n",
       "\n",
       "[144 rows x 15 columns]"
      ]
     },
     "execution_count": 89,
     "metadata": {},
     "output_type": "execute_result"
    }
   ],
   "source": [
    "posts_with_text.loc[posts_with_text.text.apply(lambda x: len(x.split()) == 1)]"
   ]
  },
  {
   "cell_type": "code",
   "execution_count": null,
   "metadata": {},
   "outputs": [],
   "source": []
  }
 ],
 "metadata": {
  "kernelspec": {
   "display_name": "Python 3",
   "language": "python",
   "name": "python3"
  },
  "language_info": {
   "codemirror_mode": {
    "name": "ipython",
    "version": 3
   },
   "file_extension": ".py",
   "mimetype": "text/x-python",
   "name": "python",
   "nbconvert_exporter": "python",
   "pygments_lexer": "ipython3",
   "version": "3.7.1"
  }
 },
 "nbformat": 4,
 "nbformat_minor": 2
}
