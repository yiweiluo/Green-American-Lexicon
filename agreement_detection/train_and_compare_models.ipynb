{
 "cells": [
  {
   "cell_type": "code",
   "execution_count": 1,
   "metadata": {},
   "outputs": [],
   "source": [
    "import json\n",
    "import os\n",
    "import glob\n",
    "import pandas as pd\n",
    "import numpy as np\n",
    "from collections import Counter, defaultdict\n",
    "import random"
   ]
  },
  {
   "cell_type": "code",
   "execution_count": 2,
   "metadata": {},
   "outputs": [
    {
     "name": "stdout",
     "output_type": "stream",
     "text": [
      "jagupard27\n",
      "scr1 scr0\n"
     ]
    }
   ],
   "source": [
    "import platform\n",
    "\n",
    "# print machine name\n",
    "machine_name = platform.node().split(\".\")[0]\n",
    "print(machine_name)\n",
    "\n",
    "# print available scratch directories\n",
    "print(\" \".join(os.listdir(f\"/{machine_name}\")))"
   ]
  },
  {
   "cell_type": "code",
   "execution_count": 3,
   "metadata": {},
   "outputs": [
    {
     "name": "stdout",
     "output_type": "stream",
     "text": [
      "/jagupard27/scr1/yiweil\n"
     ]
    }
   ],
   "source": [
    "DISK_IO_DIR = \"/{}/scr1/yiweil\".format(machine_name)\n",
    "print(DISK_IO_DIR)\n",
    "if not os.path.exists(DISK_IO_DIR):\n",
    "    os.mkdir(DISK_IO_DIR)"
   ]
  },
  {
   "cell_type": "code",
   "execution_count": null,
   "metadata": {},
   "outputs": [],
   "source": []
  },
  {
   "cell_type": "code",
   "execution_count": null,
   "metadata": {},
   "outputs": [],
   "source": []
  },
  {
   "cell_type": "code",
   "execution_count": null,
   "metadata": {},
   "outputs": [],
   "source": []
  },
  {
   "cell_type": "markdown",
   "metadata": {},
   "source": [
    "# Zhang et al. Reddit discourse acts"
   ]
  },
  {
   "cell_type": "markdown",
   "metadata": {
    "heading_collapsed": true
   },
   "source": [
    "## Load data"
   ]
  },
  {
   "cell_type": "code",
   "execution_count": 40,
   "metadata": {
    "hidden": true,
    "scrolled": true
   },
   "outputs": [
    {
     "name": "stdout",
     "output_type": "stream",
     "text": [
      "9483 5\n"
     ]
    }
   ],
   "source": [
    "coarse_discourse_dir = 'coarse-discourse'\n",
    "coarse_discourse_data_path = os.path.join(coarse_discourse_dir,'coarse_discourse_dataset.json')\n",
    "with open(coarse_discourse_data_path,'r') as f:\n",
    "    coarse_discourse_data = f.read().splitlines()\n",
    "coarse_discourse_data_list = [json.loads(coarse_discourse_data[ix]) for ix in range(len(coarse_discourse_data))]\n",
    "print(len(coarse_discourse_data_list),len(coarse_discourse_data_list[0]))"
   ]
  },
  {
   "cell_type": "code",
   "execution_count": 41,
   "metadata": {
    "hidden": true,
    "scrolled": true
   },
   "outputs": [
    {
     "name": "stdout",
     "output_type": "stream",
     "text": [
      "9483\n",
      "115827\n"
     ]
    }
   ],
   "source": [
    "with open(os.path.join(coarse_discourse_dir,'coarse_discourse_dump_reddit.json')) as jsonfile:\n",
    "    lines = jsonfile.readlines()\n",
    "\n",
    "post_id_dict = {}\n",
    "for line in lines:\n",
    "    reader = json.loads(line)\n",
    "    for post in reader['posts']:\n",
    "        post_id_dict[post['id']] = post\n",
    "\n",
    "print(len(lines))\n",
    "print(len(post_id_dict))"
   ]
  },
  {
   "cell_type": "code",
   "execution_count": 42,
   "metadata": {
    "hidden": true
   },
   "outputs": [
    {
     "data": {
      "text/plain": [
       "{'subreddit': '100movies365days',\n",
       " 'is_self_post': True,\n",
       " 'url': 'https://www.reddit.com/r/100movies365days/comments/1bx6qw/dtx120_87_nashville/',\n",
       " 'title': 'DTX120: #87 - Nashville',\n",
       " 'posts': [{'id': 't3_1bx6qw',\n",
       "   'annotations': [{'link_to_post': 'none',\n",
       "     'main_type': 'announcement',\n",
       "     'annotator': 'fc96a15ab87f02dd1998ff55a64f6478'},\n",
       "    {'link_to_post': 'none',\n",
       "     'main_type': 'announcement',\n",
       "     'annotator': 'e9e4b3ab355135fa954badcc06bfccc6'},\n",
       "    {'link_to_post': 'none',\n",
       "     'main_type': 'announcement',\n",
       "     'annotator': '31ac59c1734c1547d4d0723ff254c247'}],\n",
       "   'majority_link': 'none',\n",
       "   'majority_type': 'announcement',\n",
       "   'is_first_post': True},\n",
       "  {'in_reply_to': 't3_1bx6qw',\n",
       "   'post_depth': 1,\n",
       "   'id': 't1_c9b2nyd',\n",
       "   'majority_link': 't3_1bx6qw',\n",
       "   'majority_type': 'elaboration',\n",
       "   'annotations': [{'link_to_post': 't3_1bx6qw',\n",
       "     'main_type': 'agreement',\n",
       "     'annotator': 'fc96a15ab87f02dd1998ff55a64f6478'},\n",
       "    {'link_to_post': 't3_1bx6qw',\n",
       "     'main_type': 'elaboration',\n",
       "     'annotator': 'e9e4b3ab355135fa954badcc06bfccc6'},\n",
       "    {'link_to_post': 't3_1bx6qw',\n",
       "     'main_type': 'elaboration',\n",
       "     'annotator': '31ac59c1734c1547d4d0723ff254c247'}]},\n",
       "  {'in_reply_to': 't1_c9b2nyd',\n",
       "   'post_depth': 2,\n",
       "   'id': 't1_c9b30i1',\n",
       "   'majority_link': 't1_c9b2nyd',\n",
       "   'majority_type': 'elaboration',\n",
       "   'annotations': [{'link_to_post': 't1_c9b2nyd',\n",
       "     'main_type': 'elaboration',\n",
       "     'annotator': 'fc96a15ab87f02dd1998ff55a64f6478'},\n",
       "    {'link_to_post': 't1_c9b2nyd',\n",
       "     'main_type': 'elaboration',\n",
       "     'annotator': 'e9e4b3ab355135fa954badcc06bfccc6'},\n",
       "    {'link_to_post': 't1_c9b2nyd',\n",
       "     'main_type': 'elaboration',\n",
       "     'annotator': '31ac59c1734c1547d4d0723ff254c247'}]},\n",
       "  {'in_reply_to': 't1_c9b30i1',\n",
       "   'post_depth': 3,\n",
       "   'id': 't1_c9b6sj0',\n",
       "   'majority_link': 't1_c9b30i1',\n",
       "   'majority_type': 'elaboration',\n",
       "   'annotations': [{'link_to_post': 't1_c9b30i1',\n",
       "     'main_type': 'agreement',\n",
       "     'annotator': 'fc96a15ab87f02dd1998ff55a64f6478'},\n",
       "    {'link_to_post': 't1_c9b30i1',\n",
       "     'main_type': 'elaboration',\n",
       "     'annotator': 'e9e4b3ab355135fa954badcc06bfccc6'},\n",
       "    {'link_to_post': 't1_c9b30i1',\n",
       "     'main_type': 'elaboration',\n",
       "     'annotator': '31ac59c1734c1547d4d0723ff254c247'}]}]}"
      ]
     },
     "execution_count": 42,
     "metadata": {},
     "output_type": "execute_result"
    }
   ],
   "source": [
    "coarse_discourse_data_list[0]"
   ]
  },
  {
   "cell_type": "code",
   "execution_count": 55,
   "metadata": {
    "hidden": true,
    "scrolled": true
   },
   "outputs": [],
   "source": [
    "#post_id_dict['t1_d2rp8sy']#['body']"
   ]
  },
  {
   "cell_type": "markdown",
   "metadata": {
    "heading_collapsed": true
   },
   "source": [
    "## Inspect examples manually"
   ]
  },
  {
   "cell_type": "code",
   "execution_count": 10,
   "metadata": {
    "code_folding": [],
    "hidden": true
   },
   "outputs": [],
   "source": [
    "def get_examples_of_discourse(discourse_acts):\n",
    "    out = []\n",
    "    \n",
    "    for ix in range(len(coarse_discourse_data_list)):\n",
    "        posts_ = coarse_discourse_data_list[ix]['posts']\n",
    "        for post_ in posts_:\n",
    "            id_ = post_['id']\n",
    "            try:\n",
    "                main_type_ = post_['majority_type']\n",
    "                if main_type_ in discourse_acts:\n",
    "                    if id_ in post_id_dict:\n",
    "                        try:\n",
    "                            text = post_id_dict[id_]['body']\n",
    "                            out.append((id_,text,main_type_))\n",
    "                        except KeyError:\n",
    "                            continue\n",
    "                            print(id_)\n",
    "                            print(post_id_dict[id_])\n",
    "            except KeyError:\n",
    "                continue#print(post_)\n",
    "    \n",
    "    return out"
   ]
  },
  {
   "cell_type": "code",
   "execution_count": 11,
   "metadata": {
    "hidden": true,
    "scrolled": true
   },
   "outputs": [],
   "source": [
    "acts_by_type = {discourse_act: get_examples_of_discourse({discourse_act})\n",
    "               for discourse_act in ['agreement','disagreement','appreciation','negativereaction','question',\n",
    "                                    'answer','elaboration','humor','announcement']}"
   ]
  },
  {
   "cell_type": "code",
   "execution_count": 12,
   "metadata": {
    "hidden": true,
    "scrolled": true
   },
   "outputs": [
    {
     "data": {
      "text/plain": [
       "[('t1_cen3bzv',\n",
       "  \"Yeah I was thinking the same, its what I've been doing.\",\n",
       "  'agreement'),\n",
       " ('t1_cenqpzw',\n",
       "  \"Oh certainly. I wouldn't be an advocate of anything that makes the game boring for the player because why play if that's the case? My argument is rooted in that it is better to do things other than slayer if you solely want combat exp and money but definitely not better if you want to max. For me (very casual player, 4-6 hours a week), I like nmz because I can study/write papers while I do it with very little lost exp.\",\n",
       "  'agreement'),\n",
       " ('t1_chh9beq',\n",
       "  'I agree Engineering does sound awesome but it would take awhile to think of ways to make it so in-depth for high levels. Summoning, imo, was a great skill. Idk why, I just liked the perks from some of the pets.',\n",
       "  'agreement'),\n",
       " ('t1_d2rp4x5',\n",
       "  'would love this ive been collecting them for almost a yr now :-)',\n",
       "  'agreement'),\n",
       " ('t1_d3grv0o',\n",
       "  \"That is very true, such a strange feature, I'd be willing to bet its a mistake and not intended\",\n",
       "  'agreement'),\n",
       " ('t1_cdo7v6s', 'Yeah that was my impression lol.  No worries.', 'agreement'),\n",
       " ('t1_cr0uq2p',\n",
       "  \"I joined the Steam network. There's a lot for cheap to distract even the most honed gaming enthusiast.       \",\n",
       "  'agreement'),\n",
       " ('t1_cr06v1y',\n",
       "  'I want to second the music one. A little bit of upfront cost, but so many hours of fun.',\n",
       "  'agreement'),\n",
       " ('t1_cenmfvg',\n",
       "  'Another Brisbanite checking in. Got the alarm set for 3:50am.\\n\\nWaking up early to watch Pat, Nav and Aldon put Cam to sleep!',\n",
       "  'agreement'),\n",
       " ('t1_cenlb4f',\n",
       "  \"I'll be cheering on from Melbourne, at 5am, the sun might just start showing some rays.  I'll with you in spirit /u/Waldinator !\",\n",
       "  'agreement')]"
      ]
     },
     "execution_count": 12,
     "metadata": {},
     "output_type": "execute_result"
    }
   ],
   "source": [
    "acts_by_type['agreement'][:10]"
   ]
  },
  {
   "cell_type": "code",
   "execution_count": 13,
   "metadata": {
    "hidden": true,
    "scrolled": false
   },
   "outputs": [
    {
     "data": {
      "text/plain": [
       "[('t1_ckcpwx7', 'In Russia goblin invasion wins you', 'humor'),\n",
       " ('t1_csxemb6', 'lol', 'humor'),\n",
       " ('t3_3j07o7', '', 'humor'),\n",
       " ('t1_cul6ijf', 'acc sharing', 'humor'),\n",
       " ('t1_cul6m9s',\n",
       "  'I think your cat needs attention. You should stroke it.',\n",
       "  'humor'),\n",
       " ('t1_cul7d4d', '>OP stroke your pussy', 'humor'),\n",
       " ('t1_cula6iw', 'Have him do rat catchers for you m8', 'humor'),\n",
       " ('t1_culhdam', \"On the internet, nobody knows that you're a cat.\", 'humor'),\n",
       " ('t1_culmdfp',\n",
       "  'Ah, the infamous catkeys. Better than mousekeys by a long shot',\n",
       "  'humor'),\n",
       " ('t1_culf3hh', 'Petscape >_>', 'humor')]"
      ]
     },
     "execution_count": 13,
     "metadata": {},
     "output_type": "execute_result"
    }
   ],
   "source": [
    "acts_by_type['humor'][:10]"
   ]
  },
  {
   "cell_type": "code",
   "execution_count": 9,
   "metadata": {
    "hidden": true,
    "scrolled": true
   },
   "outputs": [
    {
     "data": {
      "text/plain": [
       "[('t1_cngitkh',\n",
       "  'Then stop sniveling about people taking away your precious economy and indoor plumbing!\\n\\n',\n",
       "  'negativereaction'),\n",
       " ('t1_cngioeq',\n",
       "  'Silliness. The same happens when we ask Pro Athletes or Pop Stars to talk about the world.',\n",
       "  'negativereaction'),\n",
       " ('t1_cngkvm4', 'Bye.', 'negativereaction'),\n",
       " ('t1_cngirjx',\n",
       "  'It sounds like you object to anyone calling you out on *your* hypocrisy, but enjoy calling out the hypocrisy you perceive in others. There might be a word for that, in fact...\\n\\n\\n',\n",
       "  'negativereaction'),\n",
       " ('t1_cngkb25',\n",
       "  '> You would think that scientists would, having recognized that they came out of this world, would treat it well. \\n\\nBased on this generalization, clearly, you are speaking of your very limited experience with scientists. \\n\\n> Perhaps they treat it better than the religious types do, who claim...\\n\\nTypes? More generalizations. \\n\\n> better...\\n\\nUnsubstantiated. Better or worse only depends on who defines those words. The right answer varies wildly depending on who you agree with.\\n\\n> Yet, to me the bulldozer technique seems to be the way science is often applied. \\n\\nThis is just a lazy generalization. Science is applied in so many, unknown ways to you that to make a statement like that is just ignorant. \\n',\n",
       "  'negativereaction')]"
      ]
     },
     "execution_count": 9,
     "metadata": {},
     "output_type": "execute_result"
    }
   ],
   "source": [
    "negative_reaction_acts[-5:]"
   ]
  },
  {
   "cell_type": "code",
   "execution_count": 10,
   "metadata": {
    "hidden": true,
    "scrolled": true
   },
   "outputs": [
    {
     "data": {
      "text/plain": [
       "[('t1_cn4oefk',\n",
       "  'As opposed to the shitty inconsistent Synchro build? Please, it suffers from the same problems but with added brick hands.',\n",
       "  'disagreement'),\n",
       " ('t1_cn4oxaw',\n",
       "  \"A) It's not as shitty B) How in the hell does it brick harder than the fusion build where no matter what the best thing you can do is drop a 2k Beater and if you don't have poly or edge-imp you full out lose C) The control build is better than both of them\",\n",
       "  'disagreement'),\n",
       " ('t1_cn5cexx',\n",
       "  \"As opposed to any decent deck in the meta. Satellar, battery, Noble Knights, Geargia, even Yang all have had decent showings as solid Tier 2 Decks. I just cannot see Fluffals doing anything against any Tier 2+ deck. I always want more Tier Decks, I don't *want* Fluffs to suck, but all I see is a craply designed archetype like so many that are fun but simply not meta. \\n\\n\\nJust how the game works.\",\n",
       "  'disagreement'),\n",
       " ('t1_d0kc0xr',\n",
       "  \"The extra deck is already so tight on this deck, i just can't find space for both lightning and utopia, so i'd rather not run him\",\n",
       "  'disagreement'),\n",
       " ('t1_cngixa9',\n",
       "  '> ... they go to \"apply\" their science, well, they treat the world as if it is \"other\", which is to say, poorly, for the most part.\\n\\nLol. False.',\n",
       "  'disagreement')]"
      ]
     },
     "execution_count": 10,
     "metadata": {},
     "output_type": "execute_result"
    }
   ],
   "source": [
    "disagreement_acts[-5:]"
   ]
  },
  {
   "cell_type": "markdown",
   "metadata": {
    "heading_collapsed": true
   },
   "source": [
    "## Implement BERT-based model"
   ]
  },
  {
   "cell_type": "code",
   "execution_count": null,
   "metadata": {
    "hidden": true
   },
   "outputs": [],
   "source": [
    "# simple sequence classification task: input = text; output = label\n",
    "# https://towardsdatascience.com/bert-text-classification-using-pytorch-723dfb8b6b5b"
   ]
  },
  {
   "cell_type": "code",
   "execution_count": 3,
   "metadata": {
    "hidden": true
   },
   "outputs": [],
   "source": [
    "coarse_discourse_dir = 'coarse-discourse'\n",
    "data_dir = os.path.join(coarse_discourse_dir,'model_data')"
   ]
  },
  {
   "cell_type": "code",
   "execution_count": 27,
   "metadata": {
    "hidden": true,
    "scrolled": true
   },
   "outputs": [],
   "source": [
    "# Libraries\n",
    "import matplotlib.pyplot as plt\n",
    "import pandas as pd\n",
    "import torch\n",
    "\n",
    "# Preliminaries\n",
    "from torchtext.data import Field, TabularDataset, BucketIterator, Iterator\n",
    "\n",
    "# Models\n",
    "import torch.nn as nn\n",
    "from transformers import BertTokenizer, BertForSequenceClassification\n",
    "\n",
    "# Training\n",
    "import torch.optim as optim\n",
    "\n",
    "# Evaluation\n",
    "from sklearn.metrics import accuracy_score, classification_report, confusion_matrix\n",
    "import seaborn as sns\n",
    "\n",
    "SEED = 4242"
   ]
  },
  {
   "cell_type": "code",
   "execution_count": 5,
   "metadata": {
    "hidden": true
   },
   "outputs": [
    {
     "data": {
      "text/plain": [
       "True"
      ]
     },
     "execution_count": 5,
     "metadata": {},
     "output_type": "execute_result"
    }
   ],
   "source": [
    "torch.cuda.is_available()"
   ]
  },
  {
   "cell_type": "code",
   "execution_count": 6,
   "metadata": {
    "hidden": true
   },
   "outputs": [
    {
     "name": "stdout",
     "output_type": "stream",
     "text": [
      "Using device: cuda\n"
     ]
    }
   ],
   "source": [
    "device = torch.device('cuda' if torch.cuda.is_available() else 'cpu')\n",
    "print('Using device:', device)"
   ]
  },
  {
   "cell_type": "code",
   "execution_count": 7,
   "metadata": {
    "hidden": true,
    "scrolled": false
   },
   "outputs": [
    {
     "name": "stderr",
     "output_type": "stream",
     "text": [
      "I0930 09:46:23.010442 139846356690688 tokenization_utils.py:373] loading file https://s3.amazonaws.com/models.huggingface.co/bert/bert-base-uncased-vocab.txt from cache at /sailhome/yiweil/.cache/torch/transformers/26bc1ad6c0ac742e9b52263248f6d0f00068293b33709fae12320c0e35ccfbbb.542ce4285a40d23a559526243235df47c5f75c197f04f37d1a0c124c32c9a084\n"
     ]
    }
   ],
   "source": [
    "tokenizer = BertTokenizer.from_pretrained('bert-base-uncased')\n",
    "\n",
    "# Model parameters\n",
    "MAX_SEQ_LEN = 512\n",
    "PAD_INDEX = tokenizer.convert_tokens_to_ids(tokenizer.pad_token)\n",
    "UNK_INDEX = tokenizer.convert_tokens_to_ids(tokenizer.unk_token)"
   ]
  },
  {
   "cell_type": "code",
   "execution_count": 90,
   "metadata": {
    "code_folding": [],
    "hidden": true,
    "scrolled": true
   },
   "outputs": [
    {
     "name": "stdout",
     "output_type": "stream",
     "text": [
      "Wrote train/dev/test splits to coarse-discourse/model_data/five_class\n",
      "\n",
      "Train distribution: 4    56808\n",
      "2     6006\n",
      "0     3441\n",
      "1     2326\n",
      "3     1283\n",
      "Name: label, dtype: int64\n",
      "\n",
      "Dev distribution: 4    8046\n",
      "2     843\n",
      "0     517\n",
      "1     377\n",
      "3     197\n",
      "Name: label, dtype: int64\n",
      "\n",
      "Test distribution: 4    16180\n",
      "2     1747\n",
      "0      995\n",
      "1      668\n",
      "3      373\n",
      "Name: label, dtype: int64\n"
     ]
    }
   ],
   "source": [
    "# Write train/val etc. data\n",
    "subsample=False\n",
    "\n",
    "data_dir = os.path.join(coarse_discourse_dir,'model_data','five_class')\n",
    "if not os.path.exists(data_dir):\n",
    "    os.mkdir(data_dir)\n",
    "\n",
    "LABEL2INT = {\n",
    "    'agreement':0,\n",
    "    'disagreement':1,\n",
    "    'appreciation':2,\n",
    "    'negativereaction':3,\n",
    "    'question':4,\n",
    "    'answer':4,\n",
    "    'elaboration':4,\n",
    "    'humor':4,\n",
    "    'announcement':4\n",
    "}\n",
    "\n",
    "data_df = pd.DataFrame({\n",
    "    'id':[x[0] for x in [item for sublist in acts_by_type.values() for item in sublist]],\n",
    "    'text':[x[1] for x in [item for sublist in acts_by_type.values() for item in sublist]],\n",
    "    'label':[LABEL2INT[x[2]] for x in [item for sublist in acts_by_type.values() for item in sublist]]\n",
    "})\n",
    "\n",
    "# sample indices for train/val/test 70/10/20\n",
    "all_ixs = list(data_df.index)\n",
    "assert len(all_ixs) == len(set(all_ixs)) # make sure indices are unique\n",
    "train_ixs = set(np.random.choice(all_ixs, size=int(0.7*len(all_ixs)), replace=False))\n",
    "dev_test_ixs = list(set(all_ixs).difference(train_ixs))\n",
    "dev_ixs = set(np.random.choice(dev_test_ixs, size=int(0.1*len(all_ixs)), replace=False))\n",
    "test_ixs = set(dev_test_ixs).difference(dev_ixs)\n",
    "assert train_ixs.intersection(dev_ixs) == set() # make sure no train/test/dev overlap\n",
    "assert dev_ixs.intersection(test_ixs) == set()\n",
    "assert train_ixs.intersection(test_ixs) == set()\n",
    "\n",
    "# write those slices of data_df to respective csv files\n",
    "train_df = data_df.iloc[list(train_ixs)].copy()\n",
    "dev_df = data_df.iloc[list(dev_ixs)].copy()\n",
    "test_df = data_df.iloc[list(test_ixs)].copy()\n",
    "\n",
    "# subsample\n",
    "if subsample:\n",
    "    maj_class = train_df['label'].value_counts().index[0]\n",
    "    non_maj_class_df = train_df.loc[train_df['label']!=maj_class]\n",
    "    subsample_n = int(len(non_maj_class_df)/2)\n",
    "    train_df = pd.concat([non_maj_class_df,\n",
    "                          train_df.loc[train_df['label']==maj_class].\\\n",
    "                          sample(n=subsample_n, random_state=SEED, replace=False)],ignore_index=True,axis=0)\n",
    "    print('Subsampling \"{}\" class in training data to {} samples.'.format(maj_class,subsample_n))\n",
    "    \n",
    "    non_maj_class_df = dev_df.loc[dev_df['label']!=maj_class]\n",
    "    subsample_n = int(len(non_maj_class_df)/2)\n",
    "    dev_df = pd.concat([non_maj_class_df,\n",
    "                          dev_df.loc[dev_df['label']==maj_class].\\\n",
    "                          sample(n=subsample_n, random_state=SEED, replace=False)],ignore_index=True,axis=0)\n",
    "    print('Subsampling \"{}\" class in dev data to {} samples.'.format(maj_class,subsample_n))\n",
    "    \n",
    "    non_maj_class_df = test_df.loc[test_df['label']!=maj_class]\n",
    "    subsample_n = int(len(non_maj_class_df)/2)\n",
    "    test_df = pd.concat([non_maj_class_df,\n",
    "                          test_df.loc[test_df['label']==maj_class].\\\n",
    "                          sample(n=subsample_n, random_state=SEED, replace=False)],ignore_index=True,axis=0)\n",
    "    print('Subsampling \"{}\" class in test data to {} samples.'.format(maj_class,subsample_n))\n",
    "\n",
    "# TO DO: apply MSL to tokens instead of charstic',\n",
    "train_df['tokenized_text'] = train_df['text'].apply(lambda x: tokenizer.tokenize(x))\n",
    "dev_df['tokenized_text'] = dev_df['text'].apply(lambda x: tokenizer.tokenize(x))\n",
    "test_df['tokenized_text'] = test_df['text'].apply(lambda x: tokenizer.tokenize(x))\n",
    "train_df['joined_text'] = train_df['tokenized_text'].apply(lambda x: ' '.join(x))\n",
    "dev_df['joined_text'] = dev_df['tokenized_text'].apply(lambda x: ' '.join(x))\n",
    "test_df['joined_text'] = test_df['tokenized_text'].apply(lambda x: ' '.join(x))\n",
    "train_df['truncated_text'] = train_df['joined_text'].apply(lambda x: x[:MAX_SEQ_LEN])\n",
    "dev_df['truncated_text'] = dev_df['joined_text'].apply(lambda x: x[:MAX_SEQ_LEN])\n",
    "test_df['truncated_text'] = test_df['joined_text'].apply(lambda x: x[:MAX_SEQ_LEN])\n",
    "\n",
    "train_df[['truncated_text','label']].to_csv(os.path.join(data_dir,'train.csv'),sep=',',header=True,index=False)\n",
    "dev_df[['truncated_text','label']].to_csv(os.path.join(data_dir,'dev.csv'),sep=',',header=True,index=False)\n",
    "test_df[['truncated_text','label']].to_csv(os.path.join(data_dir,'test.csv'),sep=',',header=True,index=False)\n",
    "print('Wrote train/dev/test splits to {}'.format(data_dir))\n",
    "print('\\nTrain distribution:',train_df['label'].value_counts())\n",
    "print('\\nDev distribution:',dev_df['label'].value_counts())\n",
    "print('\\nTest distribution:',test_df['label'].value_counts())"
   ]
  },
  {
   "cell_type": "code",
   "execution_count": 13,
   "metadata": {
    "hidden": true
   },
   "outputs": [],
   "source": [
    "data_dir = os.path.join(coarse_discourse_dir,'model_data','five_class')\n",
    "if not os.path.exists(data_dir):\n",
    "    os.mkdir(data_dir)"
   ]
  },
  {
   "cell_type": "code",
   "execution_count": 14,
   "metadata": {
    "hidden": true
   },
   "outputs": [],
   "source": [
    "# Fields\n",
    "label_field = Field(sequential=False, use_vocab=False, batch_first=True, dtype=torch.float)\n",
    "text_field = Field(use_vocab=False, tokenize=tokenizer.encode, lower=False, include_lengths=False, batch_first=True,\n",
    "                   fix_length=MAX_SEQ_LEN, pad_token=PAD_INDEX, unk_token=UNK_INDEX)\n",
    "fields = [('truncated_text', text_field), ('label', label_field)]\n",
    "\n",
    "# TabularDataset\n",
    "source_folder = data_dir\n",
    "train, valid, test = TabularDataset.splits(path=source_folder, train='train.csv', validation='dev.csv',\n",
    "                                           test='test.csv', format='CSV', fields=fields, skip_header=True)\n",
    "\n",
    "# Iterators\n",
    "#device = None # CPU\n",
    "train_iter = BucketIterator(train, batch_size=16, sort_key=None,\n",
    "                            device=device, train=True, sort=False, sort_within_batch=False)\n",
    "valid_iter = BucketIterator(valid, batch_size=16, sort_key=lambda x: len(x.text),\n",
    "                            device=device, train=True, sort=False, sort_within_batch=False)\n",
    "test_iter = Iterator(test, batch_size=16, device=device, train=False, shuffle=False, sort=False)"
   ]
  },
  {
   "cell_type": "code",
   "execution_count": 86,
   "metadata": {
    "code_folding": [],
    "hidden": true
   },
   "outputs": [],
   "source": [
    "NUM_CLASSES = 5\n",
    "\n",
    "class BERT(nn.Module):\n",
    "\n",
    "    def __init__(self):\n",
    "        super(BERT, self).__init__()\n",
    "\n",
    "        options_name = \"bert-base-uncased\"\n",
    "        self.encoder = BertForSequenceClassification.from_pretrained(options_name,num_labels=NUM_CLASSES)\n",
    "\n",
    "    def forward(self, text, label):\n",
    "        loss, text_fea = self.encoder(text, labels=label)[:2]\n",
    "\n",
    "        return loss, text_fea"
   ]
  },
  {
   "cell_type": "code",
   "execution_count": 93,
   "metadata": {
    "code_folding": [
     2,
     13,
     24,
     36
    ],
    "hidden": true
   },
   "outputs": [],
   "source": [
    "# Save and Load Functions\n",
    "\n",
    "def save_checkpoint(save_path, model, valid_loss):\n",
    "\n",
    "    if save_path == None:\n",
    "        return\n",
    "    \n",
    "    state_dict = {'model_state_dict': model.state_dict(),\n",
    "                  'valid_loss': valid_loss}\n",
    "    \n",
    "    torch.save(state_dict, save_path)\n",
    "    print(f'Model saved to ==> {save_path}')\n",
    "\n",
    "def load_checkpoint(load_path, model):\n",
    "    \n",
    "    if load_path==None:\n",
    "        return\n",
    "    \n",
    "    state_dict = torch.load(load_path, map_location=device)\n",
    "    print(f'Model loaded from <== {load_path}')\n",
    "    \n",
    "    model.load_state_dict(state_dict['model_state_dict'])\n",
    "    return state_dict['valid_loss']\n",
    "\n",
    "def save_metrics(save_path, train_loss_list, valid_loss_list, global_steps_list):\n",
    "\n",
    "    if save_path == None:\n",
    "        return\n",
    "    \n",
    "    state_dict = {'train_loss_list': train_loss_list,\n",
    "                  'valid_loss_list': valid_loss_list,\n",
    "                  'global_steps_list': global_steps_list}\n",
    "    \n",
    "    torch.save(state_dict, save_path)\n",
    "    print(f'Model saved to ==> {save_path}')\n",
    "\n",
    "def load_metrics(load_path):\n",
    "\n",
    "    if load_path==None:\n",
    "        return\n",
    "    \n",
    "    state_dict = torch.load(load_path, map_location=device)\n",
    "    print(f'Model loaded from <== {load_path}')\n",
    "    \n",
    "    return state_dict['train_loss_list'], state_dict['valid_loss_list'], state_dict['global_steps_list']"
   ]
  },
  {
   "cell_type": "code",
   "execution_count": 94,
   "metadata": {
    "code_folding": [
     7
    ],
    "hidden": true,
    "scrolled": true
   },
   "outputs": [
    {
     "name": "stdout",
     "output_type": "stream",
     "text": [
      "Saving model output to: /jagupard27/scr1/yiweil/model_output/bert/five_class\n"
     ]
    },
    {
     "name": "stderr",
     "output_type": "stream",
     "text": [
      "I0930 16:51:01.655834 139846356690688 configuration_utils.py:151] loading configuration file https://s3.amazonaws.com/models.huggingface.co/bert/bert-base-uncased-config.json from cache at /sailhome/yiweil/.cache/torch/transformers/4dad0251492946e18ac39290fcfe91b89d370fee250efe9521476438fe8ca185.7156163d5fdc189c3016baca0775ffce230789d7fa2a42ef516483e4ca884517\n",
      "I0930 16:51:01.660797 139846356690688 configuration_utils.py:168] Model config {\n",
      "  \"architectures\": [\n",
      "    \"BertForMaskedLM\"\n",
      "  ],\n",
      "  \"attention_probs_dropout_prob\": 0.1,\n",
      "  \"finetuning_task\": null,\n",
      "  \"hidden_act\": \"gelu\",\n",
      "  \"hidden_dropout_prob\": 0.1,\n",
      "  \"hidden_size\": 768,\n",
      "  \"initializer_range\": 0.02,\n",
      "  \"intermediate_size\": 3072,\n",
      "  \"layer_norm_eps\": 1e-12,\n",
      "  \"max_position_embeddings\": 512,\n",
      "  \"model_type\": \"bert\",\n",
      "  \"num_attention_heads\": 12,\n",
      "  \"num_hidden_layers\": 12,\n",
      "  \"num_labels\": 5,\n",
      "  \"output_attentions\": false,\n",
      "  \"output_hidden_states\": false,\n",
      "  \"pad_token_id\": 0,\n",
      "  \"pruned_heads\": {},\n",
      "  \"torchscript\": false,\n",
      "  \"type_vocab_size\": 2,\n",
      "  \"use_bfloat16\": false,\n",
      "  \"vocab_size\": 30522\n",
      "}\n",
      "\n",
      "I0930 16:51:01.981809 139846356690688 modeling_utils.py:337] loading weights file https://s3.amazonaws.com/models.huggingface.co/bert/bert-base-uncased-pytorch_model.bin from cache at /sailhome/yiweil/.cache/torch/transformers/aa1ef1aede4482d0dbcd4d52baad8ae300e60902e88fcb0bebdec09afd232066.36ca03ab34a1a5d5fa7bc3d03d55c4fa650fed07220e2eeebc06ce58d0e9a157\n",
      "I0930 16:51:04.697111 139846356690688 modeling_utils.py:405] Weights of BertForSequenceClassification not initialized from pretrained model: ['classifier.weight', 'classifier.bias']\n",
      "I0930 16:51:04.697703 139846356690688 modeling_utils.py:408] Weights from pretrained model not used in BertForSequenceClassification: ['cls.predictions.bias', 'cls.predictions.transform.dense.weight', 'cls.predictions.transform.dense.bias', 'cls.predictions.decoder.weight', 'cls.seq_relationship.weight', 'cls.seq_relationship.bias', 'cls.predictions.transform.LayerNorm.weight', 'cls.predictions.transform.LayerNorm.bias']\n"
     ]
    },
    {
     "name": "stdout",
     "output_type": "stream",
     "text": [
      "Epoch [1/5], Step [2183/21835], Train Loss: 0.5473, Valid Loss: 0.4671\n",
      "Model saved to ==> /jagupard27/scr1/yiweil/model_output/bert/five_class/model.pt\n",
      "Model saved to ==> /jagupard27/scr1/yiweil/model_output/bert/five_class/metrics.pt\n",
      "Epoch [1/5], Step [4366/21835], Train Loss: 0.4479, Valid Loss: 0.4452\n",
      "Model saved to ==> /jagupard27/scr1/yiweil/model_output/bert/five_class/model.pt\n",
      "Model saved to ==> /jagupard27/scr1/yiweil/model_output/bert/five_class/metrics.pt\n",
      "Epoch [2/5], Step [6549/21835], Train Loss: 0.3817, Valid Loss: 0.4358\n",
      "Model saved to ==> /jagupard27/scr1/yiweil/model_output/bert/five_class/model.pt\n",
      "Model saved to ==> /jagupard27/scr1/yiweil/model_output/bert/five_class/metrics.pt\n",
      "Epoch [2/5], Step [8732/21835], Train Loss: 0.3807, Valid Loss: 0.4029\n",
      "Model saved to ==> /jagupard27/scr1/yiweil/model_output/bert/five_class/model.pt\n",
      "Model saved to ==> /jagupard27/scr1/yiweil/model_output/bert/five_class/metrics.pt\n",
      "Epoch [3/5], Step [10915/21835], Train Loss: 0.3015, Valid Loss: 0.4402\n",
      "Epoch [3/5], Step [13098/21835], Train Loss: 0.3023, Valid Loss: 0.4298\n",
      "Epoch [4/5], Step [15281/21835], Train Loss: 0.2056, Valid Loss: 0.5059\n",
      "Epoch [4/5], Step [17464/21835], Train Loss: 0.2192, Valid Loss: 0.4948\n",
      "Epoch [5/5], Step [19647/21835], Train Loss: 0.1366, Valid Loss: 0.5692\n",
      "Epoch [5/5], Step [21830/21835], Train Loss: 0.1508, Valid Loss: 0.6250\n",
      "Model saved to ==> /jagupard27/scr1/yiweil/model_output/bert/five_class/metrics.pt\n",
      "Finished Training!\n"
     ]
    }
   ],
   "source": [
    "# Training Function\n",
    "\n",
    "destination_folder = os.path.join(DISK_IO_DIR,'model_output','bert','five_class')\n",
    "if not os.path.exists(destination_folder):\n",
    "    os.makedirs(destination_folder)\n",
    "print('Saving model output to:',destination_folder)\n",
    "\n",
    "def train(model,\n",
    "          optimizer,\n",
    "          criterion = nn.CrossEntropyLoss,\n",
    "          train_loader = train_iter,\n",
    "          valid_loader = valid_iter,\n",
    "          num_epochs = 5,\n",
    "          eval_every = len(train_iter) // 2,\n",
    "          file_path = destination_folder,\n",
    "          best_valid_loss = float(\"Inf\")):\n",
    "    \n",
    "    # initialize running values\n",
    "    running_loss = 0.0\n",
    "    valid_running_loss = 0.0\n",
    "    global_step = 0\n",
    "    train_loss_list = []\n",
    "    valid_loss_list = []\n",
    "    global_steps_list = []\n",
    "\n",
    "    # training loop\n",
    "    model.train()\n",
    "    for epoch in range(num_epochs):\n",
    "        for (texts, labels), _ in train_loader:\n",
    "            labels = labels.type(torch.LongTensor)           \n",
    "            labels = labels.to(device)\n",
    "            texts = texts.type(torch.LongTensor)  \n",
    "            texts = texts.to(device)\n",
    "            output = model(texts, labels)\n",
    "            loss, _ = output\n",
    "\n",
    "            optimizer.zero_grad()\n",
    "            loss.backward()\n",
    "            optimizer.step()\n",
    "\n",
    "            # update running values\n",
    "            running_loss += loss.item()\n",
    "            global_step += 1\n",
    "\n",
    "            # evaluation step\n",
    "            if global_step % eval_every == 0:\n",
    "                model.eval()\n",
    "                with torch.no_grad():                    \n",
    "\n",
    "                    # validation loop\n",
    "                    for (texts, labels), _ in valid_loader:\n",
    "                        labels = labels.type(torch.LongTensor)           \n",
    "                        labels = labels.to(device)\n",
    "                        texts = texts.type(torch.LongTensor)  \n",
    "                        texts = texts.to(device)\n",
    "                        output = model(texts, labels)\n",
    "                        loss, _ = output\n",
    "                        \n",
    "                        valid_running_loss += loss.item()\n",
    "\n",
    "                # evaluation\n",
    "                average_train_loss = running_loss / eval_every\n",
    "                average_valid_loss = valid_running_loss / len(valid_loader)\n",
    "                train_loss_list.append(average_train_loss)\n",
    "                valid_loss_list.append(average_valid_loss)\n",
    "                global_steps_list.append(global_step)\n",
    "\n",
    "                # resetting running values\n",
    "                running_loss = 0.0                \n",
    "                valid_running_loss = 0.0\n",
    "                model.train()\n",
    "\n",
    "                # print progress\n",
    "                print('Epoch [{}/{}], Step [{}/{}], Train Loss: {:.4f}, Valid Loss: {:.4f}'\n",
    "                      .format(epoch+1, num_epochs, global_step, num_epochs*len(train_loader),\n",
    "                              average_train_loss, average_valid_loss))\n",
    "                \n",
    "                # checkpoint\n",
    "                if best_valid_loss > average_valid_loss:\n",
    "                    best_valid_loss = average_valid_loss\n",
    "                    save_checkpoint(file_path + '/' + 'model.pt', model, best_valid_loss)\n",
    "                    save_metrics(file_path + '/' + 'metrics.pt', train_loss_list, valid_loss_list, global_steps_list)\n",
    "    \n",
    "    save_metrics(file_path + '/' + 'metrics.pt', train_loss_list, valid_loss_list, global_steps_list)\n",
    "    print('Finished Training!')\n",
    "\n",
    "model = BERT().to(device)\n",
    "optimizer = optim.Adam(model.parameters(), lr=2e-5)\n",
    "\n",
    "train(model=model, optimizer=optimizer)"
   ]
  },
  {
   "cell_type": "code",
   "execution_count": 95,
   "metadata": {
    "code_folding": [],
    "hidden": true,
    "scrolled": true
   },
   "outputs": [
    {
     "name": "stderr",
     "output_type": "stream",
     "text": [
      "I0930 20:47:03.116885 139846356690688 configuration_utils.py:151] loading configuration file https://s3.amazonaws.com/models.huggingface.co/bert/bert-base-uncased-config.json from cache at /sailhome/yiweil/.cache/torch/transformers/4dad0251492946e18ac39290fcfe91b89d370fee250efe9521476438fe8ca185.7156163d5fdc189c3016baca0775ffce230789d7fa2a42ef516483e4ca884517\n",
      "I0930 20:47:03.122166 139846356690688 configuration_utils.py:168] Model config {\n",
      "  \"architectures\": [\n",
      "    \"BertForMaskedLM\"\n",
      "  ],\n",
      "  \"attention_probs_dropout_prob\": 0.1,\n",
      "  \"finetuning_task\": null,\n",
      "  \"hidden_act\": \"gelu\",\n",
      "  \"hidden_dropout_prob\": 0.1,\n",
      "  \"hidden_size\": 768,\n",
      "  \"initializer_range\": 0.02,\n",
      "  \"intermediate_size\": 3072,\n",
      "  \"layer_norm_eps\": 1e-12,\n",
      "  \"max_position_embeddings\": 512,\n",
      "  \"model_type\": \"bert\",\n",
      "  \"num_attention_heads\": 12,\n",
      "  \"num_hidden_layers\": 12,\n",
      "  \"num_labels\": 5,\n",
      "  \"output_attentions\": false,\n",
      "  \"output_hidden_states\": false,\n",
      "  \"pad_token_id\": 0,\n",
      "  \"pruned_heads\": {},\n",
      "  \"torchscript\": false,\n",
      "  \"type_vocab_size\": 2,\n",
      "  \"use_bfloat16\": false,\n",
      "  \"vocab_size\": 30522\n",
      "}\n",
      "\n",
      "I0930 20:47:03.445079 139846356690688 modeling_utils.py:337] loading weights file https://s3.amazonaws.com/models.huggingface.co/bert/bert-base-uncased-pytorch_model.bin from cache at /sailhome/yiweil/.cache/torch/transformers/aa1ef1aede4482d0dbcd4d52baad8ae300e60902e88fcb0bebdec09afd232066.36ca03ab34a1a5d5fa7bc3d03d55c4fa650fed07220e2eeebc06ce58d0e9a157\n",
      "I0930 20:47:06.177191 139846356690688 modeling_utils.py:405] Weights of BertForSequenceClassification not initialized from pretrained model: ['classifier.weight', 'classifier.bias']\n",
      "I0930 20:47:06.178194 139846356690688 modeling_utils.py:408] Weights from pretrained model not used in BertForSequenceClassification: ['cls.predictions.bias', 'cls.predictions.transform.dense.weight', 'cls.predictions.transform.dense.bias', 'cls.predictions.decoder.weight', 'cls.seq_relationship.weight', 'cls.seq_relationship.bias', 'cls.predictions.transform.LayerNorm.weight', 'cls.predictions.transform.LayerNorm.bias']\n"
     ]
    },
    {
     "name": "stdout",
     "output_type": "stream",
     "text": [
      "Model loaded from <== /jagupard27/scr1/yiweil/model_output/bert/five_class/model.pt\n",
      "Classification Report:\n",
      "              precision    recall  f1-score   support\n",
      "\n",
      "           0     0.6807    0.4221    0.5211       995\n",
      "           1     0.4706    0.1198    0.1909       668\n",
      "           2     0.7829    0.7390    0.7603      1747\n",
      "           3     0.4833    0.0777    0.1339       373\n",
      "           4     0.8963    0.9676    0.9306     16180\n",
      "\n",
      "    accuracy                         0.8754     19963\n",
      "   macro avg     0.6628    0.4652    0.5074     19963\n",
      "weighted avg     0.8537    0.8754    0.8557     19963\n",
      "\n"
     ]
    },
    {
     "data": {
      "image/png": "[encoded data removed]",
      "text/plain": [
       "<Figure size 432x288 with 2 Axes>"
      ]
     },
     "metadata": {
      "needs_background": "light"
     },
     "output_type": "display_data"
    }
   ],
   "source": [
    "# Evaluation Function\n",
    "\n",
    "def evaluate(model, test_loader, num_labels):\n",
    "    y_pred = []\n",
    "    y_true = []\n",
    "\n",
    "    model.eval()\n",
    "    with torch.no_grad():\n",
    "        for (texts, labels), _ in test_loader:\n",
    "\n",
    "                labels = labels.type(torch.LongTensor)           \n",
    "                labels = labels.to(device)\n",
    "                texts = texts.type(torch.LongTensor)  \n",
    "                texts = texts.to(device)\n",
    "                output = model(texts, labels)\n",
    "\n",
    "                _, output = output\n",
    "                y_pred.extend(torch.argmax(output, 1).tolist())\n",
    "                y_true.extend(labels.tolist())\n",
    "    \n",
    "    print('Classification Report:')\n",
    "    print(classification_report(y_true, y_pred, labels=range(num_labels), digits=4))\n",
    "    \n",
    "    cm = confusion_matrix(y_true, y_pred, labels=range(num_labels))\n",
    "    ax= plt.subplot()\n",
    "    sns.heatmap(cm, annot=True, ax = ax, cmap='Blues', fmt=\"d\")\n",
    "\n",
    "    #ax.set_title('Confusion Matrix')\n",
    "\n",
    "    ax.set_xlabel('Predicted Labels')\n",
    "    ax.set_ylabel('True Labels')\n",
    "\n",
    "#     ax.xaxis.set_ticklabels(['agreement', 'disagreement', 'appreciation', 'negative reaction'],\n",
    "#                            rotation=90)\n",
    "#     ax.yaxis.set_ticklabels(['agreement', 'disagreement', 'appreciation', 'negative reaction'])\n",
    "    \n",
    "best_model = BERT().to(device)\n",
    "\n",
    "load_checkpoint(destination_folder + '/model.pt', best_model)\n",
    "\n",
    "evaluate(best_model, test_iter, 5)"
   ]
  },
  {
   "cell_type": "code",
   "execution_count": 82,
   "metadata": {
    "hidden": true
   },
   "outputs": [
    {
     "data": {
      "text/plain": [
       "{'agreement': 0,\n",
       " 'disagreement': 1,\n",
       " 'appreciation': 2,\n",
       " 'negativereaction': 3,\n",
       " 'question': 4,\n",
       " 'answer': 5,\n",
       " 'elaboration': 6,\n",
       " 'humor': 7,\n",
       " 'announcement': 8}"
      ]
     },
     "execution_count": 82,
     "metadata": {},
     "output_type": "execute_result"
    }
   ],
   "source": [
    "0,0,0,0.76,0.52,0.19,0,0,0.13,0.93"
   ]
  },
  {
   "cell_type": "code",
   "execution_count": 96,
   "metadata": {
    "hidden": true
   },
   "outputs": [
    {
     "data": {
      "text/plain": [
       "Text(0.5, 0, '')"
      ]
     },
     "execution_count": 96,
     "metadata": {},
     "output_type": "execute_result"
    },
    {
     "data": {
      "image/png": "[encoded data removed]",
      "text/plain": [
       "<Figure size 432x288 with 1 Axes>"
      ]
     },
     "metadata": {
      "needs_background": "light"
     },
     "output_type": "display_data"
    }
   ],
   "source": [
    "# y-axis: F1\n",
    "# x-axis: discourse act ['agreement','disagreement','appreciation','negativereaction','other']\n",
    "models = ['9-class','5-class','3-class','2-class']\n",
    "acts = ['answer','elaboration','question','appreciation','agreement','disagreement',\n",
    "       'humor','announcement','negativereaction'] + ['other']\n",
    "\n",
    "to_plot_df = pd.DataFrame({\n",
    "    'act': acts*len(models),\n",
    "    'F1': [0.72,0.26,0.79,0.76,0.52,0.25,0.05,0.35,0.27,0,\n",
    "          0,0,0,0.76,0.52,0.19,0,0,0.13,0.93,\n",
    "          0,0,0,0,0.88,0.8,0,0,0,0.72,\n",
    "          0,0,0,0,0.89,0.83,0,0,0,0],\n",
    "    'model': [item for sublist in [[m]*len(acts) for m in models] for item in sublist]\n",
    "})\n",
    "\n",
    "ax = sns.barplot(data=to_plot_df,x='act',y='F1',hue='model')\n",
    "ax.set_xticklabels(acts,rotation=80,fontsize=15)\n",
    "ax.set_ylabel('F1 score',fontsize=18)\n",
    "ax.set_xlabel('')\n",
    "\n",
    "# save as hi-res image"
   ]
  },
  {
   "cell_type": "markdown",
   "metadata": {
    "heading_collapsed": true
   },
   "source": [
    "# Diyi's contentious conversation classifier"
   ]
  },
  {
   "cell_type": "code",
   "execution_count": null,
   "metadata": {
    "hidden": true
   },
   "outputs": [],
   "source": [
    "# at the conversation-level, rather than comment-level"
   ]
  },
  {
   "cell_type": "code",
   "execution_count": null,
   "metadata": {
    "hidden": true
   },
   "outputs": [],
   "source": []
  },
  {
   "cell_type": "markdown",
   "metadata": {},
   "source": [
    "# Simple heuristic models"
   ]
  },
  {
   "cell_type": "markdown",
   "metadata": {},
   "source": [
    "* use regex to find explicit occurrences of \"agree\", \"disagree\"\n",
    "* some way of connecting deltas w/ agreement? But deltas just indicate that a comment was agreed *with*, not that a comment is agree-*ing*\n"
   ]
  },
  {
   "cell_type": "markdown",
   "metadata": {},
   "source": [
    "# Data augmentation"
   ]
  },
  {
   "cell_type": "markdown",
   "metadata": {},
   "source": [
    "## Label CMV top-level comments as \"disagreement\""
   ]
  },
  {
   "cell_type": "code",
   "execution_count": null,
   "metadata": {},
   "outputs": [],
   "source": [
    "# but maybe exclude the ones that contain some regexes, e.g. \"I agree\"?"
   ]
  },
  {
   "cell_type": "markdown",
   "metadata": {},
   "source": [
    "## Label responses to \">\" quoted text as \"disagreement\""
   ]
  },
  {
   "cell_type": "code",
   "execution_count": 4,
   "metadata": {},
   "outputs": [
    {
     "name": "stdout",
     "output_type": "stream",
     "text": [
      "\u001b[91mWARNING: \u001b[0mCorpusLoadWarning: Missing speaker metadata for speaker ID: None. Initializing default empty metadata instead.\n",
      "Number of Speakers: 24936\n",
      "Number of Utterances: 108095\n",
      "Number of Conversations: 1155\n"
     ]
    }
   ],
   "source": [
    "from convokit import Corpus, Speaker\n",
    "corpus = Corpus(\n",
    "    filename='/sailhome/yiweil/.convokit/saved-corpora/my-cmv-corpus_1-1-2010_to_09-24-2021')\n",
    "corpus.print_summary_stats()"
   ]
  },
  {
   "cell_type": "code",
   "execution_count": 5,
   "metadata": {},
   "outputs": [],
   "source": [
    "conversation_ids = corpus.get_conversation_ids()\n",
    "utterance_ids = corpus.get_utterance_ids()\n",
    "speaker_ids = corpus.get_speaker_ids()"
   ]
  },
  {
   "cell_type": "code",
   "execution_count": 24,
   "metadata": {},
   "outputs": [
    {
     "data": {
      "text/plain": [
       "[' The reason they agree (the massive body of evidence) is, though.',\n",
       " 'There is no evidence.']"
      ]
     },
     "execution_count": 24,
     "metadata": {},
     "output_type": "execute_result"
    }
   ],
   "source": [
    "import re\n",
    "\n",
    "s = '>  The reason they agree (the massive body of evidence) is, though.\\n\\nBut continuing with them that is that.\\n\\n> There is no evidence.\\n\\nWell, what about the consensus of scientists?\\n>'\n",
    "\n",
    "m = re.findall('> (.+?)\\n\\n', s)\n",
    "m"
   ]
  },
  {
   "cell_type": "code",
   "execution_count": 20,
   "metadata": {},
   "outputs": [
    {
     "data": {
      "text/plain": [
       "' The reason they agree (the massive body of evidence) is, though.'"
      ]
     },
     "execution_count": 20,
     "metadata": {},
     "output_type": "execute_result"
    }
   ],
   "source": [
    "found"
   ]
  },
  {
   "cell_type": "code",
   "execution_count": 23,
   "metadata": {
    "scrolled": true
   },
   "outputs": [
    {
     "data": {
      "text/plain": [
       "'>  The reason they agree (the massive body of evidence) is, though.\\n\\n'"
      ]
     },
     "execution_count": 23,
     "metadata": {},
     "output_type": "execute_result"
    }
   ],
   "source": [
    "m.group(0)"
   ]
  },
  {
   "cell_type": "code",
   "execution_count": 14,
   "metadata": {},
   "outputs": [
    {
     "data": {
      "text/plain": [
       "[]"
      ]
     },
     "execution_count": 14,
     "metadata": {},
     "output_type": "execute_result"
    }
   ],
   "source": [
    "s = '>  The reason they agree (the massive body of evidence) is, though.\\n\\nBut continuing with the'\n",
    "re.findall(r'\\b(>  |\\n\\n)', s)"
   ]
  },
  {
   "cell_type": "code",
   "execution_count": null,
   "metadata": {},
   "outputs": [],
   "source": [
    "quote_response_bullets = []\n",
    "\n",
    "# iterate over all utterances\n",
    "for utt in corpus.iter_utterances():\n",
    "    utt_text = utt.text\n",
    "    \n",
    "    # Extract spans between \">\" and \"\\n\\n\" chars\n",
    "    quotes = re.findall('> (.+?)\\n\\n', utt_text)\n",
    "    quote_responses = re.findall('\\n\\n(.+?)> ', utt_text)\n",
    "    quote_response_bullets.extend(list(zip(quotes,quote_responses)))"
   ]
  },
  {
   "cell_type": "code",
   "execution_count": null,
   "metadata": {},
   "outputs": [],
   "source": []
  },
  {
   "cell_type": "code",
   "execution_count": null,
   "metadata": {},
   "outputs": [],
   "source": []
  },
  {
   "cell_type": "markdown",
   "metadata": {
    "heading_collapsed": true
   },
   "source": [
    "# Apply models to data"
   ]
  },
  {
   "cell_type": "markdown",
   "metadata": {
    "hidden": true
   },
   "source": [
    "## BERT based on Zhang et al. data"
   ]
  },
  {
   "cell_type": "code",
   "execution_count": 4,
   "metadata": {
    "hidden": true
   },
   "outputs": [
    {
     "name": "stderr",
     "output_type": "stream",
     "text": [
      "I1004 10:07:14.447812 140708168918784 file_utils.py:39] PyTorch version 1.7.1 available.\n",
      "I1004 10:07:14.966383 140708168918784 modeling_xlnet.py:194] Better speed can be achieved with apex installed from https://www.github.com/nvidia/apex .\n"
     ]
    }
   ],
   "source": [
    "# Libraries\n",
    "import matplotlib.pyplot as plt\n",
    "import pandas as pd\n",
    "import torch\n",
    "\n",
    "# Preliminaries\n",
    "from torchtext.data import Field, TabularDataset, BucketIterator, Iterator\n",
    "\n",
    "# Models\n",
    "import torch.nn as nn\n",
    "from transformers import BertTokenizer, BertForSequenceClassification\n",
    "\n",
    "# Training\n",
    "import torch.optim as optim\n",
    "\n",
    "# Evaluation\n",
    "from sklearn.metrics import accuracy_score, classification_report, confusion_matrix\n",
    "import seaborn as sns\n",
    "\n",
    "SEED = 4242"
   ]
  },
  {
   "cell_type": "code",
   "execution_count": 5,
   "metadata": {
    "hidden": true
   },
   "outputs": [
    {
     "name": "stdout",
     "output_type": "stream",
     "text": [
      "Using device: cuda\n"
     ]
    }
   ],
   "source": [
    "device = torch.device('cuda' if torch.cuda.is_available() else 'cpu')\n",
    "print('Using device:', device)"
   ]
  },
  {
   "cell_type": "code",
   "execution_count": 6,
   "metadata": {
    "hidden": true,
    "scrolled": true
   },
   "outputs": [
    {
     "name": "stderr",
     "output_type": "stream",
     "text": [
      "I1004 10:07:15.409282 140708168918784 tokenization_utils.py:373] loading file https://s3.amazonaws.com/models.huggingface.co/bert/bert-base-uncased-vocab.txt from cache at /sailhome/yiweil/.cache/torch/transformers/26bc1ad6c0ac742e9b52263248f6d0f00068293b33709fae12320c0e35ccfbbb.542ce4285a40d23a559526243235df47c5f75c197f04f37d1a0c124c32c9a084\n"
     ]
    }
   ],
   "source": [
    "# Model parameters\n",
    "MAX_SEQ_LEN = 512\n",
    "tokenizer = BertTokenizer.from_pretrained('bert-base-uncased',max_len=MAX_SEQ_LEN)\n",
    "#tokenizer.encode(text, max_length=2)\n",
    "PAD_INDEX = tokenizer.convert_tokens_to_ids(tokenizer.pad_token)\n",
    "UNK_INDEX = tokenizer.convert_tokens_to_ids(tokenizer.unk_token)"
   ]
  },
  {
   "cell_type": "code",
   "execution_count": 11,
   "metadata": {
    "hidden": true
   },
   "outputs": [
    {
     "name": "stdout",
     "output_type": "stream",
     "text": [
      "Saved preprocessed prediction data to: /jagupard13/scr1/yiweil/to_predict/cmv_climate_comments/cmv_comments_to_predict_preprocessed.csv\n"
     ]
    }
   ],
   "source": [
    "# Pre-process\n",
    "source_folder = os.path.join(DISK_IO_DIR,'to_predict','cmv_climate_comments')\n",
    "dat_df = pd.read_csv(os.path.join(source_folder,'cmv_comments_to_predict.csv'),sep=',',header=0)\n",
    "dat_df['tokenized_text'] = dat_df['body'].apply(lambda x: tokenizer.tokenize(x))\n",
    "dat_df['joined_text'] = dat_df['tokenized_text'].apply(lambda x: ' '.join(x[:MAX_SEQ_LEN]))\n",
    "dat_df['truncated_text'] = dat_df['joined_text'].apply(lambda x: x[:MAX_SEQ_LEN])\n",
    "dat_df[['id','truncated_text','dummy_label']].to_csv(os.path.join(source_folder,'cmv_comments_to_predict_preprocessed.csv'),\n",
    "                                                sep=',',header=True,index=False)\n",
    "print('Saved preprocessed prediction data to:',\n",
    "     os.path.join(source_folder,'cmv_comments_to_predict_preprocessed.csv'))\n",
    "\n",
    "# Fields\n",
    "text_field = Field(use_vocab=False, tokenize=tokenizer.encode, lower=False, include_lengths=False, batch_first=True,\n",
    "                   fix_length=MAX_SEQ_LEN, pad_token=PAD_INDEX, unk_token=UNK_INDEX)\n",
    "label_field = Field(sequential=False, use_vocab=False, batch_first=True, dtype=torch.float)\n",
    "fields = [('id',None), ('truncated_text', text_field), ('dummy_label', label_field)]\n",
    "\n",
    "# TabularDataset\n",
    "dat = TabularDataset(path=os.path.join(source_folder,'cmv_comments_to_predict_preprocessed.csv'), format='CSV', \n",
    "                            fields=fields, skip_header=True)\n",
    "# dat = TabularDataset(path=os.path.join(source_folder,'cmv_comments_to_predict.csv'), format='CSV', \n",
    "#                             fields=fields, skip_header=True)\n",
    "\n",
    "# Iterators\n",
    "data_iter = Iterator(dat, batch_size=16, device=device, train=False, shuffle=False, sort=False)"
   ]
  },
  {
   "cell_type": "code",
   "execution_count": 60,
   "metadata": {
    "code_folding": [
     0
    ],
    "hidden": true,
    "scrolled": true
   },
   "outputs": [],
   "source": [
    "# for x in data_iter:\n",
    "#     print(x.fields)\n",
    "#     print(x.truncated_text)##['body'])\n",
    "#     break"
   ]
  },
  {
   "cell_type": "code",
   "execution_count": 19,
   "metadata": {
    "code_folding": [
     0
    ],
    "hidden": true
   },
   "outputs": [],
   "source": [
    "def predict(model, data_loader, num_labels):\n",
    "    y_pred = []\n",
    "    #y_true = []\n",
    "\n",
    "    model.eval()\n",
    "    with torch.no_grad():\n",
    "        for (texts, labels), _ in data_loader:\n",
    "            #print(\"texts:\",texts)\n",
    "            #print(\"labels:\",labels)\n",
    "            labels = labels.type(torch.LongTensor)           \n",
    "            labels = labels.to(device)\n",
    "            texts = texts.type(torch.LongTensor)  \n",
    "            texts = texts.to(device)\n",
    "            output = model(texts, labels)\n",
    "\n",
    "            _, output = output\n",
    "            y_pred.extend(torch.argmax(output, 1).tolist())\n",
    "            #y_true.extend(labels.tolist())\n",
    "    \n",
    "    return y_pred"
   ]
  },
  {
   "cell_type": "code",
   "execution_count": 16,
   "metadata": {
    "code_folding": [
     0,
     13,
     35,
     47
    ],
    "hidden": true
   },
   "outputs": [],
   "source": [
    "class BERT(nn.Module):\n",
    "\n",
    "    def __init__(self,num_classes):\n",
    "        super(BERT, self).__init__()\n",
    "\n",
    "        options_name = \"bert-base-uncased\"\n",
    "        self.encoder = BertForSequenceClassification.from_pretrained(options_name,num_labels=num_classes)\n",
    "\n",
    "    def forward(self, text, label):\n",
    "        loss, text_fea = self.encoder(text, labels=label)[:2]\n",
    "\n",
    "        return loss, text_fea\n",
    "\n",
    "def save_checkpoint(save_path, model, valid_loss):\n",
    "\n",
    "    if save_path == None:\n",
    "        return\n",
    "    \n",
    "    state_dict = {'model_state_dict': model.state_dict(),\n",
    "                  'valid_loss': valid_loss}\n",
    "    \n",
    "    torch.save(state_dict, save_path)\n",
    "    print(f'Model saved to ==> {save_path}')\n",
    "\n",
    "def load_checkpoint(load_path, model):\n",
    "    \n",
    "    if load_path==None:\n",
    "        return\n",
    "    \n",
    "    state_dict = torch.load(load_path, map_location=device)\n",
    "    print(f'Model loaded from <== {load_path}')\n",
    "    \n",
    "    model.load_state_dict(state_dict['model_state_dict'])\n",
    "    return state_dict['valid_loss']\n",
    "\n",
    "def save_metrics(save_path, train_loss_list, valid_loss_list, global_steps_list):\n",
    "\n",
    "    if save_path == None:\n",
    "        return\n",
    "    \n",
    "    state_dict = {'train_loss_list': train_loss_list,\n",
    "                  'valid_loss_list': valid_loss_list,\n",
    "                  'global_steps_list': global_steps_list}\n",
    "    \n",
    "    torch.save(state_dict, save_path)\n",
    "    print(f'Model saved to ==> {save_path}')\n",
    "\n",
    "def load_metrics(load_path):\n",
    "\n",
    "    if load_path==None:\n",
    "        return\n",
    "    \n",
    "    state_dict = torch.load(load_path, map_location=device)\n",
    "    print(f'Model loaded from <== {load_path}')\n",
    "    \n",
    "    return state_dict['train_loss_list'], state_dict['valid_loss_list'], state_dict['global_steps_list']"
   ]
  },
  {
   "cell_type": "code",
   "execution_count": 20,
   "metadata": {
    "hidden": true,
    "scrolled": true
   },
   "outputs": [],
   "source": [
    "MODEL_NAME = 'three_class'\n",
    "destination_folder = os.path.join(DISK_IO_DIR,MODEL_NAME)\n",
    "best_model = BERT(3).to(device)\n",
    "load_checkpoint(destination_folder + '/model.pt', best_model)\n",
    "\n",
    "preds = predict(best_model, data_iter, 3)"
   ]
  },
  {
   "cell_type": "code",
   "execution_count": 43,
   "metadata": {
    "hidden": true
   },
   "outputs": [
    {
     "data": {
      "text/plain": [
       "Counter({2: 2170, 1: 3887, 0: 346})"
      ]
     },
     "execution_count": 43,
     "metadata": {},
     "output_type": "execute_result"
    }
   ],
   "source": [
    "Counter(preds)"
   ]
  },
  {
   "cell_type": "code",
   "execution_count": 44,
   "metadata": {
    "hidden": true
   },
   "outputs": [
    {
     "data": {
      "text/plain": [
       "11.234104046242775"
      ]
     },
     "execution_count": 44,
     "metadata": {},
     "output_type": "execute_result"
    }
   ],
   "source": [
    "3887/346 # in CMV data, 11x more disagreeing comments than agreeing comments"
   ]
  },
  {
   "cell_type": "code",
   "execution_count": 25,
   "metadata": {
    "hidden": true
   },
   "outputs": [],
   "source": [
    "INT2LABEL = {\n",
    "    0: \"agreement\",\n",
    "    1: \"disagreement\",\n",
    "    2: \"other\"\n",
    "}"
   ]
  },
  {
   "cell_type": "code",
   "execution_count": 26,
   "metadata": {
    "hidden": true,
    "scrolled": true
   },
   "outputs": [
    {
     "name": "stdout",
     "output_type": "stream",
     "text": [
      "Writing data w/ predictions to: /jagupard13/scr1/yiweil/cmv_comments_with_predictions.csv\n"
     ]
    }
   ],
   "source": [
    "# Write predictions as new column\n",
    "dat_df['{}_predicted'.format(MODEL_NAME)] = preds\n",
    "print(\"Writing data w/ predictions to:\",os.path.join(DISK_IO_DIR,'cmv_comments_with_predictions.csv'))\n",
    "dat_df.to_csv(os.path.join(DISK_IO_DIR,'cmv_comments_with_predictions.csv'),sep=',',header=True,index=False)"
   ]
  },
  {
   "cell_type": "code",
   "execution_count": 52,
   "metadata": {
    "code_folding": [],
    "hidden": true
   },
   "outputs": [
    {
     "name": "stdout",
     "output_type": "stream",
     "text": [
      "(111, 4)\n"
     ]
    }
   ],
   "source": [
    "# Manually annotate first 150 comments\n",
    "# dat_df[['id','truncated_text']].to_csv(os.path.join('/u/scr/yiweil/Green-American-Lexicon/agreement_detection',\n",
    "#                                                     'cmv_comments_to_manually_label.csv'),\n",
    "#                                                    header=True,index=False)\n",
    "# [scp to local machine to manually label]\n",
    "# [scp back to cluster]\n",
    "# manual_labels_df = pd.read_csv(os.path.join('/u/scr/yiweil/Green-American-Lexicon/agreement_detection',\n",
    "#                                                     'cmv_comments_with_manual_labels.csv'),header=0)\n",
    "# manual_labels_df = manual_labels_df[['id','truncated_text','label','final_label']]\n",
    "# manual_labels_df = manual_labels_df.loc[~pd.isnull(manual_labels_df['final_label'])]\n",
    "# print(manual_labels_df.shape)\n",
    "# manual_labels_df['final_label'] = manual_labels_df['final_label'].apply(lambda x: {'o': 'other',\n",
    "#                                                                                   'd': 'disagreement',\n",
    "#                                                                                   'a': 'agreement'}[x])\n",
    "\n",
    "# manual_labels_df.to_csv(os.path.join('/u/scr/yiweil/Green-American-Lexicon/agreement_detection',\n",
    "#                                                     'cmv_comments_with_manual_labels.csv'),header=True,index=False)                                       "
   ]
  },
  {
   "cell_type": "code",
   "execution_count": 62,
   "metadata": {
    "hidden": true,
    "scrolled": true
   },
   "outputs": [],
   "source": [
    "manual_labels_df = pd.read_csv(os.path.join('/u/scr/yiweil/Green-American-Lexicon/agreement_detection',\n",
    "                                                    'cmv_comments_with_manual_labels.csv'),header=0)\n",
    "id2manual_label = dict(zip(manual_labels_df['id'],manual_labels_df['final_label']))"
   ]
  },
  {
   "cell_type": "code",
   "execution_count": 64,
   "metadata": {
    "hidden": true
   },
   "outputs": [
    {
     "data": {
      "text/html": [
       "<div>\n",
       "<style scoped>\n",
       "    .dataframe tbody tr th:only-of-type {\n",
       "        vertical-align: middle;\n",
       "    }\n",
       "\n",
       "    .dataframe tbody tr th {\n",
       "        vertical-align: top;\n",
       "    }\n",
       "\n",
       "    .dataframe thead th {\n",
       "        text-align: right;\n",
       "    }\n",
       "</style>\n",
       "<table border=\"1\" class=\"dataframe\">\n",
       "  <thead>\n",
       "    <tr style=\"text-align: right;\">\n",
       "      <th></th>\n",
       "      <th>id</th>\n",
       "      <th>body</th>\n",
       "      <th>three_class_predicted_label</th>\n",
       "      <th>manual_label</th>\n",
       "    </tr>\n",
       "  </thead>\n",
       "  <tbody>\n",
       "    <tr>\n",
       "      <th>0</th>\n",
       "      <td>ces31ae</td>\n",
       "      <td>Your submission has been automatically removed...</td>\n",
       "      <td>other</td>\n",
       "      <td>other</td>\n",
       "    </tr>\n",
       "    <tr>\n",
       "      <th>1</th>\n",
       "      <td>celxvm7</td>\n",
       "      <td>Oh my, there is so much wrong here I hardly kn...</td>\n",
       "      <td>disagreement</td>\n",
       "      <td>disagreement</td>\n",
       "    </tr>\n",
       "    <tr>\n",
       "      <th>2</th>\n",
       "      <td>celxtfv</td>\n",
       "      <td>Absolutely not. I completely disagree with thi...</td>\n",
       "      <td>disagreement</td>\n",
       "      <td>disagreement</td>\n",
       "    </tr>\n",
       "    <tr>\n",
       "      <th>3</th>\n",
       "      <td>celxzyp</td>\n",
       "      <td>I agree with you up until your last point, sim...</td>\n",
       "      <td>agreement</td>\n",
       "      <td>disagreement</td>\n",
       "    </tr>\n",
       "    <tr>\n",
       "      <th>4</th>\n",
       "      <td>celzxvg</td>\n",
       "      <td>Your position is reasonable for \"hard sciences...</td>\n",
       "      <td>disagreement</td>\n",
       "      <td>disagreement</td>\n",
       "    </tr>\n",
       "  </tbody>\n",
       "</table>\n",
       "</div>"
      ],
      "text/plain": [
       "        id                                               body  \\\n",
       "0  ces31ae  Your submission has been automatically removed...   \n",
       "1  celxvm7  Oh my, there is so much wrong here I hardly kn...   \n",
       "2  celxtfv  Absolutely not. I completely disagree with thi...   \n",
       "3  celxzyp  I agree with you up until your last point, sim...   \n",
       "4  celzxvg  Your position is reasonable for \"hard sciences...   \n",
       "\n",
       "  three_class_predicted_label  manual_label  \n",
       "0                       other         other  \n",
       "1                disagreement  disagreement  \n",
       "2                disagreement  disagreement  \n",
       "3                   agreement  disagreement  \n",
       "4                disagreement  disagreement  "
      ]
     },
     "execution_count": 64,
     "metadata": {},
     "output_type": "execute_result"
    }
   ],
   "source": [
    "# Manually inspect\n",
    "pred_col_name = '{}_predicted_label'.format(MODEL_NAME)\n",
    "dat_df[pred_col_name] = dat_df[pred_col_name].apply(lambda x: INT2LABEL[x])\n",
    "dat_df['manual_label'] = dat_df['id'].apply(lambda x: id2manual_label[x] if x in id2manual_label else -1)\n",
    "dat_df[['id','body',pred_col_name,'manual_label']].head()"
   ]
  },
  {
   "cell_type": "code",
   "execution_count": 65,
   "metadata": {
    "hidden": true
   },
   "outputs": [
    {
     "data": {
      "text/plain": [
       "75"
      ]
     },
     "execution_count": 65,
     "metadata": {},
     "output_type": "execute_result"
    }
   ],
   "source": [
    "len(dat_df.loc[dat_df[pred_col_name]==dat_df['manual_label']])"
   ]
  },
  {
   "cell_type": "code",
   "execution_count": 67,
   "metadata": {
    "hidden": true
   },
   "outputs": [
    {
     "data": {
      "text/plain": [
       "111"
      ]
     },
     "execution_count": 67,
     "metadata": {},
     "output_type": "execute_result"
    }
   ],
   "source": [
    "len(dat_df.loc[dat_df['manual_label'] != -1])"
   ]
  },
  {
   "cell_type": "code",
   "execution_count": 68,
   "metadata": {
    "hidden": true
   },
   "outputs": [
    {
     "data": {
      "text/plain": [
       "0.6756756756756757"
      ]
     },
     "execution_count": 68,
     "metadata": {},
     "output_type": "execute_result"
    }
   ],
   "source": [
    "75/111 # model accuracy"
   ]
  },
  {
   "cell_type": "code",
   "execution_count": 74,
   "metadata": {
    "hidden": true
   },
   "outputs": [
    {
     "data": {
      "text/plain": [
       "36"
      ]
     },
     "execution_count": 74,
     "metadata": {},
     "output_type": "execute_result"
    }
   ],
   "source": [
    "pd.set_option('display.max_colwidth', None)\n",
    "\n",
    "error_df = dat_df.loc[(dat_df['manual_label'] != -1) &\n",
    "            (dat_df[pred_col_name]!=dat_df['manual_label'])][['body',pred_col_name,'manual_label']]\n",
    "len(error_df)"
   ]
  },
  {
   "cell_type": "code",
   "execution_count": 77,
   "metadata": {
    "hidden": true
   },
   "outputs": [
    {
     "data": {
      "text/plain": [
       "28"
      ]
     },
     "execution_count": 77,
     "metadata": {},
     "output_type": "execute_result"
    }
   ],
   "source": [
    "len(error_df.loc[error_df['manual_label']=='disagreement'])"
   ]
  },
  {
   "cell_type": "code",
   "execution_count": 79,
   "metadata": {
    "hidden": true,
    "scrolled": true
   },
   "outputs": [
    {
     "data": {
      "text/plain": [
       "other        18\n",
       "agreement    10\n",
       "Name: three_class_predicted_label, dtype: int64"
      ]
     },
     "execution_count": 79,
     "metadata": {},
     "output_type": "execute_result"
    }
   ],
   "source": [
    "error_df.loc[error_df['manual_label']=='disagreement'][pred_col_name].value_counts()"
   ]
  },
  {
   "cell_type": "code",
   "execution_count": 80,
   "metadata": {
    "hidden": true,
    "scrolled": true
   },
   "outputs": [
    {
     "data": {
      "text/html": [
       "<div>\n",
       "<style scoped>\n",
       "    .dataframe tbody tr th:only-of-type {\n",
       "        vertical-align: middle;\n",
       "    }\n",
       "\n",
       "    .dataframe tbody tr th {\n",
       "        vertical-align: top;\n",
       "    }\n",
       "\n",
       "    .dataframe thead th {\n",
       "        text-align: right;\n",
       "    }\n",
       "</style>\n",
       "<table border=\"1\" class=\"dataframe\">\n",
       "  <thead>\n",
       "    <tr style=\"text-align: right;\">\n",
       "      <th></th>\n",
       "      <th>body</th>\n",
       "      <th>three_class_predicted_label</th>\n",
       "      <th>manual_label</th>\n",
       "    </tr>\n",
       "  </thead>\n",
       "  <tbody>\n",
       "    <tr>\n",
       "      <th>3</th>\n",
       "      <td>I agree with you up until your last point, simply because sociology is not a science. This same argument applies to economics.\\n\\nWhen it comes to subjects like sociology and economics the experts cannot do experiments and cannot know for certain, but they continue to frame their arguments as if they do know.\\n\\nWhile all of the other parts of your post cite scientists the last one does not. And therefore their claims can be challenged by the laymen far more easily.\\n\\nAlso there are many conflicting reports among the fields of study when it comes to subjects like economics and sociology. Both generally claim to study similar things, but economics finds that Black people are poor not because they are oppressed or because they are less efficient but because they started off poor and tend to remain poor, while sociology concludes that they must be oppressed at some point.\\n\\nSociology claims there is a patriarchy, while economics explains the wage gap as barely having anything to do with sexism and more to do with individualistic choices. \\n\\nHow can we both believe the experts of both of these fields when they come to opposite conclusions?\\n\\nAlthough economics most certainly does not support MRA's either.</td>\n",
       "      <td>agreement</td>\n",
       "      <td>disagreement</td>\n",
       "    </tr>\n",
       "    <tr>\n",
       "      <th>14</th>\n",
       "      <td>I mostly agree with the first part of your argument, but there are a few things I'd urge you to consider:\\n\\n1. Hard scientific truths such as the Theory of Relativity are first derived by performing intense mathematical calculations which are based entirely on logical axioms. That is, if you want to prove something scientifically, you generally have to prove it mathematically first. If your proof for something involves 1+1 = 3, then your proof is faulty and cannot stand up to even basic scientific rigor. \\n\\n2. Hard scientific truths are further derived by rigorous and repeated experiments. In some physics labs, researchers often perform thousands of experiments per second in order to FULLY quantify their theories and provide accurate results and prove that statistical uncertainties did not affect their result. **It is insufficent to prove something is true, you must also prove that it is not false.**\\n\\nSo, Theory of gravity, Theory of Relativity, Theory of evolution, global warming, these are all scientific truths that have been subjected to intense scientific rigor in the community. Most, if not all experiments on these theories have produced EXACTLY the same result, give or take some negligible statistical error. You could perform some of these experiments in your backyard and get roughly the same result as a Harvard Researcher.\\n\\nHowever, the same cannot be said for soft sciences such as economics, sociology, anthropology, etc. While these disciplines provide a vital function in society, the scientific rigor for these is less stringent than it is for say, Nuclear Physics. \\n\\nAnother problem with this research is the simultaneous lack of and overflowing of data. Often, sociological research is satisfied with providing evidence of correlation and therefore proving causation. Also, the only way to gather non-demographic data is to perform interviews. As we know from hard scientific research, people don't always tell the truth in interviews, whether because people are unreliable or memory is unreliable or whatever the case may be. You can't trust first-person accounts.\\n\\n For example, you decide to do some sociological research. You interview 100 black people and, given the question: \"Have you experienced racial discrimination in your lifetime?\" 90 of them indicate that yes, they have experienced racial discrimination at some point in their life. Wow! According to your data and experiment, you have proven with 90% certainty that racism against black people is rampant in society.\\n\\nBut in the hard sciences, this sort of experiment would be ripped to shreds. You may have picked 100 people from a certain geographical region for starters. You may also have phrased your question is such a way that was confusing for the subjects. Additionally, the subjects may have interpreted the question in a different way than you intended, or they consider racial discrimination to include categories of behavior which you yourself would not include.\\n\\nI'd like to also point out that your entire argument is based on a logical fallacy known as \"[appeal to authority](http://en.wikipedia.org/wiki/Argument_from_authority),\" specifically in the context of deductive reasoning. The truth is, that even the experts in their field aren't necessarily correct in their assertions *even within their own field of expertise.* For an example of this, doctors have to be insured while practicing medicine. The reason for this, of course, even if we assume that the medical practitioner did everything in good faith and to the best of their ability, there is the very real possibility of human error. While sociologists and mathematicians do not face any particularly grave consequences for their mistakes, a doctor faces being responsible for the death of another human being. Ah, but if I were to seek a second or third opinion in your perfect world, I would be going against the expert wouldn't I?\\n\\nYour entire post seems to be a build up to the last section which is an attack on the credibility of the Men's Rights Movement. [For that, I only urge you to read this redditor's comment to a similar assertion.](http://www.reddit.com/r/changemyview/comments/1jt1u5/cmv_i_think_that_mens_rights_issues_are_the/cbi2m7a)</td>\n",
       "      <td>agreement</td>\n",
       "      <td>disagreement</td>\n",
       "    </tr>\n",
       "    <tr>\n",
       "      <th>18</th>\n",
       "      <td>Science changes as new things are learned.  That is all.</td>\n",
       "      <td>other</td>\n",
       "      <td>disagreement</td>\n",
       "    </tr>\n",
       "    <tr>\n",
       "      <th>27</th>\n",
       "      <td>Just to be clear, GMO is a big issue of the fringe right, too. Alex Jones people and whatnot.</td>\n",
       "      <td>agreement</td>\n",
       "      <td>disagreement</td>\n",
       "    </tr>\n",
       "    <tr>\n",
       "      <th>29</th>\n",
       "      <td>You think people are objecting to genetically modified organism out emotion rather than science. There is no evidence of harm, so why overreact?  Let it do it’s thing, it’s helpful!\\n\\nWhile no doubt there may be some overreaction, the majority of skepticism about GM foods or \"GMO hysteria” as you put it is more about caution than hysteria.  \\n\\nAgriculture happens on a massive level. We are talking about [millions and millions of tons of food](http://en.wikipedia.org/wiki/Agriculture#Crop_statistics).  I’m all for trying these things out on a small level over several decades to see how they might interact with endemic species, to see what happens regarding cross pollination, to see what eating things with merged genes might do over time.  We haven’t been in this world before... perhaps it’s best not to jump into it with millions and millions of tons of material.\\n\\nThere could be unintended consequences. Like what happened when we introduced [rabbits in australia](http://en.wikipedia.org/wiki/Rabbits_in_Australia) or [africanized honey bees in brazil](http://en.wikipedia.org/wiki/Africanized_bee).  \\n\\nIt’s not the GMO food are necessarily bad, but can we just slow the heck down and make sure we aren’t opening a pandoras box?</td>\n",
       "      <td>other</td>\n",
       "      <td>disagreement</td>\n",
       "    </tr>\n",
       "    <tr>\n",
       "      <th>30</th>\n",
       "      <td>ALL of the GMO crazies I know are Christian ultra conservative.\\n\\nThe difference I notice is that liberals seem to hate what Monsanto is doing politically, not concerned with the health aspect, and conservatives think that GMO is poison with zero real evidence.</td>\n",
       "      <td>other</td>\n",
       "      <td>disagreement</td>\n",
       "    </tr>\n",
       "    <tr>\n",
       "      <th>32</th>\n",
       "      <td>I didn't really see it mentioned here, but I thought perhaps I'd toss in some ideas why people might be logically against GMOs beyond the 'genetically modified' part.\\n\\nOne is that there are GMOs that are specifically designed to make a crop resistant to particular herbicides and pesticides. It encourages a lot of use, and possible overuse of the stuff, which while it itself might not be dangerous, misuse or leakages into water supplies wouldn't be what I call a good situation. Not really a huge fear, but it plays a lot into an overuse (or misuse) of land.\\n\\nGMOs also encourage monoculture, which is good for mass production of a particular crop, but bad for protecting a crop yield from failure or disease. A particular pest or mold comes in that really loves corn and isn't phased by spraying? There's a smorgasbord just waiting there for them. In fact, GMOs might encourage the cultivation of these pests or plant diseases, due to their sheer number. After all, evolution encourages changes and development that allows for something to take advantage of something in its environment. If a particular worm becomes resistant to a chemical being sprayed to keep it from the roots, or something in the roots themselves, and returns to devouring the crop, you end up with larger crop failures because of the amount of that homogeneous strain of crop are in the area. So it turns into an arms race to keep nature at bay with engineered science, instead of agricultural science (at the cost of precious crop output.)\\n\\nThis sort of farming also continues to 'support' crop subsidies. If there's a subsidy for a particular crop, why would you not grow X crop over a different crop? Why rotate crops when the price for corn is going to always have a minimum level and always provide you with a price guarantee? Why rotate crops to cycle your soil when you can simply spray more fertilizers down?\\n\\nSo the fear doesn't necessarily have to be directly due to GMO usage (which is probably more what you're talking about when people complain about GMOs, the change of genetics, not the agricultural process itself), but GMO usage itself could be encouraging what is essentially poor land management. People that have a big fear or criticism of big business management, would probably be very aggravated by the idea that the majority of cropland is being treated not like an upscale factory (with both energy and production efficiency weighed equally to produce a product.) but like an overseas sweatshop (production efficiency outweighing other factors.) I would imagine more of those are on the left side of the political spectrum.</td>\n",
       "      <td>other</td>\n",
       "      <td>disagreement</td>\n",
       "    </tr>\n",
       "    <tr>\n",
       "      <th>42</th>\n",
       "      <td>Anecdotal I'm sure, but almost every single person I know who is a professed anti-GMOer is either a Libertarian, or a registered Republican. I don't know of anyone who voted for a democrat who is anti-GMO. Even better, one of them gets their *paychecks* from a Republican affiliated organization. (Chamber of Commerce).</td>\n",
       "      <td>agreement</td>\n",
       "      <td>disagreement</td>\n",
       "    </tr>\n",
       "    <tr>\n",
       "      <th>48</th>\n",
       "      <td>Anecdotally, the anti-GMO people I know are split about evenly between political left and right.\\n\\nTypically the lefties are more likely to rant about Monsanto and similar corporations being evil and the righties are more likely to rant about GMO being unnatural or offending God in some way.\\n\\n(But the person I know who posts the most anti-GMO stuff to Facebook, by far, is a staunch Republican.  Go figure.)</td>\n",
       "      <td>other</td>\n",
       "      <td>disagreement</td>\n",
       "    </tr>\n",
       "    <tr>\n",
       "      <th>53</th>\n",
       "      <td>Why do you think this is a left-wing issue? I see plenty of GMO hysteria from the right. From what I see the right-wing problem is usually that \"genetically modified\" sounds scary. The left-wing problem is usually being scared of big agri-business, mostly Monsato. Here's a list of states considering GMO legislation: http://www.centerforfoodsafety.org/issues/976/ge-food-labeling/state-labeling-initiatives# It seems to have a good number of red, blue and purple states all mixed together. It generally doesn't seem to be strongly associated with either \"side\".\\n</td>\n",
       "      <td>other</td>\n",
       "      <td>disagreement</td>\n",
       "    </tr>\n",
       "    <tr>\n",
       "      <th>54</th>\n",
       "      <td>I agree that both climate change denial and GMO hysteria are bad, but we should acknowldege that the consequences of anthropomorphic climate change are more severe and that it is related to money-grubbing tendencies, while the intentions of anti-GMO-types is more ideologically based and while it is a bad thing and has bad results (especially to people in developing countries), their intentions are pure at heart.</td>\n",
       "      <td>agreement</td>\n",
       "      <td>disagreement</td>\n",
       "    </tr>\n",
       "    <tr>\n",
       "      <th>57</th>\n",
       "      <td>Why are you linking GMO biases to the left?  I would have thought the left means more democrat, socialist and in the extreme communist tendencies, and the right is more free market, small government and in the extreme abolish welfare and each to their own.  How does the GMO craze fit into that scale, or is the scale wrong?</td>\n",
       "      <td>other</td>\n",
       "      <td>disagreement</td>\n",
       "    </tr>\n",
       "    <tr>\n",
       "      <th>60</th>\n",
       "      <td>What? Since when GMO panic is leftist thing? Sure there's propably some extreme eco-freaks throwing temper tantrums about it ,but its just as widespread with evolution denial crowd.</td>\n",
       "      <td>other</td>\n",
       "      <td>disagreement</td>\n",
       "    </tr>\n",
       "    <tr>\n",
       "      <th>61</th>\n",
       "      <td>I would like to point out that GMOs are generally produced from large companies, e.g. Monsanto, and there is actually quite a bit of controversy about Monsanto fiscally ruining farmers.\\n\\nMost modern agriculture is made in large monocultures (fields of a single crop) which allows for invasive pests, which leads to the prevalence of GMOs. A movement towards local, sustainable farming done in mixed cultures (like a home garden, on a several acre plot) would usually make some level of genetic modification completely useless (you don't need to soak your plants in round-up).</td>\n",
       "      <td>other</td>\n",
       "      <td>disagreement</td>\n",
       "    </tr>\n",
       "    <tr>\n",
       "      <th>62</th>\n",
       "      <td>First off, Monsanto doesn't exactly have the best track record when it comes to healthy products, and, secondly, regulatory capture has essentially prohibited these products from being tested.\\n\\nI suspect that as our planet's population continues to boom we may need GMOs to be able to produce enough food. However, I would argue we simply don't understand their implications on local and global ecosystems yet.</td>\n",
       "      <td>agreement</td>\n",
       "      <td>disagreement</td>\n",
       "    </tr>\n",
       "    <tr>\n",
       "      <th>65</th>\n",
       "      <td>While I'll partially agree and say that hatred toward GMOs is overblown to the point people just blindly rail against anything GMO, I think there are several legitimate concerns in regards to them.\\n\\nFirst of all, they haven't been adequately tested in a lot of these GMOs, and as such there is the potential that they may be harmful in some cases.\\n\\nSecond of all, we are not really informed of what food IS a GMO, and what is not. There's no transparency, and a lot of deception involved. People want to know what exactly they're eating.\\n\\nThat being said, I think GMOs hold some promise, and I'm NOT a blind hater of GMOs, but I do think more rigorous testing and more transparency is a must. A lot of the arguments against GMOs aren't ideological, as much as they are about legitimate issues like testing and transparency.</td>\n",
       "      <td>agreement</td>\n",
       "      <td>disagreement</td>\n",
       "    </tr>\n",
       "    <tr>\n",
       "      <th>68</th>\n",
       "      <td>If producers of **non-GMO** food were allowed to label *their own products* as non-GMO, I would pretty much agree with you whole heartedly, however:\\n\\n&gt; [The FDA] has sent a flurry of enforcement letters to food makers, including B&amp;G Foods, which was told it could not use the phrase \"GMO-free\" on its Polaner All Fruit strawberry spread label because GMO refers to genetically modified organisms and strawberries are produce, not organisms.\\n\\n&gt;It told the maker of Spectrum Canola Oil that it could not use a label that included a red circle with a line through it and the words \"GMO,\" saying the symbol suggested that there was something wrong with genetically engineered food. \\n\\n&gt; \\- [Washington Post Article](http://www.washingtonpost.com/wp-dyn/content/article/2010/09/18/AR2010091803520_2.html?wprss=rss_nation&amp;sid=ST2010091804108)\\n\\nI don't know if that changes your view on anything other than the FDA being fucked up, but yeah, the fact that non-GMO labeling is actively suppressed even when the GMO producers don't have to bear *any* of the burden, that GMO companies are **actively pursuing a strategy to suppress consumer information**, that's kinda what pushes me over the edge.</td>\n",
       "      <td>other</td>\n",
       "      <td>disagreement</td>\n",
       "    </tr>\n",
       "    <tr>\n",
       "      <th>69</th>\n",
       "      <td>You are correct on the science, but the solution to this must be practical, and simply \"shutting down\" the source of 50% of the US's electricity is clearly not a viable solution.  \\n\\nWe are already pursuing renewable energy alongside our continued use of fossil fuels to keep the lights turned on.  Yes, in retrospect, we shouldn't have relied so heavily on this particular source of energy, but that's the past, and making drastic changes \"immediately\" just isn't practical.</td>\n",
       "      <td>agreement</td>\n",
       "      <td>disagreement</td>\n",
       "    </tr>\n",
       "    <tr>\n",
       "      <th>70</th>\n",
       "      <td>Yes. You are absolutely right. We should avoid using coal. But we need to keep the lights on. So how do you propose to do that?\\n\\nNuclear is a popular idea. I'm in favor of it, but it does produce waste that we don't really have a way to get rid of. The best idea we have is to make a very large hole in the ground, coat it in a lot of concrete, and put the waste in the hole until it breaks down into non-radioactive elements. There are alternative methods being developed, but they aren't ready for full implementation. Perhaps more importantly, no one wants one anywhere near their property. It's really difficult to build them.\\n\\nWind is a good one, but it's not constant. The great thing about coal is that it's there no matter what the weather is like. If it's just not a breezy day, you may not have enough power. Wind power gathered from over the ocean (and harnessing the power of waves) are more reliable, but that only helps anyone near enough to the coast. It's a great supplement, but it's not enough.\\n\\nSolar is a favorite as well. It suffers from the same fickleness as wind, but that's not my main problem with it. First off, it's really inefficient as it currently is. More efficient panels are also really expensive to build. Cheaper ones wear out very quickly. The technology is really in the development phase. They recently built a solar plant in Spain and by the time it was finished, it was already an obsolete model. It's great for early adopters who want to put panels on their houses, but it isn't ready for full-scale industrial use. \\n\\nAlso, a general problem with renewables is that they aren't consistent. Power demand follows a certain pattern throughout the day. Using coal you can turn plants on or off to meet demand. You can't do that with wind or solar. To solve this problem, we need better energy storage and that is nowhere near available for the levels we are talking about. \\n\\nTl;dr Your heart is in the right place, but there just isn't a solution ready to start fixing this tomorrow.</td>\n",
       "      <td>agreement</td>\n",
       "      <td>disagreement</td>\n",
       "    </tr>\n",
       "    <tr>\n",
       "      <th>71</th>\n",
       "      <td>Out of curiosity, do you have any *evidence* that coal power plants are really the *single biggest contributor* to global warming? Or is it just an intuition you have?</td>\n",
       "      <td>other</td>\n",
       "      <td>disagreement</td>\n",
       "    </tr>\n",
       "    <tr>\n",
       "      <th>73</th>\n",
       "      <td>But what if we're not far from a clean coal technology that is better than, say, burning oil or natural gas? Or what if people just use power from oil-burning factories instead? Whatever they use, as population and wealth grows, people will want to consume more energy, so even if the source is a bit cleaner than coal currently is, this can still be a problem. Also, there are some good reasons to think that [reducing consumption of meat](http://www.pbjcampaign.org/) is the most effective way to reduce climate-change-inducing pollution.\\n\\nThe point being, simply shutting down coal plants may be a good way to cut pollution, but it's not the best way. The best way would be to simply tax pollutants. This creates incentive for energy producers to find cleaner and more efficient ways to produce energy, regardless of whatever the method will be (and we can't predict ahead of time what those methods will be!). And it allows consumers to adjust their energy consumption in the way they each find least burdensome given each person's unique preferences, rather than forcing one way on everyone. [This NYTimes article](http://www.nytimes.com/2013/09/01/business/a-carbon-tax-that-america-could-live-with.html) elaborates further.</td>\n",
       "      <td>other</td>\n",
       "      <td>disagreement</td>\n",
       "    </tr>\n",
       "    <tr>\n",
       "      <th>77</th>\n",
       "      <td>Okay, I have a question for you: what has lead you to this belief? We on reddit can throw around a hundred different articles, papers, and graphs, but to do this properly, I'd like to see at least one source that you used to get this opinion. That way, when we get to the nitty gritty of the scientific reasoning, we can target the specific parts of the theory of climate change that you see differently.</td>\n",
       "      <td>other</td>\n",
       "      <td>disagreement</td>\n",
       "    </tr>\n",
       "    <tr>\n",
       "      <th>79</th>\n",
       "      <td>That chart looked at the 1000s of years, not decades. There's a difference of about a 100-fold in change. I'm not a climate scientist, but a 100 fold difference in change is a 100-fold less time for people to adapt and animals to evolve.\\n\\nMethane, nitrogen oxide, and carbon dioxide are the three big greenhouse gases we produce. [Here's the formula for how they heat the earth. ](http://i.imgur.com/540Ftxq.png).[Here's an explanation for how the math works. It's hard, and will take a while to understand completely.](http://www.realclimate.org/index.php/archives/2007/08/the-co2-problem-in-6-easy-steps/).\\n\\n[This is a chart on the change in the atmosphere.](http://www.acs.org/content/acs/en/climatescience/greenhousegases/industrialrevolution/_jcr_content/articleContent/columnbootstrap_2/column0/image.img.jpg/1374088243357.jpg). Dioxide is mispelled but the data is correct. If you want independent confirmation, google it.\\n\\n1900: Methane: 800 parts per million. Now: Methane:2000 parts per million. \\n\\n1900: Nitrogen Oxide: 900 parts per million. Now: Nitrogen Oxide: 1300 parts per million.\\n\\n1900: Carbon Dioxide: 900 parts per million. Now: 1900 parts per million. \\n\\nAs you can see, we've roughly doubled the amount of greenhouse gas. \\n\\n[This is the amount of global warming we've caused.](http://en.wikipedia.org/wiki/Radiative_forcing#mediaviewer/File:Radiative-forcings.svg) Again, you can check out all the data and formulas. It's simple physics. It's what we use to propel spacecraft and make sure they don't over heat.\\n\\nAccording to [this](http://www.mpoweruk.com/solar_power.htm), the earth receives an average of 342 Watts per metre. We, adding 1.5 watts per metre, increased the amount of energy the earth is receiving by 0.5%. \\n\\nThat's why we cause global warming. Someone qualified can tell you about the biological effects in scientific detail.</td>\n",
       "      <td>other</td>\n",
       "      <td>disagreement</td>\n",
       "    </tr>\n",
       "    <tr>\n",
       "      <th>80</th>\n",
       "      <td>[32,6 percent](http://iopscience.iop.org/1748-9326/8/2/024024/article) out of 12000 studies agrees that climate change is man made. Only 0.7 percent reject man made climate change. 3896 vs 78. \\n</td>\n",
       "      <td>other</td>\n",
       "      <td>disagreement</td>\n",
       "    </tr>\n",
       "    <tr>\n",
       "      <th>81</th>\n",
       "      <td>Are you a geologist, climate scientist, meteorologist, or possess any advanced degree in the earth sciences?</td>\n",
       "      <td>other</td>\n",
       "      <td>disagreement</td>\n",
       "    </tr>\n",
       "    <tr>\n",
       "      <th>90</th>\n",
       "      <td>Just a quick point, governments govern the people inside their boarders.  Do you think that people should be allowed to change the climate by introducing CO2,methane, etc?  If the actions of people are changing the global climate then should not the government be responsible for setting the rules so that their own people are not acting on a global stage?</td>\n",
       "      <td>other</td>\n",
       "      <td>disagreement</td>\n",
       "    </tr>\n",
       "    <tr>\n",
       "      <th>96</th>\n",
       "      <td>You are saying that some may be affected negatively, but others may be affected positively.\\n\\nThis is true, but for embracing something, don't I have to know it will work out better with a higher degree of confidence than the speculative?  \\n\\nEven when a bad thing happens, there are some people who can benefit, a hurricane might knock down that tree that's been bothering you, an earthquake might expose some previously unknown mineral deposit in a mine.  But to embrace it, that is a bit much.\\n\\nIn regards, not going crazy trying to stop it, I don't think you'll find that anybody wants to go crazy doing anything.  It's just a disagreement about what constitutes reasonable and prudent versus radical and insane as it were.\\n\\n\\n</td>\n",
       "      <td>agreement</td>\n",
       "      <td>disagreement</td>\n",
       "    </tr>\n",
       "    <tr>\n",
       "      <th>103</th>\n",
       "      <td>What about the countries that are incredibly low lying and will be completely ruined by a rising sea level? Or Australia, which has most of its cities on the coast? Do you really think it's that easy to just pick up an entire country and move it inland?</td>\n",
       "      <td>other</td>\n",
       "      <td>disagreement</td>\n",
       "    </tr>\n",
       "  </tbody>\n",
       "</table>\n",
       "</div>"
      ],
      "text/plain": [
       "                                                                                                                                                                                                                                                                                                                                                                                                                                                                                                                                                                                                                                                                                                                                                                                                                                                                                                                                                                                                                                                                                                                                                                                                                                                                                                                                                                                                                                                                                                                                                                                                                                                                                                                                                                                                                                                                                                                                                                                                                                                                                                                                                                                                                                                                                                                                                                                                                                                                                                                                                                                                                                                                                                                                                                                                                                                                                                                                                                                                                                                                                                                                                                                                                                                                                                                                                                                                                                                                                                                                                                                                                                                                                                                                                                                                                                                                                                                                                                                                                                                                                                                                                                                                                                                                                                                                                                                                                           body  \\\n",
       "3                                                                                                                                                                                                                                                                                                                                                                                                                                                                                                                                                                                                                                                                                                                                                                                                                                                                                                                                                                                                                                                                                                                                                                                                                                                                                                                                                                                                                                                                                                                                                                                                                                                                                                                                                                                                                                                                                                                                                                                                                                                                                                                                                                                                                                                                                                                                                                                                                                                                                                                                                                                                                                                                                                                                                                                                                                                                                                                                                                                                                                                                                                                                                      I agree with you up until your last point, simply because sociology is not a science. This same argument applies to economics.\\n\\nWhen it comes to subjects like sociology and economics the experts cannot do experiments and cannot know for certain, but they continue to frame their arguments as if they do know.\\n\\nWhile all of the other parts of your post cite scientists the last one does not. And therefore their claims can be challenged by the laymen far more easily.\\n\\nAlso there are many conflicting reports among the fields of study when it comes to subjects like economics and sociology. Both generally claim to study similar things, but economics finds that Black people are poor not because they are oppressed or because they are less efficient but because they started off poor and tend to remain poor, while sociology concludes that they must be oppressed at some point.\\n\\nSociology claims there is a patriarchy, while economics explains the wage gap as barely having anything to do with sexism and more to do with individualistic choices. \\n\\nHow can we both believe the experts of both of these fields when they come to opposite conclusions?\\n\\nAlthough economics most certainly does not support MRA's either.   \n",
       "14   I mostly agree with the first part of your argument, but there are a few things I'd urge you to consider:\\n\\n1. Hard scientific truths such as the Theory of Relativity are first derived by performing intense mathematical calculations which are based entirely on logical axioms. That is, if you want to prove something scientifically, you generally have to prove it mathematically first. If your proof for something involves 1+1 = 3, then your proof is faulty and cannot stand up to even basic scientific rigor. \\n\\n2. Hard scientific truths are further derived by rigorous and repeated experiments. In some physics labs, researchers often perform thousands of experiments per second in order to FULLY quantify their theories and provide accurate results and prove that statistical uncertainties did not affect their result. **It is insufficent to prove something is true, you must also prove that it is not false.**\\n\\nSo, Theory of gravity, Theory of Relativity, Theory of evolution, global warming, these are all scientific truths that have been subjected to intense scientific rigor in the community. Most, if not all experiments on these theories have produced EXACTLY the same result, give or take some negligible statistical error. You could perform some of these experiments in your backyard and get roughly the same result as a Harvard Researcher.\\n\\nHowever, the same cannot be said for soft sciences such as economics, sociology, anthropology, etc. While these disciplines provide a vital function in society, the scientific rigor for these is less stringent than it is for say, Nuclear Physics. \\n\\nAnother problem with this research is the simultaneous lack of and overflowing of data. Often, sociological research is satisfied with providing evidence of correlation and therefore proving causation. Also, the only way to gather non-demographic data is to perform interviews. As we know from hard scientific research, people don't always tell the truth in interviews, whether because people are unreliable or memory is unreliable or whatever the case may be. You can't trust first-person accounts.\\n\\n For example, you decide to do some sociological research. You interview 100 black people and, given the question: \"Have you experienced racial discrimination in your lifetime?\" 90 of them indicate that yes, they have experienced racial discrimination at some point in their life. Wow! According to your data and experiment, you have proven with 90% certainty that racism against black people is rampant in society.\\n\\nBut in the hard sciences, this sort of experiment would be ripped to shreds. You may have picked 100 people from a certain geographical region for starters. You may also have phrased your question is such a way that was confusing for the subjects. Additionally, the subjects may have interpreted the question in a different way than you intended, or they consider racial discrimination to include categories of behavior which you yourself would not include.\\n\\nI'd like to also point out that your entire argument is based on a logical fallacy known as \"[appeal to authority](http://en.wikipedia.org/wiki/Argument_from_authority),\" specifically in the context of deductive reasoning. The truth is, that even the experts in their field aren't necessarily correct in their assertions *even within their own field of expertise.* For an example of this, doctors have to be insured while practicing medicine. The reason for this, of course, even if we assume that the medical practitioner did everything in good faith and to the best of their ability, there is the very real possibility of human error. While sociologists and mathematicians do not face any particularly grave consequences for their mistakes, a doctor faces being responsible for the death of another human being. Ah, but if I were to seek a second or third opinion in your perfect world, I would be going against the expert wouldn't I?\\n\\nYour entire post seems to be a build up to the last section which is an attack on the credibility of the Men's Rights Movement. [For that, I only urge you to read this redditor's comment to a similar assertion.](http://www.reddit.com/r/changemyview/comments/1jt1u5/cmv_i_think_that_mens_rights_issues_are_the/cbi2m7a)   \n",
       "18                                                                                                                                                                                                                                                                                                                                                                                                                                                                                                                                                                                                                                                                                                                                                                                                                                                                                                                                                                                                                                                                                                                                                                                                                                                                                                                                                                                                                                                                                                                                                                                                                                                                                                                                                                                                                                                                                                                                                                                                                                                                                                                                                                                                                                                                                                                                                                                                                                                                                                                                                                                                                                                                                                                                                                                                                                                                                                                                                                                                                                                                                                                                                                                                                                                                                                                                                                                                                                                                                                                                                                                                                                                                                                                                                                                                                                                                                                                                                                                                                                                                                                                                                                                                                                                                                                                                                                     Science changes as new things are learned.  That is all.   \n",
       "27                                                                                                                                                                                                                                                                                                                                                                                                                                                                                                                                                                                                                                                                                                                                                                                                                                                                                                                                                                                                                                                                                                                                                                                                                                                                                                                                                                                                                                                                                                                                                                                                                                                                                                                                                                                                                                                                                                                                                                                                                                                                                                                                                                                                                                                                                                                                                                                                                                                                                                                                                                                                                                                                                                                                                                                                                                                                                                                                                                                                                                                                                                                                                                                                                                                                                                                                                                                                                                                                                                                                                                                                                                                                                                                                                                                                                                                                                                                                                                                                                                                                                                                                                                                                                                                                                                                               Just to be clear, GMO is a big issue of the fringe right, too. Alex Jones people and whatnot.    \n",
       "29                                                                                                                                                                                                                                                                                                                                                                                                                                                                                                                                                                                                                                                                                                                                                                                                                                                                                                                                                                                                                                                                                                                                                                                                                                                                                                                                                                                                                                                                                                                                                                                                                                                                                                                                                                                                                                                                                                                                                                                                                                                                                                                                                                                                                                                                                                                                                                                                                                                                                                                                                                                                                                                                                                                                                                                                                                                                                                                                                                                                                                                                                                                               You think people are objecting to genetically modified organism out emotion rather than science. There is no evidence of harm, so why overreact?  Let it do it’s thing, it’s helpful!\\n\\nWhile no doubt there may be some overreaction, the majority of skepticism about GM foods or \"GMO hysteria” as you put it is more about caution than hysteria.  \\n\\nAgriculture happens on a massive level. We are talking about [millions and millions of tons of food](http://en.wikipedia.org/wiki/Agriculture#Crop_statistics).  I’m all for trying these things out on a small level over several decades to see how they might interact with endemic species, to see what happens regarding cross pollination, to see what eating things with merged genes might do over time.  We haven’t been in this world before... perhaps it’s best not to jump into it with millions and millions of tons of material.\\n\\nThere could be unintended consequences. Like what happened when we introduced [rabbits in australia](http://en.wikipedia.org/wiki/Rabbits_in_Australia) or [africanized honey bees in brazil](http://en.wikipedia.org/wiki/Africanized_bee).  \\n\\nIt’s not the GMO food are necessarily bad, but can we just slow the heck down and make sure we aren’t opening a pandoras box?   \n",
       "30                                                                                                                                                                                                                                                                                                                                                                                                                                                                                                                                                                                                                                                                                                                                                                                                                                                                                                                                                                                                                                                                                                                                                                                                                                                                                                                                                                                                                                                                                                                                                                                                                                                                                                                                                                                                                                                                                                                                                                                                                                                                                                                                                                                                                                                                                                                                                                                                                                                                                                                                                                                                                                                                                                                                                                                                                                                                                                                                                                                                                                                                                                                                                                                                                                                                                                                                                                                                                                                                                                                                                                                                                                                                                                                                                                                                                                                                                                                                                                                                                                                                                                                                                       ALL of the GMO crazies I know are Christian ultra conservative.\\n\\nThe difference I notice is that liberals seem to hate what Monsanto is doing politically, not concerned with the health aspect, and conservatives think that GMO is poison with zero real evidence.   \n",
       "32                                                                                                                                                                                                                                                                                                                                                                                                                                                                                                                                                                                                                                                                                                                                                                                                                                                                                                                                                                                                                                                                                                                                                                                                                                                                                                                                                                                                                                                                                                                                                                                                                                                                                    I didn't really see it mentioned here, but I thought perhaps I'd toss in some ideas why people might be logically against GMOs beyond the 'genetically modified' part.\\n\\nOne is that there are GMOs that are specifically designed to make a crop resistant to particular herbicides and pesticides. It encourages a lot of use, and possible overuse of the stuff, which while it itself might not be dangerous, misuse or leakages into water supplies wouldn't be what I call a good situation. Not really a huge fear, but it plays a lot into an overuse (or misuse) of land.\\n\\nGMOs also encourage monoculture, which is good for mass production of a particular crop, but bad for protecting a crop yield from failure or disease. A particular pest or mold comes in that really loves corn and isn't phased by spraying? There's a smorgasbord just waiting there for them. In fact, GMOs might encourage the cultivation of these pests or plant diseases, due to their sheer number. After all, evolution encourages changes and development that allows for something to take advantage of something in its environment. If a particular worm becomes resistant to a chemical being sprayed to keep it from the roots, or something in the roots themselves, and returns to devouring the crop, you end up with larger crop failures because of the amount of that homogeneous strain of crop are in the area. So it turns into an arms race to keep nature at bay with engineered science, instead of agricultural science (at the cost of precious crop output.)\\n\\nThis sort of farming also continues to 'support' crop subsidies. If there's a subsidy for a particular crop, why would you not grow X crop over a different crop? Why rotate crops when the price for corn is going to always have a minimum level and always provide you with a price guarantee? Why rotate crops to cycle your soil when you can simply spray more fertilizers down?\\n\\nSo the fear doesn't necessarily have to be directly due to GMO usage (which is probably more what you're talking about when people complain about GMOs, the change of genetics, not the agricultural process itself), but GMO usage itself could be encouraging what is essentially poor land management. People that have a big fear or criticism of big business management, would probably be very aggravated by the idea that the majority of cropland is being treated not like an upscale factory (with both energy and production efficiency weighed equally to produce a product.) but like an overseas sweatshop (production efficiency outweighing other factors.) I would imagine more of those are on the left side of the political spectrum.   \n",
       "42                                                                                                                                                                                                                                                                                                                                                                                                                                                                                                                                                                                                                                                                                                                                                                                                                                                                                                                                                                                                                                                                                                                                                                                                                                                                                                                                                                                                                                                                                                                                                                                                                                                                                                                                                                                                                                                                                                                                                                                                                                                                                                                                                                                                                                                                                                                                                                                                                                                                                                                                                                                                                                                                                                                                                                                                                                                                                                                                                                                                                                                                                                                                                                                                                                                                                                                                                                                                                                                                                                                                                                                                                                                                                                                                                                                                                                                                                                                                                                                                                                                                                              Anecdotal I'm sure, but almost every single person I know who is a professed anti-GMOer is either a Libertarian, or a registered Republican. I don't know of anyone who voted for a democrat who is anti-GMO. Even better, one of them gets their *paychecks* from a Republican affiliated organization. (Chamber of Commerce).   \n",
       "48                                                                                                                                                                                                                                                                                                                                                                                                                                                                                                                                                                                                                                                                                                                                                                                                                                                                                                                                                                                                                                                                                                                                                                                                                                                                                                                                                                                                                                                                                                                                                                                                                                                                                                                                                                                                                                                                                                                                                                                                                                                                                                                                                                                                                                                                                                                                                                                                                                                                                                                                                                                                                                                                                                                                                                                                                                                                                                                                                                                                                                                                                                                                                                                                                                                                                                                                                                                                                                                                                                                                                                                                                                                                                                                                                                                                                                                                                                                                                                                                 Anecdotally, the anti-GMO people I know are split about evenly between political left and right.\\n\\nTypically the lefties are more likely to rant about Monsanto and similar corporations being evil and the righties are more likely to rant about GMO being unnatural or offending God in some way.\\n\\n(But the person I know who posts the most anti-GMO stuff to Facebook, by far, is a staunch Republican.  Go figure.)   \n",
       "53                                                                                                                                                                                                                                                                                                                                                                                                                                                                                                                                                                                                                                                                                                                                                                                                                                                                                                                                                                                                                                                                                                                                                                                                                                                                                                                                                                                                                                                                                                                                                                                                                                                                                                                                                                                                                                                                                                                                                                                                                                                                                                                                                                                                                                                                                                                                                                                                                                                                                                                                                                                                                                                                                                                                                                                                                                                                                                                                                                                                                                                                                                                                                                                                                                                                                                                                                                                                                                                                                                                                                                                                                                                                                                                                                                                                                                         Why do you think this is a left-wing issue? I see plenty of GMO hysteria from the right. From what I see the right-wing problem is usually that \"genetically modified\" sounds scary. The left-wing problem is usually being scared of big agri-business, mostly Monsato. Here's a list of states considering GMO legislation: http://www.centerforfoodsafety.org/issues/976/ge-food-labeling/state-labeling-initiatives# It seems to have a good number of red, blue and purple states all mixed together. It generally doesn't seem to be strongly associated with either \"side\".\\n   \n",
       "54                                                                                                                                                                                                                                                                                                                                                                                                                                                                                                                                                                                                                                                                                                                                                                                                                                                                                                                                                                                                                                                                                                                                                                                                                                                                                                                                                                                                                                                                                                                                                                                                                                                                                                                                                                                                                                                                                                                                                                                                                                                                                                                                                                                                                                                                                                                                                                                                                                                                                                                                                                                                                                                                                                                                                                                                                                                                                                                                                                                                                                                                                                                                                                                                                                                                                                                                                                                                                                                                                                                                                                                                                                                                                                                                                                                                                                                                                                                                                                                              I agree that both climate change denial and GMO hysteria are bad, but we should acknowldege that the consequences of anthropomorphic climate change are more severe and that it is related to money-grubbing tendencies, while the intentions of anti-GMO-types is more ideologically based and while it is a bad thing and has bad results (especially to people in developing countries), their intentions are pure at heart.   \n",
       "57                                                                                                                                                                                                                                                                                                                                                                                                                                                                                                                                                                                                                                                                                                                                                                                                                                                                                                                                                                                                                                                                                                                                                                                                                                                                                                                                                                                                                                                                                                                                                                                                                                                                                                                                                                                                                                                                                                                                                                                                                                                                                                                                                                                                                                                                                                                                                                                                                                                                                                                                                                                                                                                                                                                                                                                                                                                                                                                                                                                                                                                                                                                                                                                                                                                                                                                                                                                                                                                                                                                                                                                                                                                                                                                                                                                                                                                                                                                                                                                                                                                                                         Why are you linking GMO biases to the left?  I would have thought the left means more democrat, socialist and in the extreme communist tendencies, and the right is more free market, small government and in the extreme abolish welfare and each to their own.  How does the GMO craze fit into that scale, or is the scale wrong?   \n",
       "60                                                                                                                                                                                                                                                                                                                                                                                                                                                                                                                                                                                                                                                                                                                                                                                                                                                                                                                                                                                                                                                                                                                                                                                                                                                                                                                                                                                                                                                                                                                                                                                                                                                                                                                                                                                                                                                                                                                                                                                                                                                                                                                                                                                                                                                                                                                                                                                                                                                                                                                                                                                                                                                                                                                                                                                                                                                                                                                                                                                                                                                                                                                                                                                                                                                                                                                                                                                                                                                                                                                                                                                                                                                                                                                                                                                                                                                                                                                                                                                                                                                                                                                                                                                                                                       What? Since when GMO panic is leftist thing? Sure there's propably some extreme eco-freaks throwing temper tantrums about it ,but its just as widespread with evolution denial crowd.    \n",
       "61                                                                                                                                                                                                                                                                                                                                                                                                                                                                                                                                                                                                                                                                                                                                                                                                                                                                                                                                                                                                                                                                                                                                                                                                                                                                                                                                                                                                                                                                                                                                                                                                                                                                                                                                                                                                                                                                                                                                                                                                                                                                                                                                                                                                                                                                                                                                                                                                                                                                                                                                                                                                                                                                                                                                                                                                                                                                                                                                                                                                                                                                                                                                                                                                                                                                                                                                                                                                                                                                                                                                                                                                                                                                                                                                                                                                                            I would like to point out that GMOs are generally produced from large companies, e.g. Monsanto, and there is actually quite a bit of controversy about Monsanto fiscally ruining farmers.\\n\\nMost modern agriculture is made in large monocultures (fields of a single crop) which allows for invasive pests, which leads to the prevalence of GMOs. A movement towards local, sustainable farming done in mixed cultures (like a home garden, on a several acre plot) would usually make some level of genetic modification completely useless (you don't need to soak your plants in round-up).   \n",
       "62                                                                                                                                                                                                                                                                                                                                                                                                                                                                                                                                                                                                                                                                                                                                                                                                                                                                                                                                                                                                                                                                                                                                                                                                                                                                                                                                                                                                                                                                                                                                                                                                                                                                                                                                                                                                                                                                                                                                                                                                                                                                                                                                                                                                                                                                                                                                                                                                                                                                                                                                                                                                                                                                                                                                                                                                                                                                                                                                                                                                                                                                                                                                                                                                                                                                                                                                                                                                                                                                                                                                                                                                                                                                                                                                                                                                                                                                                                                                                                                                 First off, Monsanto doesn't exactly have the best track record when it comes to healthy products, and, secondly, regulatory capture has essentially prohibited these products from being tested.\\n\\nI suspect that as our planet's population continues to boom we may need GMOs to be able to produce enough food. However, I would argue we simply don't understand their implications on local and global ecosystems yet.   \n",
       "65                                                                                                                                                                                                                                                                                                                                                                                                                                                                                                                                                                                                                                                                                                                                                                                                                                                                                                                                                                                                                                                                                                                                                                                                                                                                                                                                                                                                                                                                                                                                                                                                                                                                                                                                                                                                                                                                                                                                                                                                                                                                                                                                                                                                                                                                                                                                                                                                                                                                                                                                                                                                                                                                                                                                                                                                                                                                                                                                                                                                                                                                                                                                                                                                                                                                                                                                                                                                                                                                                                                                                                While I'll partially agree and say that hatred toward GMOs is overblown to the point people just blindly rail against anything GMO, I think there are several legitimate concerns in regards to them.\\n\\nFirst of all, they haven't been adequately tested in a lot of these GMOs, and as such there is the potential that they may be harmful in some cases.\\n\\nSecond of all, we are not really informed of what food IS a GMO, and what is not. There's no transparency, and a lot of deception involved. People want to know what exactly they're eating.\\n\\nThat being said, I think GMOs hold some promise, and I'm NOT a blind hater of GMOs, but I do think more rigorous testing and more transparency is a must. A lot of the arguments against GMOs aren't ideological, as much as they are about legitimate issues like testing and transparency.   \n",
       "68                                                                                                                                                                                                                                                                                                                                                                                                                                                                                                                                                                                                                                                                                                                                                                                                                                                                                                                                                                                                                                                                                                                                                                                                                                                                                                                                                                                                                                                                                                                                                                                                                                                                                                                                                                                                                                                                                                                                                                                                                                                                                                                                                                                                                                                                                                                                                                                                                                                                                                                                                                                                                                                                                                                                                                                                                                                                                                                                                                                                                                                                                                                                                                                If producers of **non-GMO** food were allowed to label *their own products* as non-GMO, I would pretty much agree with you whole heartedly, however:\\n\\n> [The FDA] has sent a flurry of enforcement letters to food makers, including B&G Foods, which was told it could not use the phrase \"GMO-free\" on its Polaner All Fruit strawberry spread label because GMO refers to genetically modified organisms and strawberries are produce, not organisms.\\n\\n>It told the maker of Spectrum Canola Oil that it could not use a label that included a red circle with a line through it and the words \"GMO,\" saying the symbol suggested that there was something wrong with genetically engineered food. \\n\\n> \\- [Washington Post Article](http://www.washingtonpost.com/wp-dyn/content/article/2010/09/18/AR2010091803520_2.html?wprss=rss_nation&sid=ST2010091804108)\\n\\nI don't know if that changes your view on anything other than the FDA being fucked up, but yeah, the fact that non-GMO labeling is actively suppressed even when the GMO producers don't have to bear *any* of the burden, that GMO companies are **actively pursuing a strategy to suppress consumer information**, that's kinda what pushes me over the edge.    \n",
       "69                                                                                                                                                                                                                                                                                                                                                                                                                                                                                                                                                                                                                                                                                                                                                                                                                                                                                                                                                                                                                                                                                                                                                                                                                                                                                                                                                                                                                                                                                                                                                                                                                                                                                                                                                                                                                                                                                                                                                                                                                                                                                                                                                                                                                                                                                                                                                                                                                                                                                                                                                                                                                                                                                                                                                                                                                                                                                                                                                                                                                                                                                                                                                                                                                                                                                                                                                                                                                                                                                                                                                                                                                                                                                                                                                                                                                                                                                                                               You are correct on the science, but the solution to this must be practical, and simply \"shutting down\" the source of 50% of the US's electricity is clearly not a viable solution.  \\n\\nWe are already pursuing renewable energy alongside our continued use of fossil fuels to keep the lights turned on.  Yes, in retrospect, we shouldn't have relied so heavily on this particular source of energy, but that's the past, and making drastic changes \"immediately\" just isn't practical.     \n",
       "70                                                                                                                                                                                                                                                                                                                                                                                                                                                                                                                                                                                                                                                                                                                                                                                                                                                                                                                                                                                                                                                                                                                                                                                                                                                                                                                                                                                                                                                                                                                                                                                                                                                                                                                                                                                                                                                                                                                                                                                                                                                                                                                                                                                                                                                                                                             Yes. You are absolutely right. We should avoid using coal. But we need to keep the lights on. So how do you propose to do that?\\n\\nNuclear is a popular idea. I'm in favor of it, but it does produce waste that we don't really have a way to get rid of. The best idea we have is to make a very large hole in the ground, coat it in a lot of concrete, and put the waste in the hole until it breaks down into non-radioactive elements. There are alternative methods being developed, but they aren't ready for full implementation. Perhaps more importantly, no one wants one anywhere near their property. It's really difficult to build them.\\n\\nWind is a good one, but it's not constant. The great thing about coal is that it's there no matter what the weather is like. If it's just not a breezy day, you may not have enough power. Wind power gathered from over the ocean (and harnessing the power of waves) are more reliable, but that only helps anyone near enough to the coast. It's a great supplement, but it's not enough.\\n\\nSolar is a favorite as well. It suffers from the same fickleness as wind, but that's not my main problem with it. First off, it's really inefficient as it currently is. More efficient panels are also really expensive to build. Cheaper ones wear out very quickly. The technology is really in the development phase. They recently built a solar plant in Spain and by the time it was finished, it was already an obsolete model. It's great for early adopters who want to put panels on their houses, but it isn't ready for full-scale industrial use. \\n\\nAlso, a general problem with renewables is that they aren't consistent. Power demand follows a certain pattern throughout the day. Using coal you can turn plants on or off to meet demand. You can't do that with wind or solar. To solve this problem, we need better energy storage and that is nowhere near available for the levels we are talking about. \\n\\nTl;dr Your heart is in the right place, but there just isn't a solution ready to start fixing this tomorrow.    \n",
       "71                                                                                                                                                                                                                                                                                                                                                                                                                                                                                                                                                                                                                                                                                                                                                                                                                                                                                                                                                                                                                                                                                                                                                                                                                                                                                                                                                                                                                                                                                                                                                                                                                                                                                                                                                                                                                                                                                                                                                                                                                                                                                                                                                                                                                                                                                                                                                                                                                                                                                                                                                                                                                                                                                                                                                                                                                                                                                                                                                                                                                                                                                                                                                                                                                                                                                                                                                                                                                                                                                                                                                                                                                                                                                                                                                                                                                                                                                                                                                                                                                                                                                                                                                                                                                                                     Out of curiosity, do you have any *evidence* that coal power plants are really the *single biggest contributor* to global warming? Or is it just an intuition you have?    \n",
       "73                                                                                                                                                                                                                                                                                                                                                                                                                                                                                                                                                                                                                                                                                                                                                                                                                                                                                                                                                                                                                                                                                                                                                                                                                                                                                                                                                                                                                                                                                                                                                                                                                                                                                                                                                                                                                                                                                                                                                                                                                                                                                                                                                                                                                                                                                                                                                                                                                                                                                                                                                                                                                                                                                                                                                                                                                                                                                                                                                                                                                                                                                                                                             But what if we're not far from a clean coal technology that is better than, say, burning oil or natural gas? Or what if people just use power from oil-burning factories instead? Whatever they use, as population and wealth grows, people will want to consume more energy, so even if the source is a bit cleaner than coal currently is, this can still be a problem. Also, there are some good reasons to think that [reducing consumption of meat](http://www.pbjcampaign.org/) is the most effective way to reduce climate-change-inducing pollution.\\n\\nThe point being, simply shutting down coal plants may be a good way to cut pollution, but it's not the best way. The best way would be to simply tax pollutants. This creates incentive for energy producers to find cleaner and more efficient ways to produce energy, regardless of whatever the method will be (and we can't predict ahead of time what those methods will be!). And it allows consumers to adjust their energy consumption in the way they each find least burdensome given each person's unique preferences, rather than forcing one way on everyone. [This NYTimes article](http://www.nytimes.com/2013/09/01/business/a-carbon-tax-that-america-could-live-with.html) elaborates further.   \n",
       "77                                                                                                                                                                                                                                                                                                                                                                                                                                                                                                                                                                                                                                                                                                                                                                                                                                                                                                                                                                                                                                                                                                                                                                                                                                                                                                                                                                                                                                                                                                                                                                                                                                                                                                                                                                                                                                                                                                                                                                                                                                                                                                                                                                                                                                                                                                                                                                                                                                                                                                                                                                                                                                                                                                                                                                                                                                                                                                                                                                                                                                                                                                                                                                                                                                                                                                                                                                                                                                                                                                                                                                                                                                                                                                                                                                                                                                                                                                                                                                                                         Okay, I have a question for you: what has lead you to this belief? We on reddit can throw around a hundred different articles, papers, and graphs, but to do this properly, I'd like to see at least one source that you used to get this opinion. That way, when we get to the nitty gritty of the scientific reasoning, we can target the specific parts of the theory of climate change that you see differently.   \n",
       "79                                                                                                                                                                                                                                                                                                                                                                                                                                                                                                                                                                                                                                                                                                                                                                                                                                                                                                                                                                                                                                                                                                                                                                                                                                                                                                                                                                                                                                                                                                                                                                                                                                                                                                                                                                                                                                                                                                                                                                                                                                                                                                                                                                                                                                                                                                                                                                                                                                                                   That chart looked at the 1000s of years, not decades. There's a difference of about a 100-fold in change. I'm not a climate scientist, but a 100 fold difference in change is a 100-fold less time for people to adapt and animals to evolve.\\n\\nMethane, nitrogen oxide, and carbon dioxide are the three big greenhouse gases we produce. [Here's the formula for how they heat the earth. ](http://i.imgur.com/540Ftxq.png).[Here's an explanation for how the math works. It's hard, and will take a while to understand completely.](http://www.realclimate.org/index.php/archives/2007/08/the-co2-problem-in-6-easy-steps/).\\n\\n[This is a chart on the change in the atmosphere.](http://www.acs.org/content/acs/en/climatescience/greenhousegases/industrialrevolution/_jcr_content/articleContent/columnbootstrap_2/column0/image.img.jpg/1374088243357.jpg). Dioxide is mispelled but the data is correct. If you want independent confirmation, google it.\\n\\n1900: Methane: 800 parts per million. Now: Methane:2000 parts per million. \\n\\n1900: Nitrogen Oxide: 900 parts per million. Now: Nitrogen Oxide: 1300 parts per million.\\n\\n1900: Carbon Dioxide: 900 parts per million. Now: 1900 parts per million. \\n\\nAs you can see, we've roughly doubled the amount of greenhouse gas. \\n\\n[This is the amount of global warming we've caused.](http://en.wikipedia.org/wiki/Radiative_forcing#mediaviewer/File:Radiative-forcings.svg) Again, you can check out all the data and formulas. It's simple physics. It's what we use to propel spacecraft and make sure they don't over heat.\\n\\nAccording to [this](http://www.mpoweruk.com/solar_power.htm), the earth receives an average of 342 Watts per metre. We, adding 1.5 watts per metre, increased the amount of energy the earth is receiving by 0.5%. \\n\\nThat's why we cause global warming. Someone qualified can tell you about the biological effects in scientific detail.   \n",
       "80                                                                                                                                                                                                                                                                                                                                                                                                                                                                                                                                                                                                                                                                                                                                                                                                                                                                                                                                                                                                                                                                                                                                                                                                                                                                                                                                                                                                                                                                                                                                                                                                                                                                                                                                                                                                                                                                                                                                                                                                                                                                                                                                                                                                                                                                                                                                                                                                                                                                                                                                                                                                                                                                                                                                                                                                                                                                                                                                                                                                                                                                                                                                                                                                                                                                                                                                                                                                                                                                                                                                                                                                                                                                                                                                                                                                                                                                                                                                                                                                                                                                                                                                                                                                                          [32,6 percent](http://iopscience.iop.org/1748-9326/8/2/024024/article) out of 12000 studies agrees that climate change is man made. Only 0.7 percent reject man made climate change. 3896 vs 78. \\n   \n",
       "81                                                                                                                                                                                                                                                                                                                                                                                                                                                                                                                                                                                                                                                                                                                                                                                                                                                                                                                                                                                                                                                                                                                                                                                                                                                                                                                                                                                                                                                                                                                                                                                                                                                                                                                                                                                                                                                                                                                                                                                                                                                                                                                                                                                                                                                                                                                                                                                                                                                                                                                                                                                                                                                                                                                                                                                                                                                                                                                                                                                                                                                                                                                                                                                                                                                                                                                                                                                                                                                                                                                                                                                                                                                                                                                                                                                                                                                                                                                                                                                                                                                                                                                                                                                                                                                                                                                 Are you a geologist, climate scientist, meteorologist, or possess any advanced degree in the earth sciences?   \n",
       "90                                                                                                                                                                                                                                                                                                                                                                                                                                                                                                                                                                                                                                                                                                                                                                                                                                                                                                                                                                                                                                                                                                                                                                                                                                                                                                                                                                                                                                                                                                                                                                                                                                                                                                                                                                                                                                                                                                                                                                                                                                                                                                                                                                                                                                                                                                                                                                                                                                                                                                                                                                                                                                                                                                                                                                                                                                                                                                                                                                                                                                                                                                                                                                                                                                                                                                                                                                                                                                                                                                                                                                                                                                                                                                                                                                                                                                                                                                                                                                                                                                                         Just a quick point, governments govern the people inside their boarders.  Do you think that people should be allowed to change the climate by introducing CO2,methane, etc?  If the actions of people are changing the global climate then should not the government be responsible for setting the rules so that their own people are not acting on a global stage?   \n",
       "96                                                                                                                                                                                                                                                                                                                                                                                                                                                                                                                                                                                                                                                                                                                                                                                                                                                                                                                                                                                                                                                                                                                                                                                                                                                                                                                                                                                                                                                                                                                                                                                                                                                                                                                                                                                                                                                                                                                                                                                                                                                                                                                                                                                                                                                                                                                                                                                                                                                                                                                                                                                                                                                                                                                                                                                                                                                                                                                                                                                                                                                                                                                                                                                                                                                                                                                                                                                                                                                                                                                                                                                                                                                            You are saying that some may be affected negatively, but others may be affected positively.\\n\\nThis is true, but for embracing something, don't I have to know it will work out better with a higher degree of confidence than the speculative?  \\n\\nEven when a bad thing happens, there are some people who can benefit, a hurricane might knock down that tree that's been bothering you, an earthquake might expose some previously unknown mineral deposit in a mine.  But to embrace it, that is a bit much.\\n\\nIn regards, not going crazy trying to stop it, I don't think you'll find that anybody wants to go crazy doing anything.  It's just a disagreement about what constitutes reasonable and prudent versus radical and insane as it were.\\n\\n\\n   \n",
       "103                                                                                                                                                                                                                                                                                                                                                                                                                                                                                                                                                                                                                                                                                                                                                                                                                                                                                                                                                                                                                                                                                                                                                                                                                                                                                                                                                                                                                                                                                                                                                                                                                                                                                                                                                                                                                                                                                                                                                                                                                                                                                                                                                                                                                                                                                                                                                                                                                                                                                                                                                                                                                                                                                                                                                                                                                                                                                                                                                                                                                                                                                                                                                                                                                                                                                                                                                                                                                                                                                                                                                                                                                                                                                                                                                                                                                                                                                                                                                                                                                                                                                                                                                               What about the countries that are incredibly low lying and will be completely ruined by a rising sea level? Or Australia, which has most of its cities on the coast? Do you really think it's that easy to just pick up an entire country and move it inland?   \n",
       "\n",
       "    three_class_predicted_label  manual_label  \n",
       "3                     agreement  disagreement  \n",
       "14                    agreement  disagreement  \n",
       "18                        other  disagreement  \n",
       "27                    agreement  disagreement  \n",
       "29                        other  disagreement  \n",
       "30                        other  disagreement  \n",
       "32                        other  disagreement  \n",
       "42                    agreement  disagreement  \n",
       "48                        other  disagreement  \n",
       "53                        other  disagreement  \n",
       "54                    agreement  disagreement  \n",
       "57                        other  disagreement  \n",
       "60                        other  disagreement  \n",
       "61                        other  disagreement  \n",
       "62                    agreement  disagreement  \n",
       "65                    agreement  disagreement  \n",
       "68                        other  disagreement  \n",
       "69                    agreement  disagreement  \n",
       "70                    agreement  disagreement  \n",
       "71                        other  disagreement  \n",
       "73                        other  disagreement  \n",
       "77                        other  disagreement  \n",
       "79                        other  disagreement  \n",
       "80                        other  disagreement  \n",
       "81                        other  disagreement  \n",
       "90                        other  disagreement  \n",
       "96                    agreement  disagreement  \n",
       "103                       other  disagreement  "
      ]
     },
     "execution_count": 80,
     "metadata": {},
     "output_type": "execute_result"
    }
   ],
   "source": [
    "error_df.loc[error_df['manual_label']=='disagreement']"
   ]
  },
  {
   "cell_type": "code",
   "execution_count": 71,
   "metadata": {
    "hidden": true
   },
   "outputs": [
    {
     "data": {
      "text/plain": [
       "-1              6292\n",
       "disagreement      28\n",
       "other              7\n",
       "agreement          1\n",
       "Name: manual_label, dtype: int64"
      ]
     },
     "execution_count": 71,
     "metadata": {},
     "output_type": "execute_result"
    }
   ],
   "source": [
    "# model's main errors are undercounting disagreement\n",
    "dat_df.loc[dat_df[pred_col_name]!=dat_df['manual_label']]['manual_label'].value_counts()"
   ]
  },
  {
   "cell_type": "code",
   "execution_count": 82,
   "metadata": {
    "hidden": true
   },
   "outputs": [
    {
     "data": {
      "text/plain": [
       "dict_keys(['training', '_parameters', '_buffers', '_non_persistent_buffers_set', '_backward_hooks', '_forward_hooks', '_forward_pre_hooks', '_state_dict_hooks', '_load_state_dict_pre_hooks', '_modules'])"
      ]
     },
     "execution_count": 82,
     "metadata": {},
     "output_type": "execute_result"
    }
   ],
   "source": [
    "best_model.__dict__.keys()"
   ]
  },
  {
   "cell_type": "code",
   "execution_count": null,
   "metadata": {
    "hidden": true
   },
   "outputs": [],
   "source": []
  }
 ],
 "metadata": {
  "kernelspec": {
   "display_name": "Python 3",
   "language": "python",
   "name": "python3"
  },
  "language_info": {
   "codemirror_mode": {
    "name": "ipython",
    "version": 3
   },
   "file_extension": ".py",
   "mimetype": "text/x-python",
   "name": "python",
   "nbconvert_exporter": "python",
   "pygments_lexer": "ipython3",
   "version": "3.6.8"
  },
  "toc": {
   "base_numbering": 1,
   "nav_menu": {},
   "number_sections": true,
   "sideBar": true,
   "skip_h1_title": false,
   "title_cell": "Table of Contents",
   "title_sidebar": "Contents",
   "toc_cell": false,
   "toc_position": {},
   "toc_section_display": true,
   "toc_window_display": false
  },
  "varInspector": {
   "cols": {
    "lenName": 16,
    "lenType": 16,
    "lenVar": 40
   },
   "kernels_config": {
    "python": {
     "delete_cmd_postfix": "",
     "delete_cmd_prefix": "del ",
     "library": "var_list.py",
     "varRefreshCmd": "print(var_dic_list())"
    },
    "r": {
     "delete_cmd_postfix": ") ",
     "delete_cmd_prefix": "rm(",
     "library": "var_list.r",
     "varRefreshCmd": "cat(var_dic_list()) "
    }
   },
   "types_to_exclude": [
    "module",
    "function",
    "builtin_function_or_method",
    "instance",
    "_Feature"
   ],
   "window_display": false
  }
 },
 "nbformat": 4,
 "nbformat_minor": 4
}
