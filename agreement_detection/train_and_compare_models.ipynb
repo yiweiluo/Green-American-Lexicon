{
 "cells": [
  {
   "cell_type": "code",
   "execution_count": 6,
   "metadata": {},
   "outputs": [],
   "source": [
    "import json\n",
    "import os\n",
    "import glob\n",
    "import pandas as pd\n",
    "import numpy as np\n",
    "from collections import Counter, defaultdict\n",
    "import random"
   ]
  },
  {
   "cell_type": "code",
   "execution_count": 83,
   "metadata": {},
   "outputs": [
    {
     "name": "stdout",
     "output_type": "stream",
     "text": [
      "jagupard19\n",
      "scr2 scr1 scr0\n"
     ]
    }
   ],
   "source": [
    "import platform\n",
    "\n",
    "# print machine name\n",
    "machine_name = platform.node().split(\".\")[0]\n",
    "print(machine_name)\n",
    "\n",
    "# print available scratch directories\n",
    "print(\" \".join(os.listdir(f\"/{machine_name}\")))"
   ]
  },
  {
   "cell_type": "code",
   "execution_count": 84,
   "metadata": {},
   "outputs": [
    {
     "name": "stdout",
     "output_type": "stream",
     "text": [
      "/jagupard19/scr1/yiweil\n"
     ]
    }
   ],
   "source": [
    "DISK_IO_DIR = \"/{}/scr1/yiweil\".format(machine_name)\n",
    "print(DISK_IO_DIR)\n",
    "if not os.path.exists(DISK_IO_DIR):\n",
    "    os.mkdir(DISK_IO_DIR)"
   ]
  },
  {
   "cell_type": "markdown",
   "metadata": {},
   "source": [
    "# Zhang et al. Reddit discourse acts"
   ]
  },
  {
   "cell_type": "markdown",
   "metadata": {},
   "source": [
    "## Load data"
   ]
  },
  {
   "cell_type": "code",
   "execution_count": 3,
   "metadata": {
    "scrolled": true
   },
   "outputs": [
    {
     "name": "stdout",
     "output_type": "stream",
     "text": [
      "9483 5\n"
     ]
    }
   ],
   "source": [
    "coarse_discourse_dir = 'coarse-discourse'\n",
    "coarse_discourse_data_path = os.path.join(coarse_discourse_dir,'coarse_discourse_dataset.json')\n",
    "with open(coarse_discourse_data_path,'r') as f:\n",
    "    coarse_discourse_data = f.read().splitlines()\n",
    "coarse_discourse_data_list = [json.loads(coarse_discourse_data[ix]) for ix in range(len(coarse_discourse_data))]\n",
    "print(len(coarse_discourse_data_list),len(coarse_discourse_data_list[0]))"
   ]
  },
  {
   "cell_type": "code",
   "execution_count": 4,
   "metadata": {},
   "outputs": [
    {
     "name": "stdout",
     "output_type": "stream",
     "text": [
      "9483\n",
      "115827\n"
     ]
    }
   ],
   "source": [
    "with open(os.path.join(coarse_discourse_dir,'coarse_discourse_dump_reddit.json')) as jsonfile:\n",
    "    lines = jsonfile.readlines()\n",
    "\n",
    "post_id_dict = {}\n",
    "for line in lines:\n",
    "    reader = json.loads(line)\n",
    "    for post in reader['posts']:\n",
    "        post_id_dict[post['id']] = post\n",
    "\n",
    "print(len(lines))\n",
    "print(len(post_id_dict))"
   ]
  },
  {
   "cell_type": "code",
   "execution_count": 55,
   "metadata": {
    "scrolled": true
   },
   "outputs": [],
   "source": [
    "#post_id_dict['t1_d2rp8sy']#['body']"
   ]
  },
  {
   "cell_type": "markdown",
   "metadata": {
    "heading_collapsed": true
   },
   "source": [
    "## Inspect examples manually"
   ]
  },
  {
   "cell_type": "code",
   "execution_count": 10,
   "metadata": {
    "code_folding": [],
    "hidden": true
   },
   "outputs": [],
   "source": [
    "def get_examples_of_discourse(discourse_acts):\n",
    "    out = []\n",
    "    \n",
    "    for ix in range(len(coarse_discourse_data_list)):\n",
    "        posts_ = coarse_discourse_data_list[ix]['posts']\n",
    "        for post_ in posts_:\n",
    "            id_ = post_['id']\n",
    "            try:\n",
    "                main_type_ = post_['majority_type']\n",
    "                if main_type_ in discourse_acts:\n",
    "                    if id_ in post_id_dict:\n",
    "                        try:\n",
    "                            text = post_id_dict[id_]['body']\n",
    "                            out.append((id_,text,main_type_))\n",
    "                        except KeyError:\n",
    "                            continue\n",
    "                            print(id_)\n",
    "                            print(post_id_dict[id_])\n",
    "            except KeyError:\n",
    "                continue#print(post_)\n",
    "    \n",
    "    return out"
   ]
  },
  {
   "cell_type": "code",
   "execution_count": 11,
   "metadata": {
    "hidden": true,
    "scrolled": true
   },
   "outputs": [],
   "source": [
    "acts_by_type = {discourse_act: get_examples_of_discourse({discourse_act})\n",
    "               for discourse_act in ['agreement','disagreement','appreciation','negativereaction','question',\n",
    "                                    'answer','elaboration','humor','announcement']}"
   ]
  },
  {
   "cell_type": "code",
   "execution_count": 12,
   "metadata": {
    "hidden": true,
    "scrolled": true
   },
   "outputs": [
    {
     "data": {
      "text/plain": [
       "[('t1_cen3bzv',\n",
       "  \"Yeah I was thinking the same, its what I've been doing.\",\n",
       "  'agreement'),\n",
       " ('t1_cenqpzw',\n",
       "  \"Oh certainly. I wouldn't be an advocate of anything that makes the game boring for the player because why play if that's the case? My argument is rooted in that it is better to do things other than slayer if you solely want combat exp and money but definitely not better if you want to max. For me (very casual player, 4-6 hours a week), I like nmz because I can study/write papers while I do it with very little lost exp.\",\n",
       "  'agreement'),\n",
       " ('t1_chh9beq',\n",
       "  'I agree Engineering does sound awesome but it would take awhile to think of ways to make it so in-depth for high levels. Summoning, imo, was a great skill. Idk why, I just liked the perks from some of the pets.',\n",
       "  'agreement'),\n",
       " ('t1_d2rp4x5',\n",
       "  'would love this ive been collecting them for almost a yr now :-)',\n",
       "  'agreement'),\n",
       " ('t1_d3grv0o',\n",
       "  \"That is very true, such a strange feature, I'd be willing to bet its a mistake and not intended\",\n",
       "  'agreement'),\n",
       " ('t1_cdo7v6s', 'Yeah that was my impression lol.  No worries.', 'agreement'),\n",
       " ('t1_cr0uq2p',\n",
       "  \"I joined the Steam network. There's a lot for cheap to distract even the most honed gaming enthusiast.       \",\n",
       "  'agreement'),\n",
       " ('t1_cr06v1y',\n",
       "  'I want to second the music one. A little bit of upfront cost, but so many hours of fun.',\n",
       "  'agreement'),\n",
       " ('t1_cenmfvg',\n",
       "  'Another Brisbanite checking in. Got the alarm set for 3:50am.\\n\\nWaking up early to watch Pat, Nav and Aldon put Cam to sleep!',\n",
       "  'agreement'),\n",
       " ('t1_cenlb4f',\n",
       "  \"I'll be cheering on from Melbourne, at 5am, the sun might just start showing some rays.  I'll with you in spirit /u/Waldinator !\",\n",
       "  'agreement')]"
      ]
     },
     "execution_count": 12,
     "metadata": {},
     "output_type": "execute_result"
    }
   ],
   "source": [
    "acts_by_type['agreement'][:10]"
   ]
  },
  {
   "cell_type": "code",
   "execution_count": 13,
   "metadata": {
    "hidden": true,
    "scrolled": false
   },
   "outputs": [
    {
     "data": {
      "text/plain": [
       "[('t1_ckcpwx7', 'In Russia goblin invasion wins you', 'humor'),\n",
       " ('t1_csxemb6', 'lol', 'humor'),\n",
       " ('t3_3j07o7', '', 'humor'),\n",
       " ('t1_cul6ijf', 'acc sharing', 'humor'),\n",
       " ('t1_cul6m9s',\n",
       "  'I think your cat needs attention. You should stroke it.',\n",
       "  'humor'),\n",
       " ('t1_cul7d4d', '>OP stroke your pussy', 'humor'),\n",
       " ('t1_cula6iw', 'Have him do rat catchers for you m8', 'humor'),\n",
       " ('t1_culhdam', \"On the internet, nobody knows that you're a cat.\", 'humor'),\n",
       " ('t1_culmdfp',\n",
       "  'Ah, the infamous catkeys. Better than mousekeys by a long shot',\n",
       "  'humor'),\n",
       " ('t1_culf3hh', 'Petscape >_>', 'humor')]"
      ]
     },
     "execution_count": 13,
     "metadata": {},
     "output_type": "execute_result"
    }
   ],
   "source": [
    "acts_by_type['humor'][:10]"
   ]
  },
  {
   "cell_type": "code",
   "execution_count": 9,
   "metadata": {
    "hidden": true,
    "scrolled": true
   },
   "outputs": [
    {
     "data": {
      "text/plain": [
       "[('t1_cngitkh',\n",
       "  'Then stop sniveling about people taking away your precious economy and indoor plumbing!\\n\\n',\n",
       "  'negativereaction'),\n",
       " ('t1_cngioeq',\n",
       "  'Silliness. The same happens when we ask Pro Athletes or Pop Stars to talk about the world.',\n",
       "  'negativereaction'),\n",
       " ('t1_cngkvm4', 'Bye.', 'negativereaction'),\n",
       " ('t1_cngirjx',\n",
       "  'It sounds like you object to anyone calling you out on *your* hypocrisy, but enjoy calling out the hypocrisy you perceive in others. There might be a word for that, in fact...\\n\\n\\n',\n",
       "  'negativereaction'),\n",
       " ('t1_cngkb25',\n",
       "  '> You would think that scientists would, having recognized that they came out of this world, would treat it well. \\n\\nBased on this generalization, clearly, you are speaking of your very limited experience with scientists. \\n\\n> Perhaps they treat it better than the religious types do, who claim...\\n\\nTypes? More generalizations. \\n\\n> better...\\n\\nUnsubstantiated. Better or worse only depends on who defines those words. The right answer varies wildly depending on who you agree with.\\n\\n> Yet, to me the bulldozer technique seems to be the way science is often applied. \\n\\nThis is just a lazy generalization. Science is applied in so many, unknown ways to you that to make a statement like that is just ignorant. \\n',\n",
       "  'negativereaction')]"
      ]
     },
     "execution_count": 9,
     "metadata": {},
     "output_type": "execute_result"
    }
   ],
   "source": [
    "negative_reaction_acts[-5:]"
   ]
  },
  {
   "cell_type": "code",
   "execution_count": 10,
   "metadata": {
    "hidden": true,
    "scrolled": true
   },
   "outputs": [
    {
     "data": {
      "text/plain": [
       "[('t1_cn4oefk',\n",
       "  'As opposed to the shitty inconsistent Synchro build? Please, it suffers from the same problems but with added brick hands.',\n",
       "  'disagreement'),\n",
       " ('t1_cn4oxaw',\n",
       "  \"A) It's not as shitty B) How in the hell does it brick harder than the fusion build where no matter what the best thing you can do is drop a 2k Beater and if you don't have poly or edge-imp you full out lose C) The control build is better than both of them\",\n",
       "  'disagreement'),\n",
       " ('t1_cn5cexx',\n",
       "  \"As opposed to any decent deck in the meta. Satellar, battery, Noble Knights, Geargia, even Yang all have had decent showings as solid Tier 2 Decks. I just cannot see Fluffals doing anything against any Tier 2+ deck. I always want more Tier Decks, I don't *want* Fluffs to suck, but all I see is a craply designed archetype like so many that are fun but simply not meta. \\n\\n\\nJust how the game works.\",\n",
       "  'disagreement'),\n",
       " ('t1_d0kc0xr',\n",
       "  \"The extra deck is already so tight on this deck, i just can't find space for both lightning and utopia, so i'd rather not run him\",\n",
       "  'disagreement'),\n",
       " ('t1_cngixa9',\n",
       "  '> ... they go to \"apply\" their science, well, they treat the world as if it is \"other\", which is to say, poorly, for the most part.\\n\\nLol. False.',\n",
       "  'disagreement')]"
      ]
     },
     "execution_count": 10,
     "metadata": {},
     "output_type": "execute_result"
    }
   ],
   "source": [
    "disagreement_acts[-5:]"
   ]
  },
  {
   "cell_type": "markdown",
   "metadata": {},
   "source": [
    "## Implement BERT-based model"
   ]
  },
  {
   "cell_type": "code",
   "execution_count": null,
   "metadata": {},
   "outputs": [],
   "source": [
    "# simple sequence classification task: input = text; output = label\n",
    "# https://towardsdatascience.com/bert-text-classification-using-pytorch-723dfb8b6b5b"
   ]
  },
  {
   "cell_type": "code",
   "execution_count": 3,
   "metadata": {},
   "outputs": [],
   "source": [
    "coarse_discourse_dir = 'coarse-discourse'\n",
    "data_dir = os.path.join(coarse_discourse_dir,'model_data')"
   ]
  },
  {
   "cell_type": "code",
   "execution_count": 27,
   "metadata": {
    "scrolled": true
   },
   "outputs": [],
   "source": [
    "# Libraries\n",
    "import matplotlib.pyplot as plt\n",
    "import pandas as pd\n",
    "import torch\n",
    "\n",
    "# Preliminaries\n",
    "from torchtext.data import Field, TabularDataset, BucketIterator, Iterator\n",
    "\n",
    "# Models\n",
    "import torch.nn as nn\n",
    "from transformers import BertTokenizer, BertForSequenceClassification\n",
    "\n",
    "# Training\n",
    "import torch.optim as optim\n",
    "\n",
    "# Evaluation\n",
    "from sklearn.metrics import accuracy_score, classification_report, confusion_matrix\n",
    "import seaborn as sns\n",
    "\n",
    "SEED = 4242"
   ]
  },
  {
   "cell_type": "code",
   "execution_count": 5,
   "metadata": {},
   "outputs": [
    {
     "data": {
      "text/plain": [
       "True"
      ]
     },
     "execution_count": 5,
     "metadata": {},
     "output_type": "execute_result"
    }
   ],
   "source": [
    "torch.cuda.is_available()"
   ]
  },
  {
   "cell_type": "code",
   "execution_count": 6,
   "metadata": {},
   "outputs": [
    {
     "name": "stdout",
     "output_type": "stream",
     "text": [
      "Using device: cuda\n"
     ]
    }
   ],
   "source": [
    "device = torch.device('cuda' if torch.cuda.is_available() else 'cpu')\n",
    "print('Using device:', device)"
   ]
  },
  {
   "cell_type": "code",
   "execution_count": 7,
   "metadata": {
    "scrolled": false
   },
   "outputs": [
    {
     "name": "stderr",
     "output_type": "stream",
     "text": [
      "I0930 09:46:23.010442 139846356690688 tokenization_utils.py:373] loading file https://s3.amazonaws.com/models.huggingface.co/bert/bert-base-uncased-vocab.txt from cache at /sailhome/yiweil/.cache/torch/transformers/26bc1ad6c0ac742e9b52263248f6d0f00068293b33709fae12320c0e35ccfbbb.542ce4285a40d23a559526243235df47c5f75c197f04f37d1a0c124c32c9a084\n"
     ]
    }
   ],
   "source": [
    "tokenizer = BertTokenizer.from_pretrained('bert-base-uncased')\n",
    "\n",
    "# Model parameters\n",
    "MAX_SEQ_LEN = 512\n",
    "PAD_INDEX = tokenizer.convert_tokens_to_ids(tokenizer.pad_token)\n",
    "UNK_INDEX = tokenizer.convert_tokens_to_ids(tokenizer.unk_token)"
   ]
  },
  {
   "cell_type": "code",
   "execution_count": 90,
   "metadata": {
    "code_folding": [],
    "scrolled": true
   },
   "outputs": [
    {
     "name": "stdout",
     "output_type": "stream",
     "text": [
      "Wrote train/dev/test splits to coarse-discourse/model_data/five_class\n",
      "\n",
      "Train distribution: 4    56808\n",
      "2     6006\n",
      "0     3441\n",
      "1     2326\n",
      "3     1283\n",
      "Name: label, dtype: int64\n",
      "\n",
      "Dev distribution: 4    8046\n",
      "2     843\n",
      "0     517\n",
      "1     377\n",
      "3     197\n",
      "Name: label, dtype: int64\n",
      "\n",
      "Test distribution: 4    16180\n",
      "2     1747\n",
      "0      995\n",
      "1      668\n",
      "3      373\n",
      "Name: label, dtype: int64\n"
     ]
    }
   ],
   "source": [
    "# Write train/val etc. data\n",
    "subsample=False\n",
    "\n",
    "data_dir = os.path.join(coarse_discourse_dir,'model_data','five_class')\n",
    "if not os.path.exists(data_dir):\n",
    "    os.mkdir(data_dir)\n",
    "\n",
    "LABEL2INT = {\n",
    "    'agreement':0,\n",
    "    'disagreement':1,\n",
    "    'appreciation':2,\n",
    "    'negativereaction':3,\n",
    "    'question':4,\n",
    "    'answer':4,\n",
    "    'elaboration':4,\n",
    "    'humor':4,\n",
    "    'announcement':4\n",
    "}\n",
    "\n",
    "data_df = pd.DataFrame({\n",
    "    'id':[x[0] for x in [item for sublist in acts_by_type.values() for item in sublist]],\n",
    "    'text':[x[1] for x in [item for sublist in acts_by_type.values() for item in sublist]],\n",
    "    'label':[LABEL2INT[x[2]] for x in [item for sublist in acts_by_type.values() for item in sublist]]\n",
    "})\n",
    "\n",
    "# sample indices for train/val/test 70/10/20\n",
    "all_ixs = list(data_df.index)\n",
    "assert len(all_ixs) == len(set(all_ixs)) # make sure indices are unique\n",
    "train_ixs = set(np.random.choice(all_ixs, size=int(0.7*len(all_ixs)), replace=False))\n",
    "dev_test_ixs = list(set(all_ixs).difference(train_ixs))\n",
    "dev_ixs = set(np.random.choice(dev_test_ixs, size=int(0.1*len(all_ixs)), replace=False))\n",
    "test_ixs = set(dev_test_ixs).difference(dev_ixs)\n",
    "assert train_ixs.intersection(dev_ixs) == set() # make sure no train/test/dev overlap\n",
    "assert dev_ixs.intersection(test_ixs) == set()\n",
    "assert train_ixs.intersection(test_ixs) == set()\n",
    "\n",
    "# write those slices of data_df to respective csv files\n",
    "train_df = data_df.iloc[list(train_ixs)].copy()\n",
    "dev_df = data_df.iloc[list(dev_ixs)].copy()\n",
    "test_df = data_df.iloc[list(test_ixs)].copy()\n",
    "\n",
    "# subsample\n",
    "if subsample:\n",
    "    maj_class = train_df['label'].value_counts().index[0]\n",
    "    non_maj_class_df = train_df.loc[train_df['label']!=maj_class]\n",
    "    subsample_n = int(len(non_maj_class_df)/2)\n",
    "    train_df = pd.concat([non_maj_class_df,\n",
    "                          train_df.loc[train_df['label']==maj_class].\\\n",
    "                          sample(n=subsample_n, random_state=SEED, replace=False)],ignore_index=True,axis=0)\n",
    "    print('Subsampling \"{}\" class in training data to {} samples.'.format(maj_class,subsample_n))\n",
    "    \n",
    "    non_maj_class_df = dev_df.loc[dev_df['label']!=maj_class]\n",
    "    subsample_n = int(len(non_maj_class_df)/2)\n",
    "    dev_df = pd.concat([non_maj_class_df,\n",
    "                          dev_df.loc[dev_df['label']==maj_class].\\\n",
    "                          sample(n=subsample_n, random_state=SEED, replace=False)],ignore_index=True,axis=0)\n",
    "    print('Subsampling \"{}\" class in dev data to {} samples.'.format(maj_class,subsample_n))\n",
    "    \n",
    "    non_maj_class_df = test_df.loc[test_df['label']!=maj_class]\n",
    "    subsample_n = int(len(non_maj_class_df)/2)\n",
    "    test_df = pd.concat([non_maj_class_df,\n",
    "                          test_df.loc[test_df['label']==maj_class].\\\n",
    "                          sample(n=subsample_n, random_state=SEED, replace=False)],ignore_index=True,axis=0)\n",
    "    print('Subsampling \"{}\" class in test data to {} samples.'.format(maj_class,subsample_n))\n",
    "\n",
    "# TO DO: apply MSL to tokens instead of charstic',\n",
    "train_df['tokenized_text'] = train_df['text'].apply(lambda x: tokenizer.tokenize(x))\n",
    "dev_df['tokenized_text'] = dev_df['text'].apply(lambda x: tokenizer.tokenize(x))\n",
    "test_df['tokenized_text'] = test_df['text'].apply(lambda x: tokenizer.tokenize(x))\n",
    "train_df['joined_text'] = train_df['tokenized_text'].apply(lambda x: ' '.join(x))\n",
    "dev_df['joined_text'] = dev_df['tokenized_text'].apply(lambda x: ' '.join(x))\n",
    "test_df['joined_text'] = test_df['tokenized_text'].apply(lambda x: ' '.join(x))\n",
    "train_df['truncated_text'] = train_df['joined_text'].apply(lambda x: x[:MAX_SEQ_LEN])\n",
    "dev_df['truncated_text'] = dev_df['joined_text'].apply(lambda x: x[:MAX_SEQ_LEN])\n",
    "test_df['truncated_text'] = test_df['joined_text'].apply(lambda x: x[:MAX_SEQ_LEN])\n",
    "\n",
    "train_df[['truncated_text','label']].to_csv(os.path.join(data_dir,'train.csv'),sep=',',header=True,index=False)\n",
    "dev_df[['truncated_text','label']].to_csv(os.path.join(data_dir,'dev.csv'),sep=',',header=True,index=False)\n",
    "test_df[['truncated_text','label']].to_csv(os.path.join(data_dir,'test.csv'),sep=',',header=True,index=False)\n",
    "print('Wrote train/dev/test splits to {}'.format(data_dir))\n",
    "print('\\nTrain distribution:',train_df['label'].value_counts())\n",
    "print('\\nDev distribution:',dev_df['label'].value_counts())\n",
    "print('\\nTest distribution:',test_df['label'].value_counts())"
   ]
  },
  {
   "cell_type": "code",
   "execution_count": 13,
   "metadata": {},
   "outputs": [],
   "source": [
    "data_dir = os.path.join(coarse_discourse_dir,'model_data','five_class')\n",
    "if not os.path.exists(data_dir):\n",
    "    os.mkdir(data_dir)"
   ]
  },
  {
   "cell_type": "code",
   "execution_count": 14,
   "metadata": {},
   "outputs": [],
   "source": [
    "# Fields\n",
    "label_field = Field(sequential=False, use_vocab=False, batch_first=True, dtype=torch.float)\n",
    "text_field = Field(use_vocab=False, tokenize=tokenizer.encode, lower=False, include_lengths=False, batch_first=True,\n",
    "                   fix_length=MAX_SEQ_LEN, pad_token=PAD_INDEX, unk_token=UNK_INDEX)\n",
    "fields = [('truncated_text', text_field), ('label', label_field)]\n",
    "\n",
    "# TabularDataset\n",
    "source_folder = data_dir\n",
    "train, valid, test = TabularDataset.splits(path=source_folder, train='train.csv', validation='dev.csv',\n",
    "                                           test='test.csv', format='CSV', fields=fields, skip_header=True)\n",
    "\n",
    "# Iterators\n",
    "#device = None # CPU\n",
    "train_iter = BucketIterator(train, batch_size=16, sort_key=None,\n",
    "                            device=device, train=True, sort=False, sort_within_batch=False)\n",
    "valid_iter = BucketIterator(valid, batch_size=16, sort_key=lambda x: len(x.text),\n",
    "                            device=device, train=True, sort=False, sort_within_batch=False)\n",
    "test_iter = Iterator(test, batch_size=16, device=device, train=False, shuffle=False, sort=False)"
   ]
  },
  {
   "cell_type": "code",
   "execution_count": 86,
   "metadata": {
    "code_folding": [
     2
    ]
   },
   "outputs": [],
   "source": [
    "NUM_CLASSES = 5\n",
    "\n",
    "class BERT(nn.Module):\n",
    "\n",
    "    def __init__(self):\n",
    "        super(BERT, self).__init__()\n",
    "\n",
    "        options_name = \"bert-base-uncased\"\n",
    "        self.encoder = BertForSequenceClassification.from_pretrained(options_name,num_labels=NUM_CLASSES)\n",
    "\n",
    "    def forward(self, text, label):\n",
    "        loss, text_fea = self.encoder(text, labels=label)[:2]\n",
    "\n",
    "        return loss, text_fea"
   ]
  },
  {
   "cell_type": "code",
   "execution_count": 93,
   "metadata": {
    "code_folding": [
     2,
     13,
     24,
     36
    ]
   },
   "outputs": [],
   "source": [
    "# Save and Load Functions\n",
    "\n",
    "def save_checkpoint(save_path, model, valid_loss):\n",
    "\n",
    "    if save_path == None:\n",
    "        return\n",
    "    \n",
    "    state_dict = {'model_state_dict': model.state_dict(),\n",
    "                  'valid_loss': valid_loss}\n",
    "    \n",
    "    torch.save(state_dict, save_path)\n",
    "    print(f'Model saved to ==> {save_path}')\n",
    "\n",
    "def load_checkpoint(load_path, model):\n",
    "    \n",
    "    if load_path==None:\n",
    "        return\n",
    "    \n",
    "    state_dict = torch.load(load_path, map_location=device)\n",
    "    print(f'Model loaded from <== {load_path}')\n",
    "    \n",
    "    model.load_state_dict(state_dict['model_state_dict'])\n",
    "    return state_dict['valid_loss']\n",
    "\n",
    "def save_metrics(save_path, train_loss_list, valid_loss_list, global_steps_list):\n",
    "\n",
    "    if save_path == None:\n",
    "        return\n",
    "    \n",
    "    state_dict = {'train_loss_list': train_loss_list,\n",
    "                  'valid_loss_list': valid_loss_list,\n",
    "                  'global_steps_list': global_steps_list}\n",
    "    \n",
    "    torch.save(state_dict, save_path)\n",
    "    print(f'Model saved to ==> {save_path}')\n",
    "\n",
    "def load_metrics(load_path):\n",
    "\n",
    "    if load_path==None:\n",
    "        return\n",
    "    \n",
    "    state_dict = torch.load(load_path, map_location=device)\n",
    "    print(f'Model loaded from <== {load_path}')\n",
    "    \n",
    "    return state_dict['train_loss_list'], state_dict['valid_loss_list'], state_dict['global_steps_list']"
   ]
  },
  {
   "cell_type": "code",
   "execution_count": 94,
   "metadata": {
    "code_folding": [
     7
    ],
    "scrolled": true
   },
   "outputs": [
    {
     "name": "stdout",
     "output_type": "stream",
     "text": [
      "Saving model output to: /jagupard27/scr1/yiweil/model_output/bert/five_class\n"
     ]
    },
    {
     "name": "stderr",
     "output_type": "stream",
     "text": [
      "I0930 16:51:01.655834 139846356690688 configuration_utils.py:151] loading configuration file https://s3.amazonaws.com/models.huggingface.co/bert/bert-base-uncased-config.json from cache at /sailhome/yiweil/.cache/torch/transformers/4dad0251492946e18ac39290fcfe91b89d370fee250efe9521476438fe8ca185.7156163d5fdc189c3016baca0775ffce230789d7fa2a42ef516483e4ca884517\n",
      "I0930 16:51:01.660797 139846356690688 configuration_utils.py:168] Model config {\n",
      "  \"architectures\": [\n",
      "    \"BertForMaskedLM\"\n",
      "  ],\n",
      "  \"attention_probs_dropout_prob\": 0.1,\n",
      "  \"finetuning_task\": null,\n",
      "  \"hidden_act\": \"gelu\",\n",
      "  \"hidden_dropout_prob\": 0.1,\n",
      "  \"hidden_size\": 768,\n",
      "  \"initializer_range\": 0.02,\n",
      "  \"intermediate_size\": 3072,\n",
      "  \"layer_norm_eps\": 1e-12,\n",
      "  \"max_position_embeddings\": 512,\n",
      "  \"model_type\": \"bert\",\n",
      "  \"num_attention_heads\": 12,\n",
      "  \"num_hidden_layers\": 12,\n",
      "  \"num_labels\": 5,\n",
      "  \"output_attentions\": false,\n",
      "  \"output_hidden_states\": false,\n",
      "  \"pad_token_id\": 0,\n",
      "  \"pruned_heads\": {},\n",
      "  \"torchscript\": false,\n",
      "  \"type_vocab_size\": 2,\n",
      "  \"use_bfloat16\": false,\n",
      "  \"vocab_size\": 30522\n",
      "}\n",
      "\n",
      "I0930 16:51:01.981809 139846356690688 modeling_utils.py:337] loading weights file https://s3.amazonaws.com/models.huggingface.co/bert/bert-base-uncased-pytorch_model.bin from cache at /sailhome/yiweil/.cache/torch/transformers/aa1ef1aede4482d0dbcd4d52baad8ae300e60902e88fcb0bebdec09afd232066.36ca03ab34a1a5d5fa7bc3d03d55c4fa650fed07220e2eeebc06ce58d0e9a157\n",
      "I0930 16:51:04.697111 139846356690688 modeling_utils.py:405] Weights of BertForSequenceClassification not initialized from pretrained model: ['classifier.weight', 'classifier.bias']\n",
      "I0930 16:51:04.697703 139846356690688 modeling_utils.py:408] Weights from pretrained model not used in BertForSequenceClassification: ['cls.predictions.bias', 'cls.predictions.transform.dense.weight', 'cls.predictions.transform.dense.bias', 'cls.predictions.decoder.weight', 'cls.seq_relationship.weight', 'cls.seq_relationship.bias', 'cls.predictions.transform.LayerNorm.weight', 'cls.predictions.transform.LayerNorm.bias']\n"
     ]
    },
    {
     "name": "stdout",
     "output_type": "stream",
     "text": [
      "Epoch [1/5], Step [2183/21835], Train Loss: 0.5473, Valid Loss: 0.4671\n",
      "Model saved to ==> /jagupard27/scr1/yiweil/model_output/bert/five_class/model.pt\n",
      "Model saved to ==> /jagupard27/scr1/yiweil/model_output/bert/five_class/metrics.pt\n",
      "Epoch [1/5], Step [4366/21835], Train Loss: 0.4479, Valid Loss: 0.4452\n",
      "Model saved to ==> /jagupard27/scr1/yiweil/model_output/bert/five_class/model.pt\n",
      "Model saved to ==> /jagupard27/scr1/yiweil/model_output/bert/five_class/metrics.pt\n",
      "Epoch [2/5], Step [6549/21835], Train Loss: 0.3817, Valid Loss: 0.4358\n",
      "Model saved to ==> /jagupard27/scr1/yiweil/model_output/bert/five_class/model.pt\n",
      "Model saved to ==> /jagupard27/scr1/yiweil/model_output/bert/five_class/metrics.pt\n",
      "Epoch [2/5], Step [8732/21835], Train Loss: 0.3807, Valid Loss: 0.4029\n",
      "Model saved to ==> /jagupard27/scr1/yiweil/model_output/bert/five_class/model.pt\n",
      "Model saved to ==> /jagupard27/scr1/yiweil/model_output/bert/five_class/metrics.pt\n",
      "Epoch [3/5], Step [10915/21835], Train Loss: 0.3015, Valid Loss: 0.4402\n",
      "Epoch [3/5], Step [13098/21835], Train Loss: 0.3023, Valid Loss: 0.4298\n",
      "Epoch [4/5], Step [15281/21835], Train Loss: 0.2056, Valid Loss: 0.5059\n",
      "Epoch [4/5], Step [17464/21835], Train Loss: 0.2192, Valid Loss: 0.4948\n",
      "Epoch [5/5], Step [19647/21835], Train Loss: 0.1366, Valid Loss: 0.5692\n",
      "Epoch [5/5], Step [21830/21835], Train Loss: 0.1508, Valid Loss: 0.6250\n",
      "Model saved to ==> /jagupard27/scr1/yiweil/model_output/bert/five_class/metrics.pt\n",
      "Finished Training!\n"
     ]
    }
   ],
   "source": [
    "# Training Function\n",
    "\n",
    "destination_folder = os.path.join(DISK_IO_DIR,'model_output','bert','five_class')\n",
    "if not os.path.exists(destination_folder):\n",
    "    os.makedirs(destination_folder)\n",
    "print('Saving model output to:',destination_folder)\n",
    "\n",
    "def train(model,\n",
    "          optimizer,\n",
    "          criterion = nn.CrossEntropyLoss,\n",
    "          train_loader = train_iter,\n",
    "          valid_loader = valid_iter,\n",
    "          num_epochs = 5,\n",
    "          eval_every = len(train_iter) // 2,\n",
    "          file_path = destination_folder,\n",
    "          best_valid_loss = float(\"Inf\")):\n",
    "    \n",
    "    # initialize running values\n",
    "    running_loss = 0.0\n",
    "    valid_running_loss = 0.0\n",
    "    global_step = 0\n",
    "    train_loss_list = []\n",
    "    valid_loss_list = []\n",
    "    global_steps_list = []\n",
    "\n",
    "    # training loop\n",
    "    model.train()\n",
    "    for epoch in range(num_epochs):\n",
    "        for (texts, labels), _ in train_loader:\n",
    "            labels = labels.type(torch.LongTensor)           \n",
    "            labels = labels.to(device)\n",
    "            texts = texts.type(torch.LongTensor)  \n",
    "            texts = texts.to(device)\n",
    "            output = model(texts, labels)\n",
    "            loss, _ = output\n",
    "\n",
    "            optimizer.zero_grad()\n",
    "            loss.backward()\n",
    "            optimizer.step()\n",
    "\n",
    "            # update running values\n",
    "            running_loss += loss.item()\n",
    "            global_step += 1\n",
    "\n",
    "            # evaluation step\n",
    "            if global_step % eval_every == 0:\n",
    "                model.eval()\n",
    "                with torch.no_grad():                    \n",
    "\n",
    "                    # validation loop\n",
    "                    for (texts, labels), _ in valid_loader:\n",
    "                        labels = labels.type(torch.LongTensor)           \n",
    "                        labels = labels.to(device)\n",
    "                        texts = texts.type(torch.LongTensor)  \n",
    "                        texts = texts.to(device)\n",
    "                        output = model(texts, labels)\n",
    "                        loss, _ = output\n",
    "                        \n",
    "                        valid_running_loss += loss.item()\n",
    "\n",
    "                # evaluation\n",
    "                average_train_loss = running_loss / eval_every\n",
    "                average_valid_loss = valid_running_loss / len(valid_loader)\n",
    "                train_loss_list.append(average_train_loss)\n",
    "                valid_loss_list.append(average_valid_loss)\n",
    "                global_steps_list.append(global_step)\n",
    "\n",
    "                # resetting running values\n",
    "                running_loss = 0.0                \n",
    "                valid_running_loss = 0.0\n",
    "                model.train()\n",
    "\n",
    "                # print progress\n",
    "                print('Epoch [{}/{}], Step [{}/{}], Train Loss: {:.4f}, Valid Loss: {:.4f}'\n",
    "                      .format(epoch+1, num_epochs, global_step, num_epochs*len(train_loader),\n",
    "                              average_train_loss, average_valid_loss))\n",
    "                \n",
    "                # checkpoint\n",
    "                if best_valid_loss > average_valid_loss:\n",
    "                    best_valid_loss = average_valid_loss\n",
    "                    save_checkpoint(file_path + '/' + 'model.pt', model, best_valid_loss)\n",
    "                    save_metrics(file_path + '/' + 'metrics.pt', train_loss_list, valid_loss_list, global_steps_list)\n",
    "    \n",
    "    save_metrics(file_path + '/' + 'metrics.pt', train_loss_list, valid_loss_list, global_steps_list)\n",
    "    print('Finished Training!')\n",
    "\n",
    "model = BERT().to(device)\n",
    "optimizer = optim.Adam(model.parameters(), lr=2e-5)\n",
    "\n",
    "train(model=model, optimizer=optimizer)"
   ]
  },
  {
   "cell_type": "code",
   "execution_count": 95,
   "metadata": {
    "code_folding": [],
    "scrolled": true
   },
   "outputs": [
    {
     "name": "stderr",
     "output_type": "stream",
     "text": [
      "I0930 20:47:03.116885 139846356690688 configuration_utils.py:151] loading configuration file https://s3.amazonaws.com/models.huggingface.co/bert/bert-base-uncased-config.json from cache at /sailhome/yiweil/.cache/torch/transformers/4dad0251492946e18ac39290fcfe91b89d370fee250efe9521476438fe8ca185.7156163d5fdc189c3016baca0775ffce230789d7fa2a42ef516483e4ca884517\n",
      "I0930 20:47:03.122166 139846356690688 configuration_utils.py:168] Model config {\n",
      "  \"architectures\": [\n",
      "    \"BertForMaskedLM\"\n",
      "  ],\n",
      "  \"attention_probs_dropout_prob\": 0.1,\n",
      "  \"finetuning_task\": null,\n",
      "  \"hidden_act\": \"gelu\",\n",
      "  \"hidden_dropout_prob\": 0.1,\n",
      "  \"hidden_size\": 768,\n",
      "  \"initializer_range\": 0.02,\n",
      "  \"intermediate_size\": 3072,\n",
      "  \"layer_norm_eps\": 1e-12,\n",
      "  \"max_position_embeddings\": 512,\n",
      "  \"model_type\": \"bert\",\n",
      "  \"num_attention_heads\": 12,\n",
      "  \"num_hidden_layers\": 12,\n",
      "  \"num_labels\": 5,\n",
      "  \"output_attentions\": false,\n",
      "  \"output_hidden_states\": false,\n",
      "  \"pad_token_id\": 0,\n",
      "  \"pruned_heads\": {},\n",
      "  \"torchscript\": false,\n",
      "  \"type_vocab_size\": 2,\n",
      "  \"use_bfloat16\": false,\n",
      "  \"vocab_size\": 30522\n",
      "}\n",
      "\n",
      "I0930 20:47:03.445079 139846356690688 modeling_utils.py:337] loading weights file https://s3.amazonaws.com/models.huggingface.co/bert/bert-base-uncased-pytorch_model.bin from cache at /sailhome/yiweil/.cache/torch/transformers/aa1ef1aede4482d0dbcd4d52baad8ae300e60902e88fcb0bebdec09afd232066.36ca03ab34a1a5d5fa7bc3d03d55c4fa650fed07220e2eeebc06ce58d0e9a157\n",
      "I0930 20:47:06.177191 139846356690688 modeling_utils.py:405] Weights of BertForSequenceClassification not initialized from pretrained model: ['classifier.weight', 'classifier.bias']\n",
      "I0930 20:47:06.178194 139846356690688 modeling_utils.py:408] Weights from pretrained model not used in BertForSequenceClassification: ['cls.predictions.bias', 'cls.predictions.transform.dense.weight', 'cls.predictions.transform.dense.bias', 'cls.predictions.decoder.weight', 'cls.seq_relationship.weight', 'cls.seq_relationship.bias', 'cls.predictions.transform.LayerNorm.weight', 'cls.predictions.transform.LayerNorm.bias']\n"
     ]
    },
    {
     "name": "stdout",
     "output_type": "stream",
     "text": [
      "Model loaded from <== /jagupard27/scr1/yiweil/model_output/bert/five_class/model.pt\n",
      "Classification Report:\n",
      "              precision    recall  f1-score   support\n",
      "\n",
      "           0     0.6807    0.4221    0.5211       995\n",
      "           1     0.4706    0.1198    0.1909       668\n",
      "           2     0.7829    0.7390    0.7603      1747\n",
      "           3     0.4833    0.0777    0.1339       373\n",
      "           4     0.8963    0.9676    0.9306     16180\n",
      "\n",
      "    accuracy                         0.8754     19963\n",
      "   macro avg     0.6628    0.4652    0.5074     19963\n",
      "weighted avg     0.8537    0.8754    0.8557     19963\n",
      "\n"
     ]
    },
    {
     "data": {
      "image/png": "[encoded data removed]",
      "text/plain": [
       "<Figure size 432x288 with 2 Axes>"
      ]
     },
     "metadata": {
      "needs_background": "light"
     },
     "output_type": "display_data"
    }
   ],
   "source": [
    "# Evaluation Function\n",
    "\n",
    "def evaluate(model, test_loader, num_labels):\n",
    "    y_pred = []\n",
    "    y_true = []\n",
    "\n",
    "    model.eval()\n",
    "    with torch.no_grad():\n",
    "        for (texts, labels), _ in test_loader:\n",
    "\n",
    "                labels = labels.type(torch.LongTensor)           \n",
    "                labels = labels.to(device)\n",
    "                texts = texts.type(torch.LongTensor)  \n",
    "                texts = texts.to(device)\n",
    "                output = model(texts, labels)\n",
    "\n",
    "                _, output = output\n",
    "                y_pred.extend(torch.argmax(output, 1).tolist())\n",
    "                y_true.extend(labels.tolist())\n",
    "    \n",
    "    print('Classification Report:')\n",
    "    print(classification_report(y_true, y_pred, labels=range(num_labels), digits=4))\n",
    "    \n",
    "    cm = confusion_matrix(y_true, y_pred, labels=range(num_labels))\n",
    "    ax= plt.subplot()\n",
    "    sns.heatmap(cm, annot=True, ax = ax, cmap='Blues', fmt=\"d\")\n",
    "\n",
    "    #ax.set_title('Confusion Matrix')\n",
    "\n",
    "    ax.set_xlabel('Predicted Labels')\n",
    "    ax.set_ylabel('True Labels')\n",
    "\n",
    "#     ax.xaxis.set_ticklabels(['agreement', 'disagreement', 'appreciation', 'negative reaction'],\n",
    "#                            rotation=90)\n",
    "#     ax.yaxis.set_ticklabels(['agreement', 'disagreement', 'appreciation', 'negative reaction'])\n",
    "    \n",
    "best_model = BERT().to(device)\n",
    "\n",
    "load_checkpoint(destination_folder + '/model.pt', best_model)\n",
    "\n",
    "evaluate(best_model, test_iter, 5)"
   ]
  },
  {
   "cell_type": "code",
   "execution_count": 82,
   "metadata": {},
   "outputs": [
    {
     "data": {
      "text/plain": [
       "{'agreement': 0,\n",
       " 'disagreement': 1,\n",
       " 'appreciation': 2,\n",
       " 'negativereaction': 3,\n",
       " 'question': 4,\n",
       " 'answer': 5,\n",
       " 'elaboration': 6,\n",
       " 'humor': 7,\n",
       " 'announcement': 8}"
      ]
     },
     "execution_count": 82,
     "metadata": {},
     "output_type": "execute_result"
    }
   ],
   "source": [
    "0,0,0,0.76,0.52,0.19,0,0,0.13,0.93"
   ]
  },
  {
   "cell_type": "code",
   "execution_count": 96,
   "metadata": {},
   "outputs": [
    {
     "data": {
      "text/plain": [
       "Text(0.5, 0, '')"
      ]
     },
     "execution_count": 96,
     "metadata": {},
     "output_type": "execute_result"
    },
    {
     "data": {
      "image/png": "[encoded data removed]",
      "text/plain": [
       "<Figure size 432x288 with 1 Axes>"
      ]
     },
     "metadata": {
      "needs_background": "light"
     },
     "output_type": "display_data"
    }
   ],
   "source": [
    "# y-axis: F1\n",
    "# x-axis: discourse act ['agreement','disagreement','appreciation','negativereaction','other']\n",
    "models = ['9-class','5-class','3-class','2-class']\n",
    "acts = ['answer','elaboration','question','appreciation','agreement','disagreement',\n",
    "       'humor','announcement','negativereaction'] + ['other']\n",
    "\n",
    "to_plot_df = pd.DataFrame({\n",
    "    'act': acts*len(models),\n",
    "    'F1': [0.72,0.26,0.79,0.76,0.52,0.25,0.05,0.35,0.27,0,\n",
    "          0,0,0,0.76,0.52,0.19,0,0,0.13,0.93,\n",
    "          0,0,0,0,0.88,0.8,0,0,0,0.72,\n",
    "          0,0,0,0,0.89,0.83,0,0,0,0],\n",
    "    'model': [item for sublist in [[m]*len(acts) for m in models] for item in sublist]\n",
    "})\n",
    "\n",
    "ax = sns.barplot(data=to_plot_df,x='act',y='F1',hue='model')\n",
    "ax.set_xticklabels(acts,rotation=80,fontsize=15)\n",
    "ax.set_ylabel('F1 score',fontsize=18)\n",
    "ax.set_xlabel('')\n",
    "\n",
    "# save as hi-res image"
   ]
  },
  {
   "cell_type": "markdown",
   "metadata": {
    "heading_collapsed": true
   },
   "source": [
    "# Diyi's contentious conversation classifier"
   ]
  },
  {
   "cell_type": "code",
   "execution_count": null,
   "metadata": {
    "hidden": true
   },
   "outputs": [],
   "source": [
    "# at the conversation-level, rather than comment-level"
   ]
  },
  {
   "cell_type": "code",
   "execution_count": null,
   "metadata": {
    "hidden": true
   },
   "outputs": [],
   "source": []
  },
  {
   "cell_type": "markdown",
   "metadata": {
    "heading_collapsed": true
   },
   "source": [
    "# Simple heuristic models"
   ]
  },
  {
   "cell_type": "markdown",
   "metadata": {
    "hidden": true
   },
   "source": [
    "* use regex to find explicit occurrences of \"agree\", \"disagree\"\n",
    "* some way of connecting deltas w/ agreement? But deltas just indicate that a comment was agreed *with*, not that a comment is agree-*ing*\n"
   ]
  },
  {
   "cell_type": "markdown",
   "metadata": {},
   "source": [
    "# Apply models to data"
   ]
  },
  {
   "cell_type": "markdown",
   "metadata": {},
   "source": [
    "## BERT based on Zhang et al. data"
   ]
  },
  {
   "cell_type": "code",
   "execution_count": 7,
   "metadata": {},
   "outputs": [
    {
     "name": "stderr",
     "output_type": "stream",
     "text": [
      "I1001 11:21:08.291515 139945579976448 file_utils.py:39] PyTorch version 1.7.1 available.\n",
      "I1001 11:21:15.148832 139945579976448 modeling_xlnet.py:194] Better speed can be achieved with apex installed from https://www.github.com/nvidia/apex .\n"
     ]
    }
   ],
   "source": [
    "# Libraries\n",
    "import matplotlib.pyplot as plt\n",
    "import pandas as pd\n",
    "import torch\n",
    "\n",
    "# Preliminaries\n",
    "from torchtext.data import Field, TabularDataset, BucketIterator, Iterator\n",
    "\n",
    "# Models\n",
    "import torch.nn as nn\n",
    "from transformers import BertTokenizer, BertForSequenceClassification\n",
    "\n",
    "# Training\n",
    "import torch.optim as optim\n",
    "\n",
    "# Evaluation\n",
    "from sklearn.metrics import accuracy_score, classification_report, confusion_matrix\n",
    "import seaborn as sns\n",
    "\n",
    "SEED = 4242"
   ]
  },
  {
   "cell_type": "code",
   "execution_count": 8,
   "metadata": {},
   "outputs": [
    {
     "name": "stdout",
     "output_type": "stream",
     "text": [
      "Using device: cuda\n"
     ]
    }
   ],
   "source": [
    "device = torch.device('cuda' if torch.cuda.is_available() else 'cpu')\n",
    "print('Using device:', device)"
   ]
  },
  {
   "cell_type": "code",
   "execution_count": 31,
   "metadata": {},
   "outputs": [
    {
     "name": "stderr",
     "output_type": "stream",
     "text": [
      "I1001 11:40:53.242094 139945579976448 tokenization_utils.py:373] loading file https://s3.amazonaws.com/models.huggingface.co/bert/bert-base-uncased-vocab.txt from cache at /sailhome/yiweil/.cache/torch/transformers/26bc1ad6c0ac742e9b52263248f6d0f00068293b33709fae12320c0e35ccfbbb.542ce4285a40d23a559526243235df47c5f75c197f04f37d1a0c124c32c9a084\n"
     ]
    }
   ],
   "source": [
    "# Model parameters\n",
    "MAX_SEQ_LEN = 512\n",
    "PAD_INDEX = tokenizer.convert_tokens_to_ids(tokenizer.pad_token)\n",
    "UNK_INDEX = tokenizer.convert_tokens_to_ids(tokenizer.unk_token)\n",
    "\n",
    "tokenizer = BertTokenizer.from_pretrained('bert-base-uncased',max_len=MAX_SEQ_LEN)\n",
    "#tokenizer.encode(text, max_length=2)"
   ]
  },
  {
   "cell_type": "code",
   "execution_count": 95,
   "metadata": {},
   "outputs": [
    {
     "name": "stdout",
     "output_type": "stream",
     "text": [
      "Saved preprocessed prediction data to: /jagupard19/scr1/yiweil/to_predict/cmv_climate_comments/cmv_comments_to_predict_preprocessed.csv\n"
     ]
    }
   ],
   "source": [
    "# Pre-process\n",
    "source_folder = os.path.join(DISK_IO_DIR,'to_predict','cmv_climate_comments')\n",
    "dat_df = pd.read_csv(os.path.join(source_folder,'cmv_comments_to_predict.csv'),sep=',',header=0)\n",
    "dat_df['tokenized_text'] = dat_df['body'].apply(lambda x: tokenizer.tokenize(x))\n",
    "dat_df['joined_text'] = dat_df['tokenized_text'].apply(lambda x: ' '.join(x[:MAX_SEQ_LEN]))\n",
    "dat_df['truncated_text'] = dat_df['joined_text'].apply(lambda x: x[:MAX_SEQ_LEN])\n",
    "dat_df[['id','truncated_text','dummy_label']].to_csv(os.path.join(source_folder,'cmv_comments_to_predict_preprocessed.csv'),sep=',',header=True,index=False)\n",
    "print('Saved preprocessed prediction data to:',\n",
    "     os.path.join(source_folder,'cmv_comments_to_predict_preprocessed.csv'))\n",
    "\n",
    "# Fields\n",
    "text_field = Field(use_vocab=False, tokenize=tokenizer.encode, lower=False, include_lengths=False, batch_first=True,\n",
    "                   fix_length=MAX_SEQ_LEN, pad_token=PAD_INDEX, unk_token=UNK_INDEX) \n",
    "label_field = Field(sequential=False, use_vocab=False, batch_first=True, dtype=torch.float)\n",
    "fields = [('id',None), ('truncated_text', text_field), ('dummy_label', label_field)]\n",
    "\n",
    "# TabularDataset\n",
    "dat = TabularDataset(path=os.path.join(source_folder,'cmv_comments_to_predict_preprocessed.csv'), format='CSV', \n",
    "                            fields=fields, skip_header=True)\n",
    "\n",
    "# Iterators\n",
    "data_iter = Iterator(dat, batch_size=16, device=device, train=False, shuffle=False, sort=False)"
   ]
  },
  {
   "cell_type": "code",
   "execution_count": 93,
   "metadata": {
    "code_folding": [
     0
    ]
   },
   "outputs": [],
   "source": [
    "def predict(model, data_loader, num_labels):\n",
    "    y_pred = []\n",
    "    #y_true = []\n",
    "\n",
    "    model.eval()\n",
    "    with torch.no_grad():\n",
    "        for (texts, labels), _ in data_loader:\n",
    "\n",
    "            labels = labels.type(torch.LongTensor)           \n",
    "            labels = labels.to(device)\n",
    "            texts = texts.type(torch.LongTensor)  \n",
    "            texts = texts.to(device)\n",
    "            output = model(texts, labels)\n",
    "\n",
    "            _, output = output\n",
    "            y_pred.extend(torch.argmax(output, 1).tolist())\n",
    "            #y_true.extend(labels.tolist())\n",
    "    \n",
    "    return y_pred"
   ]
  },
  {
   "cell_type": "code",
   "execution_count": 91,
   "metadata": {
    "code_folding": []
   },
   "outputs": [],
   "source": [
    "class BERT(nn.Module):\n",
    "\n",
    "    def __init__(self,num_classes):\n",
    "        super(BERT, self).__init__()\n",
    "\n",
    "        options_name = \"bert-base-uncased\"\n",
    "        self.encoder = BertForSequenceClassification.from_pretrained(options_name,num_labels=num_classes)\n",
    "\n",
    "    def forward(self, text, label):\n",
    "        loss, text_fea = self.encoder(text, labels=label)[:2]\n",
    "\n",
    "        return loss, text_fea\n",
    "\n",
    "def save_checkpoint(save_path, model, valid_loss):\n",
    "\n",
    "    if save_path == None:\n",
    "        return\n",
    "    \n",
    "    state_dict = {'model_state_dict': model.state_dict(),\n",
    "                  'valid_loss': valid_loss}\n",
    "    \n",
    "    torch.save(state_dict, save_path)\n",
    "    print(f'Model saved to ==> {save_path}')\n",
    "\n",
    "def load_checkpoint(load_path, model):\n",
    "    \n",
    "    if load_path==None:\n",
    "        return\n",
    "    \n",
    "    state_dict = torch.load(load_path, map_location=device)\n",
    "    print(f'Model loaded from <== {load_path}')\n",
    "    \n",
    "    model.load_state_dict(state_dict['model_state_dict'])\n",
    "    return state_dict['valid_loss']\n",
    "\n",
    "def save_metrics(save_path, train_loss_list, valid_loss_list, global_steps_list):\n",
    "\n",
    "    if save_path == None:\n",
    "        return\n",
    "    \n",
    "    state_dict = {'train_loss_list': train_loss_list,\n",
    "                  'valid_loss_list': valid_loss_list,\n",
    "                  'global_steps_list': global_steps_list}\n",
    "    \n",
    "    torch.save(state_dict, save_path)\n",
    "    print(f'Model saved to ==> {save_path}')\n",
    "\n",
    "def load_metrics(load_path):\n",
    "\n",
    "    if load_path==None:\n",
    "        return\n",
    "    \n",
    "    state_dict = torch.load(load_path, map_location=device)\n",
    "    print(f'Model loaded from <== {load_path}')\n",
    "    \n",
    "    return state_dict['train_loss_list'], state_dict['valid_loss_list'], state_dict['global_steps_list']"
   ]
  },
  {
   "cell_type": "code",
   "execution_count": 96,
   "metadata": {
    "scrolled": true
   },
   "outputs": [
    {
     "name": "stderr",
     "output_type": "stream",
     "text": [
      "I1001 16:51:44.111387 139945579976448 configuration_utils.py:151] loading configuration file https://s3.amazonaws.com/models.huggingface.co/bert/bert-base-uncased-config.json from cache at /sailhome/yiweil/.cache/torch/transformers/4dad0251492946e18ac39290fcfe91b89d370fee250efe9521476438fe8ca185.7156163d5fdc189c3016baca0775ffce230789d7fa2a42ef516483e4ca884517\n",
      "I1001 16:51:44.114789 139945579976448 configuration_utils.py:168] Model config {\n",
      "  \"architectures\": [\n",
      "    \"BertForMaskedLM\"\n",
      "  ],\n",
      "  \"attention_probs_dropout_prob\": 0.1,\n",
      "  \"finetuning_task\": null,\n",
      "  \"hidden_act\": \"gelu\",\n",
      "  \"hidden_dropout_prob\": 0.1,\n",
      "  \"hidden_size\": 768,\n",
      "  \"initializer_range\": 0.02,\n",
      "  \"intermediate_size\": 3072,\n",
      "  \"layer_norm_eps\": 1e-12,\n",
      "  \"max_position_embeddings\": 512,\n",
      "  \"model_type\": \"bert\",\n",
      "  \"num_attention_heads\": 12,\n",
      "  \"num_hidden_layers\": 12,\n",
      "  \"num_labels\": 3,\n",
      "  \"output_attentions\": false,\n",
      "  \"output_hidden_states\": false,\n",
      "  \"pad_token_id\": 0,\n",
      "  \"pruned_heads\": {},\n",
      "  \"torchscript\": false,\n",
      "  \"type_vocab_size\": 2,\n",
      "  \"use_bfloat16\": false,\n",
      "  \"vocab_size\": 30522\n",
      "}\n",
      "\n",
      "I1001 16:51:44.436393 139945579976448 modeling_utils.py:337] loading weights file https://s3.amazonaws.com/models.huggingface.co/bert/bert-base-uncased-pytorch_model.bin from cache at /sailhome/yiweil/.cache/torch/transformers/aa1ef1aede4482d0dbcd4d52baad8ae300e60902e88fcb0bebdec09afd232066.36ca03ab34a1a5d5fa7bc3d03d55c4fa650fed07220e2eeebc06ce58d0e9a157\n",
      "I1001 16:51:48.535596 139945579976448 modeling_utils.py:405] Weights of BertForSequenceClassification not initialized from pretrained model: ['classifier.weight', 'classifier.bias']\n",
      "I1001 16:51:48.536281 139945579976448 modeling_utils.py:408] Weights from pretrained model not used in BertForSequenceClassification: ['cls.predictions.bias', 'cls.predictions.transform.dense.weight', 'cls.predictions.transform.dense.bias', 'cls.predictions.decoder.weight', 'cls.seq_relationship.weight', 'cls.seq_relationship.bias', 'cls.predictions.transform.LayerNorm.weight', 'cls.predictions.transform.LayerNorm.bias']\n"
     ]
    },
    {
     "name": "stdout",
     "output_type": "stream",
     "text": [
      "Model loaded from <== /jagupard19/scr1/yiweil/three_class/model.pt\n"
     ]
    },
    {
     "ename": "RuntimeError",
     "evalue": "CUDA error: device-side assert triggered",
     "output_type": "error",
     "traceback": [
      "\u001b[0;31m---------------------------------------------------------------------------\u001b[0m",
      "\u001b[0;31mRuntimeError\u001b[0m                              Traceback (most recent call last)",
      "\u001b[0;32m<ipython-input-96-1c7da3a87ec5>\u001b[0m in \u001b[0;36m<module>\u001b[0;34m\u001b[0m\n\u001b[1;32m      4\u001b[0m \u001b[0mload_checkpoint\u001b[0m\u001b[0;34m(\u001b[0m\u001b[0mdestination_folder\u001b[0m \u001b[0;34m+\u001b[0m \u001b[0;34m'/model.pt'\u001b[0m\u001b[0;34m,\u001b[0m \u001b[0mbest_model\u001b[0m\u001b[0;34m)\u001b[0m\u001b[0;34m\u001b[0m\u001b[0;34m\u001b[0m\u001b[0m\n\u001b[1;32m      5\u001b[0m \u001b[0;34m\u001b[0m\u001b[0m\n\u001b[0;32m----> 6\u001b[0;31m \u001b[0mpreds\u001b[0m \u001b[0;34m=\u001b[0m \u001b[0mpredict\u001b[0m\u001b[0;34m(\u001b[0m\u001b[0mbest_model\u001b[0m\u001b[0;34m,\u001b[0m \u001b[0mdata_iter\u001b[0m\u001b[0;34m,\u001b[0m \u001b[0;36m3\u001b[0m\u001b[0;34m)\u001b[0m\u001b[0;34m\u001b[0m\u001b[0;34m\u001b[0m\u001b[0m\n\u001b[0m",
      "\u001b[0;32m<ipython-input-93-d5750e16b084>\u001b[0m in \u001b[0;36mpredict\u001b[0;34m(model, data_loader, num_labels)\u001b[0m\n\u001b[1;32m     14\u001b[0m \u001b[0;34m\u001b[0m\u001b[0m\n\u001b[1;32m     15\u001b[0m             \u001b[0m_\u001b[0m\u001b[0;34m,\u001b[0m \u001b[0moutput\u001b[0m \u001b[0;34m=\u001b[0m \u001b[0moutput\u001b[0m\u001b[0;34m\u001b[0m\u001b[0;34m\u001b[0m\u001b[0m\n\u001b[0;32m---> 16\u001b[0;31m             \u001b[0my_pred\u001b[0m\u001b[0;34m.\u001b[0m\u001b[0mextend\u001b[0m\u001b[0;34m(\u001b[0m\u001b[0mtorch\u001b[0m\u001b[0;34m.\u001b[0m\u001b[0margmax\u001b[0m\u001b[0;34m(\u001b[0m\u001b[0moutput\u001b[0m\u001b[0;34m,\u001b[0m \u001b[0;36m1\u001b[0m\u001b[0;34m)\u001b[0m\u001b[0;34m.\u001b[0m\u001b[0mtolist\u001b[0m\u001b[0;34m(\u001b[0m\u001b[0;34m)\u001b[0m\u001b[0;34m)\u001b[0m\u001b[0;34m\u001b[0m\u001b[0;34m\u001b[0m\u001b[0m\n\u001b[0m\u001b[1;32m     17\u001b[0m             \u001b[0;31m#y_true.extend(labels.tolist())\u001b[0m\u001b[0;34m\u001b[0m\u001b[0;34m\u001b[0m\u001b[0;34m\u001b[0m\u001b[0m\n\u001b[1;32m     18\u001b[0m \u001b[0;34m\u001b[0m\u001b[0m\n",
      "\u001b[0;31mRuntimeError\u001b[0m: CUDA error: device-side assert triggered"
     ]
    }
   ],
   "source": [
    "MODEL_NAME = 'three_class'\n",
    "destination_folder = os.path.join(DISK_IO_DIR,MODEL_NAME)\n",
    "best_model = BERT(3).to(device)\n",
    "load_checkpoint(destination_folder + '/model.pt', best_model)\n",
    "\n",
    "preds = predict(best_model, data_iter, 3)"
   ]
  },
  {
   "cell_type": "code",
   "execution_count": null,
   "metadata": {},
   "outputs": [],
   "source": [
    "# Write predictions as new column\n",
    "dat_df['{}_predicted'.format(MODEL_NAME)] = preds\n",
    "print(\"Writing data w/ predictions to:\",os.path.join(DISK_IO_DIR,'cmv_comments_with_predictions.csv'))\n",
    "dat_df.to_csv(os.path.join(DISK_IO_DIR,'cmv_comments_with_predictions.csv'),sep=',',header=True,index=False)"
   ]
  },
  {
   "cell_type": "code",
   "execution_count": null,
   "metadata": {},
   "outputs": [],
   "source": [
    "# Manually inspect\n",
    "dat_df[['id','body','predicted']].head()"
   ]
  }
 ],
 "metadata": {
  "kernelspec": {
   "display_name": "Python 3",
   "language": "python",
   "name": "python3"
  },
  "language_info": {
   "codemirror_mode": {
    "name": "ipython",
    "version": 3
   },
   "file_extension": ".py",
   "mimetype": "text/x-python",
   "name": "python",
   "nbconvert_exporter": "python",
   "pygments_lexer": "ipython3",
   "version": "3.6.8"
  },
  "toc": {
   "base_numbering": 1,
   "nav_menu": {},
   "number_sections": true,
   "sideBar": true,
   "skip_h1_title": false,
   "title_cell": "Table of Contents",
   "title_sidebar": "Contents",
   "toc_cell": false,
   "toc_position": {},
   "toc_section_display": true,
   "toc_window_display": false
  },
  "varInspector": {
   "cols": {
    "lenName": 16,
    "lenType": 16,
    "lenVar": 40
   },
   "kernels_config": {
    "python": {
     "delete_cmd_postfix": "",
     "delete_cmd_prefix": "del ",
     "library": "var_list.py",
     "varRefreshCmd": "print(var_dic_list())"
    },
    "r": {
     "delete_cmd_postfix": ") ",
     "delete_cmd_prefix": "rm(",
     "library": "var_list.r",
     "varRefreshCmd": "cat(var_dic_list()) "
    }
   },
   "types_to_exclude": [
    "module",
    "function",
    "builtin_function_or_method",
    "instance",
    "_Feature"
   ],
   "window_display": false
  }
 },
 "nbformat": 4,
 "nbformat_minor": 4
}
