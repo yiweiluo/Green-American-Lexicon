{
 "cells": [
  {
   "cell_type": "code",
   "execution_count": 1,
   "id": "d0efc521",
   "metadata": {},
   "outputs": [],
   "source": [
    "import json\n",
    "import os\n",
    "import glob\n",
    "import pandas as pd\n",
    "import numpy as np\n",
    "from collections import Counter, defaultdict\n",
    "import random\n",
    "\n",
    "import matplotlib.pyplot as plt\n",
    "import seaborn as sns\n",
    "sns.set(style=\"whitegrid\", palette=\"pastel\")"
   ]
  },
  {
   "cell_type": "code",
   "execution_count": 3,
   "id": "c517bfe8",
   "metadata": {},
   "outputs": [],
   "source": [
    "DISK_IO_DIR = \"/jagupard19/scr1/yiweil\"\n",
    "if not os.path.exists(DISK_IO_DIR):\n",
    "    os.mkdir(DISK_IO_DIR)"
   ]
  },
  {
   "cell_type": "markdown",
   "id": "ded756de",
   "metadata": {},
   "source": [
    "# Is contentiousness correlated w/ virality for Reddit posts?"
   ]
  },
  {
   "cell_type": "markdown",
   "id": "af5df6d9",
   "metadata": {},
   "source": [
    "Ways of measuring contentiousness:\n",
    "- percentage of disagreeing comments (according to Zhang et al.-trained BERT)\n",
    "- percentage of \n",
    "\n",
    "Ways of measuring virality:\n",
    "- num likes\n",
    "- upvotes\n"
   ]
  },
  {
   "cell_type": "markdown",
   "id": "f637c7a4",
   "metadata": {},
   "source": [
    "## r/changemyview"
   ]
  },
  {
   "cell_type": "code",
   "execution_count": 5,
   "id": "8d0a7ced",
   "metadata": {},
   "outputs": [],
   "source": [
    "# For each comment, label as agreeing or disagreeing\n",
    "comment_labels_df = pd.read_csv(os.path.join(DISK_IO_DIR,'cmv_comments_with_predictions.csv'),sep=',',header=0)\n",
    "# comments_df = pd.read_csv('/u/scr/yiweil/Green-American-Lexicon/1_data_collection/reddit/\\\n",
    "# comments_output/changemyview/from_posts_1-1-2010_to_9-22-2021.csv',sep=',')\n",
    "# comment_id2parent_id = dict(zip(comments_df['id'],comments_df['parent_id']))\n",
    "\n",
    "# Iterate over comments w/ labels\n",
    "# Increment counter of parent post's num agreeing and disagreeing comments\n",
    "post_id2agreement = defaultdict(lambda: defaultdict(int))\n",
    "for ix,row in comment_labels_df.iterrows():\n",
    "    c_id = row['id']\n",
    "    comment_label = row['predicted']\n",
    "    parent_post_id = comment_id2parent_id[c_id]\n",
    "    post_id2agreement[parent_post_id][comment_label] += 1\n",
    "\n",
    "# posts_df = pd.read_csv('/u/scr/yiweil/Green-American-Lexicon/1_data_collection/reddit/\\\n",
    "# pmaw_output/submissions/changemyview/1-1-2010_to_09-22-2021.csv',index_col=0)\n",
    "# Then get percentages for each post\n",
    "posts_df['n_agree_comments'] = posts_df['id'].apply(lambda x: post_id2agreement[x]['agreement'])\n",
    "posts_df['n_disagree_comments'] = posts_df['id'].apply(lambda x: post_id2agreement[x]['disagreement'])\n",
    "posts_df['pct_agree_comments'] = posts_df.apply(lambda x: x['n_agree_comments']/x['num_comments'],axis=1)\n",
    "posts_df['pct_disagree_comments'] = posts_df.apply(lambda x: x['n_disagree_comments']/x['num_comments'],axis=1)\n",
    "\n",
    "# Plotting/correlation testing"
   ]
  },
  {
   "cell_type": "code",
   "execution_count": 6,
   "id": "0e94e422",
   "metadata": {},
   "outputs": [
    {
     "data": {
      "text/plain": [
       "defaultdict(<function __main__.<lambda>()>,\n",
       "            {'dsfjsdf': defaultdict(int, {'agreement': 1})})"
      ]
     },
     "execution_count": 6,
     "metadata": {},
     "output_type": "execute_result"
    }
   ],
   "source": [
    "sns.scatterplot(data=posts_df,x='n_agree_comments',y='upvote_ratio')"
   ]
  },
  {
   "cell_type": "code",
   "execution_count": null,
   "id": "f68a0005",
   "metadata": {},
   "outputs": [],
   "source": [
    "sns.scatterplot(data=posts_df,x='pct_agree_comments',y='upvote_ratio')"
   ]
  },
  {
   "cell_type": "code",
   "execution_count": 7,
   "id": "2f9d059d",
   "metadata": {},
   "outputs": [
    {
     "data": {
      "text/plain": [
       "defaultdict(int, {'agreement': 1})"
      ]
     },
     "execution_count": 7,
     "metadata": {},
     "output_type": "execute_result"
    }
   ],
   "source": [
    "sns.scatterplot(data=posts_df,x='n_disagree_comments',y='upvote_ratio')"
   ]
  },
  {
   "cell_type": "code",
   "execution_count": null,
   "id": "86e8dd43",
   "metadata": {},
   "outputs": [],
   "source": [
    "sns.scatterplot(data=posts_df,x='pct_disagree_comments',y='upvote_ratio')"
   ]
  },
  {
   "cell_type": "code",
   "execution_count": 8,
   "id": "19111202",
   "metadata": {},
   "outputs": [
    {
     "data": {
      "text/plain": [
       "array(['1vxyf3', '1vps5i', '1vgrxa'], dtype=object)"
      ]
     },
     "execution_count": 8,
     "metadata": {},
     "output_type": "execute_result"
    }
   ],
   "source": [
    "sns.scatterplot(data=posts_df,x='n_agree_comments',y='n_disagree_comments')"
   ]
  },
  {
   "cell_type": "code",
   "execution_count": 10,
   "id": "62a64c1a",
   "metadata": {
    "scrolled": true
   },
   "outputs": [
    {
     "data": {
      "text/plain": [
       "Index(['author', 'author_created_utc', 'author_flair_css_class',\n",
       "       'author_flair_text', 'author_fullname', 'created_utc', 'domain',\n",
       "       'edited', 'full_link', 'gilded', 'id', 'is_self', 'media_embed',\n",
       "       'num_comments', 'over_18', 'permalink', 'retrieved_on', 'score',\n",
       "       'secure_media_embed', 'selftext', 'stickied', 'subreddit',\n",
       "       'subreddit_id', 'thumbnail', 'title', 'url', 'link_flair_css_class',\n",
       "       'link_flair_text', 'post_hint', 'preview', 'locked', 'banned_by',\n",
       "       'keyword', 'contest_mode', 'spoiler', 'brand_safe', 'suggested_sort',\n",
       "       'approved_at_utc', 'banned_at_utc', 'can_mod_post', 'is_video',\n",
       "       'is_crosspostable', 'is_reddit_media_domain', 'num_crossposts',\n",
       "       'parent_whitelist_status', 'pinned', 'whitelist_status',\n",
       "       'thumbnail_height', 'thumbnail_width', 'view_count', 'subreddit_type',\n",
       "       'author_flair_richtext', 'author_flair_type', 'link_flair_richtext',\n",
       "       'link_flair_text_color', 'link_flair_type', 'rte_mode',\n",
       "       'link_flair_background_color', 'author_flair_background_color',\n",
       "       'author_flair_text_color', 'is_original_content', 'media_only',\n",
       "       'no_follow', 'pwls', 'send_replies', 'subreddit_subscribers', 'wls',\n",
       "       'link_flair_template_id', 'is_meta', 'author_patreon_flair', 'gildings',\n",
       "       'is_robot_indexable', 'author_cakeday', 'author_id', 'all_awardings',\n",
       "       'allow_live_comments', 'awarders', 'total_awards_received',\n",
       "       'treatment_tags', 'upvote_ratio', 'author_premium', 'updated_utc',\n",
       "       'steward_reports', 'og_description', 'og_title', 'removed_by_category',\n",
       "       'removed_by', 'media_metadata', 'is_created_from_ads_ui',\n",
       "       'author_is_blocked', 'awarded_delta', 'delta_history'],\n",
       "      dtype='object')"
      ]
     },
     "execution_count": 10,
     "metadata": {},
     "output_type": "execute_result"
    }
   ],
   "source": [
    "posts_df.columns"
   ]
  },
  {
   "cell_type": "code",
   "execution_count": null,
   "id": "cea3bb5d",
   "metadata": {},
   "outputs": [],
   "source": []
  }
 ],
 "metadata": {
  "kernelspec": {
   "display_name": "Python 3",
   "language": "python",
   "name": "python3"
  },
  "language_info": {
   "codemirror_mode": {
    "name": "ipython",
    "version": 3
   },
   "file_extension": ".py",
   "mimetype": "text/x-python",
   "name": "python",
   "nbconvert_exporter": "python",
   "pygments_lexer": "ipython3",
   "version": "3.6.8"
  },
  "toc": {
   "base_numbering": 1,
   "nav_menu": {},
   "number_sections": true,
   "sideBar": true,
   "skip_h1_title": false,
   "title_cell": "Table of Contents",
   "title_sidebar": "Contents",
   "toc_cell": false,
   "toc_position": {},
   "toc_section_display": true,
   "toc_window_display": false
  },
  "varInspector": {
   "cols": {
    "lenName": 16,
    "lenType": 16,
    "lenVar": 40
   },
   "kernels_config": {
    "python": {
     "delete_cmd_postfix": "",
     "delete_cmd_prefix": "del ",
     "library": "var_list.py",
     "varRefreshCmd": "print(var_dic_list())"
    },
    "r": {
     "delete_cmd_postfix": ") ",
     "delete_cmd_prefix": "rm(",
     "library": "var_list.r",
     "varRefreshCmd": "cat(var_dic_list()) "
    }
   },
   "types_to_exclude": [
    "module",
    "function",
    "builtin_function_or_method",
    "instance",
    "_Feature"
   ],
   "window_display": false
  }
 },
 "nbformat": 4,
 "nbformat_minor": 5
}
