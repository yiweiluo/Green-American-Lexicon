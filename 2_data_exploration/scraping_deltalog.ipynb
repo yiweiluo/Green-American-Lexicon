{
 "cells": [
  {
   "cell_type": "code",
   "execution_count": 50,
   "id": "25e6d144",
   "metadata": {
    "scrolled": true
   },
   "outputs": [
    {
     "name": "stdout",
     "output_type": "stream",
     "text": [
      "Western-Wishbone573\n"
     ]
    }
   ],
   "source": [
    "import re\n",
    "from tqdm import tqdm\n",
    "import os,glob\n",
    "import praw\n",
    "from praw.models import Submission\n",
    "from praw.exceptions import ClientException\n",
    "from prawcore.exceptions import Forbidden,NotFound,ServerError\n",
    "\n",
    "reddit = praw.Reddit(client_id='ACEORGSlEeJyQhPyNRAUiA',\n",
    "                     client_secret='xGN33fztXu_4jiOek_RHUtMGhHXAcQ',\n",
    "                     user_agent='me',\n",
    "                    password='redditC0bintr@sena',\n",
    "                    username='Western-Wishbone573')\n",
    "print(reddit.user.me())"
   ]
  },
  {
   "cell_type": "code",
   "execution_count": 45,
   "id": "00594bcd",
   "metadata": {},
   "outputs": [],
   "source": [
    "from convokit import Corpus#, Speaker, download\n",
    "AVAILABLE_CORP = ['full_cmv','matched_cmv_subsample','gen_reddit']\n",
    "corp_name_to_filepath = {\n",
    "                         'full_cmv': '/u/scr/yiweil/my-cmv-corpus_1-1-2010_to_09-24-2021',\n",
    "                         'matched_cmv_subsample': '/u/scr/yiweil/subsampled_cmv_corpus',\n",
    "                         'gen_reddit':'/u/scr/yiweil/datasets/convokit/reddit-corpus-small',\n",
    "                         'switchboard':'/sailhome/yiweil/.convokit/downloads/switchboard-corpus'\n",
    "                        }"
   ]
  },
  {
   "cell_type": "code",
   "execution_count": 46,
   "id": "17042fb1",
   "metadata": {
    "code_folding": [
     3
    ],
    "scrolled": true
   },
   "outputs": [
    {
     "name": "stdout",
     "output_type": "stream",
     "text": [
      "Loading corpus: matched_cmv_subsample...\n",
      "\u001b[91mWARNING: \u001b[0mCorpusLoadWarning: Missing speaker metadata for speaker ID: None. Initializing default empty metadata instead.\n",
      "Number of Speakers: 43271\n",
      "Number of Utterances: 205084\n",
      "Number of Conversations: 44346\n",
      "\n",
      "\n",
      "Filtering matched_cmv_subsample...\n"
     ]
    },
    {
     "ename": "NameError",
     "evalue": "name 'filter_bots_mods_removed' is not defined",
     "output_type": "error",
     "traceback": [
      "\u001b[0;31m---------------------------------------------------------------------------\u001b[0m",
      "\u001b[0;31mNameError\u001b[0m                                 Traceback (most recent call last)",
      "\u001b[0;32m<ipython-input-46-8cffdf0e9e7f>\u001b[0m in \u001b[0;36m<module>\u001b[0;34m\u001b[0m\n\u001b[1;32m     20\u001b[0m \u001b[0;34m\u001b[0m\u001b[0m\n\u001b[1;32m     21\u001b[0m         \u001b[0mprint\u001b[0m\u001b[0;34m(\u001b[0m\u001b[0;34m\"Filtering {}...\"\u001b[0m\u001b[0;34m.\u001b[0m\u001b[0mformat\u001b[0m\u001b[0;34m(\u001b[0m\u001b[0mcorp_name\u001b[0m\u001b[0;34m)\u001b[0m\u001b[0;34m)\u001b[0m\u001b[0;34m\u001b[0m\u001b[0;34m\u001b[0m\u001b[0m\n\u001b[0;32m---> 22\u001b[0;31m         \u001b[0mcorp_to_analyze\u001b[0m\u001b[0;34m[\u001b[0m\u001b[0mcorp_name\u001b[0m\u001b[0;34m]\u001b[0m \u001b[0;34m=\u001b[0m \u001b[0mfilter_bots_mods_removed\u001b[0m\u001b[0;34m(\u001b[0m\u001b[0mcorp_to_analyze\u001b[0m\u001b[0;34m[\u001b[0m\u001b[0mcorp_name\u001b[0m\u001b[0;34m]\u001b[0m\u001b[0;34m)\u001b[0m\u001b[0;34m\u001b[0m\u001b[0;34m\u001b[0m\u001b[0m\n\u001b[0m\u001b[1;32m     23\u001b[0m         \u001b[0mprint\u001b[0m\u001b[0;34m(\u001b[0m\u001b[0;34m'\\n'\u001b[0m\u001b[0;34m)\u001b[0m\u001b[0;34m\u001b[0m\u001b[0;34m\u001b[0m\u001b[0m\n\u001b[1;32m     24\u001b[0m \u001b[0;34m\u001b[0m\u001b[0m\n",
      "\u001b[0;31mNameError\u001b[0m: name 'filter_bots_mods_removed' is not defined"
     ]
    }
   ],
   "source": [
    "corp_to_analyze = {'matched_cmv_subsample': None}#,'gen_reddit': None,'switchboard':None}\n",
    "#corp_to_analyze.update({'matched_cmv_subsample': None})\n",
    "\n",
    "for corp_name in corp_to_analyze:\n",
    "    if corp_to_analyze[corp_name] is None:\n",
    "        print(\"Loading corpus: {}...\".format(corp_name))\n",
    "        corp_to_analyze[corp_name] = Corpus(filename=corp_name_to_filepath[corp_name])\n",
    "        corp_to_analyze[corp_name].print_summary_stats()\n",
    "        print('\\n')\n",
    "        \n",
    "        # Update full meta for conversations if corpus is not `matched_cc_cmv_subsample` (contains comments only, by design)\n",
    "        if corp_name in {'full_cmv','matched_cmv_subsample','matched_cc_cmv_subsample','gen_reddit','switchboard'}:\n",
    "            for utt in corp_to_analyze[corp_name].iter_utterances():\n",
    "                if utt.id == utt.conversation_id: # not a comment but a post\n",
    "                    convo = corp_to_analyze[corp_name].get_conversation(utt.id)\n",
    "                    meta_dict = corp_to_analyze[corp_name].get_utterance(utt.id).meta\n",
    "                    for key in meta_dict:\n",
    "                        corp_to_analyze[corp_name].get_conversation(utt.id).add_meta(key, meta_dict[key])\n",
    "                    convo.speaker = utt.speaker\n",
    "                        \n",
    "        print(\"Filtering {}...\".format(corp_name))\n",
    "        corp_to_analyze[corp_name] = filter_bots_mods_removed(corp_to_analyze[corp_name])\n",
    "        print('\\n')\n",
    "        \n",
    "        if corp_name in {'matched_cmv_subsample','matched_cc_cmv_subsample'}:\n",
    "            print(\"Filtering out generic utterances from {}...\".format(corp_name))\n",
    "            corp_to_analyze[corp_name] = filter_generic_comments(\n",
    "                corp_to_analyze[corp_name], \n",
    "                GENERIC_REGEX_PATS,\n",
    "                fname=f'generic_dict_{corp_name}.pkl')\n",
    "            corp_to_analyze[corp_name].print_summary_stats()\n",
    "            print('\\n')\n",
    "            \n",
    "        print(\"Removing footnotes and in-line embedded text from {}...\".format(corp_name))\n",
    "        for utt in tqdm(corp_to_analyze[corp_name].iter_utterances()):\n",
    "            if utt.id != utt.conversation_id:\n",
    "                utt.text = cleanup(utt.text)\n",
    "                \n",
    "        print(\"Annotating with climate change information...\")\n",
    "        for convo in tqdm(corp_to_analyze[corp_name].iter_conversations()):\n",
    "            if convo.id not in c_id2other_cc_label:\n",
    "                c_id2other_cc_label[convo.id] = 'non-cc'\n",
    "        for utt in tqdm(corp_to_analyze[corp_name].iter_utterances()):\n",
    "            utt.meta['is_cc_related_gold'] = utt.conversation_id in climate_convo_idxs_gold\n",
    "            utt.meta['other_cc_label'] = c_id2other_cc_label[utt.conversation_id]\n",
    "        for convo in tqdm(corp_to_analyze[corp_name].iter_conversations()):\n",
    "            convo.meta['other_cc_label'] = c_id2other_cc_label[convo.id]\n",
    "        print(\"Distribution of climate change macro labels:\\n\")\n",
    "        print(\"\\t\",Counter([utt.meta['is_cc_related_gold'] \n",
    "                            for utt in tqdm(corp_to_analyze[corp_name].iter_utterances())]))\n",
    "        print(\"Distribution of climate change micro labels:\")\n",
    "        print(\"\\t\",Counter([utt.meta['other_cc_label'] \n",
    "                            for utt in tqdm(corp_to_analyze[corp_name].iter_utterances())]))"
   ]
  },
  {
   "cell_type": "markdown",
   "id": "c3e32973",
   "metadata": {},
   "source": [
    "# Get all posts from r/DeltaLog via PushShift"
   ]
  },
  {
   "cell_type": "code",
   "execution_count": 47,
   "id": "64c03e23",
   "metadata": {},
   "outputs": [],
   "source": [
    "import pandas as pd\n",
    "from pmaw import PushshiftAPI\n",
    "api = PushshiftAPI()"
   ]
  },
  {
   "cell_type": "code",
   "execution_count": 48,
   "id": "0dfc536e",
   "metadata": {},
   "outputs": [],
   "source": [
    "import datetime as dt\n",
    "before = int(dt.datetime(2022,1,10,0,0).timestamp())\n",
    "after = int(dt.datetime(2013,1,1,0,0).timestamp())"
   ]
  },
  {
   "cell_type": "code",
   "execution_count": 121,
   "id": "5d51b84e",
   "metadata": {
    "scrolled": true
   },
   "outputs": [
    {
     "name": "stdout",
     "output_type": "stream",
     "text": [
      "INFO:pmaw.PushshiftAPIBase:0 result(s) available in Pushshift\n",
      "Retrieved 0 posts from Pushshift\n"
     ]
    }
   ],
   "source": [
    "subreddit=\"nba\"\n",
    "limit=100000\n",
    "gen = api.search_submissions(subreddit=subreddit,\n",
    "                             before=before,\n",
    "                             after=after)\n",
    "submissions = list(gen)\n",
    "print(f'Retrieved {len(submissions)} posts from Pushshift')"
   ]
  },
  {
   "cell_type": "code",
   "execution_count": 116,
   "id": "c43b5648",
   "metadata": {
    "scrolled": true
   },
   "outputs": [],
   "source": [
    "pickle.dump(submissions,open('/nlp/u/yiweil/pushshift_deltalog_posts.pkl','wb'))"
   ]
  },
  {
   "cell_type": "code",
   "execution_count": 109,
   "id": "8dede409",
   "metadata": {
    "scrolled": true
   },
   "outputs": [],
   "source": [
    "# limit=10000000\n",
    "# cmv_gen = api.search_submissions(subreddit='ChangeMyView',\n",
    "#                              before=before,\n",
    "#                              after=after)\n",
    "# cmv_submissions = list(cmv_gen)\n",
    "# print(f'Retrieved {len(cmv_submissions)} posts from Pushshift')\n",
    "\n",
    "import pickle\n",
    "pickle.dump(cmv_submissions,open('/nlp/u/yiweil/pushshift_cmv_posts.pkl','wb'))"
   ]
  },
  {
   "cell_type": "code",
   "execution_count": 117,
   "id": "aa7b197c",
   "metadata": {},
   "outputs": [
    {
     "data": {
      "text/plain": [
       "29710"
      ]
     },
     "execution_count": 117,
     "metadata": {},
     "output_type": "execute_result"
    }
   ],
   "source": [
    "len(submissions)"
   ]
  },
  {
   "cell_type": "code",
   "execution_count": 110,
   "id": "326366cd",
   "metadata": {
    "scrolled": true
   },
   "outputs": [
    {
     "data": {
      "text/plain": [
       "{'author': 'Thiek',\n",
       " 'author_created_utc': 1377312695,\n",
       " 'author_flair_css_class': None,\n",
       " 'author_flair_text': None,\n",
       " 'author_fullname': 't2_cvgjk',\n",
       " 'created_utc': 1413981942,\n",
       " 'domain': 'self.changemyview',\n",
       " 'full_link': 'https://www.reddit.com/r/changemyview/comments/2jzkdn/cmv_those_houses_that_give_out_entire_candy_bars/',\n",
       " 'gilded': 0,\n",
       " 'id': '2jzkdn',\n",
       " 'is_self': True,\n",
       " 'media_embed': {},\n",
       " 'num_comments': 0,\n",
       " 'over_18': False,\n",
       " 'permalink': '/r/changemyview/comments/2jzkdn/cmv_those_houses_that_give_out_entire_candy_bars/',\n",
       " 'retrieved_on': 1441110238,\n",
       " 'score': 1,\n",
       " 'secure_media_embed': {},\n",
       " 'selftext': '',\n",
       " 'stickied': False,\n",
       " 'subreddit': 'changemyview',\n",
       " 'subreddit_id': 't5_2w2s8',\n",
       " 'thumbnail': 'default',\n",
       " 'title': 'CMV: \"Those houses\" that give out entire candy bars at Halloween are a total waste. Trick or treaters would be better served targeting houses that give out handfuls of small candy bars than waiting in line for a large one.',\n",
       " 'url': 'http://www.reddit.com/r/changemyview/comments/2jzkdn/cmv_those_houses_that_give_out_entire_candy_bars/'}"
      ]
     },
     "execution_count": 110,
     "metadata": {},
     "output_type": "execute_result"
    }
   ],
   "source": [
    "cmv_submissions[0]"
   ]
  },
  {
   "cell_type": "code",
   "execution_count": 111,
   "id": "9b33f353",
   "metadata": {},
   "outputs": [
    {
     "data": {
      "text/plain": [
       "44346"
      ]
     },
     "execution_count": 111,
     "metadata": {},
     "output_type": "execute_result"
    }
   ],
   "source": [
    "len(corp_to_analyze['matched_cmv_subsample'].get_conversation_ids())"
   ]
  },
  {
   "cell_type": "markdown",
   "id": "0a6f8ce9",
   "metadata": {},
   "source": [
    "# Scrape comments awarding delta using regex on post text"
   ]
  },
  {
   "cell_type": "code",
   "execution_count": 90,
   "id": "4eea657d",
   "metadata": {},
   "outputs": [],
   "source": [
    "def get_comments_awarding_deltas(deltalog_post, \n",
    "                                pat=re.compile(r\"/r/changemyview/comments/(.*?)/(.*?)/(.*?)/\")):\n",
    "    matches = re.findall(pat, deltalog_post['selftext'])\n",
    "    if len(matches) > 0:\n",
    "        cmv_post_id = matches[0][0]\n",
    "        delta_awarding_comment_ids = [m[-1] for m in matches]\n",
    "        return (cmv_post_id, delta_awarding_comment_ids)\n",
    "    else:\n",
    "        return None, None"
   ]
  },
  {
   "cell_type": "code",
   "execution_count": 119,
   "id": "0de73579",
   "metadata": {},
   "outputs": [
    {
     "name": "stderr",
     "output_type": "stream",
     "text": [
      "100%|██████████| 29710/29710 [00:32<00:00, 902.38it/s] \n"
     ]
    }
   ],
   "source": [
    "if not os.path.exists('scraped_deltalog'):\n",
    "    os.mkdir('scraped_deltalog')\n",
    "\n",
    "for post in tqdm(submissions):\n",
    "    cmv_post_id, comment_ids = get_comments_awarding_deltas(post)\n",
    "    if comment_ids != None:\n",
    "        if len(comment_ids) == 0:\n",
    "            print(cmv_post_id)\n",
    "        #print(cmv_post_id, len(comment_ids))\n",
    "        with open(os.path.join('scraped_deltalog',f\"{post['id']}.txt\"),'w') as f:\n",
    "            f.write(cmv_post_id+'\\n')\n",
    "            f.write('\\t'.join(comment_ids))"
   ]
  },
  {
   "cell_type": "code",
   "execution_count": 72,
   "id": "49e54c15",
   "metadata": {
    "scrolled": false
   },
   "outputs": [
    {
     "data": {
      "text/plain": [
       "['scraped_deltalog/rrn70z.txt',\n",
       " 'scraped_deltalog/64wr6v.txt',\n",
       " 'scraped_deltalog/6124zq.txt']"
      ]
     },
     "execution_count": 72,
     "metadata": {},
     "output_type": "execute_result"
    }
   ],
   "source": [
    "deltalog_posts = glob.glob('scraped_deltalog/*.txt')\n",
    "deltalog_posts[:3]"
   ]
  },
  {
   "cell_type": "code",
   "execution_count": 100,
   "id": "4d65154e",
   "metadata": {
    "scrolled": true
   },
   "outputs": [
    {
     "name": "stderr",
     "output_type": "stream",
     "text": [
      "  1%|          | 192/29710 [00:00<00:16, 1814.00it/s]"
     ]
    },
    {
     "name": "stdout",
     "output_type": "stream",
     "text": [
      "scraped_deltalog/6124zq.txt is empty\n",
      "scraped_deltalog/5u2hxl.txt is empty\n",
      "scraped_deltalog/5was9d.txt is empty\n",
      "scraped_deltalog/5n4m8n.txt is empty\n",
      "scraped_deltalog/5urj7b.txt is empty\n",
      "scraped_deltalog/61cst3.txt is empty\n",
      "scraped_deltalog/5v2qwb.txt is empty\n",
      "scraped_deltalog/5wkwia.txt is empty\n",
      "scraped_deltalog/5raqnx.txt is empty\n",
      "scraped_deltalog/6nu49y.txt is empty\n",
      "scraped_deltalog/5xv04e.txt is empty\n",
      "scraped_deltalog/5yfpr7.txt is empty\n",
      "scraped_deltalog/61u4wr.txt is empty\n",
      "scraped_deltalog/6207wz.txt is empty\n",
      "scraped_deltalog/5vk8lv.txt is empty\n",
      "scraped_deltalog/5mzxbi.txt is empty\n"
     ]
    },
    {
     "name": "stderr",
     "output_type": "stream",
     "text": [
      "  3%|▎         | 823/29710 [00:00<00:13, 2074.98it/s]"
     ]
    },
    {
     "name": "stdout",
     "output_type": "stream",
     "text": [
      "scraped_deltalog/60s04j.txt is empty\n",
      "scraped_deltalog/5owcxn.txt is empty\n",
      "scraped_deltalog/5vbook.txt is empty\n",
      "scraped_deltalog/5s64jd.txt is empty\n",
      "scraped_deltalog/5nofx6.txt is empty\n",
      "scraped_deltalog/5y8f32.txt is empty\n",
      "scraped_deltalog/5nsjsi.txt is empty\n",
      "scraped_deltalog/5qw3tb.txt is empty\n",
      "scraped_deltalog/5t4k6x.txt is empty\n",
      "scraped_deltalog/5u4elk.txt is empty\n",
      "scraped_deltalog/5xogoq.txt is empty\n",
      "scraped_deltalog/60bar8.txt is empty\n",
      "scraped_deltalog/5tecwe.txt is empty\n",
      "scraped_deltalog/5mzvx8.txt is empty\n",
      "scraped_deltalog/5ytlxa.txt is empty\n",
      "scraped_deltalog/60qy3n.txt is empty\n",
      "scraped_deltalog/60b7tp.txt is empty\n",
      "scraped_deltalog/5wq3n9.txt is empty\n",
      "scraped_deltalog/5pyovp.txt is empty\n",
      "scraped_deltalog/5w8zfk.txt is empty\n",
      "scraped_deltalog/5vh3kf.txt is empty\n",
      "scraped_deltalog/5psv1z.txt is empty\n",
      "scraped_deltalog/5zobmo.txt is empty\n"
     ]
    },
    {
     "name": "stderr",
     "output_type": "stream",
     "text": [
      "\r",
      "  3%|▎         | 1031/29710 [00:00<00:14, 1990.46it/s]"
     ]
    },
    {
     "name": "stdout",
     "output_type": "stream",
     "text": [
      "scraped_deltalog/5ytrtk.txt is empty\n",
      "scraped_deltalog/5ypci4.txt is empty\n",
      "scraped_deltalog/5slbq9.txt is empty\n",
      "scraped_deltalog/5xlnah.txt is empty\n",
      "scraped_deltalog/5mz61l.txt is empty\n",
      "scraped_deltalog/5pzyuw.txt is empty\n",
      "scraped_deltalog/5x5bal.txt is empty\n",
      "scraped_deltalog/5xo6n1.txt is empty\n",
      "scraped_deltalog/5yb5i4.txt is empty\n",
      "scraped_deltalog/5rwjgg.txt is empty\n",
      "scraped_deltalog/5ozm98.txt is empty\n",
      "scraped_deltalog/7xpjb0.txt is empty\n"
     ]
    },
    {
     "name": "stderr",
     "output_type": "stream",
     "text": [
      "  5%|▍         | 1421/29710 [00:00<00:15, 1785.15it/s]"
     ]
    },
    {
     "name": "stdout",
     "output_type": "stream",
     "text": [
      "scraped_deltalog/5xysd9.txt is empty\n",
      "scraped_deltalog/5uhcqi.txt is empty\n",
      "scraped_deltalog/5xy6hc.txt is empty\n",
      "scraped_deltalog/5nr3el.txt is empty\n",
      "scraped_deltalog/5v1e21.txt is empty\n",
      "scraped_deltalog/5r2vd7.txt is empty\n",
      "scraped_deltalog/5ubhkm.txt is empty\n",
      "scraped_deltalog/5pjk2k.txt is empty\n",
      "scraped_deltalog/75umya.txt is empty\n",
      "scraped_deltalog/5sq9hb.txt is empty\n",
      "scraped_deltalog/5n639z.txt is empty\n",
      "scraped_deltalog/5w4vyp.txt is empty\n",
      "scraped_deltalog/5xoj8j.txt is empty\n",
      "scraped_deltalog/5yl2ih.txt is empty\n",
      "scraped_deltalog/5tjckv.txt is empty\n",
      "scraped_deltalog/5smcr6.txt is empty\n",
      "scraped_deltalog/5y9pd7.txt is empty\n"
     ]
    },
    {
     "name": "stderr",
     "output_type": "stream",
     "text": [
      "  7%|▋         | 1962/29710 [00:01<00:15, 1753.85it/s]"
     ]
    },
    {
     "name": "stdout",
     "output_type": "stream",
     "text": [
      "scraped_deltalog/5tp08d.txt is empty\n",
      "scraped_deltalog/5pmrha.txt is empty\n",
      "scraped_deltalog/61icbc.txt is empty\n",
      "scraped_deltalog/5xfy5i.txt is empty\n",
      "scraped_deltalog/603mcl.txt is empty\n",
      "scraped_deltalog/5v1avk.txt is empty\n",
      "scraped_deltalog/60ofru.txt is empty\n",
      "scraped_deltalog/62930m.txt is empty\n",
      "scraped_deltalog/5wl5e4.txt is empty\n",
      "scraped_deltalog/5we0u1.txt is empty\n",
      "scraped_deltalog/5y2kpq.txt is empty\n",
      "scraped_deltalog/5tu5oc.txt is empty\n",
      "scraped_deltalog/60ac4f.txt is empty\n",
      "scraped_deltalog/5vtp5v.txt is empty\n",
      "scraped_deltalog/5xw2id.txt is empty\n"
     ]
    },
    {
     "name": "stderr",
     "output_type": "stream",
     "text": [
      "  8%|▊         | 2337/29710 [00:01<00:15, 1806.60it/s]"
     ]
    },
    {
     "name": "stdout",
     "output_type": "stream",
     "text": [
      "scraped_deltalog/5xifln.txt is empty\n",
      "scraped_deltalog/5sbpyl.txt is empty\n",
      "scraped_deltalog/5okr2m.txt is empty\n",
      "scraped_deltalog/5radbc.txt is empty\n",
      "scraped_deltalog/60bf4n.txt is empty\n",
      "scraped_deltalog/61to3e.txt is empty\n",
      "scraped_deltalog/5yiajo.txt is empty\n",
      "scraped_deltalog/5rnv0f.txt is empty\n",
      "scraped_deltalog/60p6tu.txt is empty\n",
      "scraped_deltalog/5pzuue.txt is empty\n",
      "scraped_deltalog/5qkki2.txt is empty\n",
      "scraped_deltalog/5u4fpp.txt is empty\n",
      "scraped_deltalog/5sjl5a.txt is empty\n",
      "scraped_deltalog/5ps475.txt is empty\n",
      "scraped_deltalog/5woyjm.txt is empty\n",
      "scraped_deltalog/5patom.txt is empty\n",
      "scraped_deltalog/5wvpig.txt is empty\n",
      "scraped_deltalog/5ui8mi.txt is empty\n",
      "scraped_deltalog/5qtfnn.txt is empty\n",
      "scraped_deltalog/5tojwk.txt is empty\n"
     ]
    },
    {
     "name": "stderr",
     "output_type": "stream",
     "text": [
      "  9%|▉         | 2751/29710 [00:01<00:13, 1935.13it/s]"
     ]
    },
    {
     "name": "stdout",
     "output_type": "stream",
     "text": [
      "scraped_deltalog/60chgl.txt is empty\n",
      "scraped_deltalog/5z0tks.txt is empty\n",
      "scraped_deltalog/5uvg8o.txt is empty\n",
      "scraped_deltalog/5ra75v.txt is empty\n",
      "scraped_deltalog/5ut2kb.txt is empty\n",
      "scraped_deltalog/5y9mms.txt is empty\n",
      "scraped_deltalog/5rqphl.txt is empty\n",
      "scraped_deltalog/5vgnfa.txt is empty\n",
      "scraped_deltalog/5vgqoc.txt is empty\n",
      "scraped_deltalog/5nk4ep.txt is empty\n",
      "scraped_deltalog/616svw.txt is empty\n",
      "scraped_deltalog/5qbnpd.txt is empty\n",
      "scraped_deltalog/5rc6tt.txt is empty\n",
      "scraped_deltalog/62bva9.txt is empty\n",
      "scraped_deltalog/5z7dy6.txt is empty\n",
      "scraped_deltalog/5ymnue.txt is empty\n",
      "scraped_deltalog/5oc7j7.txt is empty\n",
      "scraped_deltalog/5yd1il.txt is empty\n",
      "scraped_deltalog/5w2nld.txt is empty\n",
      "scraped_deltalog/5sqelv.txt is empty\n",
      "scraped_deltalog/5qikk8.txt is empty\n",
      "scraped_deltalog/5w22a1.txt is empty\n",
      "scraped_deltalog/5twavn.txt is empty\n",
      "scraped_deltalog/5vny82.txt is empty\n"
     ]
    },
    {
     "name": "stderr",
     "output_type": "stream",
     "text": [
      " 11%|█         | 3137/29710 [00:01<00:14, 1890.93it/s]"
     ]
    },
    {
     "name": "stdout",
     "output_type": "stream",
     "text": [
      "scraped_deltalog/60l8vj.txt is empty\n",
      "scraped_deltalog/5wwfuj.txt is empty\n",
      "scraped_deltalog/6290zp.txt is empty\n",
      "scraped_deltalog/5tt5y7.txt is empty\n",
      "scraped_deltalog/5q4fzt.txt is empty\n",
      "scraped_deltalog/5we0ay.txt is empty\n",
      "scraped_deltalog/5wd6uv.txt is empty\n",
      "scraped_deltalog/5wj5g1.txt is empty\n",
      "scraped_deltalog/5tlifr.txt is empty\n",
      "scraped_deltalog/5xpiss.txt is empty\n",
      "scraped_deltalog/623job.txt is empty\n"
     ]
    },
    {
     "name": "stderr",
     "output_type": "stream",
     "text": [
      " 12%|█▏        | 3514/29710 [00:01<00:14, 1812.26it/s]"
     ]
    },
    {
     "name": "stdout",
     "output_type": "stream",
     "text": [
      "scraped_deltalog/6060nn.txt is empty\n",
      "scraped_deltalog/61gsd4.txt is empty\n",
      "scraped_deltalog/5uf2d9.txt is empty\n",
      "scraped_deltalog/5n95ls.txt is empty\n",
      "scraped_deltalog/7kynjx.txt is empty\n",
      "scraped_deltalog/5t2seb.txt is empty\n",
      "scraped_deltalog/5v3046.txt is empty\n",
      "scraped_deltalog/6nwla1.txt is empty\n",
      "scraped_deltalog/5yqfxu.txt is empty\n",
      "scraped_deltalog/5wydvx.txt is empty\n",
      "scraped_deltalog/5voxsb.txt is empty\n",
      "scraped_deltalog/62bh1v.txt is empty\n",
      "scraped_deltalog/60abwi.txt is empty\n",
      "scraped_deltalog/619s87.txt is empty\n",
      "scraped_deltalog/87hoqs.txt is empty\n"
     ]
    },
    {
     "name": "stderr",
     "output_type": "stream",
     "text": [
      " 13%|█▎        | 3875/29710 [00:02<00:15, 1686.87it/s]"
     ]
    },
    {
     "name": "stdout",
     "output_type": "stream",
     "text": [
      "scraped_deltalog/5u2u0m.txt is empty\n",
      "scraped_deltalog/5ykfbe.txt is empty\n",
      "scraped_deltalog/5ya7p8.txt is empty\n",
      "scraped_deltalog/5w216p.txt is empty\n",
      "scraped_deltalog/5x6tqf.txt is empty\n",
      "scraped_deltalog/622kko.txt is empty\n",
      "scraped_deltalog/5pk005.txt is empty\n",
      "scraped_deltalog/5xc7jg.txt is empty\n",
      "scraped_deltalog/5ngh2i.txt is empty\n",
      "scraped_deltalog/5n1jm7.txt is empty\n",
      "scraped_deltalog/5yyyr0.txt is empty\n",
      "scraped_deltalog/5nf97q.txt is empty\n",
      "scraped_deltalog/5x4u5w.txt is empty\n",
      "scraped_deltalog/5t1uuc.txt is empty\n",
      "scraped_deltalog/7jzt55.txt is empty\n",
      "scraped_deltalog/5yc0dt.txt is empty\n",
      "scraped_deltalog/5uc2jq.txt is empty\n"
     ]
    },
    {
     "name": "stderr",
     "output_type": "stream",
     "text": [
      " 14%|█▍        | 4251/29710 [00:02<00:14, 1775.34it/s]"
     ]
    },
    {
     "name": "stdout",
     "output_type": "stream",
     "text": [
      "scraped_deltalog/5nnz2p.txt is empty\n",
      "scraped_deltalog/5zsbsy.txt is empty\n",
      "scraped_deltalog/5s5i82.txt is empty\n",
      "scraped_deltalog/5svu3x.txt is empty\n",
      "scraped_deltalog/5u5sv9.txt is empty\n",
      "scraped_deltalog/5vuryb.txt is empty\n",
      "scraped_deltalog/5vbapu.txt is empty\n",
      "scraped_deltalog/5qs4ua.txt is empty\n",
      "scraped_deltalog/5uh6dc.txt is empty\n",
      "scraped_deltalog/6hm77c.txt is empty\n",
      "scraped_deltalog/5nw80u.txt is empty\n",
      "scraped_deltalog/5zz2mg.txt is empty\n",
      "scraped_deltalog/5pup9j.txt is empty\n",
      "scraped_deltalog/5qlnxn.txt is empty\n",
      "scraped_deltalog/5y93xa.txt is empty\n",
      "scraped_deltalog/5s45ok.txt is empty\n"
     ]
    },
    {
     "name": "stderr",
     "output_type": "stream",
     "text": [
      " 15%|█▌        | 4604/29710 [00:02<00:14, 1710.77it/s]"
     ]
    },
    {
     "name": "stdout",
     "output_type": "stream",
     "text": [
      "scraped_deltalog/606tvu.txt is empty\n",
      "scraped_deltalog/5virqm.txt is empty\n",
      "scraped_deltalog/5xr4qv.txt is empty\n",
      "scraped_deltalog/629y8x.txt is empty\n",
      "scraped_deltalog/5r3i1o.txt is empty\n",
      "scraped_deltalog/5wpzxw.txt is empty\n",
      "scraped_deltalog/5t2etc.txt is empty\n",
      "scraped_deltalog/5qpiza.txt is empty\n",
      "scraped_deltalog/5s3rim.txt is empty\n",
      "scraped_deltalog/5nlo8h.txt is empty\n",
      "scraped_deltalog/5z35tb.txt is empty\n",
      "scraped_deltalog/5wylro.txt is empty\n",
      "scraped_deltalog/60hqlo.txt is empty\n",
      "scraped_deltalog/5so8lx.txt is empty\n",
      "scraped_deltalog/5so5tp.txt is empty\n",
      "scraped_deltalog/5r5ydf.txt is empty\n",
      "scraped_deltalog/5riob7.txt is empty\n",
      "scraped_deltalog/5zp0js.txt is empty\n",
      "scraped_deltalog/60f1yo.txt is empty\n"
     ]
    },
    {
     "name": "stderr",
     "output_type": "stream",
     "text": [
      " 17%|█▋        | 4980/29710 [00:02<00:13, 1778.74it/s]"
     ]
    },
    {
     "name": "stdout",
     "output_type": "stream",
     "text": [
      "scraped_deltalog/61ukmy.txt is empty\n",
      "scraped_deltalog/5qrcc7.txt is empty\n",
      "scraped_deltalog/5sdn09.txt is empty\n",
      "scraped_deltalog/5wxfvo.txt is empty\n",
      "scraped_deltalog/624dc3.txt is empty\n",
      "scraped_deltalog/700aec.txt is empty\n",
      "scraped_deltalog/5yu244.txt is empty\n",
      "scraped_deltalog/5s4ypp.txt is empty\n",
      "scraped_deltalog/5r5q3m.txt is empty\n",
      "scraped_deltalog/5whqs8.txt is empty\n",
      "scraped_deltalog/5o8843.txt is empty\n",
      "scraped_deltalog/5r8iuv.txt is empty\n",
      "scraped_deltalog/5rjz5h.txt is empty\n",
      "scraped_deltalog/5v2nql.txt is empty\n",
      "scraped_deltalog/5tav87.txt is empty\n",
      "scraped_deltalog/5ugd7d.txt is empty\n",
      "scraped_deltalog/60cisj.txt is empty\n"
     ]
    },
    {
     "name": "stderr",
     "output_type": "stream",
     "text": [
      " 18%|█▊        | 5365/29710 [00:02<00:13, 1848.10it/s]"
     ]
    },
    {
     "name": "stdout",
     "output_type": "stream",
     "text": [
      "scraped_deltalog/5zreut.txt is empty\n",
      "scraped_deltalog/5ufmp1.txt is empty\n",
      "scraped_deltalog/5vqfzt.txt is empty\n",
      "scraped_deltalog/61zlqn.txt is empty\n",
      "scraped_deltalog/60fage.txt is empty\n",
      "scraped_deltalog/5qk4w9.txt is empty\n",
      "scraped_deltalog/5nhmp9.txt is empty\n",
      "scraped_deltalog/5vw1h5.txt is empty\n",
      "scraped_deltalog/5otkqr.txt is empty\n",
      "scraped_deltalog/5zghv8.txt is empty\n",
      "scraped_deltalog/5s05ai.txt is empty\n",
      "scraped_deltalog/5wx2w1.txt is empty\n",
      "scraped_deltalog/5yiny1.txt is empty\n",
      "scraped_deltalog/5n0aud.txt is empty\n",
      "scraped_deltalog/5sj4gd.txt is empty\n",
      "scraped_deltalog/5ybai7.txt is empty\n",
      "scraped_deltalog/5r5nkb.txt is empty\n",
      "scraped_deltalog/61n5kb.txt is empty\n",
      "scraped_deltalog/5uyaui.txt is empty\n"
     ]
    },
    {
     "name": "stderr",
     "output_type": "stream",
     "text": [
      " 19%|█▉        | 5737/29710 [00:03<00:13, 1804.90it/s]"
     ]
    },
    {
     "name": "stdout",
     "output_type": "stream",
     "text": [
      "scraped_deltalog/5ygi5n.txt is empty\n",
      "scraped_deltalog/5uxc6m.txt is empty\n",
      "scraped_deltalog/616ewy.txt is empty\n",
      "scraped_deltalog/5riei6.txt is empty\n",
      "scraped_deltalog/5tqcff.txt is empty\n",
      "scraped_deltalog/5szw50.txt is empty\n",
      "scraped_deltalog/5rae9d.txt is empty\n",
      "scraped_deltalog/61lcuw.txt is empty\n",
      "scraped_deltalog/5ue000.txt is empty\n",
      "scraped_deltalog/5nk42k.txt is empty\n",
      "scraped_deltalog/5snsoy.txt is empty\n",
      "scraped_deltalog/5xktt7.txt is empty\n",
      "scraped_deltalog/60d1k6.txt is empty\n",
      "scraped_deltalog/5y5k7r.txt is empty\n",
      "scraped_deltalog/622ttz.txt is empty\n",
      "scraped_deltalog/615v1k.txt is empty\n",
      "scraped_deltalog/60ea6k.txt is empty\n",
      "scraped_deltalog/5x647p.txt is empty\n",
      "scraped_deltalog/5mz589.txt is empty\n"
     ]
    },
    {
     "name": "stderr",
     "output_type": "stream",
     "text": [
      " 21%|██        | 6116/29710 [00:03<00:14, 1649.61it/s]"
     ]
    },
    {
     "name": "stdout",
     "output_type": "stream",
     "text": [
      "scraped_deltalog/5s2nte.txt is empty\n",
      "scraped_deltalog/5tv33f.txt is empty\n",
      "scraped_deltalog/5q7mfr.txt is empty\n",
      "scraped_deltalog/5opj8q.txt is empty\n",
      "scraped_deltalog/5v6zf5.txt is empty\n",
      "scraped_deltalog/5x7b9n.txt is empty\n",
      "scraped_deltalog/5t2s2p.txt is empty\n",
      "scraped_deltalog/5v85o2.txt is empty\n",
      "scraped_deltalog/5mxw8r.txt is empty\n",
      "scraped_deltalog/5z383j.txt is empty\n",
      "scraped_deltalog/5wsevs.txt is empty\n",
      "scraped_deltalog/608apu.txt is empty\n",
      "scraped_deltalog/5w8zsy.txt is empty\n"
     ]
    },
    {
     "name": "stderr",
     "output_type": "stream",
     "text": [
      " 22%|██▏       | 6465/29710 [00:03<00:13, 1687.48it/s]"
     ]
    },
    {
     "name": "stdout",
     "output_type": "stream",
     "text": [
      "scraped_deltalog/5uz75l.txt is empty\n",
      "scraped_deltalog/5vteta.txt is empty\n",
      "scraped_deltalog/5y9yxa.txt is empty\n",
      "scraped_deltalog/5rjs1x.txt is empty\n",
      "scraped_deltalog/624kbf.txt is empty\n",
      "scraped_deltalog/5x5gg1.txt is empty\n",
      "scraped_deltalog/5xpz0c.txt is empty\n",
      "scraped_deltalog/6113r8.txt is empty\n",
      "scraped_deltalog/5sy9ao.txt is empty\n",
      "scraped_deltalog/5rherv.txt is empty\n",
      "scraped_deltalog/5rbqlq.txt is empty\n",
      "scraped_deltalog/5pwppt.txt is empty\n",
      "scraped_deltalog/5opa1a.txt is empty\n",
      "scraped_deltalog/5rpwbs.txt is empty\n",
      "scraped_deltalog/5pb808.txt is empty\n",
      "scraped_deltalog/5z8124.txt is empty\n",
      "scraped_deltalog/5tjf6l.txt is empty\n",
      "scraped_deltalog/5u0mxn.txt is empty\n",
      "scraped_deltalog/5zb32u.txt is empty\n",
      "scraped_deltalog/5nzk8i.txt is empty\n",
      "scraped_deltalog/5yb5qn.txt is empty\n",
      "scraped_deltalog/5ve2kz.txt is empty\n",
      "scraped_deltalog/5s5mas.txt is empty\n"
     ]
    },
    {
     "name": "stderr",
     "output_type": "stream",
     "text": [
      " 23%|██▎       | 6834/29710 [00:03<00:12, 1768.99it/s]"
     ]
    },
    {
     "name": "stdout",
     "output_type": "stream",
     "text": [
      "scraped_deltalog/5v9ips.txt is empty\n",
      "scraped_deltalog/5o0wme.txt is empty\n",
      "scraped_deltalog/5w04c8.txt is empty\n",
      "scraped_deltalog/5ygfu7.txt is empty\n",
      "scraped_deltalog/5vxg7b.txt is empty\n",
      "scraped_deltalog/5wsp60.txt is empty\n",
      "scraped_deltalog/5w6iwl.txt is empty\n",
      "scraped_deltalog/5o26xt.txt is empty\n",
      "scraped_deltalog/5vbc8b.txt is empty\n"
     ]
    },
    {
     "name": "stderr",
     "output_type": "stream",
     "text": [
      " 24%|██▍       | 7188/29710 [00:04<00:13, 1726.50it/s]"
     ]
    },
    {
     "name": "stdout",
     "output_type": "stream",
     "text": [
      "scraped_deltalog/jw662e.txt is empty\n",
      "scraped_deltalog/5yo549.txt is empty\n",
      "scraped_deltalog/5ztg57.txt is empty\n",
      "scraped_deltalog/5qt7gg.txt is empty\n",
      "scraped_deltalog/5vafm2.txt is empty\n",
      "scraped_deltalog/5zqiqe.txt is empty\n",
      "scraped_deltalog/5xp9qc.txt is empty\n",
      "scraped_deltalog/5zkthg.txt is empty\n",
      "scraped_deltalog/5su065.txt is empty\n",
      "scraped_deltalog/5q4mln.txt is empty\n",
      "scraped_deltalog/5wadoq.txt is empty\n",
      "scraped_deltalog/5pobsi.txt is empty\n",
      "scraped_deltalog/614vfa.txt is empty\n",
      "scraped_deltalog/5r49zc.txt is empty\n",
      "scraped_deltalog/5wrnp7.txt is empty\n",
      "scraped_deltalog/60egas.txt is empty\n",
      "scraped_deltalog/602pzq.txt is empty\n"
     ]
    },
    {
     "name": "stderr",
     "output_type": "stream",
     "text": [
      " 25%|██▌       | 7535/29710 [00:04<00:13, 1704.26it/s]"
     ]
    },
    {
     "name": "stdout",
     "output_type": "stream",
     "text": [
      "scraped_deltalog/5qkaja.txt is empty\n",
      "scraped_deltalog/5qqoc4.txt is empty\n",
      "scraped_deltalog/5spxqe.txt is empty\n",
      "scraped_deltalog/61uf7x.txt is empty\n",
      "scraped_deltalog/5or406.txt is empty\n",
      "scraped_deltalog/5wbgwu.txt is empty\n",
      "scraped_deltalog/5smg31.txt is empty\n",
      "scraped_deltalog/5uwg58.txt is empty\n",
      "scraped_deltalog/5tuah9.txt is empty\n",
      "scraped_deltalog/5ygzfk.txt is empty\n",
      "scraped_deltalog/61td0p.txt is empty\n",
      "scraped_deltalog/5qedvu.txt is empty\n",
      "scraped_deltalog/5wag7t.txt is empty\n",
      "scraped_deltalog/5xnsdv.txt is empty\n",
      "scraped_deltalog/5r9aza.txt is empty\n",
      "scraped_deltalog/5o4mb3.txt is empty\n",
      "scraped_deltalog/60xjrt.txt is empty\n"
     ]
    },
    {
     "name": "stderr",
     "output_type": "stream",
     "text": [
      " 27%|██▋       | 7899/29710 [00:04<00:12, 1753.67it/s]"
     ]
    },
    {
     "name": "stdout",
     "output_type": "stream",
     "text": [
      "scraped_deltalog/5o8vq5.txt is empty\n",
      "scraped_deltalog/6vz8yu.txt is empty\n",
      "scraped_deltalog/5sr46o.txt is empty\n",
      "scraped_deltalog/5wj8vk.txt is empty\n",
      "scraped_deltalog/61krsg.txt is empty\n",
      "scraped_deltalog/5x92it.txt is empty\n",
      "scraped_deltalog/60kejn.txt is empty\n",
      "scraped_deltalog/5yc6sg.txt is empty\n",
      "scraped_deltalog/5rsoj1.txt is empty\n",
      "scraped_deltalog/5zf3r1.txt is empty\n",
      "scraped_deltalog/5xccvv.txt is empty\n",
      "scraped_deltalog/60oxgw.txt is empty\n",
      "scraped_deltalog/5vfafb.txt is empty\n",
      "scraped_deltalog/5o0o30.txt is empty\n",
      "scraped_deltalog/5w81m3.txt is empty\n",
      "scraped_deltalog/5t95i9.txt is empty\n",
      "scraped_deltalog/5y98nf.txt is empty\n",
      "scraped_deltalog/5yau33.txt is empty\n"
     ]
    },
    {
     "name": "stderr",
     "output_type": "stream",
     "text": [
      " 28%|██▊       | 8267/29710 [00:04<00:11, 1796.51it/s]"
     ]
    },
    {
     "name": "stdout",
     "output_type": "stream",
     "text": [
      "scraped_deltalog/5rms7j.txt is empty\n",
      "scraped_deltalog/5y5k25.txt is empty\n",
      "scraped_deltalog/6en8nk.txt is empty\n",
      "scraped_deltalog/5rzdgi.txt is empty\n",
      "scraped_deltalog/5wsvzx.txt is empty\n",
      "scraped_deltalog/5wlpt4.txt is empty\n",
      "scraped_deltalog/61mp0o.txt is empty\n",
      "scraped_deltalog/5qeoa2.txt is empty\n",
      "scraped_deltalog/5y7qxa.txt is empty\n",
      "scraped_deltalog/8cplgx.txt is empty\n",
      "scraped_deltalog/5vzwzx.txt is empty\n",
      "scraped_deltalog/61xjjh.txt is empty\n",
      "scraped_deltalog/5wxajk.txt is empty\n",
      "scraped_deltalog/5sj336.txt is empty\n",
      "scraped_deltalog/5xwvnh.txt is empty\n"
     ]
    },
    {
     "name": "stderr",
     "output_type": "stream",
     "text": [
      " 30%|██▉       | 8828/29710 [00:04<00:11, 1826.82it/s]"
     ]
    },
    {
     "name": "stdout",
     "output_type": "stream",
     "text": [
      "scraped_deltalog/5rg9oj.txt is empty\n",
      "scraped_deltalog/5qvyv8.txt is empty\n",
      "scraped_deltalog/61bozl.txt is empty\n",
      "scraped_deltalog/60ehli.txt is empty\n",
      "scraped_deltalog/5yw5kq.txt is empty\n",
      "scraped_deltalog/5zy1z2.txt is empty\n",
      "scraped_deltalog/5xj7jr.txt is empty\n",
      "scraped_deltalog/6216w6.txt is empty\n",
      "scraped_deltalog/5p1pi4.txt is empty\n",
      "scraped_deltalog/5z81kq.txt is empty\n",
      "scraped_deltalog/5xbg9j.txt is empty\n",
      "scraped_deltalog/5sadps.txt is empty\n",
      "scraped_deltalog/7gxmgs.txt is empty\n",
      "scraped_deltalog/5uhznb.txt is empty\n",
      "scraped_deltalog/5ubzpp.txt is empty\n",
      "scraped_deltalog/5wzauf.txt is empty\n",
      "scraped_deltalog/600e9j.txt is empty\n",
      "scraped_deltalog/5svpzp.txt is empty\n",
      "scraped_deltalog/5y2kpl.txt is empty\n",
      "scraped_deltalog/60bij3.txt is empty\n",
      "scraped_deltalog/5v985x.txt is empty\n"
     ]
    },
    {
     "name": "stderr",
     "output_type": "stream",
     "text": [
      " 31%|███       | 9201/29710 [00:05<00:11, 1825.64it/s]"
     ]
    },
    {
     "name": "stdout",
     "output_type": "stream",
     "text": [
      "scraped_deltalog/6j10sr.txt is empty\n",
      "scraped_deltalog/5tmjvp.txt is empty\n",
      "scraped_deltalog/5r1v8y.txt is empty\n",
      "scraped_deltalog/5y2kpk.txt is empty\n",
      "scraped_deltalog/5qxofi.txt is empty\n",
      "scraped_deltalog/60st9y.txt is empty\n",
      "scraped_deltalog/5yvq12.txt is empty\n",
      "scraped_deltalog/5u8ltv.txt is empty\n",
      "scraped_deltalog/5ranmc.txt is empty\n",
      "scraped_deltalog/610jeh.txt is empty\n",
      "scraped_deltalog/6060wz.txt is empty\n",
      "scraped_deltalog/5s90d6.txt is empty\n",
      "scraped_deltalog/5pb46a.txt is empty\n"
     ]
    },
    {
     "name": "stderr",
     "output_type": "stream",
     "text": [
      " 32%|███▏      | 9580/29710 [00:05<00:10, 1855.38it/s]"
     ]
    },
    {
     "name": "stdout",
     "output_type": "stream",
     "text": [
      "scraped_deltalog/5w1ui4.txt is empty\n",
      "scraped_deltalog/60t82z.txt is empty\n",
      "scraped_deltalog/5rks1f.txt is empty\n",
      "scraped_deltalog/7ask7y.txt is empty\n",
      "scraped_deltalog/5zo375.txt is empty\n",
      "scraped_deltalog/5pcyxf.txt is empty\n",
      "scraped_deltalog/5x846f.txt is empty\n",
      "scraped_deltalog/5y9gv5.txt is empty\n",
      "scraped_deltalog/61yde3.txt is empty\n",
      "scraped_deltalog/5x84s6.txt is empty\n",
      "scraped_deltalog/5ozo0w.txt is empty\n",
      "scraped_deltalog/5weqkv.txt is empty\n",
      "scraped_deltalog/60ve6i.txt is empty\n",
      "scraped_deltalog/5wso4q.txt is empty\n",
      "scraped_deltalog/5sppr1.txt is empty\n",
      "scraped_deltalog/609lrz.txt is empty\n",
      "scraped_deltalog/5vftjy.txt is empty\n",
      "scraped_deltalog/5vaolb.txt is empty\n",
      "scraped_deltalog/5zmhtx.txt is empty\n",
      "scraped_deltalog/5tza76.txt is empty\n",
      "scraped_deltalog/5ygumz.txt is empty\n",
      "scraped_deltalog/6167op.txt is empty\n"
     ]
    },
    {
     "name": "stderr",
     "output_type": "stream",
     "text": [
      " 34%|███▎      | 9966/29710 [00:05<00:10, 1883.10it/s]"
     ]
    },
    {
     "name": "stdout",
     "output_type": "stream",
     "text": [
      "scraped_deltalog/5whfi4.txt is empty\n",
      "scraped_deltalog/6qojh0.txt is empty\n",
      "scraped_deltalog/5um5v1.txt is empty\n",
      "scraped_deltalog/5oe2uc.txt is empty\n",
      "scraped_deltalog/5t4wrq.txt is empty\n",
      "scraped_deltalog/5y5jus.txt is empty\n",
      "scraped_deltalog/5zkgmd.txt is empty\n",
      "scraped_deltalog/5s32gk.txt is empty\n",
      "scraped_deltalog/5z7b7f.txt is empty\n",
      "scraped_deltalog/5n9ys2.txt is empty\n",
      "scraped_deltalog/5y2kpp.txt is empty\n",
      "scraped_deltalog/5rex6c.txt is empty\n",
      "scraped_deltalog/5yfszk.txt is empty\n",
      "scraped_deltalog/61vn7j.txt is empty\n",
      "scraped_deltalog/5zgt7w.txt is empty\n",
      "scraped_deltalog/5qq3hm.txt is empty\n",
      "scraped_deltalog/5y5jut.txt is empty\n",
      "scraped_deltalog/5ux08z.txt is empty\n",
      "scraped_deltalog/5y5jx2.txt is empty\n",
      "scraped_deltalog/5y5oro.txt is empty\n"
     ]
    },
    {
     "name": "stderr",
     "output_type": "stream",
     "text": [
      " 35%|███▍      | 10343/29710 [00:05<00:10, 1848.51it/s]"
     ]
    },
    {
     "name": "stdout",
     "output_type": "stream",
     "text": [
      "scraped_deltalog/5x14yf.txt is empty\n",
      "scraped_deltalog/5tahmx.txt is empty\n",
      "scraped_deltalog/5ontjo.txt is empty\n",
      "scraped_deltalog/5ryjz9.txt is empty\n",
      "scraped_deltalog/5ulu4c.txt is empty\n",
      "scraped_deltalog/5qs6yo.txt is empty\n",
      "scraped_deltalog/5o91ep.txt is empty\n",
      "scraped_deltalog/5u4jpm.txt is empty\n",
      "scraped_deltalog/5rsdd6.txt is empty\n"
     ]
    },
    {
     "name": "stderr",
     "output_type": "stream",
     "text": [
      " 36%|███▌      | 10709/29710 [00:05<00:10, 1778.81it/s]"
     ]
    },
    {
     "name": "stdout",
     "output_type": "stream",
     "text": [
      "scraped_deltalog/627c4r.txt is empty\n",
      "scraped_deltalog/5n2np7.txt is empty\n",
      "scraped_deltalog/5x4ck1.txt is empty\n",
      "scraped_deltalog/6078wi.txt is empty\n",
      "scraped_deltalog/5ukrl2.txt is empty\n",
      "scraped_deltalog/60xeic.txt is empty\n",
      "scraped_deltalog/5qdvb4.txt is empty\n",
      "scraped_deltalog/5w8on1.txt is empty\n",
      "scraped_deltalog/61s984.txt is empty\n",
      "scraped_deltalog/5vzq70.txt is empty\n",
      "scraped_deltalog/60pz0t.txt is empty\n",
      "scraped_deltalog/5wrwpv.txt is empty\n",
      "scraped_deltalog/5v13b7.txt is empty\n",
      "scraped_deltalog/5tbh6n.txt is empty\n",
      "scraped_deltalog/5z8gy1.txt is empty\n"
     ]
    },
    {
     "name": "stderr",
     "output_type": "stream",
     "text": [
      " 37%|███▋      | 11064/29710 [00:06<00:10, 1702.42it/s]"
     ]
    },
    {
     "name": "stdout",
     "output_type": "stream",
     "text": [
      "scraped_deltalog/60473h.txt is empty\n",
      "scraped_deltalog/60uwq3.txt is empty\n",
      "scraped_deltalog/5vm0rm.txt is empty\n",
      "scraped_deltalog/5sj7j0.txt is empty\n",
      "scraped_deltalog/h93fto.txt is empty\n",
      "scraped_deltalog/5qlchi.txt is empty\n",
      "scraped_deltalog/5qcv4y.txt is empty\n",
      "scraped_deltalog/5t8w6c.txt is empty\n",
      "scraped_deltalog/5negz6.txt is empty\n",
      "scraped_deltalog/5u55cc.txt is empty\n"
     ]
    },
    {
     "name": "stderr",
     "output_type": "stream",
     "text": [
      " 39%|███▊      | 11476/29710 [00:06<00:09, 1883.67it/s]"
     ]
    },
    {
     "name": "stdout",
     "output_type": "stream",
     "text": [
      "scraped_deltalog/5tj8h7.txt is empty\n",
      "scraped_deltalog/5zmb7s.txt is empty\n",
      "scraped_deltalog/7i68kk.txt is empty\n",
      "scraped_deltalog/5r9ssm.txt is empty\n",
      "scraped_deltalog/5rcndy.txt is empty\n",
      "scraped_deltalog/5pl98h.txt is empty\n",
      "scraped_deltalog/5qetv0.txt is empty\n",
      "scraped_deltalog/82c7l6.txt is empty\n",
      "scraped_deltalog/5x9mcy.txt is empty\n",
      "scraped_deltalog/62a2gy.txt is empty\n",
      "scraped_deltalog/5p8ra4.txt is empty\n",
      "scraped_deltalog/60uptm.txt is empty\n",
      "scraped_deltalog/61jpz6.txt is empty\n",
      "scraped_deltalog/607gtk.txt is empty\n"
     ]
    },
    {
     "name": "stderr",
     "output_type": "stream",
     "text": [
      " 40%|███▉      | 11875/29710 [00:06<00:09, 1903.77it/s]"
     ]
    },
    {
     "name": "stdout",
     "output_type": "stream",
     "text": [
      "scraped_deltalog/5z5xvw.txt is empty\n",
      "scraped_deltalog/5x1end.txt is empty\n",
      "scraped_deltalog/5rfg3p.txt is empty\n",
      "scraped_deltalog/5ykydc.txt is empty\n",
      "scraped_deltalog/5shdbk.txt is empty\n",
      "scraped_deltalog/7rnwrl.txt is empty\n",
      "scraped_deltalog/5y9vzy.txt is empty\n",
      "scraped_deltalog/61lgy4.txt is empty\n",
      "scraped_deltalog/60u5qd.txt is empty\n",
      "scraped_deltalog/5rhjn9.txt is empty\n",
      "scraped_deltalog/5tizx7.txt is empty\n",
      "scraped_deltalog/5pzu8s.txt is empty\n",
      "scraped_deltalog/5wy9la.txt is empty\n"
     ]
    },
    {
     "name": "stderr",
     "output_type": "stream",
     "text": [
      " 41%|████▏     | 12258/29710 [00:06<00:09, 1854.09it/s]"
     ]
    },
    {
     "name": "stdout",
     "output_type": "stream",
     "text": [
      "scraped_deltalog/5t10il.txt is empty\n",
      "scraped_deltalog/60qlv1.txt is empty\n",
      "scraped_deltalog/5oac38.txt is empty\n",
      "scraped_deltalog/7asqy1.txt is empty\n",
      "scraped_deltalog/5sn508.txt is empty\n",
      "scraped_deltalog/5q0tp4.txt is empty\n",
      "scraped_deltalog/5pl0gc.txt is empty\n",
      "scraped_deltalog/5xxeiu.txt is empty\n",
      "scraped_deltalog/5pdupm.txt is empty\n",
      "scraped_deltalog/5vy558.txt is empty\n",
      "scraped_deltalog/5rd3an.txt is empty\n",
      "scraped_deltalog/5wajxi.txt is empty\n",
      "scraped_deltalog/61m5ll.txt is empty\n"
     ]
    },
    {
     "name": "stderr",
     "output_type": "stream",
     "text": [
      " 42%|████▏     | 12623/29710 [00:07<00:10, 1683.82it/s]"
     ]
    },
    {
     "name": "stdout",
     "output_type": "stream",
     "text": [
      "scraped_deltalog/5wyaj4.txt is empty\n",
      "scraped_deltalog/5x8h06.txt is empty\n",
      "scraped_deltalog/5s9ire.txt is empty\n",
      "scraped_deltalog/5v0k2g.txt is empty\n",
      "scraped_deltalog/5rc3ux.txt is empty\n",
      "scraped_deltalog/5xw1ja.txt is empty\n",
      "scraped_deltalog/5ujbs7.txt is empty\n",
      "scraped_deltalog/5z0w0h.txt is empty\n",
      "scraped_deltalog/5ri9p1.txt is empty\n",
      "scraped_deltalog/5r4gmo.txt is empty\n"
     ]
    },
    {
     "name": "stderr",
     "output_type": "stream",
     "text": [
      " 44%|████▎     | 12978/29710 [00:07<00:09, 1710.52it/s]"
     ]
    },
    {
     "name": "stdout",
     "output_type": "stream",
     "text": [
      "scraped_deltalog/5zrjcc.txt is empty\n",
      "scraped_deltalog/5w40bn.txt is empty\n",
      "scraped_deltalog/5wq84t.txt is empty\n",
      "scraped_deltalog/5rgrr1.txt is empty\n",
      "scraped_deltalog/5vu59r.txt is empty\n",
      "scraped_deltalog/5u85rj.txt is empty\n",
      "scraped_deltalog/5qf3ji.txt is empty\n",
      "scraped_deltalog/5pbdx5.txt is empty\n",
      "scraped_deltalog/5scjnp.txt is empty\n",
      "scraped_deltalog/5r67h4.txt is empty\n",
      "scraped_deltalog/5xujkl.txt is empty\n",
      "scraped_deltalog/5qg785.txt is empty\n"
     ]
    },
    {
     "name": "stderr",
     "output_type": "stream",
     "text": [
      " 45%|████▌     | 13373/29710 [00:07<00:08, 1842.36it/s]"
     ]
    },
    {
     "name": "stdout",
     "output_type": "stream",
     "text": [
      "scraped_deltalog/61ouv8.txt is empty\n",
      "scraped_deltalog/5stpn1.txt is empty\n",
      "scraped_deltalog/5uw9m5.txt is empty\n",
      "scraped_deltalog/5re9b7.txt is empty\n",
      "scraped_deltalog/5ygokj.txt is empty\n",
      "scraped_deltalog/5s6mbo.txt is empty\n",
      "scraped_deltalog/5sf3ez.txt is empty\n",
      "scraped_deltalog/hm0azw.txt is empty\n",
      "scraped_deltalog/5olbct.txt is empty\n",
      "scraped_deltalog/5vv6zj.txt is empty\n",
      "scraped_deltalog/5s5h78.txt is empty\n",
      "scraped_deltalog/5zulbc.txt is empty\n",
      "scraped_deltalog/5ri1hu.txt is empty\n",
      "scraped_deltalog/62dwmk.txt is empty\n",
      "scraped_deltalog/5yvtbw.txt is empty\n",
      "scraped_deltalog/5vk99a.txt is empty\n",
      "scraped_deltalog/5scm13.txt is empty\n",
      "scraped_deltalog/5or0t8.txt is empty\n",
      "scraped_deltalog/60bftk.txt is empty\n",
      "scraped_deltalog/60bnqz.txt is empty\n",
      "scraped_deltalog/5q0u4l.txt is empty\n",
      "scraped_deltalog/5q5zbu.txt is empty\n",
      "scraped_deltalog/5nndqo.txt is empty\n",
      "scraped_deltalog/8dvg2u.txt is empty\n"
     ]
    },
    {
     "name": "stderr",
     "output_type": "stream",
     "text": [
      " 46%|████▋     | 13787/29710 [00:07<00:08, 1947.96it/s]"
     ]
    },
    {
     "name": "stdout",
     "output_type": "stream",
     "text": [
      "scraped_deltalog/i1vo6n.txt is empty\n",
      "scraped_deltalog/5uy3xg.txt is empty\n",
      "scraped_deltalog/5vdtm5.txt is empty\n",
      "scraped_deltalog/5v6z37.txt is empty\n",
      "scraped_deltalog/5toyum.txt is empty\n",
      "scraped_deltalog/5tj9u0.txt is empty\n",
      "scraped_deltalog/5t335h.txt is empty\n",
      "scraped_deltalog/5rbklm.txt is empty\n",
      "scraped_deltalog/5qa93y.txt is empty\n",
      "scraped_deltalog/5phuxn.txt is empty\n",
      "scraped_deltalog/7gmriz.txt is empty\n",
      "scraped_deltalog/5phwkb.txt is empty\n",
      "scraped_deltalog/5xr83l.txt is empty\n",
      "scraped_deltalog/5p2jku.txt is empty\n",
      "scraped_deltalog/5qcwu2.txt is empty\n",
      "scraped_deltalog/5og907.txt is empty\n",
      "scraped_deltalog/5unsja.txt is empty\n",
      "scraped_deltalog/5y3ez6.txt is empty\n",
      "scraped_deltalog/5wsixx.txt is empty\n"
     ]
    },
    {
     "name": "stderr",
     "output_type": "stream",
     "text": [
      " 48%|████▊     | 14174/29710 [00:07<00:08, 1822.17it/s]"
     ]
    },
    {
     "name": "stdout",
     "output_type": "stream",
     "text": [
      "scraped_deltalog/5wltc5.txt is empty\n",
      "scraped_deltalog/60plmc.txt is empty\n",
      "scraped_deltalog/5s7v35.txt is empty\n",
      "scraped_deltalog/6mqlli.txt is empty\n",
      "scraped_deltalog/6d8fva.txt is empty\n",
      "scraped_deltalog/5zjp3r.txt is empty\n",
      "scraped_deltalog/5ui5to.txt is empty\n",
      "scraped_deltalog/5rifv2.txt is empty\n"
     ]
    },
    {
     "name": "stderr",
     "output_type": "stream",
     "text": [
      " 49%|████▉     | 14544/29710 [00:08<00:08, 1811.97it/s]"
     ]
    },
    {
     "name": "stdout",
     "output_type": "stream",
     "text": [
      "scraped_deltalog/61lykr.txt is empty\n",
      "scraped_deltalog/629v97.txt is empty\n",
      "scraped_deltalog/6vmou7.txt is empty\n",
      "scraped_deltalog/5wry9i.txt is empty\n",
      "scraped_deltalog/5o1r7m.txt is empty\n",
      "scraped_deltalog/5vkgxm.txt is empty\n",
      "scraped_deltalog/5zp0jr.txt is empty\n",
      "scraped_deltalog/5omnx4.txt is empty\n",
      "scraped_deltalog/5xp3wl.txt is empty\n",
      "scraped_deltalog/5xu800.txt is empty\n",
      "scraped_deltalog/5rjc7x.txt is empty\n",
      "scraped_deltalog/86bxpc.txt is empty\n",
      "scraped_deltalog/5u75z8.txt is empty\n",
      "scraped_deltalog/5p70xq.txt is empty\n",
      "scraped_deltalog/5xpi7d.txt is empty\n",
      "scraped_deltalog/5vp691.txt is empty\n",
      "scraped_deltalog/5y6cp4.txt is empty\n",
      "scraped_deltalog/60peia.txt is empty\n",
      "scraped_deltalog/60r6nd.txt is empty\n",
      "scraped_deltalog/5zunb7.txt is empty\n",
      "scraped_deltalog/5z6xra.txt is empty\n"
     ]
    },
    {
     "name": "stderr",
     "output_type": "stream",
     "text": [
      " 50%|█████     | 14905/29710 [00:08<00:08, 1741.86it/s]"
     ]
    },
    {
     "name": "stdout",
     "output_type": "stream",
     "text": [
      "scraped_deltalog/5vyqnl.txt is empty\n",
      "scraped_deltalog/5n2lba.txt is empty\n",
      "scraped_deltalog/5qzy7y.txt is empty\n",
      "scraped_deltalog/5zkiva.txt is empty\n",
      "scraped_deltalog/6em7zf.txt is empty\n",
      "scraped_deltalog/5rqt06.txt is empty\n",
      "scraped_deltalog/7s6zw0.txt is empty\n",
      "scraped_deltalog/5s6wkt.txt is empty\n",
      "scraped_deltalog/5whqyz.txt is empty\n",
      "scraped_deltalog/5zm8u8.txt is empty\n",
      "scraped_deltalog/5ur7ht.txt is empty\n",
      "scraped_deltalog/5xm5a9.txt is empty\n",
      "scraped_deltalog/5olgwo.txt is empty\n"
     ]
    },
    {
     "name": "stderr",
     "output_type": "stream",
     "text": [
      " 51%|█████▏    | 15271/29710 [00:08<00:08, 1771.40it/s]"
     ]
    },
    {
     "name": "stdout",
     "output_type": "stream",
     "text": [
      "scraped_deltalog/61z6cb.txt is empty\n",
      "scraped_deltalog/60iw3q.txt is empty\n",
      "scraped_deltalog/5u701x.txt is empty\n",
      "scraped_deltalog/5qx4y9.txt is empty\n",
      "scraped_deltalog/5s8qn8.txt is empty\n",
      "scraped_deltalog/5z9h3w.txt is empty\n",
      "scraped_deltalog/5zlbbl.txt is empty\n",
      "scraped_deltalog/5nbtfn.txt is empty\n",
      "scraped_deltalog/60zzpq.txt is empty\n",
      "scraped_deltalog/623r1t.txt is empty\n",
      "scraped_deltalog/60r1nq.txt is empty\n",
      "scraped_deltalog/61upol.txt is empty\n",
      "scraped_deltalog/61rgc3.txt is empty\n",
      "scraped_deltalog/5t4i4x.txt is empty\n",
      "scraped_deltalog/5s35qi.txt is empty\n",
      "scraped_deltalog/5uy25h.txt is empty\n",
      "scraped_deltalog/5vs9pi.txt is empty\n",
      "scraped_deltalog/5wwxfh.txt is empty\n",
      "scraped_deltalog/5rkyy9.txt is empty\n",
      "scraped_deltalog/5uno0f.txt is empty\n"
     ]
    },
    {
     "name": "stderr",
     "output_type": "stream",
     "text": [
      " 53%|█████▎    | 15627/29710 [00:08<00:08, 1711.79it/s]"
     ]
    },
    {
     "name": "stdout",
     "output_type": "stream",
     "text": [
      "scraped_deltalog/5pl0ns.txt is empty\n",
      "scraped_deltalog/5t5qgr.txt is empty\n",
      "scraped_deltalog/5xbh45.txt is empty\n",
      "scraped_deltalog/60jt5b.txt is empty\n",
      "scraped_deltalog/5wdk0y.txt is empty\n",
      "scraped_deltalog/5wutcn.txt is empty\n",
      "scraped_deltalog/60atf1.txt is empty\n",
      "scraped_deltalog/5xkmkm.txt is empty\n",
      "scraped_deltalog/5rae7w.txt is empty\n"
     ]
    },
    {
     "name": "stderr",
     "output_type": "stream",
     "text": [
      " 54%|█████▍    | 15993/29710 [00:08<00:07, 1717.98it/s]"
     ]
    },
    {
     "name": "stdout",
     "output_type": "stream",
     "text": [
      "scraped_deltalog/61p4gh.txt is empty\n",
      "scraped_deltalog/5wnhie.txt is empty\n",
      "scraped_deltalog/5mysys.txt is empty\n",
      "scraped_deltalog/5rno06.txt is empty\n",
      "scraped_deltalog/5qmqg4.txt is empty\n",
      "scraped_deltalog/5uvvxy.txt is empty\n",
      "scraped_deltalog/5ym10w.txt is empty\n",
      "scraped_deltalog/60nlih.txt is empty\n",
      "scraped_deltalog/5ny6ll.txt is empty\n",
      "scraped_deltalog/5wdjgk.txt is empty\n",
      "scraped_deltalog/5zwfbx.txt is empty\n",
      "scraped_deltalog/5z0jkg.txt is empty\n",
      "scraped_deltalog/5txc9l.txt is empty\n",
      "scraped_deltalog/60dq6s.txt is empty\n",
      "scraped_deltalog/5xepvw.txt is empty\n",
      "scraped_deltalog/5pf7i9.txt is empty\n",
      "scraped_deltalog/5pz538.txt is empty\n",
      "scraped_deltalog/5ymrl7.txt is empty\n",
      "scraped_deltalog/5ytw38.txt is empty\n",
      "scraped_deltalog/5qddlb.txt is empty\n",
      "scraped_deltalog/5njnto.txt is empty\n"
     ]
    },
    {
     "name": "stderr",
     "output_type": "stream",
     "text": [
      " 55%|█████▍    | 16337/29710 [00:09<00:08, 1665.91it/s]"
     ]
    },
    {
     "name": "stdout",
     "output_type": "stream",
     "text": [
      "scraped_deltalog/5zgs5a.txt is empty\n",
      "scraped_deltalog/5yhqr6.txt is empty\n",
      "scraped_deltalog/5ppsbl.txt is empty\n",
      "scraped_deltalog/604nya.txt is empty\n",
      "scraped_deltalog/5rbqhf.txt is empty\n",
      "scraped_deltalog/5zx4j6.txt is empty\n",
      "scraped_deltalog/5w2dev.txt is empty\n",
      "scraped_deltalog/5srj9g.txt is empty\n",
      "scraped_deltalog/5p5fu8.txt is empty\n",
      "scraped_deltalog/5qd584.txt is empty\n",
      "scraped_deltalog/60f4sb.txt is empty\n",
      "scraped_deltalog/5ukzod.txt is empty\n",
      "scraped_deltalog/5xdvb8.txt is empty\n",
      "scraped_deltalog/5y2pd3.txt is empty\n",
      "scraped_deltalog/5x65pf.txt is empty\n"
     ]
    },
    {
     "name": "stderr",
     "output_type": "stream",
     "text": [
      " 56%|█████▋    | 16719/29710 [00:09<00:07, 1788.68it/s]"
     ]
    },
    {
     "name": "stdout",
     "output_type": "stream",
     "text": [
      "scraped_deltalog/5ptai0.txt is empty\n",
      "scraped_deltalog/5w8473.txt is empty\n",
      "scraped_deltalog/5v63n1.txt is empty\n",
      "scraped_deltalog/5rcg69.txt is empty\n",
      "scraped_deltalog/7giun7.txt is empty\n",
      "scraped_deltalog/5p52jv.txt is empty\n",
      "scraped_deltalog/5n5v0r.txt is empty\n",
      "scraped_deltalog/5x0y13.txt is empty\n",
      "scraped_deltalog/5w67cf.txt is empty\n"
     ]
    },
    {
     "name": "stderr",
     "output_type": "stream",
     "text": [
      " 58%|█████▊    | 17087/29710 [00:09<00:07, 1784.79it/s]"
     ]
    },
    {
     "name": "stdout",
     "output_type": "stream",
     "text": [
      "scraped_deltalog/5pegz8.txt is empty\n",
      "scraped_deltalog/5x0eu2.txt is empty\n",
      "scraped_deltalog/6228qs.txt is empty\n",
      "scraped_deltalog/5o0m18.txt is empty\n",
      "scraped_deltalog/5sli6e.txt is empty\n",
      "scraped_deltalog/5wfmlm.txt is empty\n",
      "scraped_deltalog/5xub8d.txt is empty\n",
      "scraped_deltalog/5yan71.txt is empty\n",
      "scraped_deltalog/60j0mo.txt is empty\n",
      "scraped_deltalog/5opj8o.txt is empty\n",
      "scraped_deltalog/5vc7zr.txt is empty\n"
     ]
    },
    {
     "name": "stderr",
     "output_type": "stream",
     "text": [
      " 59%|█████▊    | 17451/29710 [00:09<00:06, 1789.40it/s]"
     ]
    },
    {
     "name": "stdout",
     "output_type": "stream",
     "text": [
      "scraped_deltalog/629t04.txt is empty\n",
      "scraped_deltalog/5zqexo.txt is empty\n",
      "scraped_deltalog/5ynavi.txt is empty\n",
      "scraped_deltalog/5trvip.txt is empty\n",
      "scraped_deltalog/5rs7s1.txt is empty\n",
      "scraped_deltalog/60o4wq.txt is empty\n",
      "scraped_deltalog/7kx56k.txt is empty\n",
      "scraped_deltalog/5nhhiw.txt is empty\n",
      "scraped_deltalog/6214bt.txt is empty\n",
      "scraped_deltalog/7i6agw.txt is empty\n",
      "scraped_deltalog/5rnrfn.txt is empty\n",
      "scraped_deltalog/5v0qdx.txt is empty\n",
      "scraped_deltalog/60cdbt.txt is empty\n",
      "scraped_deltalog/60eujl.txt is empty\n",
      "scraped_deltalog/5ra2v9.txt is empty\n",
      "scraped_deltalog/5wrhk2.txt is empty\n",
      "scraped_deltalog/61un55.txt is empty\n"
     ]
    },
    {
     "name": "stderr",
     "output_type": "stream",
     "text": [
      " 60%|█████▉    | 17809/29710 [00:09<00:06, 1763.04it/s]"
     ]
    },
    {
     "name": "stdout",
     "output_type": "stream",
     "text": [
      "scraped_deltalog/6458gk.txt is empty\n",
      "scraped_deltalog/5tnkfx.txt is empty\n",
      "scraped_deltalog/61kwx6.txt is empty\n",
      "scraped_deltalog/5vvh6m.txt is empty\n",
      "scraped_deltalog/61a4e6.txt is empty\n",
      "scraped_deltalog/5yw9sf.txt is empty\n",
      "scraped_deltalog/5t2tg2.txt is empty\n",
      "scraped_deltalog/5v98x0.txt is empty\n",
      "scraped_deltalog/5pdqro.txt is empty\n",
      "scraped_deltalog/5wggkt.txt is empty\n",
      "scraped_deltalog/60i696.txt is empty\n",
      "scraped_deltalog/5qohcf.txt is empty\n",
      "scraped_deltalog/61oki5.txt is empty\n",
      "scraped_deltalog/629uy1.txt is empty\n",
      "scraped_deltalog/5tul8y.txt is empty\n",
      "scraped_deltalog/6068yj.txt is empty\n",
      "scraped_deltalog/624rcw.txt is empty\n"
     ]
    },
    {
     "name": "stderr",
     "output_type": "stream",
     "text": [
      " 61%|██████    | 18159/29710 [00:10<00:07, 1592.91it/s]"
     ]
    },
    {
     "name": "stdout",
     "output_type": "stream",
     "text": [
      "scraped_deltalog/5s6li2.txt is empty\n",
      "scraped_deltalog/60wf0w.txt is empty\n",
      "scraped_deltalog/5xysv9.txt is empty\n",
      "scraped_deltalog/5u2wjt.txt is empty\n",
      "scraped_deltalog/620nxw.txt is empty\n",
      "scraped_deltalog/5r989r.txt is empty\n",
      "scraped_deltalog/5rkft5.txt is empty\n",
      "scraped_deltalog/65077w.txt is empty\n",
      "scraped_deltalog/5v8ysi.txt is empty\n",
      "scraped_deltalog/5o3qa2.txt is empty\n",
      "scraped_deltalog/5qf4ju.txt is empty\n",
      "scraped_deltalog/5xxdo2.txt is empty\n",
      "scraped_deltalog/5ox6az.txt is empty\n",
      "scraped_deltalog/7asl1t.txt is empty\n",
      "scraped_deltalog/7m02zm.txt is empty\n",
      "scraped_deltalog/5qpeys.txt is empty\n",
      "scraped_deltalog/5qcme6.txt is empty\n"
     ]
    },
    {
     "name": "stderr",
     "output_type": "stream",
     "text": [
      " 62%|██████▏   | 18535/29710 [00:10<00:06, 1727.89it/s]"
     ]
    },
    {
     "name": "stdout",
     "output_type": "stream",
     "text": [
      "scraped_deltalog/61qx8f.txt is empty\n",
      "scraped_deltalog/5zkczz.txt is empty\n",
      "scraped_deltalog/611mvz.txt is empty\n",
      "scraped_deltalog/5z04xd.txt is empty\n",
      "scraped_deltalog/5v93u2.txt is empty\n",
      "scraped_deltalog/5pxyaa.txt is empty\n",
      "scraped_deltalog/5wc6go.txt is empty\n",
      "scraped_deltalog/5sqhoq.txt is empty\n",
      "scraped_deltalog/5w9mvm.txt is empty\n",
      "scraped_deltalog/62aris.txt is empty\n",
      "scraped_deltalog/5w2rg4.txt is empty\n",
      "scraped_deltalog/60rmrx.txt is empty\n",
      "scraped_deltalog/5oi84b.txt is empty\n",
      "scraped_deltalog/5su23b.txt is empty\n",
      "scraped_deltalog/61o0xl.txt is empty\n",
      "scraped_deltalog/61cvis.txt is empty\n",
      "scraped_deltalog/5pse67.txt is empty\n"
     ]
    },
    {
     "name": "stderr",
     "output_type": "stream",
     "text": [
      " 64%|██████▎   | 18890/29710 [00:10<00:06, 1644.46it/s]"
     ]
    },
    {
     "name": "stdout",
     "output_type": "stream",
     "text": [
      "scraped_deltalog/5pqefg.txt is empty\n",
      "scraped_deltalog/5zx1xd.txt is empty\n",
      "scraped_deltalog/5yqa49.txt is empty\n",
      "scraped_deltalog/5p54pp.txt is empty\n",
      "scraped_deltalog/5xckto.txt is empty\n",
      "scraped_deltalog/5xfo87.txt is empty\n",
      "scraped_deltalog/5vk7c9.txt is empty\n",
      "scraped_deltalog/6165fo.txt is empty\n",
      "scraped_deltalog/5rq17c.txt is empty\n"
     ]
    },
    {
     "name": "stderr",
     "output_type": "stream",
     "text": [
      " 65%|██████▍   | 19281/29710 [00:10<00:05, 1800.93it/s]"
     ]
    },
    {
     "name": "stdout",
     "output_type": "stream",
     "text": [
      "scraped_deltalog/5ulw3c.txt is empty\n",
      "scraped_deltalog/5zseh5.txt is empty\n",
      "scraped_deltalog/5qdzrm.txt is empty\n",
      "scraped_deltalog/621ghb.txt is empty\n",
      "scraped_deltalog/5zltd2.txt is empty\n",
      "scraped_deltalog/629uak.txt is empty\n",
      "scraped_deltalog/5ygi4c.txt is empty\n",
      "scraped_deltalog/5s64w3.txt is empty\n",
      "scraped_deltalog/5p14mm.txt is empty\n",
      "scraped_deltalog/5w5iao.txt is empty\n",
      "scraped_deltalog/5wz1va.txt is empty\n",
      "scraped_deltalog/5qzvvw.txt is empty\n",
      "scraped_deltalog/5tpmor.txt is empty\n",
      "scraped_deltalog/5tnc0r.txt is empty\n",
      "scraped_deltalog/5u7rye.txt is empty\n",
      "scraped_deltalog/5qqoxg.txt is empty\n",
      "scraped_deltalog/5rrmxu.txt is empty\n"
     ]
    },
    {
     "name": "stderr",
     "output_type": "stream",
     "text": [
      " 66%|██████▋   | 19727/29710 [00:10<00:04, 1999.84it/s]"
     ]
    },
    {
     "name": "stdout",
     "output_type": "stream",
     "text": [
      "scraped_deltalog/5xiwop.txt is empty\n",
      "scraped_deltalog/60gdg4.txt is empty\n",
      "scraped_deltalog/60p8p1.txt is empty\n",
      "scraped_deltalog/5zmf51.txt is empty\n",
      "scraped_deltalog/622qxt.txt is empty\n",
      "scraped_deltalog/5n9q3k.txt is empty\n",
      "scraped_deltalog/5wq86s.txt is empty\n",
      "scraped_deltalog/5unh2a.txt is empty\n",
      "scraped_deltalog/5smi2s.txt is empty\n",
      "scraped_deltalog/5piqj2.txt is empty\n",
      "scraped_deltalog/5tqay4.txt is empty\n",
      "scraped_deltalog/5vgazc.txt is empty\n",
      "scraped_deltalog/60nn7z.txt is empty\n",
      "scraped_deltalog/60am9v.txt is empty\n",
      "scraped_deltalog/5ng8iq.txt is empty\n",
      "scraped_deltalog/7asp8y.txt is empty\n",
      "scraped_deltalog/o11h5f.txt is empty\n",
      "scraped_deltalog/5zr0pf.txt is empty\n",
      "scraped_deltalog/5qyopk.txt is empty\n",
      "scraped_deltalog/5v936f.txt is empty\n",
      "scraped_deltalog/5r27yq.txt is empty\n",
      "scraped_deltalog/5u4e0p.txt is empty\n",
      "scraped_deltalog/5ud6tj.txt is empty\n",
      "scraped_deltalog/5qsr84.txt is empty\n"
     ]
    },
    {
     "name": "stderr",
     "output_type": "stream",
     "text": [
      " 68%|██████▊   | 20311/29710 [00:11<00:05, 1847.87it/s]"
     ]
    },
    {
     "name": "stdout",
     "output_type": "stream",
     "text": [
      "scraped_deltalog/5vudqs.txt is empty\n",
      "scraped_deltalog/5s9ejn.txt is empty\n",
      "scraped_deltalog/5ux9d7.txt is empty\n",
      "scraped_deltalog/61n7ch.txt is empty\n",
      "scraped_deltalog/5vtpwh.txt is empty\n",
      "scraped_deltalog/5pdepl.txt is empty\n",
      "scraped_deltalog/5yz11q.txt is empty\n",
      "scraped_deltalog/5wpls8.txt is empty\n",
      "scraped_deltalog/5vkyxj.txt is empty\n",
      "scraped_deltalog/5t7wer.txt is empty\n",
      "scraped_deltalog/5pr3p1.txt is empty\n",
      "scraped_deltalog/5vm6sl.txt is empty\n",
      "scraped_deltalog/5yy29z.txt is empty\n"
     ]
    },
    {
     "name": "stderr",
     "output_type": "stream",
     "text": [
      " 70%|██████▉   | 20684/29710 [00:11<00:04, 1842.09it/s]"
     ]
    },
    {
     "name": "stdout",
     "output_type": "stream",
     "text": [
      "scraped_deltalog/5xvyil.txt is empty\n",
      "scraped_deltalog/6s56zh.txt is empty\n",
      "scraped_deltalog/61x99e.txt is empty\n",
      "scraped_deltalog/5u40u8.txt is empty\n",
      "scraped_deltalog/5rccw0.txt is empty\n",
      "scraped_deltalog/5tv863.txt is empty\n",
      "scraped_deltalog/5y5juw.txt is empty\n",
      "scraped_deltalog/5v54ob.txt is empty\n",
      "scraped_deltalog/5y5jx1.txt is empty\n",
      "scraped_deltalog/7is2qb.txt is empty\n",
      "scraped_deltalog/5z7lxk.txt is empty\n",
      "scraped_deltalog/5wdn8u.txt is empty\n",
      "scraped_deltalog/5s635w.txt is empty\n",
      "scraped_deltalog/5wb8zd.txt is empty\n",
      "scraped_deltalog/5vsze0.txt is empty\n",
      "scraped_deltalog/5qvqs1.txt is empty\n",
      "scraped_deltalog/5ypg0k.txt is empty\n",
      "scraped_deltalog/5u21q9.txt is empty\n",
      "scraped_deltalog/5o1jdu.txt is empty\n",
      "scraped_deltalog/5xjepf.txt is empty\n"
     ]
    },
    {
     "name": "stderr",
     "output_type": "stream",
     "text": [
      " 71%|███████   | 21050/29710 [00:11<00:05, 1697.70it/s]"
     ]
    },
    {
     "name": "stdout",
     "output_type": "stream",
     "text": [
      "scraped_deltalog/5yw8zr.txt is empty\n",
      "scraped_deltalog/5u8l65.txt is empty\n",
      "scraped_deltalog/5y5we3.txt is empty\n",
      "scraped_deltalog/5vxlc4.txt is empty\n",
      "scraped_deltalog/5sjxcl.txt is empty\n",
      "scraped_deltalog/5xx7qe.txt is empty\n",
      "scraped_deltalog/5tokal.txt is empty\n",
      "scraped_deltalog/5owxyy.txt is empty\n",
      "scraped_deltalog/5upyiy.txt is empty\n",
      "scraped_deltalog/62czcr.txt is empty\n",
      "scraped_deltalog/5vxln2.txt is empty\n",
      "scraped_deltalog/5v5yrt.txt is empty\n",
      "scraped_deltalog/5papdt.txt is empty\n",
      "scraped_deltalog/5vgb3i.txt is empty\n",
      "scraped_deltalog/5x8n7h.txt is empty\n",
      "scraped_deltalog/5tbot2.txt is empty\n",
      "scraped_deltalog/5t36kt.txt is empty\n",
      "scraped_deltalog/5phmjz.txt is empty\n",
      "scraped_deltalog/61h4ty.txt is empty\n"
     ]
    },
    {
     "name": "stderr",
     "output_type": "stream",
     "text": [
      " 72%|███████▏  | 21400/29710 [00:11<00:04, 1705.67it/s]"
     ]
    },
    {
     "name": "stdout",
     "output_type": "stream",
     "text": [
      "scraped_deltalog/60casv.txt is empty\n",
      "scraped_deltalog/63evcr.txt is empty\n",
      "scraped_deltalog/61b0ak.txt is empty\n",
      "scraped_deltalog/5x1p8a.txt is empty\n",
      "scraped_deltalog/5p084m.txt is empty\n",
      "scraped_deltalog/5x0tnh.txt is empty\n",
      "scraped_deltalog/5p8qft.txt is empty\n",
      "scraped_deltalog/607f1j.txt is empty\n",
      "scraped_deltalog/60dpma.txt is empty\n",
      "scraped_deltalog/60gb9c.txt is empty\n",
      "scraped_deltalog/5skerd.txt is empty\n",
      "scraped_deltalog/5q4hj1.txt is empty\n",
      "scraped_deltalog/604tky.txt is empty\n",
      "scraped_deltalog/5prnuq.txt is empty\n"
     ]
    },
    {
     "name": "stderr",
     "output_type": "stream",
     "text": [
      " 73%|███████▎  | 21746/29710 [00:12<00:04, 1690.28it/s]"
     ]
    },
    {
     "name": "stdout",
     "output_type": "stream",
     "text": [
      "scraped_deltalog/5s73r2.txt is empty\n",
      "scraped_deltalog/5nsatd.txt is empty\n",
      "scraped_deltalog/5wnwe3.txt is empty\n",
      "scraped_deltalog/5xjpvl.txt is empty\n",
      "scraped_deltalog/5y9tlb.txt is empty\n",
      "scraped_deltalog/61n6l8.txt is empty\n",
      "scraped_deltalog/5sw71j.txt is empty\n",
      "scraped_deltalog/5vg317.txt is empty\n",
      "scraped_deltalog/5oqqbe.txt is empty\n",
      "scraped_deltalog/5vyek5.txt is empty\n",
      "scraped_deltalog/5tpjq4.txt is empty\n",
      "scraped_deltalog/5x1f14.txt is empty\n",
      "scraped_deltalog/5tvvr2.txt is empty\n"
     ]
    },
    {
     "name": "stderr",
     "output_type": "stream",
     "text": [
      " 74%|███████▍  | 22078/29710 [00:12<00:04, 1598.88it/s]"
     ]
    },
    {
     "name": "stdout",
     "output_type": "stream",
     "text": [
      "scraped_deltalog/5rpu5e.txt is empty\n",
      "scraped_deltalog/5qudud.txt is empty\n",
      "scraped_deltalog/5p19xx.txt is empty\n",
      "scraped_deltalog/5x0rbp.txt is empty\n",
      "scraped_deltalog/5qodkf.txt is empty\n",
      "scraped_deltalog/5vgn07.txt is empty\n",
      "scraped_deltalog/5z6imm.txt is empty\n",
      "scraped_deltalog/5yubpa.txt is empty\n",
      "scraped_deltalog/606qgu.txt is empty\n",
      "scraped_deltalog/5pwiyk.txt is empty\n",
      "scraped_deltalog/5zlsco.txt is empty\n"
     ]
    },
    {
     "name": "stderr",
     "output_type": "stream",
     "text": [
      " 75%|███████▌  | 22416/29710 [00:12<00:04, 1580.55it/s]"
     ]
    },
    {
     "name": "stdout",
     "output_type": "stream",
     "text": [
      "scraped_deltalog/5uqwsx.txt is empty\n",
      "scraped_deltalog/5sihi4.txt is empty\n",
      "scraped_deltalog/5z8ken.txt is empty\n",
      "scraped_deltalog/5mw5m9.txt is empty\n",
      "scraped_deltalog/5zsi6n.txt is empty\n",
      "scraped_deltalog/5u9rbv.txt is empty\n",
      "scraped_deltalog/5veht6.txt is empty\n",
      "scraped_deltalog/5ppyj5.txt is empty\n",
      "scraped_deltalog/6cn79p.txt is empty\n",
      "scraped_deltalog/5vp9sr.txt is empty\n",
      "scraped_deltalog/5ux2u2.txt is empty\n",
      "scraped_deltalog/5xx21b.txt is empty\n"
     ]
    },
    {
     "name": "stderr",
     "output_type": "stream",
     "text": [
      " 77%|███████▋  | 22756/29710 [00:12<00:04, 1632.01it/s]"
     ]
    },
    {
     "name": "stdout",
     "output_type": "stream",
     "text": [
      "scraped_deltalog/5wxsts.txt is empty\n",
      "scraped_deltalog/61m0b4.txt is empty\n",
      "scraped_deltalog/5ydhlx.txt is empty\n",
      "scraped_deltalog/5zao6s.txt is empty\n",
      "scraped_deltalog/5vv187.txt is empty\n",
      "scraped_deltalog/5syx96.txt is empty\n",
      "scraped_deltalog/5oey33.txt is empty\n",
      "scraped_deltalog/61vped.txt is empty\n",
      "scraped_deltalog/5sofxa.txt is empty\n",
      "scraped_deltalog/5vg2p3.txt is empty\n",
      "scraped_deltalog/5v708f.txt is empty\n",
      "scraped_deltalog/5py658.txt is empty\n",
      "scraped_deltalog/61k02w.txt is empty\n",
      "scraped_deltalog/5qxmnj.txt is empty\n",
      "scraped_deltalog/61bjvp.txt is empty\n",
      "scraped_deltalog/5nksqg.txt is empty\n",
      "scraped_deltalog/5xrk6a.txt is empty\n"
     ]
    },
    {
     "name": "stderr",
     "output_type": "stream",
     "text": [
      " 78%|███████▊  | 23098/29710 [00:13<00:03, 1666.70it/s]"
     ]
    },
    {
     "name": "stdout",
     "output_type": "stream",
     "text": [
      "scraped_deltalog/5ugn5n.txt is empty\n",
      "scraped_deltalog/5n8kkx.txt is empty\n",
      "scraped_deltalog/5ubele.txt is empty\n",
      "scraped_deltalog/5zs2si.txt is empty\n",
      "scraped_deltalog/5t54xd.txt is empty\n",
      "scraped_deltalog/he0rsp.txt is empty\n",
      "scraped_deltalog/5my4vw.txt is empty\n",
      "scraped_deltalog/61ain3.txt is empty\n",
      "scraped_deltalog/61hc47.txt is empty\n",
      "scraped_deltalog/5v0twq.txt is empty\n",
      "scraped_deltalog/60set5.txt is empty\n",
      "scraped_deltalog/5qmbg1.txt is empty\n",
      "scraped_deltalog/5rshrc.txt is empty\n",
      "scraped_deltalog/5umwrd.txt is empty\n",
      "scraped_deltalog/5r9d7q.txt is empty\n",
      "scraped_deltalog/61jkq0.txt is empty\n",
      "scraped_deltalog/5yu364.txt is empty\n",
      "scraped_deltalog/5rh3tf.txt is empty\n",
      "scraped_deltalog/61j2xn.txt is empty\n",
      "scraped_deltalog/600q1h.txt is empty\n",
      "scraped_deltalog/617hgc.txt is empty\n",
      "scraped_deltalog/5n2e9s.txt is empty\n",
      "scraped_deltalog/60wa05.txt is empty\n"
     ]
    },
    {
     "name": "stderr",
     "output_type": "stream",
     "text": [
      " 79%|███████▉  | 23502/29710 [00:13<00:03, 1861.67it/s]"
     ]
    },
    {
     "name": "stdout",
     "output_type": "stream",
     "text": [
      "scraped_deltalog/5rcuh4.txt is empty\n",
      "scraped_deltalog/5pe4bq.txt is empty\n",
      "scraped_deltalog/5nwuh9.txt is empty\n",
      "scraped_deltalog/5qnxpb.txt is empty\n",
      "scraped_deltalog/61s2l9.txt is empty\n",
      "scraped_deltalog/61t29m.txt is empty\n",
      "scraped_deltalog/5yzm4y.txt is empty\n",
      "scraped_deltalog/5sgsu9.txt is empty\n",
      "scraped_deltalog/5v34ur.txt is empty\n",
      "scraped_deltalog/6136jq.txt is empty\n"
     ]
    },
    {
     "name": "stderr",
     "output_type": "stream",
     "text": [
      " 80%|████████  | 23875/29710 [00:13<00:03, 1833.77it/s]"
     ]
    },
    {
     "name": "stdout",
     "output_type": "stream",
     "text": [
      "scraped_deltalog/600zs7.txt is empty\n",
      "scraped_deltalog/5y5jw5.txt is empty\n",
      "scraped_deltalog/5uaywg.txt is empty\n",
      "scraped_deltalog/5rckpc.txt is empty\n",
      "scraped_deltalog/5qwq8g.txt is empty\n",
      "scraped_deltalog/61bp7z.txt is empty\n",
      "scraped_deltalog/606nkp.txt is empty\n",
      "scraped_deltalog/5skhbm.txt is empty\n",
      "scraped_deltalog/608ycg.txt is empty\n",
      "scraped_deltalog/5p8dey.txt is empty\n",
      "scraped_deltalog/5sst9s.txt is empty\n",
      "scraped_deltalog/5tqbcq.txt is empty\n",
      "scraped_deltalog/5owjj6.txt is empty\n",
      "scraped_deltalog/60ekka.txt is empty\n",
      "scraped_deltalog/60ndqj.txt is empty\n",
      "scraped_deltalog/5z8f2r.txt is empty\n"
     ]
    },
    {
     "name": "stderr",
     "output_type": "stream",
     "text": [
      " 82%|████████▏ | 24243/29710 [00:13<00:03, 1755.20it/s]"
     ]
    },
    {
     "name": "stdout",
     "output_type": "stream",
     "text": [
      "scraped_deltalog/5wqbdm.txt is empty\n",
      "scraped_deltalog/5v45so.txt is empty\n",
      "scraped_deltalog/5yzju6.txt is empty\n",
      "scraped_deltalog/5q1hpp.txt is empty\n",
      "scraped_deltalog/5ndtca.txt is empty\n",
      "scraped_deltalog/5r3pb0.txt is empty\n",
      "scraped_deltalog/5wonm1.txt is empty\n",
      "scraped_deltalog/5q6ctm.txt is empty\n",
      "scraped_deltalog/5sx1xj.txt is empty\n",
      "scraped_deltalog/5vlrt8.txt is empty\n",
      "scraped_deltalog/5z9gpj.txt is empty\n",
      "scraped_deltalog/5yq542.txt is empty\n",
      "scraped_deltalog/614ifz.txt is empty\n",
      "scraped_deltalog/5r47cf.txt is empty\n",
      "scraped_deltalog/7gnmgr.txt is empty\n",
      "scraped_deltalog/5twsem.txt is empty\n",
      "scraped_deltalog/61zyib.txt is empty\n",
      "scraped_deltalog/5yc19t.txt is empty\n"
     ]
    },
    {
     "name": "stderr",
     "output_type": "stream",
     "text": [
      " 83%|████████▎ | 24599/29710 [00:13<00:02, 1752.10it/s]"
     ]
    },
    {
     "name": "stdout",
     "output_type": "stream",
     "text": [
      "scraped_deltalog/5q6a67.txt is empty\n",
      "scraped_deltalog/5xx7c3.txt is empty\n",
      "scraped_deltalog/6005ik.txt is empty\n",
      "scraped_deltalog/5tmvk0.txt is empty\n",
      "scraped_deltalog/5zofn7.txt is empty\n",
      "scraped_deltalog/5rrh1h.txt is empty\n",
      "scraped_deltalog/5txiy6.txt is empty\n",
      "scraped_deltalog/5ppfdi.txt is empty\n",
      "scraped_deltalog/7hn5q6.txt is empty\n",
      "scraped_deltalog/5vofwl.txt is empty\n",
      "scraped_deltalog/5qzd0n.txt is empty\n",
      "scraped_deltalog/5w81ac.txt is empty\n"
     ]
    },
    {
     "name": "stderr",
     "output_type": "stream",
     "text": [
      " 84%|████████▍ | 24964/29710 [00:14<00:02, 1784.51it/s]"
     ]
    },
    {
     "name": "stdout",
     "output_type": "stream",
     "text": [
      "scraped_deltalog/5skh4w.txt is empty\n",
      "scraped_deltalog/60thh1.txt is empty\n",
      "scraped_deltalog/5wr05j.txt is empty\n",
      "scraped_deltalog/5t1btg.txt is empty\n",
      "scraped_deltalog/5qcm0z.txt is empty\n",
      "scraped_deltalog/5pwiro.txt is empty\n",
      "scraped_deltalog/5t9wmk.txt is empty\n",
      "scraped_deltalog/5og545.txt is empty\n",
      "scraped_deltalog/5ptrj7.txt is empty\n",
      "scraped_deltalog/5wvk8f.txt is empty\n",
      "scraped_deltalog/5tcb0z.txt is empty\n",
      "scraped_deltalog/5uo1tu.txt is empty\n",
      "scraped_deltalog/605g46.txt is empty\n"
     ]
    },
    {
     "name": "stderr",
     "output_type": "stream",
     "text": [
      " 85%|████████▌ | 25320/29710 [00:14<00:02, 1759.28it/s]"
     ]
    },
    {
     "name": "stdout",
     "output_type": "stream",
     "text": [
      "scraped_deltalog/5phknv.txt is empty\n",
      "scraped_deltalog/5r7in6.txt is empty\n",
      "scraped_deltalog/5utuxb.txt is empty\n",
      "scraped_deltalog/5o637i.txt is empty\n",
      "scraped_deltalog/6118fl.txt is empty\n",
      "scraped_deltalog/606rcg.txt is empty\n",
      "scraped_deltalog/5s1w9r.txt is empty\n",
      "scraped_deltalog/5uit10.txt is empty\n",
      "scraped_deltalog/5pbf9f.txt is empty\n",
      "scraped_deltalog/5xpo8u.txt is empty\n",
      "scraped_deltalog/5nblkr.txt is empty\n",
      "scraped_deltalog/5xmt4q.txt is empty\n",
      "scraped_deltalog/5uc89c.txt is empty\n",
      "scraped_deltalog/5xodx7.txt is empty\n",
      "scraped_deltalog/608ddu.txt is empty\n",
      "scraped_deltalog/5mykwv.txt is empty\n"
     ]
    },
    {
     "name": "stderr",
     "output_type": "stream",
     "text": [
      " 86%|████████▋ | 25676/29710 [00:14<00:02, 1521.26it/s]"
     ]
    },
    {
     "name": "stdout",
     "output_type": "stream",
     "text": [
      "scraped_deltalog/5qed6o.txt is empty\n",
      "scraped_deltalog/5zk1pc.txt is empty\n",
      "scraped_deltalog/5x4y6x.txt is empty\n",
      "scraped_deltalog/5s2kmd.txt is empty\n",
      "scraped_deltalog/5wfjxn.txt is empty\n",
      "scraped_deltalog/5vigw1.txt is empty\n",
      "scraped_deltalog/5n82r5.txt is empty\n",
      "scraped_deltalog/5w6ofp.txt is empty\n",
      "scraped_deltalog/5o7iuz.txt is empty\n",
      "scraped_deltalog/5s5t5g.txt is empty\n",
      "scraped_deltalog/619k7j.txt is empty\n",
      "scraped_deltalog/61il9f.txt is empty\n"
     ]
    },
    {
     "name": "stderr",
     "output_type": "stream",
     "text": [
      " 88%|████████▊ | 26207/29710 [00:14<00:02, 1648.38it/s]"
     ]
    },
    {
     "name": "stdout",
     "output_type": "stream",
     "text": [
      "scraped_deltalog/5p8a46.txt is empty\n",
      "scraped_deltalog/5rj984.txt is empty\n",
      "scraped_deltalog/5oboog.txt is empty\n",
      "scraped_deltalog/5t2s8w.txt is empty\n",
      "scraped_deltalog/5zr6zi.txt is empty\n",
      "scraped_deltalog/5pf67y.txt is empty\n",
      "scraped_deltalog/5xj8d5.txt is empty\n",
      "scraped_deltalog/5v5xrg.txt is empty\n",
      "scraped_deltalog/5zodp4.txt is empty\n",
      "scraped_deltalog/6007bt.txt is empty\n",
      "scraped_deltalog/5of2ou.txt is empty\n",
      "scraped_deltalog/5pc8f0.txt is empty\n",
      "scraped_deltalog/5yf76b.txt is empty\n",
      "scraped_deltalog/5z66aw.txt is empty\n",
      "scraped_deltalog/5x94vj.txt is empty\n",
      "scraped_deltalog/5wtbcc.txt is empty\n",
      "scraped_deltalog/5rgteo.txt is empty\n",
      "scraped_deltalog/5prxep.txt is empty\n",
      "scraped_deltalog/5vdio6.txt is empty\n"
     ]
    },
    {
     "name": "stderr",
     "output_type": "stream",
     "text": [
      "\r",
      " 89%|████████▉ | 26376/29710 [00:14<00:02, 1628.99it/s]"
     ]
    },
    {
     "name": "stdout",
     "output_type": "stream",
     "text": [
      "scraped_deltalog/5psnsy.txt is empty\n",
      "scraped_deltalog/5wigm5.txt is empty\n",
      "scraped_deltalog/5y6mq8.txt is empty\n",
      "scraped_deltalog/5rbr9b.txt is empty\n",
      "scraped_deltalog/5nhhfz.txt is empty\n",
      "scraped_deltalog/5rgnlz.txt is empty\n",
      "scraped_deltalog/5q8xnq.txt is empty\n",
      "scraped_deltalog/5n0d13.txt is empty\n",
      "scraped_deltalog/5ywveu.txt is empty\n",
      "scraped_deltalog/5v0cin.txt is empty\n",
      "scraped_deltalog/5phh8q.txt is empty\n",
      "scraped_deltalog/60ig3i.txt is empty\n",
      "scraped_deltalog/5zcz3i.txt is empty\n",
      "scraped_deltalog/5r3xhm.txt is empty\n",
      "scraped_deltalog/61n1vv.txt is empty\n"
     ]
    },
    {
     "name": "stderr",
     "output_type": "stream",
     "text": [
      " 90%|████████▉ | 26710/29710 [00:15<00:01, 1578.99it/s]"
     ]
    },
    {
     "name": "stdout",
     "output_type": "stream",
     "text": [
      "scraped_deltalog/5v7kl4.txt is empty\n",
      "scraped_deltalog/5wpeyx.txt is empty\n",
      "scraped_deltalog/5u2axv.txt is empty\n",
      "scraped_deltalog/5prnup.txt is empty\n",
      "scraped_deltalog/5rynfv.txt is empty\n",
      "scraped_deltalog/5z25go.txt is empty\n",
      "scraped_deltalog/5w4tjv.txt is empty\n",
      "scraped_deltalog/5p7fhb.txt is empty\n",
      "scraped_deltalog/5tvuiv.txt is empty\n",
      "scraped_deltalog/5yijic.txt is empty\n",
      "scraped_deltalog/5xuwpo.txt is empty\n",
      "scraped_deltalog/5zocbn.txt is empty\n",
      "scraped_deltalog/5n1mko.txt is empty\n",
      "scraped_deltalog/5uvauj.txt is empty\n",
      "scraped_deltalog/kynurp.txt is empty\n",
      "scraped_deltalog/5otvgj.txt is empty\n",
      "scraped_deltalog/5v5yxv.txt is empty\n"
     ]
    },
    {
     "name": "stderr",
     "output_type": "stream",
     "text": [
      " 92%|█████████▏| 27270/29710 [00:15<00:01, 1652.22it/s]"
     ]
    },
    {
     "name": "stdout",
     "output_type": "stream",
     "text": [
      "scraped_deltalog/5o9nda.txt is empty\n",
      "scraped_deltalog/5zejew.txt is empty\n",
      "scraped_deltalog/5o0rly.txt is empty\n",
      "scraped_deltalog/5yw9vo.txt is empty\n",
      "scraped_deltalog/5vbdhi.txt is empty\n",
      "scraped_deltalog/5vvtmg.txt is empty\n",
      "scraped_deltalog/5y9w8r.txt is empty\n",
      "scraped_deltalog/5v0qul.txt is empty\n",
      "scraped_deltalog/5t8pjn.txt is empty\n",
      "scraped_deltalog/5yx7ix.txt is empty\n",
      "scraped_deltalog/5t0wxj.txt is empty\n",
      "scraped_deltalog/5v27de.txt is empty\n",
      "scraped_deltalog/5nd7xr.txt is empty\n",
      "scraped_deltalog/5ozohl.txt is empty\n",
      "scraped_deltalog/5zo8u3.txt is empty\n",
      "scraped_deltalog/5ne495.txt is empty\n"
     ]
    },
    {
     "name": "stderr",
     "output_type": "stream",
     "text": [
      " 93%|█████████▎| 27612/29710 [00:15<00:01, 1678.64it/s]"
     ]
    },
    {
     "name": "stdout",
     "output_type": "stream",
     "text": [
      "scraped_deltalog/5z889b.txt is empty\n",
      "scraped_deltalog/61wd9k.txt is empty\n",
      "scraped_deltalog/61e7o3.txt is empty\n",
      "scraped_deltalog/5ubksr.txt is empty\n",
      "scraped_deltalog/5tx8iq.txt is empty\n",
      "scraped_deltalog/5v6mfb.txt is empty\n",
      "scraped_deltalog/610h9g.txt is empty\n",
      "scraped_deltalog/5s0rlw.txt is empty\n",
      "scraped_deltalog/5pmnis.txt is empty\n",
      "scraped_deltalog/5nzy5o.txt is empty\n",
      "scraped_deltalog/5vrqdp.txt is empty\n",
      "scraped_deltalog/5wi92i.txt is empty\n",
      "scraped_deltalog/5zyu1b.txt is empty\n",
      "scraped_deltalog/5t6oip.txt is empty\n"
     ]
    },
    {
     "name": "stderr",
     "output_type": "stream",
     "text": [
      " 94%|█████████▍| 27943/29710 [00:15<00:01, 1602.25it/s]"
     ]
    },
    {
     "name": "stdout",
     "output_type": "stream",
     "text": [
      "scraped_deltalog/5smsta.txt is empty\n",
      "scraped_deltalog/5wp0iz.txt is empty\n",
      "scraped_deltalog/5ps6rg.txt is empty\n",
      "scraped_deltalog/61q0r4.txt is empty\n",
      "scraped_deltalog/5qqigz.txt is empty\n",
      "scraped_deltalog/5o8sug.txt is empty\n",
      "scraped_deltalog/5rbtdw.txt is empty\n",
      "scraped_deltalog/5vtibn.txt is empty\n",
      "scraped_deltalog/60ilv3.txt is empty\n",
      "scraped_deltalog/5r2uaf.txt is empty\n",
      "scraped_deltalog/5p1hjt.txt is empty\n",
      "scraped_deltalog/5nc6pl.txt is empty\n",
      "scraped_deltalog/5t7vnd.txt is empty\n",
      "scraped_deltalog/5rx47a.txt is empty\n"
     ]
    },
    {
     "name": "stderr",
     "output_type": "stream",
     "text": [
      " 95%|█████████▌| 28299/29710 [00:16<00:00, 1696.27it/s]"
     ]
    },
    {
     "name": "stdout",
     "output_type": "stream",
     "text": [
      "scraped_deltalog/5xjlgf.txt is empty\n",
      "scraped_deltalog/5ztqxk.txt is empty\n",
      "scraped_deltalog/5pdepm.txt is empty\n",
      "scraped_deltalog/5seymg.txt is empty\n",
      "scraped_deltalog/5opf3l.txt is empty\n",
      "scraped_deltalog/61jvnm.txt is empty\n",
      "scraped_deltalog/5sl2hg.txt is empty\n",
      "scraped_deltalog/5rgf83.txt is empty\n",
      "scraped_deltalog/5vvnio.txt is empty\n",
      "scraped_deltalog/5tis8z.txt is empty\n",
      "scraped_deltalog/5y2kny.txt is empty\n",
      "scraped_deltalog/5sn4el.txt is empty\n"
     ]
    },
    {
     "name": "stderr",
     "output_type": "stream",
     "text": [
      " 96%|█████████▋| 28656/29710 [00:16<00:00, 1734.00it/s]"
     ]
    },
    {
     "name": "stdout",
     "output_type": "stream",
     "text": [
      "scraped_deltalog/5x6xbt.txt is empty\n",
      "scraped_deltalog/5rbl21.txt is empty\n",
      "scraped_deltalog/5uq52c.txt is empty\n",
      "scraped_deltalog/5twk14.txt is empty\n",
      "scraped_deltalog/5t93l0.txt is empty\n",
      "scraped_deltalog/5nspwl.txt is empty\n",
      "scraped_deltalog/5w5r11.txt is empty\n",
      "scraped_deltalog/5p4nyd.txt is empty\n",
      "scraped_deltalog/5ug2h0.txt is empty\n",
      "scraped_deltalog/61go0w.txt is empty\n",
      "scraped_deltalog/5pxtho.txt is empty\n",
      "scraped_deltalog/5ve9nr.txt is empty\n",
      "scraped_deltalog/5usy6i.txt is empty\n",
      "scraped_deltalog/5u8m3g.txt is empty\n",
      "scraped_deltalog/5zfjaa.txt is empty\n",
      "scraped_deltalog/5z1zyw.txt is empty\n",
      "scraped_deltalog/5p5u59.txt is empty\n",
      "scraped_deltalog/5wm28h.txt is empty\n",
      "scraped_deltalog/5yu67e.txt is empty\n",
      "scraped_deltalog/5qyaie.txt is empty\n",
      "scraped_deltalog/5vyhca.txt is empty\n"
     ]
    },
    {
     "name": "stderr",
     "output_type": "stream",
     "text": [
      " 98%|█████████▊| 29050/29710 [00:16<00:00, 1717.90it/s]"
     ]
    },
    {
     "name": "stdout",
     "output_type": "stream",
     "text": [
      "scraped_deltalog/5w8fpo.txt is empty\n",
      "scraped_deltalog/615jyr.txt is empty\n",
      "scraped_deltalog/5u01jr.txt is empty\n",
      "scraped_deltalog/5rebcj.txt is empty\n",
      "scraped_deltalog/5oxxoz.txt is empty\n",
      "scraped_deltalog/5pkivr.txt is empty\n",
      "scraped_deltalog/5swx8a.txt is empty\n",
      "scraped_deltalog/5s7xib.txt is empty\n",
      "scraped_deltalog/5wy1q4.txt is empty\n",
      "scraped_deltalog/60rtzl.txt is empty\n",
      "scraped_deltalog/5nwr5p.txt is empty\n",
      "scraped_deltalog/5u5etj.txt is empty\n",
      "scraped_deltalog/5sloyf.txt is empty\n",
      "scraped_deltalog/5vtgec.txt is empty\n",
      "scraped_deltalog/5vs4s8.txt is empty\n",
      "scraped_deltalog/5uoqij.txt is empty\n",
      "scraped_deltalog/5t4bp0.txt is empty\n",
      "scraped_deltalog/61vs9n.txt is empty\n",
      "scraped_deltalog/5xigng.txt is empty\n",
      "scraped_deltalog/5pcti6.txt is empty\n"
     ]
    },
    {
     "name": "stderr",
     "output_type": "stream",
     "text": [
      " 99%|█████████▉| 29443/29710 [00:16<00:00, 1842.75it/s]"
     ]
    },
    {
     "name": "stdout",
     "output_type": "stream",
     "text": [
      "scraped_deltalog/5qims0.txt is empty\n",
      "scraped_deltalog/60ln80.txt is empty\n",
      "scraped_deltalog/60fj7g.txt is empty\n",
      "scraped_deltalog/5ugy1o.txt is empty\n",
      "scraped_deltalog/5u6fao.txt is empty\n",
      "scraped_deltalog/5yso5v.txt is empty\n",
      "scraped_deltalog/5wcwbl.txt is empty\n",
      "scraped_deltalog/61v1i2.txt is empty\n",
      "scraped_deltalog/60sp59.txt is empty\n",
      "scraped_deltalog/5qr950.txt is empty\n",
      "scraped_deltalog/61673k.txt is empty\n",
      "scraped_deltalog/5stvtn.txt is empty\n",
      "scraped_deltalog/5q2zn2.txt is empty\n",
      "scraped_deltalog/5pb7ak.txt is empty\n",
      "scraped_deltalog/61oyi7.txt is empty\n",
      "scraped_deltalog/7asnql.txt is empty\n",
      "scraped_deltalog/5zo7yn.txt is empty\n",
      "scraped_deltalog/5psjq6.txt is empty\n",
      "scraped_deltalog/61gvif.txt is empty\n",
      "scraped_deltalog/5spc0b.txt is empty\n"
     ]
    },
    {
     "name": "stderr",
     "output_type": "stream",
     "text": [
      "100%|██████████| 29710/29710 [00:16<00:00, 1761.56it/s]"
     ]
    },
    {
     "name": "stdout",
     "output_type": "stream",
     "text": [
      "scraped_deltalog/5sos09.txt is empty\n",
      "scraped_deltalog/60qf0y.txt is empty\n",
      "scraped_deltalog/5xj9gl.txt is empty\n",
      "scraped_deltalog/5q4g40.txt is empty\n",
      "scraped_deltalog/5xwahz.txt is empty\n",
      "scraped_deltalog/617qs0.txt is empty\n",
      "scraped_deltalog/5wj5g2.txt is empty\n",
      "scraped_deltalog/5vm5a2.txt is empty\n",
      "scraped_deltalog/5x3tg0.txt is empty\n",
      "scraped_deltalog/5uzka9.txt is empty\n",
      "scraped_deltalog/5v985t.txt is empty\n",
      "scraped_deltalog/5p35ml.txt is empty\n",
      "scraped_deltalog/7gitdr.txt is empty\n",
      "scraped_deltalog/5oxa2w.txt is empty\n",
      "scraped_deltalog/5ywd68.txt is empty\n"
     ]
    },
    {
     "name": "stderr",
     "output_type": "stream",
     "text": [
      "\n"
     ]
    }
   ],
   "source": [
    "cmv_post_ids = []\n",
    "for fname in tqdm(deltalog_posts):\n",
    "    with open(fname,'r') as f:\n",
    "        try:\n",
    "            cmv_post_ids.append(f.read().splitlines()[0])\n",
    "        except IndexError:\n",
    "            print(f'{fname} is empty')"
   ]
  },
  {
   "cell_type": "code",
   "execution_count": 112,
   "id": "bc6358c7",
   "metadata": {},
   "outputs": [
    {
     "data": {
      "text/plain": [
       "28456"
      ]
     },
     "execution_count": 112,
     "metadata": {},
     "output_type": "execute_result"
    }
   ],
   "source": [
    "len(cmv_post_ids)"
   ]
  },
  {
   "cell_type": "code",
   "execution_count": 113,
   "id": "2321f1b6",
   "metadata": {
    "scrolled": true
   },
   "outputs": [
    {
     "data": {
      "text/plain": [
       "['rrmvoo', '64tchq', 'pry2li']"
      ]
     },
     "execution_count": 113,
     "metadata": {},
     "output_type": "execute_result"
    }
   ],
   "source": [
    "cmv_post_ids[:3]"
   ]
  },
  {
   "cell_type": "code",
   "execution_count": 114,
   "id": "6a8a19ea",
   "metadata": {},
   "outputs": [
    {
     "data": {
      "text/plain": [
       "22325"
      ]
     },
     "execution_count": 114,
     "metadata": {},
     "output_type": "execute_result"
    }
   ],
   "source": [
    "len(set(cmv_post_ids).intersection(set([sub['id'] for sub in cmv_submissions])))"
   ]
  },
  {
   "cell_type": "code",
   "execution_count": 103,
   "id": "a594cea7",
   "metadata": {},
   "outputs": [
    {
     "data": {
      "text/plain": [
       "['t3_rrmvoo', 't3_64tchq', 't3_pry2li']"
      ]
     },
     "execution_count": 103,
     "metadata": {},
     "output_type": "execute_result"
    }
   ],
   "source": [
    "reformatted_cmv_post_ids = ['t3_' + x for x in cmv_post_ids]\n",
    "reformatted_cmv_post_ids[:3]"
   ]
  },
  {
   "cell_type": "code",
   "execution_count": 76,
   "id": "aabf07d0",
   "metadata": {
    "scrolled": true
   },
   "outputs": [
    {
     "data": {
      "text/plain": [
       "['t3_psu2sg', 't3_bvupnz', 't3_2oyi3y']"
      ]
     },
     "execution_count": 76,
     "metadata": {},
     "output_type": "execute_result"
    }
   ],
   "source": [
    "corp_to_analyze['matched_cmv_subsample'].get_conversation_ids()[:3]"
   ]
  },
  {
   "cell_type": "code",
   "execution_count": 104,
   "id": "a91ed69e",
   "metadata": {
    "scrolled": true
   },
   "outputs": [
    {
     "data": {
      "text/plain": [
       "9184"
      ]
     },
     "execution_count": 104,
     "metadata": {},
     "output_type": "execute_result"
    }
   ],
   "source": [
    "len(set(corp_to_analyze['matched_cmv_subsample'].get_conversation_ids()).intersection(\n",
    "set(reformatted_cmv_post_ids)))"
   ]
  },
  {
   "cell_type": "code",
   "execution_count": 105,
   "id": "933a3f76",
   "metadata": {},
   "outputs": [
    {
     "data": {
      "text/plain": [
       "44346"
      ]
     },
     "execution_count": 105,
     "metadata": {},
     "output_type": "execute_result"
    }
   ],
   "source": [
    "len(set(corp_to_analyze['matched_cmv_subsample'].get_conversation_ids()))"
   ]
  },
  {
   "cell_type": "code",
   "execution_count": null,
   "id": "b3b681a0",
   "metadata": {},
   "outputs": [],
   "source": []
  },
  {
   "cell_type": "code",
   "execution_count": 4,
   "id": "b990b8a3",
   "metadata": {},
   "outputs": [],
   "source": [
    "post = reddit.submission(id=p_id)"
   ]
  },
  {
   "cell_type": "code",
   "execution_count": 5,
   "id": "f51ae1ec",
   "metadata": {},
   "outputs": [
    {
     "data": {
      "text/plain": [
       "'Deltas awarded in \"CMV: I am turning anti-vax or at least anti-mandate because of my personal experi...'"
      ]
     },
     "execution_count": 5,
     "metadata": {},
     "output_type": "execute_result"
    }
   ],
   "source": [
    "post.title"
   ]
  },
  {
   "cell_type": "code",
   "execution_count": 8,
   "id": "287463a7",
   "metadata": {
    "scrolled": true
   },
   "outputs": [
    {
     "data": {
      "text/plain": [
       "'Below is a list of the deltas awarded in [this post](/r/changemyview/comments/s0p5mu/cmv_i_am_turning_antivax_or_at_least_antimandate/).\\n\\nPlease note that a change of view [is not necessarily a reversal](https://www.reddit.com/r/changemyview/wiki/index#wiki_what_is_a_.27view.27.3F), and that OP awarding a delta doesn\\'t mean the conversation has ended.\\n\\nFor a full explanation of the delta system, [see here](https://www.reddit.com/r/changemyview/wiki/deltasystem).\\n\\n-----\\n\\n# Deltas from OP /u/BatHouseBathHouse\\n\\n* 1 delta from OP to /u/thelaughterdied for [\"The people on this thread are saying it is a coincidence but that doesn\\'t mean the CDC is. I have to...\"](/r/changemyview/comments/s0p5mu/cmv_i_am_turning_antivax_or_at_least_antimandate/hs4npuv/?context=3)\\n\\n* 1 delta from OP to /u/edwardlleandre for [\"&gt;My uncle just got his booster shot and started having a seizure just hours later despite never h...\"](/r/changemyview/comments/s0p5mu/cmv_i_am_turning_antivax_or_at_least_antimandate/hs4nu2e/?context=3)\\n\\n* 1 delta from OP to /u/iwfan53 for [\"&gt;Right, so now I have my uncle who has had a reaction and he\\'s getting lumped in with people who ...\"](/r/changemyview/comments/s0p5mu/cmv_i_am_turning_antivax_or_at_least_antimandate/hs4o62b/?context=3)\\n\\n\\n\\n#Deltas from Other Users\\n\\nNone yet.'"
      ]
     },
     "execution_count": 8,
     "metadata": {},
     "output_type": "execute_result"
    }
   ],
   "source": [
    "post.selftext"
   ]
  },
  {
   "cell_type": "code",
   "execution_count": 19,
   "id": "07ac9980",
   "metadata": {
    "scrolled": true
   },
   "outputs": [
    {
     "data": {
      "text/plain": [
       "[(53, 78, '/r/changemyview/comments/s0p5mu/'),\n",
       " (666, 691, '/r/changemyview/comments/s0p5mu/'),\n",
       " (919, 944, '/r/changemyview/comments/s0p5mu/'),\n",
       " (1165, 1190, '/r/changemyview/comments/s0p5mu/')]"
      ]
     },
     "execution_count": 19,
     "metadata": {},
     "output_type": "execute_result"
    }
   ],
   "source": [
    "[(m.start(0), m.end(0), \n",
    "  post.selftext[m.start(0):m.end(0)+7]) for m in re.finditer(r'/r/changemyview/comments/*/*/', post.selftext)]"
   ]
  },
  {
   "cell_type": "code",
   "execution_count": null,
   "id": "256707be",
   "metadata": {},
   "outputs": [],
   "source": [
    "r'Part 1\\.(.*?)Part 3'"
   ]
  },
  {
   "cell_type": "code",
   "execution_count": 44,
   "id": "5d80fa21",
   "metadata": {},
   "outputs": [
    {
     "data": {
      "text/plain": [
       "['hs4npuv', 'hs4nu2e', 'hs4o62b']"
      ]
     },
     "execution_count": 44,
     "metadata": {},
     "output_type": "execute_result"
    }
   ],
   "source": [
    "get_comments_awarding_deltas(post)"
   ]
  },
  {
   "cell_type": "code",
   "execution_count": 41,
   "id": "2867bb42",
   "metadata": {
    "scrolled": true
   },
   "outputs": [],
   "source": [
    "comment = reddit.comment(id='hs4npuv')"
   ]
  },
  {
   "cell_type": "code",
   "execution_count": 42,
   "id": "055ec999",
   "metadata": {
    "scrolled": true
   },
   "outputs": [
    {
     "data": {
      "text/plain": [
       "{'_replies': [],\n",
       " '_submission': None,\n",
       " 'id': 'hs4npuv',\n",
       " '_reddit': <praw.reddit.Reddit at 0x7fb1b033ee48>,\n",
       " '_fetched': True,\n",
       " 'subreddit_id': 't5_2w2s8',\n",
       " 'approved_at_utc': None,\n",
       " 'author_is_blocked': False,\n",
       " 'comment_type': None,\n",
       " 'edited': False,\n",
       " 'mod_reason_by': None,\n",
       " 'banned_by': None,\n",
       " 'ups': 1,\n",
       " 'num_reports': None,\n",
       " 'author_flair_type': 'text',\n",
       " 'total_awards_received': 0,\n",
       " 'subreddit': Subreddit(display_name='changemyview'),\n",
       " 'author_flair_template_id': None,\n",
       " 'likes': None,\n",
       " 'user_reports': [],\n",
       " 'saved': False,\n",
       " 'banned_at_utc': None,\n",
       " 'mod_reason_title': None,\n",
       " 'gilded': 0,\n",
       " 'archived': False,\n",
       " 'collapsed_reason_code': None,\n",
       " 'no_follow': True,\n",
       " 'author': Redditor(name='BatHouseBathHouse'),\n",
       " 'can_mod_post': False,\n",
       " 'send_replies': True,\n",
       " 'parent_id': 't1_hs44n3n',\n",
       " 'score': 1,\n",
       " 'author_fullname': 't2_7506r',\n",
       " 'report_reasons': None,\n",
       " 'removal_reason': None,\n",
       " 'approved_by': None,\n",
       " 'all_awardings': [],\n",
       " 'body': \"Δ\\n\\nThat's correct and I think it's the biggest flaw in what I'm saying. I don't actually know that my uncle's case isn't going into VAERS so maybe it is. If so, and my family are just outliers, then it's worth a few people having bad reactions if it's beneficial overall.\",\n",
       " 'awarders': [],\n",
       " 'top_awarded_type': None,\n",
       " 'downs': 0,\n",
       " 'author_flair_css_class': None,\n",
       " 'author_patreon_flair': False,\n",
       " 'collapsed': False,\n",
       " 'author_flair_richtext': [],\n",
       " 'is_submitter': True,\n",
       " 'body_html': '<div class=\"md\"><p>Δ</p>\\n\\n<p>That&#39;s correct and I think it&#39;s the biggest flaw in what I&#39;m saying. I don&#39;t actually know that my uncle&#39;s case isn&#39;t going into VAERS so maybe it is. If so, and my family are just outliers, then it&#39;s worth a few people having bad reactions if it&#39;s beneficial overall.</p>\\n</div>',\n",
       " 'gildings': {},\n",
       " 'collapsed_reason': None,\n",
       " 'associated_award': None,\n",
       " 'stickied': False,\n",
       " 'author_premium': False,\n",
       " 'can_gild': True,\n",
       " 'link_id': 't3_s0p5mu',\n",
       " 'unrepliable_reason': None,\n",
       " 'author_flair_text_color': None,\n",
       " 'score_hidden': True,\n",
       " 'permalink': '/r/changemyview/comments/s0p5mu/cmv_i_am_turning_antivax_or_at_least_antimandate/hs4npuv/',\n",
       " 'subreddit_type': 'public',\n",
       " 'locked': False,\n",
       " 'name': 't1_hs4npuv',\n",
       " 'created': 1641855524.0,\n",
       " 'author_flair_text': None,\n",
       " 'treatment_tags': [],\n",
       " 'created_utc': 1641855524.0,\n",
       " 'subreddit_name_prefixed': 'r/changemyview',\n",
       " 'controversiality': 0,\n",
       " 'author_flair_background_color': None,\n",
       " 'collapsed_because_crowd_control': None,\n",
       " 'mod_reports': [],\n",
       " 'mod_note': None,\n",
       " 'distinguished': None}"
      ]
     },
     "execution_count": 42,
     "metadata": {},
     "output_type": "execute_result"
    }
   ],
   "source": [
    "comment.__dict__"
   ]
  },
  {
   "cell_type": "code",
   "execution_count": null,
   "id": "fb948d6f",
   "metadata": {},
   "outputs": [],
   "source": []
  },
  {
   "cell_type": "code",
   "execution_count": 7,
   "id": "7959bfb4",
   "metadata": {},
   "outputs": [
    {
     "data": {
      "text/plain": [
       "{'comment_limit': 2048,\n",
       " 'comment_sort': 'confidence',\n",
       " 'id': 's0x9gy',\n",
       " '_reddit': <praw.reddit.Reddit at 0x7fb1d62f7518>,\n",
       " '_fetched': True,\n",
       " '_comments_by_id': {},\n",
       " 'approved_at_utc': None,\n",
       " 'subreddit': Subreddit(display_name='DeltaLog'),\n",
       " 'selftext': 'Below is a list of the deltas awarded in [this post](/r/changemyview/comments/s0p5mu/cmv_i_am_turning_antivax_or_at_least_antimandate/).\\n\\nPlease note that a change of view [is not necessarily a reversal](https://www.reddit.com/r/changemyview/wiki/index#wiki_what_is_a_.27view.27.3F), and that OP awarding a delta doesn\\'t mean the conversation has ended.\\n\\nFor a full explanation of the delta system, [see here](https://www.reddit.com/r/changemyview/wiki/deltasystem).\\n\\n-----\\n\\n# Deltas from OP /u/BatHouseBathHouse\\n\\n* 1 delta from OP to /u/thelaughterdied for [\"The people on this thread are saying it is a coincidence but that doesn\\'t mean the CDC is. I have to...\"](/r/changemyview/comments/s0p5mu/cmv_i_am_turning_antivax_or_at_least_antimandate/hs4npuv/?context=3)\\n\\n* 1 delta from OP to /u/edwardlleandre for [\"&gt;My uncle just got his booster shot and started having a seizure just hours later despite never h...\"](/r/changemyview/comments/s0p5mu/cmv_i_am_turning_antivax_or_at_least_antimandate/hs4nu2e/?context=3)\\n\\n* 1 delta from OP to /u/iwfan53 for [\"&gt;Right, so now I have my uncle who has had a reaction and he\\'s getting lumped in with people who ...\"](/r/changemyview/comments/s0p5mu/cmv_i_am_turning_antivax_or_at_least_antimandate/hs4o62b/?context=3)\\n\\n\\n\\n#Deltas from Other Users\\n\\nNone yet.',\n",
       " 'user_reports': [],\n",
       " 'saved': False,\n",
       " 'mod_reason_title': None,\n",
       " 'gilded': 0,\n",
       " 'clicked': False,\n",
       " 'title': 'Deltas awarded in \"CMV: I am turning anti-vax or at least anti-mandate because of my personal experi...',\n",
       " 'link_flair_richtext': [],\n",
       " 'subreddit_name_prefixed': 'r/DeltaLog',\n",
       " 'hidden': False,\n",
       " 'pwls': 0,\n",
       " 'link_flair_css_class': None,\n",
       " 'downs': 0,\n",
       " 'thumbnail_height': None,\n",
       " 'top_awarded_type': None,\n",
       " 'parent_whitelist_status': 'no_ads',\n",
       " 'hide_score': True,\n",
       " 'name': 't3_s0x9gy',\n",
       " 'quarantine': False,\n",
       " 'link_flair_text_color': 'dark',\n",
       " 'upvote_ratio': 1.0,\n",
       " 'author_flair_background_color': None,\n",
       " 'subreddit_type': 'restricted',\n",
       " 'ups': 1,\n",
       " 'total_awards_received': 0,\n",
       " 'media_embed': {},\n",
       " 'thumbnail_width': None,\n",
       " 'author_flair_template_id': None,\n",
       " 'is_original_content': False,\n",
       " 'author_fullname': 't2_ap4fp',\n",
       " 'secure_media': None,\n",
       " 'is_reddit_media_domain': False,\n",
       " 'is_meta': False,\n",
       " 'category': None,\n",
       " 'secure_media_embed': {},\n",
       " 'link_flair_text': None,\n",
       " 'can_mod_post': False,\n",
       " 'score': 1,\n",
       " 'approved_by': None,\n",
       " 'is_created_from_ads_ui': False,\n",
       " 'author_premium': False,\n",
       " 'thumbnail': 'self',\n",
       " 'edited': False,\n",
       " 'author_flair_css_class': None,\n",
       " 'author_flair_richtext': [],\n",
       " 'gildings': {},\n",
       " 'content_categories': None,\n",
       " 'is_self': True,\n",
       " 'mod_note': None,\n",
       " 'created': 1641855570.0,\n",
       " 'link_flair_type': 'text',\n",
       " 'wls': 0,\n",
       " 'removed_by_category': None,\n",
       " 'banned_by': None,\n",
       " 'author_flair_type': 'text',\n",
       " 'domain': 'self.DeltaLog',\n",
       " 'allow_live_comments': False,\n",
       " 'selftext_html': '<!-- SC_OFF --><div class=\"md\"><p>Below is a list of the deltas awarded in <a href=\"/r/changemyview/comments/s0p5mu/cmv_i_am_turning_antivax_or_at_least_antimandate/\">this post</a>.</p>\\n\\n<p>Please note that a change of view <a href=\"https://www.reddit.com/r/changemyview/wiki/index#wiki_what_is_a_.27view.27.3F\">is not necessarily a reversal</a>, and that OP awarding a delta doesn&#39;t mean the conversation has ended.</p>\\n\\n<p>For a full explanation of the delta system, <a href=\"https://www.reddit.com/r/changemyview/wiki/deltasystem\">see here</a>.</p>\\n\\n<hr/>\\n\\n<h1>Deltas from OP <a href=\"/u/BatHouseBathHouse\">/u/BatHouseBathHouse</a></h1>\\n\\n<ul>\\n<li><p>1 delta from OP to <a href=\"/u/thelaughterdied\">/u/thelaughterdied</a> for <a href=\"/r/changemyview/comments/s0p5mu/cmv_i_am_turning_antivax_or_at_least_antimandate/hs4npuv/?context=3\">&quot;The people on this thread are saying it is a coincidence but that doesn&#39;t mean the CDC is. I have to...&quot;</a></p></li>\\n<li><p>1 delta from OP to <a href=\"/u/edwardlleandre\">/u/edwardlleandre</a> for <a href=\"/r/changemyview/comments/s0p5mu/cmv_i_am_turning_antivax_or_at_least_antimandate/hs4nu2e/?context=3\">&quot;&gt;My uncle just got his booster shot and started having a seizure just hours later despite never h...&quot;</a></p></li>\\n<li><p>1 delta from OP to <a href=\"/u/iwfan53\">/u/iwfan53</a> for <a href=\"/r/changemyview/comments/s0p5mu/cmv_i_am_turning_antivax_or_at_least_antimandate/hs4o62b/?context=3\">&quot;&gt;Right, so now I have my uncle who has had a reaction and he&#39;s getting lumped in with people who ...&quot;</a></p></li>\\n</ul>\\n\\n<h1>Deltas from Other Users</h1>\\n\\n<p>None yet.</p>\\n</div><!-- SC_ON -->',\n",
       " 'likes': None,\n",
       " 'suggested_sort': None,\n",
       " 'banned_at_utc': None,\n",
       " 'view_count': None,\n",
       " 'archived': False,\n",
       " 'no_follow': True,\n",
       " 'is_crosspostable': True,\n",
       " 'pinned': False,\n",
       " 'over_18': False,\n",
       " 'all_awardings': [],\n",
       " 'awarders': [],\n",
       " 'media_only': False,\n",
       " 'can_gild': True,\n",
       " 'spoiler': False,\n",
       " 'locked': False,\n",
       " 'author_flair_text': None,\n",
       " 'treatment_tags': [],\n",
       " 'visited': False,\n",
       " 'removed_by': None,\n",
       " 'num_reports': None,\n",
       " 'distinguished': None,\n",
       " 'subreddit_id': 't5_378ke',\n",
       " 'author_is_blocked': False,\n",
       " 'mod_reason_by': None,\n",
       " 'removal_reason': None,\n",
       " 'link_flair_background_color': '',\n",
       " 'is_robot_indexable': True,\n",
       " 'num_duplicates': 0,\n",
       " 'report_reasons': None,\n",
       " 'author': Redditor(name='DeltaBot'),\n",
       " 'discussion_type': None,\n",
       " 'num_comments': 0,\n",
       " 'send_replies': True,\n",
       " 'media': None,\n",
       " 'contest_mode': False,\n",
       " 'author_patreon_flair': False,\n",
       " 'author_flair_text_color': None,\n",
       " 'permalink': '/r/DeltaLog/comments/s0x9gy/deltas_awarded_in_cmv_i_am_turning_antivax_or_at/',\n",
       " 'whitelist_status': 'no_ads',\n",
       " 'stickied': False,\n",
       " 'url': 'https://www.reddit.com/r/DeltaLog/comments/s0x9gy/deltas_awarded_in_cmv_i_am_turning_antivax_or_at/',\n",
       " 'subreddit_subscribers': 1671,\n",
       " 'created_utc': 1641855570.0,\n",
       " 'num_crossposts': 0,\n",
       " 'mod_reports': [],\n",
       " 'is_video': False,\n",
       " '_comments': <praw.models.comment_forest.CommentForest at 0x7fb1b0372ba8>}"
      ]
     },
     "execution_count": 7,
     "metadata": {},
     "output_type": "execute_result"
    }
   ],
   "source": [
    "post.__dict__"
   ]
  },
  {
   "cell_type": "code",
   "execution_count": null,
   "id": "2362aed4",
   "metadata": {},
   "outputs": [],
   "source": []
  }
 ],
 "metadata": {
  "kernelspec": {
   "display_name": "Python 3",
   "language": "python",
   "name": "python3"
  },
  "language_info": {
   "codemirror_mode": {
    "name": "ipython",
    "version": 3
   },
   "file_extension": ".py",
   "mimetype": "text/x-python",
   "name": "python",
   "nbconvert_exporter": "python",
   "pygments_lexer": "ipython3",
   "version": "3.6.8"
  },
  "toc": {
   "base_numbering": 1,
   "nav_menu": {},
   "number_sections": true,
   "sideBar": true,
   "skip_h1_title": false,
   "title_cell": "Table of Contents",
   "title_sidebar": "Contents",
   "toc_cell": false,
   "toc_position": {},
   "toc_section_display": true,
   "toc_window_display": false
  },
  "varInspector": {
   "cols": {
    "lenName": 16,
    "lenType": 16,
    "lenVar": 40
   },
   "kernels_config": {
    "python": {
     "delete_cmd_postfix": "",
     "delete_cmd_prefix": "del ",
     "library": "var_list.py",
     "varRefreshCmd": "print(var_dic_list())"
    },
    "r": {
     "delete_cmd_postfix": ") ",
     "delete_cmd_prefix": "rm(",
     "library": "var_list.r",
     "varRefreshCmd": "cat(var_dic_list()) "
    }
   },
   "types_to_exclude": [
    "module",
    "function",
    "builtin_function_or_method",
    "instance",
    "_Feature"
   ],
   "window_display": false
  }
 },
 "nbformat": 4,
 "nbformat_minor": 5
}
