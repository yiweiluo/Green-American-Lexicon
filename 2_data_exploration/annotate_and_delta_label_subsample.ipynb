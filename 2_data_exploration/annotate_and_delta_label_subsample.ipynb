{
 "cells": [
  {
   "cell_type": "code",
   "execution_count": 1,
   "id": "a7055ee5",
   "metadata": {},
   "outputs": [
    {
     "name": "stdout",
     "output_type": "stream",
     "text": [
      "john10\n",
      "scr1\n",
      "/john10/scr1/yiweil\n",
      "Using Δ|&#8710;|∆|!delta as regex for comments awarding delta.\n",
      "Found 422 conversations which are manually checked to be true climate convos.\n",
      "/nlp/u/yiweil/combined_stanza_output_with_ner_embed_removed\n"
     ]
    }
   ],
   "source": [
    "import os, glob, json\n",
    "import pickle\n",
    "import pandas as pd\n",
    "pd.set_option('display.max_colwidth', None)\n",
    "pd.set_option('display.max_rows', None)\n",
    "\n",
    "import seaborn as sns\n",
    "import matplotlib.pyplot as plt\n",
    "from datetime import datetime\n",
    "import re\n",
    "import numpy as np\n",
    "from scipy import stats\n",
    "from collections import Counter, defaultdict\n",
    "import random, math\n",
    "from tqdm import tqdm\n",
    "import platform\n",
    "\n",
    "# print machine name\n",
    "machine_name = platform.node().split(\".\")[0]\n",
    "print(machine_name)\n",
    "\n",
    "# print available scratch directories\n",
    "print(\" \".join(os.listdir(f\"/{machine_name}\")))\n",
    "scr_dir = os.listdir(f\"/{machine_name}\")[0]\n",
    "\n",
    "DISK_IO_DIR = \"/{}/{}/yiweil\".format(machine_name,scr_dir)\n",
    "print(DISK_IO_DIR)\n",
    "if not os.path.exists(DISK_IO_DIR):\n",
    "    os.mkdir(DISK_IO_DIR)\n",
    "    \n",
    "from utils import *\n",
    "print(STANZA_DIR)"
   ]
  },
  {
   "cell_type": "code",
   "execution_count": 2,
   "id": "4d544067",
   "metadata": {
    "code_folding": [
     4,
     12,
     19,
     29
    ]
   },
   "outputs": [],
   "source": [
    "# DELTAS = ['Δ','&#8710;','∆','!delta']\n",
    "# DELTA_REGEX = r'{}'.format('|'.join(DELTAS))\n",
    "# print(DELTA_REGEX)\n",
    "\n",
    "# def awarding_delta(utt, delta_regex=DELTA_REGEX):\n",
    "#     \"\"\"\n",
    "#     Checks whether a comment is a true comment; was not written by DeltaBot; and is awarding a delta.\n",
    "#     \"\"\"\n",
    "#     return (utt.id[:2]=='t1') \\\n",
    "#             and (utt.speaker.id != 'DeltaBot') \\\n",
    "#             and (len(re.findall(DELTA_REGEX, utt.text)) > 0)\n",
    "\n",
    "# def is_leaf(utt):\n",
    "#     \"\"\"\n",
    "#     Returns whether a comment is a terminal \"leaf\" comment or not.\n",
    "#     \"\"\"\n",
    "#     return (utt.id[:2] == 't1') and (len(utt.meta['reply_ids']) == 0)\n",
    "\n",
    "# paths_toward_utts_dict = pickle.load(open('paths_toward_utts_dict.pkl','rb'))\n",
    "# def get_path_to_utt(utt, inclusive=True):\n",
    "#     \"\"\"\n",
    "#     Returns the path of comment IDs leading from the first, top-level comment to the argument utt (inclusive\n",
    "#     by default). \n",
    "#     \"\"\"\n",
    "#     if inclusive:\n",
    "#         return paths_toward_utts_dict[utt.id][1:]+[utt.id]\n",
    "#     else:\n",
    "#         return paths_toward_utts_dict[utt.id][1:]\n",
    "\n",
    "# def get_depth_in_subtree(utt):\n",
    "#     \"\"\"\n",
    "#     Returns the depth of a comment within a sub-tree (0 means OP; 1 means top-level comment, etc.)\n",
    "#     \"\"\"\n",
    "#     if utt.id[:2] == 't3':\n",
    "#         return 0\n",
    "#     else:\n",
    "#         return len(paths_toward_utts_dict[utt.id][1:])+1 # empty > 0 for top-level"
   ]
  },
  {
   "cell_type": "markdown",
   "id": "84b72fad",
   "metadata": {},
   "source": [
    "# Load/annotate ConvoKit corpus"
   ]
  },
  {
   "cell_type": "markdown",
   "id": "fc55d66c",
   "metadata": {},
   "source": [
    "Available corpora to load:\n",
    "* entirety of r/changemyview from inception to 9/24/2021 (`full_cmv`)\n",
    "* comments-only subset of r/changemyview where comments w/ and without deltas have been evenly matched for length, depth, elapsed time, etc. (`matched_cmv_subsample`)\n",
    "* subset of the above, further subsetted to comments attached to climate-change-related posts (`matched_cc_cmv_subsample`)\n",
    "* random sample of posts & comments from top 100 high-activity subreddits (`gen_reddit`)\n",
    "* switchboard corpus"
   ]
  },
  {
   "cell_type": "code",
   "execution_count": 5,
   "id": "39ea823d",
   "metadata": {
    "code_folding": []
   },
   "outputs": [],
   "source": [
    "from convokit import Corpus#, Speaker, download\n",
    "AVAILABLE_CORP = ['full_cmv','matched_cmv_subsample','gen_reddit','switchboard']\n",
    "corp_name_to_filepath = {\n",
    "                         'full_cmv': '/u/scr/yiweil/convokit_corpora/my-cmv-corpus_1-1-2010_to_09-24-2021',\n",
    "                         'matched_cmv_subsample': '/u/scr/yiweil/subsampled_cmv_corpus',\n",
    "                         'gen_reddit':'/u/scr/yiweil/datasets/convokit/reddit-corpus-small',\n",
    "                         'switchboard':'/sailhome/yiweil/.convokit/downloads/switchboard-corpus'\n",
    "                        }"
   ]
  },
  {
   "cell_type": "code",
   "execution_count": 6,
   "id": "b984ed6e",
   "metadata": {
    "code_folding": [
     3,
     11,
     24,
     34,
     37
    ],
    "scrolled": false
   },
   "outputs": [
    {
     "name": "stdout",
     "output_type": "stream",
     "text": [
      "Loading corpus: full_cmv...\n",
      "\u001b[91mWARNING: \u001b[0mCorpusLoadWarning: Missing speaker metadata for speaker ID: None. Initializing default empty metadata instead.\n",
      "Number of Speakers: 207110\n",
      "Number of Utterances: 3243830\n",
      "Number of Conversations: 84258\n",
      "\n",
      "\n",
      "Annotating full_cmv...\n",
      "Filtering speakers with usernames ending in '-bot'...\n",
      "Found 2896720 non-deleted/removed utterances not written by a bot or moderator.\n",
      "\n",
      "\n",
      "Removing footnotes and in-line embedded text from full_cmv...\n"
     ]
    },
    {
     "name": "stderr",
     "output_type": "stream",
     "text": [
      "3243830it [01:24, 38441.13it/s]\n"
     ]
    },
    {
     "name": "stdout",
     "output_type": "stream",
     "text": [
      "Distribution of delta outcomes:\n",
      "Counter({-1: 1919491, '-delta': 1204715, '+delta': 35366})\n"
     ]
    }
   ],
   "source": [
    "corp_to_analyze = {'full_cmv': None}#,'gen_reddit': None,'switchboard':None}\n",
    "#corp_to_analyze.update({'matched_cmv_subsample': None})\n",
    "\n",
    "for corp_name in corp_to_analyze:\n",
    "    if corp_to_analyze[corp_name] is None:\n",
    "        print(\"Loading corpus: {}...\".format(corp_name))\n",
    "        corp_to_analyze[corp_name] = Corpus(filename=corp_name_to_filepath[corp_name])\n",
    "        corp_to_analyze[corp_name].print_summary_stats()\n",
    "        print('\\n')\n",
    "        \n",
    "        # Update full meta for conversations if corpus is not `matched_cc_cmv_subsample` (contains comments only, by design)\n",
    "        if corp_name in {'full_cmv','matched_cmv_subsample','gen_reddit','switchboard'}:\n",
    "            for utt in corp_to_analyze[corp_name].iter_utterances():\n",
    "                if utt.id == utt.conversation_id: # not a comment but a post\n",
    "                    convo = corp_to_analyze[corp_name].get_conversation(utt.id)\n",
    "                    meta_dict = utt.meta\n",
    "                    for key in meta_dict:\n",
    "                        convo.add_meta(key, meta_dict[key])\n",
    "                    convo.speaker = utt.speaker\n",
    "                        \n",
    "        print(\"Annotating {}...\".format(corp_name))\n",
    "        corp_to_analyze[corp_name] = filter_bots_mods_removed(corp_to_analyze[corp_name])\n",
    "        print('\\n')\n",
    "        \n",
    "        if corp_name in {'matched_cmv_subsample','matched_cc_cmv_subsample'}:\n",
    "            print(\"Annotating generic utterances from {}...\".format(corp_name))\n",
    "            corp_to_analyze[corp_name] = filter_generic_comments(\n",
    "                corp_to_analyze[corp_name], \n",
    "                GENERIC_REGEX_PATS,\n",
    "                fname=f'generic_dict_{corp_name}.pkl')\n",
    "            corp_to_analyze[corp_name].print_summary_stats()\n",
    "            print('\\n')\n",
    "            \n",
    "        print(\"Removing footnotes and in-line embedded text from {}...\".format(corp_name))\n",
    "        for utt in tqdm(corp_to_analyze[corp_name].iter_utterances()):\n",
    "            utt.text = cleanup(utt.text)\n",
    "            \n",
    "#         if corp_name in {'full_cmv', 'matched_cmv_subsample', 'matched_cc_cmv_subsample'}:\n",
    "#             print(\"Adding delta information...\")\n",
    "#             for utt in tqdm(corp_to_analyze[corp_name].iter_utterances()):\n",
    "#                 #utt.meta['is_awarded_delta'] = is_awarded_delta(utt.id)\n",
    "#                 #utt.meta['num_deltas'] = num_deltas(utt.id)\n",
    "#                 utt.meta['is_awarding_delta'] = awarding_delta(utt)\n",
    "        \n",
    "        print(\"Distribution of delta outcomes:\")\n",
    "        print(Counter([utt.meta['outcome'] for utt in corp_to_analyze['full_cmv'].iter_utterances()\n",
    "              if utt.id[:2]=='t1']))"
   ]
  },
  {
   "cell_type": "code",
   "execution_count": 100,
   "id": "441090cd",
   "metadata": {},
   "outputs": [
    {
     "name": "stdout",
     "output_type": "stream",
     "text": [
      "Australia is the best country in the world CMV\n",
      "Australia has a strong tradition of an honest days pay for an honest days work. We have a strong union presence which leads to high wages backed by a strong resource economy. We also have a very multicultural society with many immigrants choosing to settle in Australia this leads to diverse shopping areas where goods originally made all over the world are made right here on our shores. The main reason Australia is the best country in the world is our heavily ingrained concept of a \"fair go\" meaning you give anybody a chance to prove themselves no matter who they are. This is not even mentioning our spectacular landscapes and beaches. All in all Australia is the best country in the world.      \n"
     ]
    }
   ],
   "source": [
    "print(corp_to_analyze['full_cmv'].get_conversation('t3_1xx3cl').meta['title'])\n",
    "print(corp_to_analyze['full_cmv'].get_utterance('t3_1xx3cl').text)"
   ]
  },
  {
   "cell_type": "code",
   "execution_count": 95,
   "id": "ca8f56ae",
   "metadata": {},
   "outputs": [
    {
     "data": {
      "text/plain": [
       "\"The Airlines in the US are overpriced, overbooked, and have bad service. Everyone I know prefers foreign Airlines. So why can't we allow them to fly in the United States. I mean, I think I know why - it's because of protectionist policies. But so long as these airlines are held accountable to the same regulations as domestic airlines, and pay taxes and whatever, wouldn't it be a good thing to bring in more competition? I'm sure cheaper and better flight service would have positive net externalities as well. CMV\\n\""
      ]
     },
     "execution_count": 95,
     "metadata": {},
     "output_type": "execute_result"
    }
   ],
   "source": [
    "corp_to_analyze['full_cmv'].get_utterance('t3_a490vw').text"
   ]
  },
  {
   "cell_type": "code",
   "execution_count": null,
   "id": "680d2ae9",
   "metadata": {},
   "outputs": [],
   "source": []
  },
  {
   "cell_type": "markdown",
   "id": "33b80bce",
   "metadata": {
    "heading_collapsed": true
   },
   "source": [
    "## One-off: annotate +/-delta outcomes"
   ]
  },
  {
   "cell_type": "code",
   "execution_count": 12,
   "id": "18c42997",
   "metadata": {
    "hidden": true,
    "scrolled": true
   },
   "outputs": [
    {
     "name": "stdout",
     "output_type": "stream",
     "text": [
      "Found 35501 comments awarding a delta, which collectively have 56988 child nodes.\n"
     ]
    }
   ],
   "source": [
    "# Annotate entire sub-trees for +/- delta\n",
    "\n",
    "# 2 cases:\n",
    "# 1. sub-tree leads to a +delta outcome (someone awards a delta) > want to retrieve \n",
    "# everything leading up to this comment as a +delta datapoint\n",
    "# 2. sub-tree does not have any comments awarding deltas > want to retrieve \n",
    "# everything leading up to final leaf node as a -delta datapoint \n",
    "# (can choose to post-hoc truncate to match depth of +delta datapoints)\n",
    "\n",
    "# We ignore all sub-trees branching out from comments awarding delta \n",
    "# (outcome has already been reached, no reason to look beyond)\n",
    "\n",
    "# for every comment (excluding children of comments awarding deltas; post-outcome), \n",
    "# check if it's one that's awarding a delta:\n",
    "#     if True:\n",
    "#          do: get everything leading up to it as a +delta datapoint\n",
    "#     elif False AND it's a leaf node: # AND nowhere above it was a delta awarded:\n",
    "#          do: get everything leading up to it as a -delta datapoint\n",
    "#     else: \n",
    "#          means that comment isn't an outcome, so no need to get path to it as a datapoint\n",
    "\n",
    "delta_awarding_comment_ids = set([utt.id for utt in corp_to_analyze['full_cmv'].iter_utterances()\n",
    "                                  if utt.meta['is_awarding_delta']])\n",
    "children_delta_awarding_comments = set(flatten([corp_to_analyze['full_cmv'].get_utterance(utt_id).meta['reply_ids']\n",
    "                                                for utt_id in delta_awarding_comment_ids]))\n",
    "print(f\"Found {len(delta_awarding_comment_ids)} comments awarding a delta, which collectively have \\\n",
    "{len(children_delta_awarding_comments)} child nodes.\")"
   ]
  },
  {
   "cell_type": "code",
   "execution_count": 14,
   "id": "86a9a806",
   "metadata": {
    "code_folding": [],
    "hidden": true,
    "scrolled": true
   },
   "outputs": [
    {
     "name": "stderr",
     "output_type": "stream",
     "text": [
      "3243830it [01:20, 40435.16it/s]\n"
     ]
    },
    {
     "data": {
      "text/plain": [
       "Counter({-1: 1919491, '-delta': 1204715, '+delta': 35366})"
      ]
     },
     "execution_count": 14,
     "metadata": {},
     "output_type": "execute_result"
    }
   ],
   "source": [
    "for utt in tqdm(corp_to_analyze['full_cmv'].iter_utterances()):\n",
    "    if utt.id[:2] == 't1':\n",
    "        if utt.id in children_delta_awarding_comments: # ignore these post-outcome nodes\n",
    "            utt.meta['path_to_outcome'] = -1\n",
    "            utt.meta['outcome'] = -1\n",
    "        else:\n",
    "            is_awarding = utt.meta['is_awarding_delta']\n",
    "            if is_awarding:\n",
    "                utt.meta['path_to_outcome'] = get_path_to_utt(utt)\n",
    "                utt.meta['outcome'] = '+delta'\n",
    "            elif (not is_awarding) and is_leaf(utt):\n",
    "                utt.meta['path_to_outcome'] = get_path_to_utt(utt)\n",
    "                utt.meta['outcome'] = '-delta'\n",
    "            else: \n",
    "                utt.meta['path_to_outcome'] = -1 # ignore non-outcome nodes\n",
    "                utt.meta['outcome'] = -1\n",
    "            \n",
    "Counter([utt.meta['outcome'] for utt in corp_to_analyze['full_cmv'].iter_utterances()\n",
    "         if utt.id[:2]=='t1'])"
   ]
  },
  {
   "cell_type": "code",
   "execution_count": 15,
   "id": "b3c359bc",
   "metadata": {
    "hidden": true,
    "scrolled": true
   },
   "outputs": [
    {
     "data": {
      "text/plain": [
       "0.029356320789564336"
      ]
     },
     "execution_count": 15,
     "metadata": {},
     "output_type": "execute_result"
    }
   ],
   "source": [
    "35366/1204715 # 3% of outcomes are +delta, remaining 97% are -delta"
   ]
  },
  {
   "cell_type": "markdown",
   "id": "71a9ce7c",
   "metadata": {
    "heading_collapsed": true
   },
   "source": [
    "## Save corpus with annotations"
   ]
  },
  {
   "cell_type": "code",
   "execution_count": 16,
   "id": "6d75e804",
   "metadata": {
    "hidden": true,
    "scrolled": false
   },
   "outputs": [],
   "source": [
    "corp_to_analyze['full_cmv'].dump('my-cmv-corpus_1-1-2010_to_09-24-2021','/u/scr/yiweil')"
   ]
  },
  {
   "cell_type": "markdown",
   "id": "fbaf1998",
   "metadata": {},
   "source": [
    "## Prepare corpus for stanza parsing"
   ]
  },
  {
   "cell_type": "code",
   "execution_count": null,
   "id": "86798442",
   "metadata": {
    "scrolled": false
   },
   "outputs": [
    {
     "name": "stdout",
     "output_type": "stream",
     "text": [
      "Found 3241311 IDs already processed.\n",
      "Found 0 missing, non-empty-text utterance IDs to parse w/ Stanza.\n"
     ]
    }
   ],
   "source": [
    "# Write sub-tree text for parsing\n",
    "# Don't want to concatenate everything yet, in case we want to truncate at certain depths later\n",
    "# Fields: comment ID, text\n",
    "\n",
    "STANZA_DIR = '/nlp/u/yiweil/combined_stanza_output_with_ner_embed_removed'\n",
    "all_processed = glob.glob(STANZA_DIR+'/*.json') #\\\n",
    "                #+ glob.glob('/nlp/u/yiweil/combined_stanza_output_with_ner_embed_removed'+'/*.json')\n",
    "processed_utt_ids = set([x.split('/')[-1].split('.json')[0] for x in all_processed])\n",
    "print(f\"Found {len(processed_utt_ids)} IDs already processed.\")\n",
    "non_empty_utt_ids = set([utt.id for utt in corp_to_analyze['full_cmv'].iter_utterances()\n",
    "                         if not is_empty_utt(utt)])\n",
    "\n",
    "missing_ids = list(non_empty_utt_ids.difference(processed_utt_ids))\n",
    "print(f\"Found {len(missing_ids)} missing, non-empty-text utterance IDs to parse w/ Stanza.\")\n",
    "\n",
    "# pickle.dump(pd.DataFrame({'id': missing_ids,\n",
    "#                           'text': [corp_to_analyze['full_cmv'].get_utterance(utt_id).text\n",
    "#                                    for utt_id in missing_ids]}),\n",
    "#             open('missing_utts_to_parse.pkl','wb'))"
   ]
  },
  {
   "cell_type": "markdown",
   "id": "92e47165",
   "metadata": {},
   "source": [
    "The only unparsed comments left (n=18) are ones w/ just punctuation:"
   ]
  },
  {
   "cell_type": "code",
   "execution_count": 10,
   "id": "88fea955",
   "metadata": {
    "scrolled": true
   },
   "outputs": [
    {
     "name": "stdout",
     "output_type": "stream",
     "text": [
      "/\n",
      "/\n",
      "/\n",
      "/\n",
      "/\n",
      "/\n",
      "/\n"
     ]
    }
   ],
   "source": [
    "for missing in missing_ids:\n",
    "    print(corp_to_analyze['full_cmv'].get_utterance(missing).text)"
   ]
  },
  {
   "cell_type": "markdown",
   "id": "db672bf5",
   "metadata": {
    "heading_collapsed": true
   },
   "source": [
    "## Old sanity checks"
   ]
  },
  {
   "cell_type": "code",
   "execution_count": 80,
   "id": "9fbd1011",
   "metadata": {
    "hidden": true,
    "scrolled": true
   },
   "outputs": [
    {
     "name": "stdout",
     "output_type": "stream",
     "text": [
      "Δ|&#8710;|∆|!delta\n"
     ]
    },
    {
     "name": "stderr",
     "output_type": "stream",
     "text": [
      "3243830it [00:23, 135934.50it/s]\n"
     ]
    }
   ],
   "source": [
    "# Sanity check 1: immediate replies to comments for which `is_awarded_delta` is True should have a delta\n",
    "\n",
    "all_utt_ids = set(corp_to_analyze['full_cmv'].get_utterance_ids())\n",
    "\n",
    "indices_reply_with_delta = defaultdict(list) # stores indices of replies awarding deltas for each +delta comment \n",
    "for utt in tqdm(corp_to_analyze['full_cmv'].iter_utterances()):\n",
    "    if (utt.id[:2] == 't1') and utt.meta['is_awarded_delta']:\n",
    "        reply_ids = utt.meta['reply_ids']\n",
    "        assert len(reply_ids) > 0\n",
    "        replies = [corp_to_analyze['full_cmv'].get_utterance(r) for r in reply_ids\n",
    "                  if r in all_utt_ids]\n",
    "        if len(replies) > 0:\n",
    "            for ix_r,r in enumerate(replies):\n",
    "                if awarding_delta(r):\n",
    "                    indices_reply_with_delta[utt.id].append(ix_r)\n",
    "        else:\n",
    "            indices_reply_with_delta[utt.id] = 'no replies available'"
   ]
  },
  {
   "cell_type": "code",
   "execution_count": 81,
   "id": "218e6511",
   "metadata": {
    "hidden": true
   },
   "outputs": [
    {
     "data": {
      "text/plain": [
       "Counter({1: 27776,\n",
       "         2: 649,\n",
       "         3: 97,\n",
       "         5: 22,\n",
       "         7: 7,\n",
       "         6: 9,\n",
       "         4: 47,\n",
       "         8: 4,\n",
       "         9: 8,\n",
       "         40: 1,\n",
       "         10: 2,\n",
       "         12: 1,\n",
       "         13: 4,\n",
       "         16: 2,\n",
       "         14: 2,\n",
       "         11: 1})"
      ]
     },
     "execution_count": 81,
     "metadata": {},
     "output_type": "execute_result"
    }
   ],
   "source": [
    "# values for every key in indices_reply_with_delta should have len > 0 \n",
    "# (since at least one of the replies should be awarding a delta if deltalog is correct)\n",
    "\n",
    "Counter([len(x) for x in indices_reply_with_delta.values()\n",
    "         if type(x) != str])"
   ]
  },
  {
   "cell_type": "code",
   "execution_count": 82,
   "id": "4704d014",
   "metadata": {
    "hidden": true
   },
   "outputs": [
    {
     "data": {
      "text/plain": [
       "Counter({list: 28632})"
      ]
     },
     "execution_count": 82,
     "metadata": {},
     "output_type": "execute_result"
    }
   ],
   "source": [
    "Counter([type(x) for x in indices_reply_with_delta.values()]) # so there are no +delta comments for which \n",
    "                                                              # ALL the replies are missing from the corpus"
   ]
  },
  {
   "cell_type": "code",
   "execution_count": 83,
   "id": "050e0b3a",
   "metadata": {
    "hidden": true
   },
   "outputs": [
    {
     "name": "stderr",
     "output_type": "stream",
     "text": [
      "3243830it [00:47, 68706.30it/s]\n"
     ]
    },
    {
     "data": {
      "text/plain": [
       "Counter({True: 30065, False: 5436})"
      ]
     },
     "execution_count": 83,
     "metadata": {},
     "output_type": "execute_result"
    }
   ],
   "source": [
    "# Sanity check 2: if a comment contains a delta, then its parent should have `is_awarded_delta` = True\n",
    "parent_deltas = []\n",
    "for utt in tqdm(corp_to_analyze['full_cmv'].iter_utterances()):\n",
    "    if (utt.id[:2] == 't1') and awarding_delta(utt):\n",
    "        parent = corp_to_analyze['full_cmv'].get_utterance(utt.reply_to)\n",
    "        parent_deltas.append(parent.meta['is_awarded_delta'])\n",
    "Counter(parent_deltas)"
   ]
  },
  {
   "cell_type": "markdown",
   "id": "27759b6e",
   "metadata": {
    "hidden": true
   },
   "source": [
    "So it looks like we're missing a lot of comments that do get deltas! Let's make sure this is the case:"
   ]
  },
  {
   "cell_type": "code",
   "execution_count": 90,
   "id": "14f5c9f7",
   "metadata": {
    "hidden": true,
    "scrolled": true
   },
   "outputs": [
    {
     "name": "stdout",
     "output_type": "stream",
     "text": [
      "(35501, 4)\n"
     ]
    }
   ],
   "source": [
    "# utt_ids_awarding_deltas = [utt.id \n",
    "#                            for utt in corp_to_analyze['full_cmv'].iter_utterances()\n",
    "#                            if awarding_delta(utt)]\n",
    "df = pd.DataFrame({\n",
    "    '+delta_utt_id': utt_ids_awarding_deltas,\n",
    "    '+delta_utt_text': [corp_to_analyze['full_cmv'].get_utterance(utt_id).text\n",
    "                        for utt_id in utt_ids_awarding_deltas],\n",
    "    '+delta_utt_speaker': [corp_to_analyze['full_cmv'].get_utterance(utt_id).speaker.id\n",
    "                           for utt_id in utt_ids_awarding_deltas],\n",
    "    'prev_comment_id': [corp_to_analyze['full_cmv'].get_utterance(utt_id).reply_to\n",
    "                        for utt_id in utt_ids_awarding_deltas]\n",
    "    'next_comment_id': [corp_to_analyze['full_cmv'].get_utterance(utt_id).meta['reply_ids'][0]\n",
    "                        if len(corp_to_analyze['full_cmv'].get_utterance(utt_id).meta['reply_ids']) > 0\n",
    "                        else -1\n",
    "                        for utt_id in utt_ids_awarding_deltas]\n",
    "})\n",
    "print(df.shape)\n",
    "# df['next_comment_text'] = df['next_comment_id'].apply(lambda x: corp_to_analyze['full_cmv'].get_utterance(x).text\n",
    "#                                                       if x != -1\n",
    "#                                                       else -1)"
   ]
  },
  {
   "cell_type": "code",
   "execution_count": 87,
   "id": "08fed862",
   "metadata": {
    "hidden": true
   },
   "outputs": [
    {
     "data": {
      "text/plain": [
       "164"
      ]
     },
     "execution_count": 87,
     "metadata": {},
     "output_type": "execute_result"
    }
   ],
   "source": [
    "missing_utt_ids = set(df['next_comment_id'].values).difference(set(corp_to_analyze['full_cmv'].get_utterance_ids()))\n",
    "len(missing_utt_ids)"
   ]
  },
  {
   "cell_type": "code",
   "execution_count": 101,
   "id": "0798bc9f",
   "metadata": {
    "hidden": true
   },
   "outputs": [],
   "source": [
    "#missing_utt_ids"
   ]
  },
  {
   "cell_type": "code",
   "execution_count": 89,
   "id": "3e72cf15",
   "metadata": {
    "hidden": true,
    "scrolled": false
   },
   "outputs": [
    {
     "data": {
      "text/html": [
       "<div>\n",
       "<style scoped>\n",
       "    .dataframe tbody tr th:only-of-type {\n",
       "        vertical-align: middle;\n",
       "    }\n",
       "\n",
       "    .dataframe tbody tr th {\n",
       "        vertical-align: top;\n",
       "    }\n",
       "\n",
       "    .dataframe thead th {\n",
       "        text-align: right;\n",
       "    }\n",
       "</style>\n",
       "<table border=\"1\" class=\"dataframe\">\n",
       "  <thead>\n",
       "    <tr style=\"text-align: right;\">\n",
       "      <th></th>\n",
       "      <th>+delta_utt_id</th>\n",
       "      <th>+delta_utt_text</th>\n",
       "      <th>+delta_utt_speaker</th>\n",
       "      <th>next_comment_id</th>\n",
       "    </tr>\n",
       "  </thead>\n",
       "  <tbody>\n",
       "    <tr>\n",
       "      <th>0</th>\n",
       "      <td>t1_dzk8x5u</td>\n",
       "      <td>**Δ** I should have been more precise in the title \\(but note the first point!\\): they should be run in a democratic way by ALL employees \\(who can then vote for managers etc.\\). Currently, they are run in purely hierarchical way, top down, as you describe. What I mean are democratic and participatory practices, not top\\-down rule.</td>\n",
       "      <td>TwelveStarsDebates</td>\n",
       "      <td>t1_dzkb9tb</td>\n",
       "    </tr>\n",
       "    <tr>\n",
       "      <th>1</th>\n",
       "      <td>t1_cmf3x9a</td>\n",
       "      <td>&amp;#8710; Consider my mind changed.  I didn't realize that it would cause them to lose this much of their toes and would result in extended pain from the deformity.</td>\n",
       "      <td>zasabi7</td>\n",
       "      <td>t1_cmf428q</td>\n",
       "    </tr>\n",
       "    <tr>\n",
       "      <th>2</th>\n",
       "      <td>t1_dzgm6bb</td>\n",
       "      <td>!delta this person provided a sound argument as to the benefit of a new viewpoint in direct contradiction to mine.</td>\n",
       "      <td>The_designer12</td>\n",
       "      <td>t1_dzgm78d</td>\n",
       "    </tr>\n",
       "    <tr>\n",
       "      <th>3</th>\n",
       "      <td>t1_gj54r4i</td>\n",
       "      <td>!delta\\n\\nGood point with the fetuses, as well as it being more of a grassroots campaign. From personal experience, many of my slightly right leaning friends and family would have been more on board with a better slogan. Even most of my right leaning friends/family believe in the woman's right to choose. There certainly would still be detractors, as there is with any movement, but I think it would be less divisive than it currently is under that slogan.</td>\n",
       "      <td>xXxXBlazeItXxXx</td>\n",
       "      <td>t1_gj54sfc</td>\n",
       "    </tr>\n",
       "    <tr>\n",
       "      <th>4</th>\n",
       "      <td>t1_e294sp0</td>\n",
       "      <td>!delta\\n\\nI didn't really think of any of the games but you are right they are awesome</td>\n",
       "      <td>sammyslug13</td>\n",
       "      <td>t1_e29kvq0</td>\n",
       "    </tr>\n",
       "  </tbody>\n",
       "</table>\n",
       "</div>"
      ],
      "text/plain": [
       "  +delta_utt_id  \\\n",
       "0    t1_dzk8x5u   \n",
       "1    t1_cmf3x9a   \n",
       "2    t1_dzgm6bb   \n",
       "3    t1_gj54r4i   \n",
       "4    t1_e294sp0   \n",
       "\n",
       "                                                                                                                                                                                                                                                                                                                                                                                                                                                             +delta_utt_text  \\\n",
       "0                                                                                                                              **Δ** I should have been more precise in the title \\(but note the first point!\\): they should be run in a democratic way by ALL employees \\(who can then vote for managers etc.\\). Currently, they are run in purely hierarchical way, top down, as you describe. What I mean are democratic and participatory practices, not top\\-down rule.   \n",
       "1                                                                                                                                                                                                                                                                                                         &#8710; Consider my mind changed.  I didn't realize that it would cause them to lose this much of their toes and would result in extended pain from the deformity.   \n",
       "2                                                                                                                                                                                                                                                                                                                                                         !delta this person provided a sound argument as to the benefit of a new viewpoint in direct contradiction to mine.   \n",
       "3  !delta\\n\\nGood point with the fetuses, as well as it being more of a grassroots campaign. From personal experience, many of my slightly right leaning friends and family would have been more on board with a better slogan. Even most of my right leaning friends/family believe in the woman's right to choose. There certainly would still be detractors, as there is with any movement, but I think it would be less divisive than it currently is under that slogan.   \n",
       "4                                                                                                                                                                                                                                                                                                                                                                                     !delta\\n\\nI didn't really think of any of the games but you are right they are awesome   \n",
       "\n",
       "   +delta_utt_speaker next_comment_id  \n",
       "0  TwelveStarsDebates      t1_dzkb9tb  \n",
       "1             zasabi7      t1_cmf428q  \n",
       "2      The_designer12      t1_dzgm78d  \n",
       "3     xXxXBlazeItXxXx      t1_gj54sfc  \n",
       "4         sammyslug13      t1_e29kvq0  "
      ]
     },
     "execution_count": 89,
     "metadata": {},
     "output_type": "execute_result"
    }
   ],
   "source": [
    "df.head()"
   ]
  },
  {
   "cell_type": "code",
   "execution_count": null,
   "id": "a24176b0",
   "metadata": {
    "hidden": true
   },
   "outputs": [],
   "source": [
    "# Let's make sure that all the +delta comments logging deltas are from mods\n",
    "# print(df.loc[df['next_comment_id']==-1]['+delta_utt_speaker'].value_counts())\n",
    "# print(df.loc[df['+delta_utt_speaker']=='DeltaBot']['next_comment_id'].value_counts())"
   ]
  },
  {
   "cell_type": "code",
   "execution_count": 73,
   "id": "5cfb5658",
   "metadata": {
    "hidden": true
   },
   "outputs": [
    {
     "data": {
      "text/plain": [
       "'[deleted]'"
      ]
     },
     "execution_count": 73,
     "metadata": {},
     "output_type": "execute_result"
    }
   ],
   "source": [
    "corp_to_analyze['full_cmv'].get_utterance('t1_dzkb9tb').text # So looking for \"confirmed, 1 delta awarded\"-type cues\n",
    "                                                             # ignores case where comment is later deleted"
   ]
  },
  {
   "cell_type": "code",
   "execution_count": 74,
   "id": "e5ddf548",
   "metadata": {
    "hidden": true,
    "scrolled": false
   },
   "outputs": [
    {
     "data": {
      "text/plain": [
       "'Yeah. People have been trying to raise awareness, but the term \"declawing\" is pretty vague. It sounds like just the sharp part is removed. Glad you changed mind, and I\\'m sure the cats are too ;)'"
      ]
     },
     "execution_count": 74,
     "metadata": {},
     "output_type": "execute_result"
    }
   ],
   "source": [
    "corp_to_analyze['full_cmv'].get_utterance('t1_cmf428q').text # Also ignores case where someone else first comments"
   ]
  },
  {
   "cell_type": "markdown",
   "id": "9b6561d4",
   "metadata": {},
   "source": [
    "# Descriptive stats and visualizations"
   ]
  },
  {
   "cell_type": "code",
   "execution_count": 108,
   "id": "76843a5c",
   "metadata": {
    "code_folding": [
     2,
     6,
     11,
     18,
     25,
     46,
     53
    ]
   },
   "outputs": [],
   "source": [
    "# Structural features/predictors\n",
    "\n",
    "def is_outcome_leaf(utt):\n",
    "    \"\"\"Returns whether a comment represents an outcome node.\"\"\"\n",
    "    return (utt.id[:2] == 't1') and (utt.meta['outcome'] != -1)\n",
    "\n",
    "def get_depth(outcome_utt):\n",
    "    \"\"\"Returns the length measured as the depth of a sub-tree.\"\"\"\n",
    "    assert is_outcome_leaf(outcome_utt)\n",
    "    return len(outcome_utt.meta['path_to_outcome'])\n",
    "\n",
    "def get_total_num_words(corp,outcome_utt):\n",
    "    \"\"\"Returns the length measured as the total number of words in a sub-tree.\"\"\"\n",
    "    assert is_outcome_leaf(outcome_utt)\n",
    "    num_words = sum([len(corp.get_utterance(utt_id).text.split()) \n",
    "                     for utt_id in outcome_utt.meta['path_to_outcome']])\n",
    "    return num_words\n",
    "\n",
    "def get_mean_num_words(corp,outcome_utt):\n",
    "    \"\"\"Returns the length measured as the mean number of words per comment in a sub-tree.\"\"\"\n",
    "    assert is_outcome_leaf(outcome_utt)\n",
    "    mean_num_words = np.average([len(corp.get_utterance(utt_id).text.split()) \n",
    "                                 for utt_id in outcome_utt.meta['path_to_outcome']])\n",
    "    return mean_num_words\n",
    "    \n",
    "def get_order(corp,outcome_utt):\n",
    "    \"\"\"Returns the order of the top-level comment of a sub-tree.\"\"\"\n",
    "    assert is_outcome_leaf(outcome_utt)\n",
    "    first_utt_in_subtree = outcome_utt.meta['path_to_outcome'][0]\n",
    "\n",
    "    top_level_timestamps = []\n",
    "    for top_level_utt_id in corp_to_analyze['full_cmv'].get_conversation(\n",
    "        outcome_utt.conversation_id).meta['top_level_comments']:\n",
    "        top_level_timestamps.append((top_level_utt_id,\n",
    "                                     corp_to_analyze['full_cmv'].get_utterance(top_level_utt_id).timestamp))\n",
    "    sorted_timestamps = sorted(top_level_timestamps, key=lambda x:x[1], reverse=False)\n",
    "    sorted_top_level_utt_ids = [x[0] for x in sorted_timestamps]\n",
    "    return sorted_top_level_utt_ids.index(first_utt_in_subtree)+1\n",
    "    \n",
    "    first_utt_in_subtree = corp.get_utterance(outcome_utt.meta['path_to_outcome'][0])\n",
    "    convo = corp.get_conversation(outcome_utt.conversation_id)\n",
    "    for path in convo.get_root_to_leaf_paths():\n",
    "        for depth,u in enumerate(path):\n",
    "            if u.id == first_utt_in_subtree.id:\n",
    "                return depth+1\n",
    "            \n",
    "def get_rel_timestamp_subtree(corp,outcome_utt):\n",
    "    \"\"\"\n",
    "    Returns the time elapsed in seconds between the first comment of a sub-tree and the OG post.\n",
    "    \"\"\"\n",
    "    first_utt_in_subtree = corp.get_utterance(outcome_utt.meta['path_to_outcome'][0])\n",
    "    return first_utt_in_subtree.timestamp - corp.get_utterance(outcome_utt.conversation_id).timestamp\n",
    "\n",
    "def get_abs_timestamp_subtree(corp,outcome_utt):\n",
    "    \"\"\"\n",
    "    Returns the absolute timestamp of the first comment of a sub-tree.\n",
    "    \"\"\"\n",
    "    first_utt_in_subtree = corp.get_utterance(outcome_utt.meta['path_to_outcome'][0])\n",
    "    return first_utt_in_subtree.timestamp"
   ]
  },
  {
   "cell_type": "code",
   "execution_count": 105,
   "id": "8964c730",
   "metadata": {
    "code_folding": [
     4,
     7,
     12
    ]
   },
   "outputs": [],
   "source": [
    "subtree_outcome_utts = [utt for utt in corp_to_analyze['full_cmv'].iter_utterances()\n",
    "                        if is_outcome_leaf(utt)]\n",
    "\n",
    "PER_OUTCOME_NUM_SUBTREES = Counter([utt.meta['outcome'] for utt in subtree_outcome_utts])\n",
    "PER_OUTCOME_NUM_POSTS = {outcome: len(set([utt.conversation_id for utt in subtree_outcome_utts \n",
    "                                           if utt.meta['outcome']==outcome]))\n",
    "                         for outcome in ['+delta','-delta']}\n",
    "PER_OUTCOME_NUM_SPEAKERS = {outcome: len(set([corp_to_analyze['full_cmv'].get_utterance(u).speaker.id \n",
    "                                              for utt in subtree_outcome_utts\n",
    "                                              if utt.meta['outcome']==outcome\n",
    "                                              for u in utt.meta['path_to_outcome']]))\n",
    "                            for outcome in ['+delta','-delta']}\n",
    "PER_OUTCOME_NUM_COMMENTS = {outcome: sum([len(utt.meta['path_to_outcome']) # excluding OG post\n",
    "                                          for utt in subtree_outcome_utts\n",
    "                                          if utt.meta['outcome']==outcome])\n",
    "                            for outcome in ['+delta','-delta']}\n",
    "\n",
    "TOTAL_NUM_SUBTREES = sum(PER_OUTCOME_NUM_SUBTREES.values())\n",
    "TOTAL_NUM_POSTS = sum(PER_OUTCOME_NUM_POSTS.values())\n",
    "TOTAL_NUM_SPEAKERS = sum(PER_OUTCOME_NUM_SPEAKERS.values())\n",
    "TOTAL_NUM_COMMENTS = sum(PER_OUTCOME_NUM_COMMENTS.values())"
   ]
  },
  {
   "cell_type": "code",
   "execution_count": 142,
   "id": "b50d692c",
   "metadata": {},
   "outputs": [
    {
     "data": {
      "text/html": [
       "<div>\n",
       "<style scoped>\n",
       "    .dataframe tbody tr th:only-of-type {\n",
       "        vertical-align: middle;\n",
       "    }\n",
       "\n",
       "    .dataframe tbody tr th {\n",
       "        vertical-align: top;\n",
       "    }\n",
       "\n",
       "    .dataframe thead th {\n",
       "        text-align: right;\n",
       "    }\n",
       "</style>\n",
       "<table border=\"1\" class=\"dataframe\">\n",
       "  <thead>\n",
       "    <tr style=\"text-align: right;\">\n",
       "      <th></th>\n",
       "      <th>+delta</th>\n",
       "      <th>-delta</th>\n",
       "      <th>total</th>\n",
       "    </tr>\n",
       "    <tr>\n",
       "      <th>index</th>\n",
       "      <th></th>\n",
       "      <th></th>\n",
       "      <th></th>\n",
       "    </tr>\n",
       "  </thead>\n",
       "  <tbody>\n",
       "    <tr>\n",
       "      <th>N subtrees</th>\n",
       "      <td>35366</td>\n",
       "      <td>1204715</td>\n",
       "      <td>1240081</td>\n",
       "    </tr>\n",
       "    <tr>\n",
       "      <th>N posts</th>\n",
       "      <td>17514</td>\n",
       "      <td>55815</td>\n",
       "      <td>73329</td>\n",
       "    </tr>\n",
       "    <tr>\n",
       "      <th>N comments</th>\n",
       "      <td>122845</td>\n",
       "      <td>4033618</td>\n",
       "      <td>4156463</td>\n",
       "    </tr>\n",
       "    <tr>\n",
       "      <th>N speakers</th>\n",
       "      <td>22667</td>\n",
       "      <td>190843</td>\n",
       "      <td>213510</td>\n",
       "    </tr>\n",
       "  </tbody>\n",
       "</table>\n",
       "</div>"
      ],
      "text/plain": [
       "            +delta   -delta    total\n",
       "index                               \n",
       "N subtrees   35366  1204715  1240081\n",
       "N posts      17514    55815    73329\n",
       "N comments  122845  4033618  4156463\n",
       "N speakers   22667   190843   213510"
      ]
     },
     "execution_count": 142,
     "metadata": {},
     "output_type": "execute_result"
    }
   ],
   "source": [
    "desc_stats_df = pd.DataFrame({\n",
    "    'total': [TOTAL_NUM_SUBTREES, TOTAL_NUM_POSTS, TOTAL_NUM_COMMENTS, TOTAL_NUM_SPEAKERS],\n",
    "    '+delta': [PER_OUTCOME_NUM_SUBTREES['+delta'], PER_OUTCOME_NUM_POSTS['+delta'],\n",
    "               PER_OUTCOME_NUM_COMMENTS['+delta'], PER_OUTCOME_NUM_SPEAKERS['+delta']],\n",
    "    '-delta': [PER_OUTCOME_NUM_SUBTREES['-delta'], PER_OUTCOME_NUM_POSTS['-delta'],\n",
    "               PER_OUTCOME_NUM_COMMENTS['-delta'], PER_OUTCOME_NUM_SPEAKERS['-delta']],\n",
    "    'index': ['N subtrees','N posts','N comments','N speakers']})\n",
    "desc_stats_df.set_index('index',drop=True,inplace=True)\n",
    "desc_stats_df.to_csv('descriptive_stats.csv',sep=',',header=True,index=True)\n",
    "desc_stats_df[['+delta','-delta','total']]"
   ]
  },
  {
   "cell_type": "code",
   "execution_count": null,
   "id": "f73a501e",
   "metadata": {
    "code_folding": [
     14,
     16,
     18
    ]
   },
   "outputs": [],
   "source": [
    "to_plot_df = pd.DataFrame({\n",
    "    'subtree_outcome_utt_id': [utt.id for utt in subtree_outcome_utts],\n",
    "    'count': [1 for utt in subtree_outcome_utts],\n",
    "    '+delta count': [1 if utt.meta['outcome'] == '+delta' else 0 for utt in subtree_outcome_utts],\n",
    "    '-delta count': [1 if utt.meta['outcome'] == '-delta' else 0 for utt in subtree_outcome_utts],\n",
    "    'outcome': [utt.meta['outcome'] for utt in subtree_outcome_utts],\n",
    "    'num_speakers': [len(set([corp_to_analyze['full_cmv'].get_utterance(u_id).speaker.id\n",
    "                              for u_id in utt.meta['path_to_outcome']])) \n",
    "                     for utt in subtree_outcome_utts],\n",
    "    'num_comments': [len(utt.meta['path_to_outcome']) # excluding OG post\n",
    "                     for utt in subtree_outcome_utts],\n",
    "    'conversation_id': [utt.conversation_id for utt in subtree_outcome_utts],\n",
    "    'timestamp': [get_abs_timestamp_subtree(corp_to_analyze['full_cmv'],utt) \n",
    "                  for utt in subtree_outcome_utts]})\n",
    "to_plot_df['year'] = to_plot_df['timestamp'].apply(\n",
    "    lambda x: datetime.utcfromtimestamp(x).year)\n",
    "to_plot_df['month'] = to_plot_df['timestamp'].apply(\n",
    "    lambda x: datetime.utcfromtimestamp(x).month)\n",
    "to_plot_df['year_mo'] = to_plot_df.apply(\n",
    "    lambda x: f\"{x['year']}-{x['month']}\", axis=1)\n",
    "\n",
    "# fig, ax = plt.subplots(figsize=(10,6))\n",
    "# sns.histplot(x='num_speakers',bins=7,hue='outcome',data=to_plot_df,ax=ax,multiple='stack')\n",
    "#sns.boxplot(x='num_speakers',hue='outcome',data=to_plot_df)\n",
    "\n",
    "to_plot_df.head()"
   ]
  },
  {
   "cell_type": "code",
   "execution_count": 127,
   "id": "9817fd73",
   "metadata": {
    "scrolled": true
   },
   "outputs": [
    {
     "data": {
      "image/png": "[encoded data removed]",
      "text/plain": [
       "<Figure size 720x432 with 1 Axes>"
      ]
     },
     "metadata": {
      "needs_background": "light"
     },
     "output_type": "display_data"
    }
   ],
   "source": [
    "fig, ax = plt.subplots(figsize=(10,6))\n",
    "sns.lineplot(x='year',y='num_speakers',hue='outcome',data=to_plot_df,\n",
    "             err_style=\"bars\",estimator='mean',ax=ax)\n",
    "ax.set_xlabel('')\n",
    "ax.set_ylabel('')\n",
    "ax.set_xticklabels(range(2012,2022),fontsize=18)\n",
    "ax.set_title('Average number of speakers per subtree over time',fontsize=20)\n",
    "ax.legend(bbox_to_anchor=(1,1), title=\"\", fontsize=18)\n",
    "sns.despine()\n",
    "plt.tight_layout()\n",
    "plt.savefig('figs/mean_speakers_per_subtree_over_time.png',dpi=200)"
   ]
  },
  {
   "cell_type": "code",
   "execution_count": 130,
   "id": "4eed01d0",
   "metadata": {
    "scrolled": true
   },
   "outputs": [
    {
     "data": {
      "image/png": "[encoded data removed]",
      "text/plain": [
       "<Figure size 720x432 with 1 Axes>"
      ]
     },
     "metadata": {
      "needs_background": "light"
     },
     "output_type": "display_data"
    }
   ],
   "source": [
    "fig, ax = plt.subplots(figsize=(10,6))\n",
    "sns.lineplot(x='year',y='num_comments',hue='outcome',data=to_plot_df,\n",
    "             err_style=\"bars\",estimator='mean',ax=ax)\n",
    "ax.set_xlabel('')\n",
    "ax.set_ylabel('')\n",
    "ax.set_xticklabels(range(2012,2022),fontsize=18)\n",
    "ax.set_title('Average number of comments per subtree over time',fontsize=24)\n",
    "ax.legend(bbox_to_anchor=(1,1), title=\"\", fontsize=18)\n",
    "sns.despine()\n",
    "plt.tight_layout()\n",
    "plt.savefig('figs/mean_comments_per_subtree_over_time.png',dpi=200)"
   ]
  },
  {
   "cell_type": "code",
   "execution_count": 134,
   "id": "a2f5b47a",
   "metadata": {
    "scrolled": false
   },
   "outputs": [
    {
     "data": {
      "text/html": [
       "<div>\n",
       "<style scoped>\n",
       "    .dataframe tbody tr th:only-of-type {\n",
       "        vertical-align: middle;\n",
       "    }\n",
       "\n",
       "    .dataframe tbody tr th {\n",
       "        vertical-align: top;\n",
       "    }\n",
       "\n",
       "    .dataframe thead th {\n",
       "        text-align: right;\n",
       "    }\n",
       "</style>\n",
       "<table border=\"1\" class=\"dataframe\">\n",
       "  <thead>\n",
       "    <tr style=\"text-align: right;\">\n",
       "      <th></th>\n",
       "      <th>count</th>\n",
       "      <th>+delta count</th>\n",
       "      <th>-delta count</th>\n",
       "      <th>num_speakers</th>\n",
       "      <th>num_comments</th>\n",
       "      <th>timestamp</th>\n",
       "      <th>year</th>\n",
       "      <th>month</th>\n",
       "      <th>post_year</th>\n",
       "    </tr>\n",
       "    <tr>\n",
       "      <th>conversation_id</th>\n",
       "      <th></th>\n",
       "      <th></th>\n",
       "      <th></th>\n",
       "      <th></th>\n",
       "      <th></th>\n",
       "      <th></th>\n",
       "      <th></th>\n",
       "      <th></th>\n",
       "      <th></th>\n",
       "    </tr>\n",
       "  </thead>\n",
       "  <tbody>\n",
       "    <tr>\n",
       "      <th>t3_16ra7x</th>\n",
       "      <td>7</td>\n",
       "      <td>0</td>\n",
       "      <td>7</td>\n",
       "      <td>11</td>\n",
       "      <td>13</td>\n",
       "      <td>9.518080e+09</td>\n",
       "      <td>14091</td>\n",
       "      <td>10</td>\n",
       "      <td>2013</td>\n",
       "    </tr>\n",
       "    <tr>\n",
       "      <th>t3_16ralh</th>\n",
       "      <td>2</td>\n",
       "      <td>0</td>\n",
       "      <td>2</td>\n",
       "      <td>4</td>\n",
       "      <td>6</td>\n",
       "      <td>2.716883e+09</td>\n",
       "      <td>4026</td>\n",
       "      <td>2</td>\n",
       "      <td>2013</td>\n",
       "    </tr>\n",
       "    <tr>\n",
       "      <th>t3_16rve8</th>\n",
       "      <td>10</td>\n",
       "      <td>0</td>\n",
       "      <td>10</td>\n",
       "      <td>19</td>\n",
       "      <td>26</td>\n",
       "      <td>1.358481e+10</td>\n",
       "      <td>20130</td>\n",
       "      <td>10</td>\n",
       "      <td>2013</td>\n",
       "    </tr>\n",
       "    <tr>\n",
       "      <th>t3_16rzx1</th>\n",
       "      <td>5</td>\n",
       "      <td>0</td>\n",
       "      <td>5</td>\n",
       "      <td>7</td>\n",
       "      <td>10</td>\n",
       "      <td>6.793292e+09</td>\n",
       "      <td>10065</td>\n",
       "      <td>5</td>\n",
       "      <td>2013</td>\n",
       "    </tr>\n",
       "    <tr>\n",
       "      <th>t3_16s6jg</th>\n",
       "      <td>2</td>\n",
       "      <td>0</td>\n",
       "      <td>2</td>\n",
       "      <td>5</td>\n",
       "      <td>9</td>\n",
       "      <td>2.716939e+09</td>\n",
       "      <td>4026</td>\n",
       "      <td>2</td>\n",
       "      <td>2013</td>\n",
       "    </tr>\n",
       "  </tbody>\n",
       "</table>\n",
       "</div>"
      ],
      "text/plain": [
       "                 count  +delta count  -delta count  num_speakers  \\\n",
       "conversation_id                                                    \n",
       "t3_16ra7x            7             0             7            11   \n",
       "t3_16ralh            2             0             2             4   \n",
       "t3_16rve8           10             0            10            19   \n",
       "t3_16rzx1            5             0             5             7   \n",
       "t3_16s6jg            2             0             2             5   \n",
       "\n",
       "                 num_comments     timestamp   year  month  post_year  \n",
       "conversation_id                                                       \n",
       "t3_16ra7x                  13  9.518080e+09  14091     10       2013  \n",
       "t3_16ralh                   6  2.716883e+09   4026      2       2013  \n",
       "t3_16rve8                  26  1.358481e+10  20130     10       2013  \n",
       "t3_16rzx1                  10  6.793292e+09  10065      5       2013  \n",
       "t3_16s6jg                   9  2.716939e+09   4026      2       2013  "
      ]
     },
     "execution_count": 134,
     "metadata": {},
     "output_type": "execute_result"
    }
   ],
   "source": [
    "subtrees_per_post = to_plot_df.groupby(by='conversation_id').sum()\n",
    "subtrees_per_post['post_year'] = [datetime.utcfromtimestamp(\n",
    "    corp_to_analyze['full_cmv'].get_utterance(x).timestamp).year \n",
    "    for x in subtrees_per_post.index.values]\n",
    "subtrees_per_post.head()"
   ]
  },
  {
   "cell_type": "code",
   "execution_count": 143,
   "id": "e895ecba",
   "metadata": {
    "scrolled": true
   },
   "outputs": [
    {
     "data": {
      "image/png": "[encoded data removed]",
      "text/plain": [
       "<Figure size 720x216 with 1 Axes>"
      ]
     },
     "metadata": {
      "needs_background": "light"
     },
     "output_type": "display_data"
    }
   ],
   "source": [
    "fig, ax = plt.subplots(figsize=(10,3))\n",
    "sns.lineplot(x='post_year',y='count',data=subtrees_per_post,\n",
    "             err_style=\"bars\",estimator='mean',ax=ax)\n",
    "ax.set_yscale('log')\n",
    "ax.set_xlabel('')\n",
    "ax.set_ylabel('')\n",
    "ax.set_xticklabels(range(2012,2022),fontsize=18)\n",
    "ax.set_title('Average number of posts over time',fontsize=22)\n",
    "sns.despine()\n",
    "plt.tight_layout()\n",
    "plt.savefig('figs/mean_posts_over_time.png',dpi=200)"
   ]
  },
  {
   "cell_type": "code",
   "execution_count": 144,
   "id": "73a11eb0",
   "metadata": {
    "scrolled": true
   },
   "outputs": [
    {
     "data": {
      "image/png": "[encoded data removed]",
      "text/plain": [
       "<Figure size 720x288 with 1 Axes>"
      ]
     },
     "metadata": {
      "needs_background": "light"
     },
     "output_type": "display_data"
    }
   ],
   "source": [
    "fig, ax = plt.subplots(figsize=(10,4))\n",
    "sns.lineplot(x='post_year',y='-delta count',data=subtrees_per_post,\n",
    "             err_style=\"bars\",estimator='mean',ax=ax,label='-delta')\n",
    "sns.lineplot(x='post_year',y='+delta count',data=subtrees_per_post,\n",
    "             err_style=\"bars\",estimator='mean',ax=ax,label='+delta')\n",
    "ax.set_yscale('log')\n",
    "ax.set_xlabel('')\n",
    "ax.set_ylabel('')\n",
    "ax.set_xticklabels(range(2012,2022),fontsize=18)\n",
    "ax.set_title('Average number of subtrees per post, over time',fontsize=20)\n",
    "ax.legend(bbox_to_anchor=(1,1), title=\"\", fontsize=18)\n",
    "sns.despine()\n",
    "plt.tight_layout()\n",
    "plt.savefig('figs/mean_subtrees_per_post_over_time.png',dpi=200)"
   ]
  },
  {
   "cell_type": "markdown",
   "id": "1a02cbff",
   "metadata": {},
   "source": [
    "# Subsampling"
   ]
  },
  {
   "cell_type": "markdown",
   "id": "abf25dbd",
   "metadata": {},
   "source": [
    "Potential filters:\n",
    "* -delta sub-trees with too much elapsed time, as OP may have never seen it (separate label in meta dict)\n",
    "* OP comments within sub-trees (another separate label in meta dict)"
   ]
  },
  {
   "cell_type": "code",
   "execution_count": 49,
   "id": "c3d8b4dd",
   "metadata": {
    "code_folding": [],
    "scrolled": true
   },
   "outputs": [
    {
     "data": {
      "image/png": "[encoded data removed]",
      "text/plain": [
       "<Figure size 720x504 with 1 Axes>"
      ]
     },
     "metadata": {
      "needs_background": "light"
     },
     "output_type": "display_data"
    }
   ],
   "source": [
    "# def get_rel_timestamp_comment(corp,utt):\n",
    "#     \"\"\"\n",
    "#     Returns the time elapsed in seconds between a comment and the OG post\n",
    "#     \"\"\"\n",
    "#     return utt.timestamp - corp.get_utterance(utt.conversation_id).timestamp\n",
    "\n",
    "# def get_rel_timestamp_subtree(corp,outcome_utt):\n",
    "#     \"\"\"\n",
    "#     Returns the time elapsed in seconds between the first comment of a subtree and the OG post\n",
    "#     \"\"\"\n",
    "#     first_utt_in_subtree = corp.get_utterance(outcome_utt.meta['path_to_outcome'][0])\n",
    "#     return first_utt_in_subtree.timestamp - corp.get_utterance(outcome_utt.conversation_id).timestamp\n",
    "\n",
    "# # TO DO: visualize distribution of elapsed time between OG post for +delta vs. -delta subtrees\n",
    "# to_plot_df = pd.DataFrame({\n",
    "#     'outcome_utt_id': [utt.id for utt in corp_to_analyze['full_cmv'].iter_utterances()\n",
    "#                        if (utt.id[:2] == 't1')\n",
    "#                        and (utt.meta['outcome'] != -1)],\n",
    "#     'outcome': [utt.meta['outcome'] for utt in corp_to_analyze['full_cmv'].iter_utterances()\n",
    "#                        if (utt.id[:2] == 't1')\n",
    "#                        and (utt.meta['outcome'] != -1)],\n",
    "#     'elapsed_time': [get_rel_timestamp_subtree(corp_to_analyze['full_cmv'],utt) \n",
    "#                        for utt in corp_to_analyze['full_cmv'].iter_utterances()\n",
    "#                        if (utt.id[:2] == 't1')\n",
    "#                        and (utt.meta['outcome'] != -1)]\n",
    "# })\n",
    "to_plot_df['log_elapsed_min'] = to_plot_df['elapsed_time'].apply(lambda x: np.log(x/60+0.1))\n",
    "\n",
    "fig, ax = plt.subplots(figsize=(10,7))\n",
    "sns.histplot(x='log_elapsed_min',bins=10,data=to_plot_df,hue='outcome',ax=ax,multiple='dodge')\n",
    "ax.set_ylabel(\"Distribution of time elapsed (seconds)\",fontsize=22)\n",
    "plt.tight_layout()\n",
    "plt.savefig(os.path.join('figs','time_elapsed_plus_minus_delta_subtrees.png'),dpi=200)"
   ]
  },
  {
   "cell_type": "code",
   "execution_count": null,
   "id": "b711cbda",
   "metadata": {},
   "outputs": [],
   "source": []
  },
  {
   "cell_type": "code",
   "execution_count": null,
   "id": "e5e2b6fc",
   "metadata": {},
   "outputs": [],
   "source": []
  },
  {
   "cell_type": "markdown",
   "id": "6996a67d",
   "metadata": {
    "heading_collapsed": true
   },
   "source": [
    "# [OLD] Find climate-change related conversations"
   ]
  },
  {
   "cell_type": "markdown",
   "id": "f53d78f8",
   "metadata": {
    "hidden": true
   },
   "source": [
    "* 1. Use high-precision keywords to retrieve posts w/ these keywords in the title.\n",
    "* 2. Then manually check for complete confidence.\n",
    "* 3. Then train tf-idf classifier on text of these documents to increase size of data."
   ]
  },
  {
   "cell_type": "code",
   "execution_count": 6,
   "id": "b4884a41",
   "metadata": {
    "code_folding": [
     1,
     4,
     15,
     18
    ],
    "hidden": true,
    "scrolled": true
   },
   "outputs": [],
   "source": [
    "import re\n",
    "def remove_special_chars(s):\n",
    "    return re.sub('[^A-Za-z]+', ' ', s)\n",
    "\n",
    "def contains_keyword(s,keyword_set,ignore_case=True):\n",
    "    if ignore_case:\n",
    "        s = s.lower()\n",
    "    pat = re.compile(r'\\b(' + (r'|'.join(keyword_set)) + r')\\b')\n",
    "    #print(set(pat.findall(remove_special_chars(s))).intersection(keyword_set))\n",
    "    return len(set(pat.findall(s)).intersection(keyword_set)) > 0\n",
    "\n",
    "with open('../1_data_collection/keywords_high_precision.txt','r') as f:\n",
    "    HI_PREC_CLIMATE_KEYWORDS = f.read().splitlines()\n",
    "HI_PREC_CLIMATE_KEYWORDS.append('AGW')\n",
    "#print(CLIMATE_KEYWORDS)\n",
    "\n",
    "def get_op(corpus,convo_idx):\n",
    "    return corpus.get_conversation(convo_idx)\n",
    "\n",
    "def get_op_title(op):\n",
    "    return op.meta['title']"
   ]
  },
  {
   "cell_type": "code",
   "execution_count": 31,
   "id": "77086589",
   "metadata": {
    "code_folding": [],
    "hidden": true,
    "scrolled": true
   },
   "outputs": [
    {
     "name": "stderr",
     "output_type": "stream",
     "text": [
      "52863it [00:00, 65358.21it/s]"
     ]
    },
    {
     "name": "stdout",
     "output_type": "stream",
     "text": [
      "Found 423 conversations with a high precision climate keyword in the post title.\n"
     ]
    },
    {
     "name": "stderr",
     "output_type": "stream",
     "text": [
      "\n"
     ]
    }
   ],
   "source": [
    "# # Retrieval using high precision keywords\n",
    "# climate_convo_idxs = []\n",
    "# for convo in tqdm(corp_to_analyze['full_cmv'].iter_conversations()):\n",
    "#     op_idx = convo.id\n",
    "#     op = get_op(corp_to_analyze['full_cmv'],op_idx)\n",
    "#     op_title = get_op_title(op)\n",
    "#     if contains_keyword(op_title, set(HI_PREC_CLIMATE_KEYWORDS)):\n",
    "#         climate_convo_idxs.append(op_idx)\n",
    "# print(f'Found {len(climate_convo_idxs)} conversations with a high precision climate keyword in the post title.')"
   ]
  },
  {
   "cell_type": "code",
   "execution_count": 37,
   "id": "2c7b56af",
   "metadata": {
    "code_folding": [
     1
    ],
    "hidden": true
   },
   "outputs": [],
   "source": [
    "# # Manual check\n",
    "# to_write = pd.DataFrame({\n",
    "#     'id': climate_convo_idxs,\n",
    "#     'title': [corp_to_analyze['full_cmv'].get_conversation(idx).meta['title']\n",
    "#               for idx in climate_convo_idxs],\n",
    "#     'text': [corp_to_analyze['full_cmv'].get_conversation(idx).meta['selftext_html']\n",
    "#               for idx in climate_convo_idxs],\n",
    "# })\n",
    "# to_write.to_csv('full_cmv_high_prec_climate_kw_in_title.tsv',sep='\\t',header=True,index=False)\n",
    "# del to_write"
   ]
  },
  {
   "cell_type": "code",
   "execution_count": 5,
   "id": "0cd2279c",
   "metadata": {
    "code_folding": [],
    "hidden": true
   },
   "outputs": [
    {
     "name": "stdout",
     "output_type": "stream",
     "text": [
      "Found 422 conversations which are manually checked to be true climate convos.\n"
     ]
    }
   ],
   "source": [
    "# import pandas as pd\n",
    "# manual_checked = pd.read_csv('full_cmv_high_prec_climate_kw_in_title_manual_checked.tsv',sep='\\t')\n",
    "# manual_checked = manual_checked.append(pd.read_csv('tf_idf_predicted_true_manual_checked.tsv',sep='\\t'),\n",
    "#                      ignore_index=True)\n",
    "manual_checked = pd.read_csv('is_cc_related_gold_manual_checked.tsv',sep='\\t')\n",
    "manual_checked['is_true'] = manual_checked['is_true'].apply(\n",
    "    lambda x: {'f':'false','m':'meta','d':'doom','r':'renewables/energy','v':'vegetarianism',\n",
    "              'p':'overpopulation','g':'government/politics','c':'conservation','e':'economy',\n",
    "              'l':'lifestyle','foo':'food (non-vegetarianism)','a':'adaptation',\n",
    "              'mor':'ethics/morality','gm':'government/politics'}[x]\n",
    "                if not pd.isnull(x) else 'other')\n",
    "manual_checked['label'] = manual_checked['label'].apply(lambda x: {'s':'skeptic','st':'indifferent'}[x] \n",
    "                                                       if x in {'s','st'} else 'other')\n",
    "gold_df = manual_checked.loc[manual_checked['is_true']!='false']\n",
    "\n",
    "climate_convo_idxs_gold = gold_df['id'].values\n",
    "print(f'Found {len(climate_convo_idxs_gold)} conversations which are manually checked to be true climate convos.')"
   ]
  },
  {
   "cell_type": "code",
   "execution_count": 14,
   "id": "ea38337b",
   "metadata": {
    "hidden": true,
    "scrolled": true
   },
   "outputs": [
    {
     "data": {
      "text/plain": [
       "other                       103\n",
       "meta                         51\n",
       "doom                         48\n",
       "renewables/energy            40\n",
       "vegetarianism                39\n",
       "overpopulation               37\n",
       "government/politics          34\n",
       "conservation                 23\n",
       "economy                      22\n",
       "lifestyle                    17\n",
       "food (non-vegetarianism)      3\n",
       "adaptation                    3\n",
       "ethics/morality               2\n",
       "Name: is_true, dtype: int64"
      ]
     },
     "execution_count": 14,
     "metadata": {},
     "output_type": "execute_result"
    }
   ],
   "source": [
    "gold_df['is_true'].value_counts()"
   ]
  },
  {
   "cell_type": "code",
   "execution_count": 15,
   "id": "7fbabbce",
   "metadata": {
    "hidden": true,
    "scrolled": true
   },
   "outputs": [
    {
     "data": {
      "text/plain": [
       "other          321\n",
       "skeptic         81\n",
       "indifferent     20\n",
       "Name: label, dtype: int64"
      ]
     },
     "execution_count": 15,
     "metadata": {},
     "output_type": "execute_result"
    }
   ],
   "source": [
    "gold_df['label'].value_counts()"
   ]
  },
  {
   "cell_type": "code",
   "execution_count": 17,
   "id": "268cd93a",
   "metadata": {
    "hidden": true,
    "scrolled": true
   },
   "outputs": [
    {
     "data": {
      "text/plain": [
       "array(['I believe that it is not morally obligatory to be a vegetarian. CMV.',\n",
       "       'CMV: I think it makes no difference if I become a vegetarian.',\n",
       "       'CMV: A diet can include meat and be as environmentally friendly as a vegan diet.',\n",
       "       'CMV: Veganism isn\\'t \"better\" than vegetarianism',\n",
       "       'CMV: Veganism is ineffective at changing majority of what it aims to change',\n",
       "       'CMV: Make me vegan/vegetarian/pescitarian',\n",
       "       'I need reasons to become vegetarian, and ways to do so without making my life too uncomfortable or hard. CMV.',\n",
       "       \"CMV: Climate veganism is flawed and therefore shouldn't be used as an argument for veganism.\",\n",
       "       'CMV: Diets that include meat are superior to a vegetarian diet',\n",
       "       \"I think being vegan/vegetarian for a cause doesn't make sense. CMV\"],\n",
       "      dtype=object)"
      ]
     },
     "execution_count": 17,
     "metadata": {},
     "output_type": "execute_result"
    }
   ],
   "source": [
    "gold_df.loc[(gold_df['is_true']=='vegetarianism') & (gold_df['label']=='skeptic')]['title'].values"
   ]
  },
  {
   "cell_type": "code",
   "execution_count": 17,
   "id": "0fc968f9",
   "metadata": {
    "hidden": true
   },
   "outputs": [],
   "source": [
    "# Inspect examples of false positives\n",
    "#manual_checked.loc[manual_checked['is_true'].apply(lambda x: x=='f')]"
   ]
  },
  {
   "cell_type": "code",
   "execution_count": 6,
   "id": "43be9384",
   "metadata": {
    "code_folding": [],
    "hidden": true,
    "scrolled": false
   },
   "outputs": [
    {
     "name": "stderr",
     "output_type": "stream",
     "text": [
      "84258it [00:00, 371741.68it/s]\n",
      "3243830it [03:24, 15843.21it/s]\n",
      "84258it [00:00, 100604.41it/s]\n",
      "3243830it [00:09, 344119.52it/s]\n"
     ]
    },
    {
     "name": "stdout",
     "output_type": "stream",
     "text": [
      "Counter({False: 3214504, True: 29326})\n"
     ]
    },
    {
     "name": "stderr",
     "output_type": "stream",
     "text": [
      "3243830it [00:07, 444332.83it/s]\n"
     ]
    },
    {
     "name": "stdout",
     "output_type": "stream",
     "text": [
      "Counter({'non-cc': 3214504, 'other': 5677, 'renewables/energy': 4159, 'meta': 4084, 'vegetarianism': 3685, 'government/politics': 3009, 'overpopulation': 2852, 'doom': 2263, 'conservation': 1637, 'economy': 885, 'lifestyle': 539, 'food (non-vegetarianism)': 267, 'ethics/morality': 167, 'adaptation': 102})\n"
     ]
    }
   ],
   "source": [
    "# Add meta field for whether utterance belongs to climate change-related conversation\n",
    "c_id2other_cc_label = dict(zip(gold_df['id'].values,gold_df['is_true'].values))\n",
    "for convo in tqdm(corp_to_analyze[corp_name].iter_conversations()):\n",
    "    if convo.id not in c_id2other_cc_label:\n",
    "        c_id2other_cc_label[convo.id] = 'non-cc'\n",
    "\n",
    "for utt in tqdm(corp_to_analyze[corp_name].iter_utterances()):\n",
    "    utt.meta['is_cc_related_gold'] = utt.conversation_id in climate_convo_idxs_gold\n",
    "    utt.meta['other_cc_label'] = c_id2other_cc_label[utt.conversation_id]\n",
    "for convo in tqdm(corp_to_analyze[corp_name].iter_conversations()):\n",
    "    convo.meta['other_cc_label'] = c_id2other_cc_label[convo.id]\n",
    "print(Counter([utt.meta['is_cc_related_gold'] for utt in tqdm(corp_to_analyze[corp_name].iter_utterances())]))\n",
    "print(Counter([utt.meta['other_cc_label'] for utt in tqdm(corp_to_analyze[corp_name].iter_utterances())]))"
   ]
  },
  {
   "cell_type": "code",
   "execution_count": 153,
   "id": "011f08cc",
   "metadata": {
    "code_folding": [
     2
    ],
    "hidden": true,
    "scrolled": true
   },
   "outputs": [],
   "source": [
    "# Create train/eval splits\n",
    "pos = [corp_to_analyze['full_cmv'].get_conversation(idx) for idx in climate_convo_idxs_gold]\n",
    "neg = []\n",
    "while len(neg) < len(pos):\n",
    "    ex = corp_to_analyze['full_cmv'].random_conversation() \n",
    "    try:\n",
    "        ex_text = corp_to_analyze['full_cmv'].get_utterance(ex.id).text\n",
    "    except KeyError:\n",
    "        ex_text = ''\n",
    "    if len(ex_text) > 0:\n",
    "        neg.append(ex)\n",
    "        \n",
    "split_ids = {'train':np.random.choice([c.id for c in pos+neg],replace=False,size=int(0.8*(len(pos)+len(neg))))}\n",
    "split_ids['eval'] = [c.id for c in pos+neg if c.id not in set(split_ids['train'])]\n",
    "\n",
    "split_dfs = {split: pd.DataFrame({\n",
    "                            'id':split_ids[split],\n",
    "                            'title':[corp_to_analyze['full_cmv'].get_conversation(idx).meta['title']\n",
    "                                     for idx in split_ids[split]],\n",
    "                            'text':[corp_to_analyze['full_cmv'].get_utterance(idx).text\n",
    "                                     for idx in split_ids[split]],\n",
    "                            'label':[1 if idx in climate_convo_idxs_gold else 0\n",
    "                                    for idx in split_ids[split]]\n",
    "                        }) for split in split_ids\n",
    "            }\n",
    "\n",
    "assert set(split_dfs['train']['id'].values).intersection(set(split_dfs['eval']['id'].values)) == set()"
   ]
  },
  {
   "cell_type": "code",
   "execution_count": 158,
   "id": "86fbc254",
   "metadata": {
    "hidden": true,
    "scrolled": true
   },
   "outputs": [
    {
     "name": "stderr",
     "output_type": "stream",
     "text": [
      "[nltk_data] Downloading package stopwords to\n",
      "[nltk_data]     /sailhome/yiweil/nltk_data...\n",
      "[nltk_data]   Package stopwords is already up-to-date!\n"
     ]
    },
    {
     "data": {
      "text/plain": [
       "0.9392857142857143"
      ]
     },
     "execution_count": 158,
     "metadata": {},
     "output_type": "execute_result"
    }
   ],
   "source": [
    "# Train tf-idf classifier \n",
    "from sklearn.feature_extraction.text import CountVectorizer, TfidfTransformer\n",
    "from sklearn.linear_model import SGDClassifier\n",
    "from sklearn.pipeline import Pipeline\n",
    "import nltk\n",
    "from nltk.stem.snowball import SnowballStemmer\n",
    "nltk.download('stopwords')\n",
    "\n",
    "stemmer = SnowballStemmer(\"english\", ignore_stopwords=True)\n",
    "class StemmedCountVectorizer(CountVectorizer):\n",
    "    def build_analyzer(self):\n",
    "        analyzer = super(StemmedCountVectorizer, self).build_analyzer()\n",
    "        return lambda doc: ([stemmer.stem(w) for w in analyzer(doc)])\n",
    "stemmed_count_vect = StemmedCountVectorizer(stop_words='english',ngram_range=(1,2))\n",
    "\n",
    "text_clf_svm = Pipeline([('vect', stemmed_count_vect),\n",
    "                     ('tfidf', TfidfTransformer()),\n",
    "                     ('clf-svm', SGDClassifier(loss='hinge', penalty='l2',\n",
    "                                           alpha=1e-3, n_iter_no_change=5, random_state=42)),\n",
    "])\n",
    "_ = text_clf_svm.fit(split_dfs['train']['text'].values, split_dfs['train']['label'].values)\n",
    "predicted_svm = text_clf_svm.predict(split_dfs['eval']['text'].values)\n",
    "np.mean(predicted_svm == split_dfs['eval']['label'].values)"
   ]
  },
  {
   "cell_type": "code",
   "execution_count": 155,
   "id": "40d62029",
   "metadata": {
    "code_folding": [
     0
    ],
    "hidden": true,
    "scrolled": true
   },
   "outputs": [
    {
     "data": {
      "text/html": [
       "<div>\n",
       "<style scoped>\n",
       "    .dataframe tbody tr th:only-of-type {\n",
       "        vertical-align: middle;\n",
       "    }\n",
       "\n",
       "    .dataframe tbody tr th {\n",
       "        vertical-align: top;\n",
       "    }\n",
       "\n",
       "    .dataframe thead th {\n",
       "        text-align: right;\n",
       "    }\n",
       "</style>\n",
       "<table border=\"1\" class=\"dataframe\">\n",
       "  <thead>\n",
       "    <tr style=\"text-align: right;\">\n",
       "      <th></th>\n",
       "      <th>text</th>\n",
       "      <th>true</th>\n",
       "      <th>predicted</th>\n",
       "    </tr>\n",
       "  </thead>\n",
       "  <tbody>\n",
       "    <tr>\n",
       "      <th>56</th>\n",
       "      <td>Apparently Tucker when off on a long monologue and among cable news junkies it was a shot heard 'round the world. Surprisingly, on the list of the ills of our nation (the USA) is legal Cannabis. This is a bit of what he had to say: \\n\\n \"If you really loved your fellow Americans, as our leaders should, if it would break your heart to see them high all the time. Which they are. A huge number of our kids, especially our boys, are smoking weed constantly. You may not realize that, because new technology has made it odorless. But it’s everywhere.\\n\\n Once our leaders understood they could get rich from marijuana, marijuana became ubiquitous. In many places, tax-hungry politicians have legalized or decriminalized it. Former Speaker of the House John Boehner now lobbies for the marijuana industry. His fellow Republicans seem fine with that. “Oh, but it’s better for you than alcohol,” they tell us. \\n\\n Who cares? Talk about missing the point. Try having dinner with a 19-year-old who’s been smoking weed. The life is gone. Passive, flat, trapped in their own heads. Do you want that for your kids? Of course not. Then why are our leaders pushing it on us? You know the reason. \"\\n\\nI think having dinner with most 19 year olds is awful anyway, I almost wish they would smoke weed so I don't have to listen to their idiotic ideas on the world. I really doubt the reason Cannabis is legal is because John Boehner might get more money. I also doubt that kids are smoking weed constantly, in fact, it seems rather stable. \\n\\nBy all means though, I might be off base, change my view. \\n\\n&amp;#x200B;</td>\n",
       "      <td>1</td>\n",
       "      <td>0</td>\n",
       "    </tr>\n",
       "    <tr>\n",
       "      <th>64</th>\n",
       "      <td>On a macroscopic level the universe appears deterministic, e.g. if you throw a ball and know the initial conditions you can predict where it will land.\\n\\nAlthough I do not know the specifics, I am aware that there are some events on the quantum level which are truly random which would mean that determinism is not valid. However, randomness is not equivalent to choice. For example, if you roll a die to decide what to do you are not making the decision, hence no will is exerted.\\n\\nFrom this premise, I would conclude there is no free will as everything which happens is the culmination of the causal chain started with the creation of the universe, with some events that occur being random in nature.\\n\\nAs such, while I do not believe that if we had perfect knowledge we could predict the future, there also does not seem to be any evidence for free will's existence in our current scientific understanding of the universe.\\n\\nTherefore, any belief in in free will is unfounded and entirely faith based. \\n\\n&amp;#x200B;</td>\n",
       "      <td>1</td>\n",
       "      <td>0</td>\n",
       "    </tr>\n",
       "    <tr>\n",
       "      <th>72</th>\n",
       "      <td>Let's assume that we will never reach consensus on the reality of AGW. We do know, however, that oil and coal are non-renewable resources. It is therefore wise to preserve them for our children. Fossil fuels are also direct pollutants by way of ocean acidification and particulate matter.\\n\\nA carbon tax would encourage conservation of a limited resource, and discourage pollution. Just in case AGW is real, we would also have hedged our bets there.\\n \\nA wealth tax is equally virtuous because it discourages the pooling of money and encourages it to be pumped through the economy. It whittles away at inheritance and encourages investment (you need your investments to \"outrun\" the wealth tax).\\n\\nConversely, income, payroll, capital gains and sales taxes all act as brakes on the economy. All of them \"punish\" things we want people to do: make money, get paid, invest money and buy things.\\n\\nFor example, in the economy I describe, a small time musician would see virtually no taxes except those embedded in the fossil-fuel-based products that she buys. She would pay no income tax or sales tax. Once she went on tour and started using significant amounts of electricity on lights and sound, the event organizers would have to build those costs into the ticket prices. This means that the tour might be a bit smaller and a bit less coal might be burned. This might save the life of an asthmatic or old person.[1]\\n\\nIf she became a ballionaire, then she could \"give back\" to the community through the wealth tax. This seems a lot more sane than taxing her every which way from day 1.\\n\\nWhere is the flaw in my logic?\\n\\n[1] http://www.who.int/mediacentre/news/releases/2014/air-pollution/en/\\n</td>\n",
       "      <td>1</td>\n",
       "      <td>0</td>\n",
       "    </tr>\n",
       "    <tr>\n",
       "      <th>76</th>\n",
       "      <td>It has become dogma among pundits and regular people on both sides of the political spectrum that “Cancel Culture” is a new and grave threat to society. The claim is that debate has become less open in general and that free speech is under attack because of the Cancel mob.\\n\\nWith the rise of social media amplifying more voices with every passing day, I can totally understand how people have come to this conclusion. What I don’t see is any empirical support for the notion that debate is less open or speech is less free. It is especially strange to see that the panic around it is perhaps most acute among the same people who regularly talk about how we need to return to facts and logic rather than feelings in the discourse. \\n\\nHow are we measuring the “openness” of debate? If we claim it is less open, when was it more open? Is there any proof that “cancellation” didn’t happen then? Basically- Is there any evidence beyond feelings and platitudes that speech is actually less free now than in the past? \\n\\nI haven’t seen good answers to any of these questions, but I fully acknowledge it’s possible that they exist and I simply haven’t found them. So my challenge to the subreddit is to show me that evidence, and give me some indication beyond examples and vibes that modern “cancel culture” actually represents something new and threatening.</td>\n",
       "      <td>1</td>\n",
       "      <td>0</td>\n",
       "    </tr>\n",
       "    <tr>\n",
       "      <th>88</th>\n",
       "      <td>The corporate income tax is quite politically popular because there is a very negative stigma around large businesses/corporations.\\n\\nFew Americans believe corporate income taxes have a negative impact on them. After all, if they don't own stocks, and they aren't wealthy, why should they care that the greedy corporations that treat employees poorly get taxed?\\n\\nWhat many Americans don't realize is that the corporate tax has a negative impact on job creation, and reduced job creation has a negative impact on wages.\\n\\nBy having such a high corporate tax, corporations in the U.S have an incentive to keep capital out of the U.S. This means jobs created in other countries or avoided altogether. Profits made overseas are almost never brought over, which means these taxes aren't even paid, anyways. So we're destroying jobs while receiving no benefit in return, as most of our corporate taxes come from smaller corporations that can't afford to globalize their business.\\n\\nFor corporations that do pay a fair amount of corporate taxes(mainly smaller corporations), these taxes reduce the amount of capital that can be reinvested in order to create jobs.\\n\\nWhat many Americans don't think about is where corporations' money and capital from profits actually goes. Either it gets sent out in dividend payments to the shareholders(who we could be taxing the capital gains of at a higher rate rather than taxing corporate profits), or it gets reinvested in job creation or other expenditures that stimulate the economy.\\n\\nWhen you create jobs through lower corporate taxation and regulation, you also simultaneously increase wages. When you increase the supply of available jobs, you increase competition between employers for workers. Thus, when there is a surplus of available jobs, employers end up having to pay more and more to adequately staff their business. As a result, more Americans are employed, and many of them make more money.\\n\\n**The result of reducing the capital gains tax is that you effectively creation millions of high paying jobs through reducing the incentive to evade taxes, increasing available capital for corporations to invest, and reducing wasteful spending on tax accountants and lawyers that serve the sole purpose of fighting the system of taxation**\\n\\n**Addressing common opposition**\\n\\nThe first opposition to this is that we need the money, and can't afford to cut it. However, [corporate income tax counts for just 10% of U.S Federal government revenue](http://www.taxpolicycenter.org/briefing-book/what-are-sources-revenue-federal-government-0)\\n\\nBy cutting corporate taxes,we also increase the incentive to evade taxation. By achieving one of the lowest corporate tax rates in the world, we will become the world's new tax shelter, resulting in trillions of dollars being taxed(although at a lower rate) here rather than elsewhere. Essentially, corporate tax rates are a form of competition, businesses will chase where they're lowest, alongside other factors like infrastructure.\\n\\nIn addition to this, eliminating corporate income tax will drive up tax income elsewhere. Through job creation and higher wages, personal income taxes will increase, providing more government revenue.\\n\\nThe only people that would be hurt by eliminating the corporate income tax is the corporate tax accountants/lawyers that are paid huge amounts of money to figure out how to reduce their tax liability.\\n\\nEven if you hate the rich, corporations, and all things capitalistic, I believe it's illogical to oppose reducing corporate income taxes, because such a thing would result in more government funding for social welfare programs and public spending through increased output that is taxed through other methods. If you truly hate the rich, you should be in favor of increasing capital gains taxes on the wealthy, while simultaneously reducing corporate taxes.</td>\n",
       "      <td>1</td>\n",
       "      <td>0</td>\n",
       "    </tr>\n",
       "    <tr>\n",
       "      <th>107</th>\n",
       "      <td>This is not a 'give up all cars' post. That's basically never going to happen. This post is: people should avoid driving where it's reasonably practical to do so. \\n\\nFor example, my view of situations where it's reasonable to ditch a car for a bicycle:\\n\\n* You have a bicycle and know how to ride it,\\n* Your trip is less than 5 miles on good roads with no major hills,\\n* You are carrying less than 10 lbs of stuff and no passengers \\n* The weather isn't bad\\n\\nFor buses/trains, I don't necessarily advocate going significantly out of your way to use public transit, but if there *is* a bus or train that gets you from where you are to where you need to be in a comparable amount of time to a car, it should be taken. And there are more and more solutions to the last/first mile problem of public transit appearing every day: folding bicycles, electric skateboards, et cetera.\\n\\nI think that for trips such as these, and others where not using a car is little to no sacrifice in terms of time or convenience, people should avoid using their cars. \\n\\nWe'll have a happier, healthier populace--[studies](http://link.springer.com/article/10.1007%2Fs11116-014-9521-x) have shown that people who ride their bikes to work are generally happier than those who don't, in addition to obvious benefits to physical health.\\n\\nWe'll make life easier for people taking trips where a car is a significant benefit by reducing two of the major pains of driving: finding parking and traffic. \\n\\nWe'll reduce emissions not only by reducing overall car-miles, but by making cars that are on the road spend less time stuck in traffic.\\n\\nAnd there are a lot of these kinds of trips being made: 2008 data suggests that [more than half of car trips are less than 10 miles](https://www.fhwa.dot.gov/policyinformation/pubs/pl08021/fig4_5.cfm). If a significant portion of these trips could be replaced, the impact would be dramatic. If you're willing to look at a source with a more obvious agenda, [63% of trips are under 5 miles](http://www.bikeleague.org/content/national-household-travel-survey-short-trips-analysis)\\n\\n</td>\n",
       "      <td>1</td>\n",
       "      <td>0</td>\n",
       "    </tr>\n",
       "    <tr>\n",
       "      <th>121</th>\n",
       "      <td>There is no legitimate reason I can think of, especially at this point in time, for US leaders to be meddling around in the internal affairs of other countries. With all that is happening within the US, the current priorities of US leaders seems far away from where they should be. Most, if not all, focus should be on mitigating the disastrous effects of climate change, mobilizing against the pandemic, preparing for an inevitable eviction and financial crisis etc.\\n\\nInstead of dealing with issues at home, US leaders and media have decided it’s more important to interfere with the affairs of countries like Cuba, China, and others. Instead of using American tax dollars to aid American citizens, they’re going to bomb other countries. Instead of dealing with crumbling infrastructure, rampant poverty, and other crises prevalent in American communities, US leaders are ignore and neglect the needs of the American people in their own country in favor of expensive, imperialist foreign policy.\\n\\nThe constant meddling of US leaders in other countries seems to always takes priority over the needs and concerns of every day, working class American people, families, and communities. And while they love to hide their exploits behind notions of protecting our “national security” or fighting for “democracy” and “human rights” it’s much more about protecting the political and economic interests of the wealthy and powerful. It very rarely ever actually is about helping anyone.\\n\\nAdditionally, the problems of other countries should not be American problems. And more often than not, the US is in some way responsible for most of the world’s problems that US leaders claim they want to solve. Nearly every action the US has ever taken abroad has been detrimental to both Americans and the people of the countries destabilized by US involvement in some way. So if our leaders refuse to address the crises already afflicting Americans, they should cease meddling in the internal affairs of other countries altogether.</td>\n",
       "      <td>1</td>\n",
       "      <td>0</td>\n",
       "    </tr>\n",
       "    <tr>\n",
       "      <th>132</th>\n",
       "      <td>The news is depressing. It's full of fear-mongering, death, destruction, and it's bias toward the negative. This should be clear to anybody who turns on CNN, or reads the headlines every morning. People long for a \"slow news day\" because they might get a break from these titles of *death, destruction, and Armageddon coming to a city near you.* \\n\\nI think much of the chronic anxiety that seems so prevalent today stems from an increased focus on negative events worldwide, mixed with human nature to retain information about threats and forget positive, uplifting information. [Further reading: [Our new era of anxiety, Salon.com](http://www.salon.com/2012/06/02/our_new_era_of_anxiety/), [Recent trends in the incidences of anxiety diagnoses](http://www.plosone.org/article/info%3Adoi%2F10.1371%2Fjournal.pone.0041670)]\\n\\nWhile it's important to know what's going on in the world, watching the news isn't the only way to do it. It's just too much, looping the same information you heard at breakfast or the water cooler from a colleague, except with images to disturb you more. I'm always personally left with a sick dread after flicking off the news, or reading my trending topics on Twitter. \\n\\nWhy should we bother watching world news? It'd be difficult to argue you'd be left out of the loop if you don't watch the news. I actively avoid the news and still manage to know what's going on pretty much as fast as anybody else. If I want to understand an issue more, I wouldn't watch the news anyway, I'd read about the issue on Wikipedia, or some other source. \\n\\nI'm sure there are some compelling arguments on the other side, but I haven't heard any that have convinced me we should all be watching the news. I'm curious to hear your thoughts, and whether you can change my view.</td>\n",
       "      <td>1</td>\n",
       "      <td>0</td>\n",
       "    </tr>\n",
       "    <tr>\n",
       "      <th>155</th>\n",
       "      <td>I was in a discussion with another gentleman in a TIL article.  We were debating whether Genghis Khan was the most evil dude that ever walked the face of the earth.  I stated that he was enlightened (from a civil standpoint) when compared to his contemporaries, and that he certainly was not the most evil guy that ever walked the earth (as evil does not rest on scale of action alone).\\n\\nThe primary argument levied against me is that he was a genocidal mass murderer that was responsible for the deaths of about 11% of the world population at the time.  While the 11% part is more or less true, to me applying \"genocidal mass murderer\" is inconsistent with his conquests.  Even if you do think he is a genocidal mass murderer, does his death toll alone make him so much more exceptionally evil than other genocidal mass murderers?  \\n\\nAgain, I don't think he is a great guy.  In fact, I would not feel bad about putting him in my top 10 evil dudes category.  He did some terrible things.  But most evil guy to walk the earth? I don't see it.\\n\\nCMV\\n\\n</td>\n",
       "      <td>0</td>\n",
       "      <td>1</td>\n",
       "    </tr>\n",
       "    <tr>\n",
       "      <th>208</th>\n",
       "      <td>Let's not pretend these people are living like they were 5,000 years ago. 95%+ of the native New World population was killed during the European expansion. To top it off, the rubber companies killed much of the rest of the natives off like animals. They are currently quarantined, and their technological and cultural ability to flourish was decimated hundreds of years ago. These are humans living without clothes, and without a steady source of food within a nature preserve. I, for one, find it repulsive. There is an amazing doc out there about the subject, I highly recommend it:\\n**First Contact: Lost Tribe of the Amazon**\\n\\n</td>\n",
       "      <td>0</td>\n",
       "      <td>1</td>\n",
       "    </tr>\n",
       "    <tr>\n",
       "      <th>227</th>\n",
       "      <td>1 in 68 children have now been diagnosed with autism ([source](http://www.cdc.gov/media/releases/2014/p0327-autism-spectrum-disorder.html)). That is insane. \\n\\nI really do not think that 1 in 68 children genetically has something genetically \"wrong\" with their brains, that causes repetitive behavior and social dysfunction. I think that certain genetic inherited traits can increase the risk factor for developing autism, but that does NOT mean that autism is \"caused\" by genetics. No more than being genetically black \"causes\" racism - blackness is a risk factor for a disease (racism) which is quite real, but purely a social construct. \\n\\nAny such prevalent dysfunction with our brains would have been weeded out a long time ago by evolution. And moreover, if that weren't the case, if so many of us throughout history lived with this dysfunction, we would have surely heard about it long before the 1940's with the research of Hans Asperger. \\n\\nMy contention here is that the only reasonable conclusion one can draw, is not that that all the sudden starting in late modernity you see a massive rise in the number of dysfunctional humans. That is preposterous. Rather, it is modern society which is dysfunctional. If these very same autistic kids grew up in a farming community in 1712, or a hunter-gatherer tribe in 15,000 B.C.E., they would have developed quite normally. Did you really think humans could handle the exponential growth of industrialization, globalization, technological advancement, and sweeping geopolitical social change with no problem whatsoever? Of course it is not going to affect every human equally. But some may be genetically predisposed to take the hit especially hard. Throughout the rest of human history, we lived in actual communities, where the pace of change was slow, and people picked up social skills organically. You could say that children were \"free range.\" Now, there is no social development which is not mediated by institutions. Schools are highly rigid environments which increasingly are designed to shuffle kids from class to class in order to increase their scores on standardized tests (somehow, this is \"education.\") Increasingly, there are no free-range children, but only factory-farmed children. When every nook and cranny of society is subdivided into individual units, separated by parking lots and big box stores, and integrated into a global neoliberal capitalist system increasingly ruled by the machinations of abstract financial instruments, then the organic communities which were essential for developing our social skills are destroyed. Sure, most kids end up adapting and do \"okay\" (when you ignore the fact that 10% of the population is on anti-depressants and the vast majority of people hate their jobs). But they do so in a highly artificial environment. And those kids who do not latch on to this artificial method of development and are left behind, we label them \"autistic.\"\\n\\nThe author of [\"bowling alone\"](https://en.wikipedia.org/wiki/Bowling_Alone) contends that there has been a major decline of social capital in the US since 1950, with a corresponding drop in voter turnout, civic associations, political party activism, and religious groups. The authentic social networks that used to bind us together are disintegrating, replaced by TV and now the internet and \"social\" media. Whereas in the past, neighborhoods might have shared the duty of taking care of kids, now you just plop your toddler in front of the TV and put in an \"educational\" DVD. \\n\\nAutism is quite real, it is quite serious, and we need to do something about it. But the thing we need to do is fix our dysfunctional social systems which are causing it, not \"fix\" these kids. \\n\\nNow just look at the symptoms of autism. Repetitive behavior. Hmm. Isn't that exactly what schools are encouraging with repetitive rote memorization of subjects which replaces actual learning? Isn't that what we do at our jobs all day - repetitive, boring tasks? Isn't that what we all do when we compulsively check our smartphones for updates? The astonishing thing is that we are somehow *not* all autistic. I believe that most of us achieve \"normality\" *despite* the odds being stacked against us. The fact that not everyone is able to achieve this normality does not mean there is anything wrong with them. \\n\\nI say all this not as an expert on autism. So I'm certainly open to someone more knowledgeable than I to change my mind. But I say it as someone who suffered from crippling shyness who sat alone at lunch every day at school, and whose social skills were very underdeveloped as a result. Had autism awareness been as prevalent in the 90's when I was in grade school as it is now, I believe I almost certainly would have been diagnosed as being on the spectrum at least. I am now basically a normally-functioning adult (if you ignore the psychological scarring of all the bad childhood memories of not fitting in). I wouldn't consider myself autistic though. I say that not to imply that autistic kids can just \"pull themselves up by the bootstraps\" and become normal, that would be absurd. But only to imply that the boundaries between autism and normality could be fluid, and evidence of the social-construct nature of the problem. \\n\\nPlease try to change my view. \\n</td>\n",
       "      <td>0</td>\n",
       "      <td>1</td>\n",
       "    </tr>\n",
       "    <tr>\n",
       "      <th>234</th>\n",
       "      <td>It was my understanding that the majority of people knew, understood, and accepted the fact that major corporations in America are incredibly \"corrupt\". I use quotations because I believe it is a question of a degree to which each one is corrupt and who that corruption ends up effecting.\\n\\nSo, I consider people who present themselves as surprised by these actions indirectly responsible for them. The average person does not concern themselves with issues that do not affect them. They know these things are going on behind the scenes and choose to ignore them and then act surprised when they are revealed what happened.\\n\\nSee: The Bystander Effect\\n\\nIf there was more active scrutiny towards the actions of corporations than, the equivalent to a spotlight would be on them. They would still do illegal things but they would be far less harmful than destroying credit records / history.\\n\\nHowever, the human race is, in my eyes, notorious for waiting until the fire is under us, before taking action.\\n\\nSee: Global Warming\\n\\nSo, CMV.\\n</td>\n",
       "      <td>0</td>\n",
       "      <td>1</td>\n",
       "    </tr>\n",
       "    <tr>\n",
       "      <th>242</th>\n",
       "      <td>Terrorists by nature are trying to cause the maximum amount of shock in order to achieve their goals. Be it for religious or geopolitical reasons the end goal is the same, scare as many people as possible. \\n\\nThe media are responsible for going above and beyond factual reporting with lurid fear-inducing headlines like \"More attacks to come???\" The media's only motivation is to increase viewing figures for shareholders. Their methods manipulate our basic human nature for profit, we are not easily able to resist gawking, and should be outlawed.\\n\\n</td>\n",
       "      <td>0</td>\n",
       "      <td>1</td>\n",
       "    </tr>\n",
       "    <tr>\n",
       "      <th>250</th>\n",
       "      <td>As you know, human blood is required for sustaining our unlife.  (Though some SJWs insist that animal blood is able to do the job as well, they should be discounted for this discussion.)  It is *not* required to kill humans if we don't fully drain them of their blood; they can easily recover from the anemia in just a few weeks with proper care and nutrition.\\n\\nUsing this method, a small herd of 20 or 30 adult humans can provide sufficient food for a single active vampire without killing any of the herd.  Additional humans can be used as breeding stock to help replace those who become sick or too old to contribute to the feeding process.\\n\\nI know that there are some radicals who object on the grounds that humans are sentient beings who deserve autonomy.  But this is irrelevant.  Humans on ranches already live full and productive lives as our food sources and occasionally as our pets (though I think it is a bad idea to become too attached to a potential meal).</td>\n",
       "      <td>0</td>\n",
       "      <td>1</td>\n",
       "    </tr>\n",
       "    <tr>\n",
       "      <th>266</th>\n",
       "      <td>To expand on what I mean, I believe that anyone who I do not personally know or share a bond with aren't part of my life, and therefore aren't my concern in the slightest. That means charity, world news and current affairs are completely irrelevant and not part of my life.\\n\\nWhy should I care what happens to people I've never met and will never witness their troubles?</td>\n",
       "      <td>0</td>\n",
       "      <td>1</td>\n",
       "    </tr>\n",
       "    <tr>\n",
       "      <th>274</th>\n",
       "      <td>I've been thinking about this a lot recently, and I seem to be coming down on the for side. I'm very much openminded about it however.\\n\\nI believe the problems with democracy are a combination of three failures, which I shall briefly outline below:\\n\\nProblems with the system:\\n\\nFirst-past-the-post is absurdly unrepresentative and it doesn't allow for real change. This creates inefficiencies when new and pressing issues need to be dealt with, and merely forces a regression to centrism whether or not it is the most prudent policy.\\nProportional representation, on the other hand, would create a messy coalition with little authority and would almost inevitably lead to infighting of some description. This would simply get in the way and make it tough for any legislation to be passed.\\n\\nProblems with the electorate:\\n\\nI maintain that it is unreasonable to think that everyone's voice is equal. Although it may be non-PC to suggest it, the vote of a professor will generally be more rational than the vote of a poorly-educated worker. As the adage goes, democracy is a system where two fools can overrule a genius. Add in the spin and PR of modern politics and for most people elections simply become a lucky dip.\\n\\nProblems with the politicians:\\n\\nPoliticians are by nature mendacious, and there is little we could do to change that. This is the first main issue.\\nThe second is that politicians often fail to act in the country's best interests. Self interest is the overpowering factor in many of their decisions. As they seek reelection, they will notice a divergence between what is good for the country and what the electorate want to hear. They generally choose the latter.\\n\\nOverall, I believe democracy doesn't put the right people in power and distracts the people who do end up in power from what they should be doing. Change my view.\\n</td>\n",
       "      <td>0</td>\n",
       "      <td>1</td>\n",
       "    </tr>\n",
       "    <tr>\n",
       "      <th>279</th>\n",
       "      <td>The Nuclear bomb, after it's first and last use in 1945, has been the single most peace generating invention known to man. \\n\\nOppenheimer said after he realized what he had created: \"I am become Death, the destroyer of worlds.\"\\n\\nI beg to differ. \\n\\nBecause of the existence of nuclear weapons, and the conclusion of mutually assured destruction, we have been forced into a state of peace rather than of war. More and more countries have developed nuclear weapons over time, and when they do, they sign the 'mutually assured destruction' contract, and as a result, peace ensues. \\n\\nThe battlegrounds of the world remain in which one or both sides do not, or cannot have a nuclear bomb. Civil wars in Africa. ISIS. These places cannot procure or control a nuclear bomb. \\n\\nAll of these calls for disarmament I believe do not take this into account. True, the sheer numbers of nuclear bombs in the world is unnecessary, and we could definitely dismantle a majority, but going all the way down to 0 is a mistake, because then we would just return to old-school methods of warfare, which are much more accessible, familiar, and easy slippery-slopes to fall into. The only difference now, is that the slippery-slope stays on the battleground instead of every nook and cranny of the populated world.</td>\n",
       "      <td>0</td>\n",
       "      <td>1</td>\n",
       "    </tr>\n",
       "  </tbody>\n",
       "</table>\n",
       "</div>"
      ],
      "text/plain": [
       "                                                                                                                                                                                                                                                                                                                                                                                                                                                                                                                                                                                                                                                                                                                                                                                                                                                                                                                                                                                                                                                                                                                                                                                                                                                                                                                                                                                                                                                                                                                                                                                                                                                                                                                                                                                                                                                                                                                                                                                                                                                                                                                                                                                                                                                                                                                                                                                                                                                                                                                                                                                                                                                                                                                                                                                                                                                                                                                                                                                                                                                                                                                                                                                                                                                                                                                                                                                                                                                                                                                                                                                                                                                                                                                                                                                                                                                                                                                                                                                                                                                                                                                                                                                                                                                                                                                                                                                                                                                                                                                                                                                                                                                                                                                                                                                                                                                                                                                                                                                                                                                                                                                                                                                                                                                                                                                                                                                                                                                                                                                                          text  \\\n",
       "56                                                                                                                                                                                                                                                                                                                                                                                                                                                                                                                                                                                                                                                                                                                                                                                                                                                                                                                                                                                                                                                                                                                                                                                                                                                                                                                                                                                                                                                                                                                                                                                                                                                                                                                                                                                                                                                                                                                                                                                                                                                                                                                                                                                                                                                                                                                                                                                                                                                                                                                                                                                                                                                                                                                                                                                                                                                                                                                                                                                                                                                                                                                                                                                                                                                                                                                                                                                                                                                                                                                                                                                                                                                                                                                                                                                                                                                                            Apparently Tucker when off on a long monologue and among cable news junkies it was a shot heard 'round the world. Surprisingly, on the list of the ills of our nation (the USA) is legal Cannabis. This is a bit of what he had to say: \\n\\n \"If you really loved your fellow Americans, as our leaders should, if it would break your heart to see them high all the time. Which they are. A huge number of our kids, especially our boys, are smoking weed constantly. You may not realize that, because new technology has made it odorless. But it’s everywhere.\\n\\n Once our leaders understood they could get rich from marijuana, marijuana became ubiquitous. In many places, tax-hungry politicians have legalized or decriminalized it. Former Speaker of the House John Boehner now lobbies for the marijuana industry. His fellow Republicans seem fine with that. “Oh, but it’s better for you than alcohol,” they tell us. \\n\\n Who cares? Talk about missing the point. Try having dinner with a 19-year-old who’s been smoking weed. The life is gone. Passive, flat, trapped in their own heads. Do you want that for your kids? Of course not. Then why are our leaders pushing it on us? You know the reason. \"\\n\\nI think having dinner with most 19 year olds is awful anyway, I almost wish they would smoke weed so I don't have to listen to their idiotic ideas on the world. I really doubt the reason Cannabis is legal is because John Boehner might get more money. I also doubt that kids are smoking weed constantly, in fact, it seems rather stable. \\n\\nBy all means though, I might be off base, change my view. \\n\\n&#x200B;   \n",
       "64                                                                                                                                                                                                                                                                                                                                                                                                                                                                                                                                                                                                                                                                                                                                                                                                                                                                                                                                                                                                                                                                                                                                                                                                                                                                                                                                                                                                                                                                                                                                                                                                                                                                                                                                                                                                                                                                                                                                                                                                                                                                                                                                                                                                                                                                                                                                                                                                                                                                                                                                                                                                                                                                                                                                                                                                                                                                                                                                                                                                                                                                                                                                                                                                                                                                                                                                                                                                                                                                                                                                                                                                                                                                                                                                                                                                                                                                                                                                                                                                                                                                                                                                                                                                                                                                                                                                                                                                                                                                              On a macroscopic level the universe appears deterministic, e.g. if you throw a ball and know the initial conditions you can predict where it will land.\\n\\nAlthough I do not know the specifics, I am aware that there are some events on the quantum level which are truly random which would mean that determinism is not valid. However, randomness is not equivalent to choice. For example, if you roll a die to decide what to do you are not making the decision, hence no will is exerted.\\n\\nFrom this premise, I would conclude there is no free will as everything which happens is the culmination of the causal chain started with the creation of the universe, with some events that occur being random in nature.\\n\\nAs such, while I do not believe that if we had perfect knowledge we could predict the future, there also does not seem to be any evidence for free will's existence in our current scientific understanding of the universe.\\n\\nTherefore, any belief in in free will is unfounded and entirely faith based. \\n\\n&#x200B;   \n",
       "72                                                                                                                                                                                                                                                                                                                                                                                                                                                                                                                                                                                                                                                                                                                                                                                                                                                                                                                                                                                                                                                                                                                                                                                                                                                                                                                                                                                                                                                                                                                                                                                                                                                                                                                                                                                                                                                                                                                                                                                                                                                                                                                                                                                                                                                                                                                                                                                                                                                                                                                                                                                                                                                                                                                                                                                                                                                                                                                                                                                                                                                                                                                                                                                                                                                                                                                                                                                                                                                                                                                                                                                                                                                                                                                                                                        Let's assume that we will never reach consensus on the reality of AGW. We do know, however, that oil and coal are non-renewable resources. It is therefore wise to preserve them for our children. Fossil fuels are also direct pollutants by way of ocean acidification and particulate matter.\\n\\nA carbon tax would encourage conservation of a limited resource, and discourage pollution. Just in case AGW is real, we would also have hedged our bets there.\\n \\nA wealth tax is equally virtuous because it discourages the pooling of money and encourages it to be pumped through the economy. It whittles away at inheritance and encourages investment (you need your investments to \"outrun\" the wealth tax).\\n\\nConversely, income, payroll, capital gains and sales taxes all act as brakes on the economy. All of them \"punish\" things we want people to do: make money, get paid, invest money and buy things.\\n\\nFor example, in the economy I describe, a small time musician would see virtually no taxes except those embedded in the fossil-fuel-based products that she buys. She would pay no income tax or sales tax. Once she went on tour and started using significant amounts of electricity on lights and sound, the event organizers would have to build those costs into the ticket prices. This means that the tour might be a bit smaller and a bit less coal might be burned. This might save the life of an asthmatic or old person.[1]\\n\\nIf she became a ballionaire, then she could \"give back\" to the community through the wealth tax. This seems a lot more sane than taxing her every which way from day 1.\\n\\nWhere is the flaw in my logic?\\n\\n[1] http://www.who.int/mediacentre/news/releases/2014/air-pollution/en/\\n   \n",
       "76                                                                                                                                                                                                                                                                                                                                                                                                                                                                                                                                                                                                                                                                                                                                                                                                                                                                                                                                                                                                                                                                                                                                                                                                                                                                                                                                                                                                                                                                                                                                                                                                                                                                                                                                                                                                                                                                                                                                                                                                                                                                                                                                                                                                                                                                                                                                                                                                                                                                                                                                                                                                                                                                                                                                                                                                                                                                                                                                                                                                                                                                                                                                                                                                                                                                                                                                                                                                                                                                                                                                                                                                                                                                                                                                                                                                                                                                                                                                                                                                                                                                                                                                 It has become dogma among pundits and regular people on both sides of the political spectrum that “Cancel Culture” is a new and grave threat to society. The claim is that debate has become less open in general and that free speech is under attack because of the Cancel mob.\\n\\nWith the rise of social media amplifying more voices with every passing day, I can totally understand how people have come to this conclusion. What I don’t see is any empirical support for the notion that debate is less open or speech is less free. It is especially strange to see that the panic around it is perhaps most acute among the same people who regularly talk about how we need to return to facts and logic rather than feelings in the discourse. \\n\\nHow are we measuring the “openness” of debate? If we claim it is less open, when was it more open? Is there any proof that “cancellation” didn’t happen then? Basically- Is there any evidence beyond feelings and platitudes that speech is actually less free now than in the past? \\n\\nI haven’t seen good answers to any of these questions, but I fully acknowledge it’s possible that they exist and I simply haven’t found them. So my challenge to the subreddit is to show me that evidence, and give me some indication beyond examples and vibes that modern “cancel culture” actually represents something new and threatening.   \n",
       "88                                                                                                                                                                                                                                                                                                                                                                                                                                                                                                                                                                                                                                                                                                                                                                                                                                                                                                                                                                                                                                                                                                                                                                                                                                                                                                                                                                                                                                                                                   The corporate income tax is quite politically popular because there is a very negative stigma around large businesses/corporations.\\n\\nFew Americans believe corporate income taxes have a negative impact on them. After all, if they don't own stocks, and they aren't wealthy, why should they care that the greedy corporations that treat employees poorly get taxed?\\n\\nWhat many Americans don't realize is that the corporate tax has a negative impact on job creation, and reduced job creation has a negative impact on wages.\\n\\nBy having such a high corporate tax, corporations in the U.S have an incentive to keep capital out of the U.S. This means jobs created in other countries or avoided altogether. Profits made overseas are almost never brought over, which means these taxes aren't even paid, anyways. So we're destroying jobs while receiving no benefit in return, as most of our corporate taxes come from smaller corporations that can't afford to globalize their business.\\n\\nFor corporations that do pay a fair amount of corporate taxes(mainly smaller corporations), these taxes reduce the amount of capital that can be reinvested in order to create jobs.\\n\\nWhat many Americans don't think about is where corporations' money and capital from profits actually goes. Either it gets sent out in dividend payments to the shareholders(who we could be taxing the capital gains of at a higher rate rather than taxing corporate profits), or it gets reinvested in job creation or other expenditures that stimulate the economy.\\n\\nWhen you create jobs through lower corporate taxation and regulation, you also simultaneously increase wages. When you increase the supply of available jobs, you increase competition between employers for workers. Thus, when there is a surplus of available jobs, employers end up having to pay more and more to adequately staff their business. As a result, more Americans are employed, and many of them make more money.\\n\\n**The result of reducing the capital gains tax is that you effectively creation millions of high paying jobs through reducing the incentive to evade taxes, increasing available capital for corporations to invest, and reducing wasteful spending on tax accountants and lawyers that serve the sole purpose of fighting the system of taxation**\\n\\n**Addressing common opposition**\\n\\nThe first opposition to this is that we need the money, and can't afford to cut it. However, [corporate income tax counts for just 10% of U.S Federal government revenue](http://www.taxpolicycenter.org/briefing-book/what-are-sources-revenue-federal-government-0)\\n\\nBy cutting corporate taxes,we also increase the incentive to evade taxation. By achieving one of the lowest corporate tax rates in the world, we will become the world's new tax shelter, resulting in trillions of dollars being taxed(although at a lower rate) here rather than elsewhere. Essentially, corporate tax rates are a form of competition, businesses will chase where they're lowest, alongside other factors like infrastructure.\\n\\nIn addition to this, eliminating corporate income tax will drive up tax income elsewhere. Through job creation and higher wages, personal income taxes will increase, providing more government revenue.\\n\\nThe only people that would be hurt by eliminating the corporate income tax is the corporate tax accountants/lawyers that are paid huge amounts of money to figure out how to reduce their tax liability.\\n\\nEven if you hate the rich, corporations, and all things capitalistic, I believe it's illogical to oppose reducing corporate income taxes, because such a thing would result in more government funding for social welfare programs and public spending through increased output that is taxed through other methods. If you truly hate the rich, you should be in favor of increasing capital gains taxes on the wealthy, while simultaneously reducing corporate taxes.   \n",
       "107                                                                                                                                                                                                                                                                                                                                                                                                                                                                                                                                                                                                                                                                                                                                                                                                                                                                                                                                                                                                                                                                                                                                                                                                                                                                                                                                                                                                                                                                                                                                                                                                                                                                                                                                                                                                                                                                                                                                                                                                                                                                                                                                                                                                                                                                                                                                                                                                                                                                                                                                                                                                                                                                                                                                                                                                                                                                                                                                                                                                                                                                                                                                                                                                                                                                                                                                                This is not a 'give up all cars' post. That's basically never going to happen. This post is: people should avoid driving where it's reasonably practical to do so. \\n\\nFor example, my view of situations where it's reasonable to ditch a car for a bicycle:\\n\\n* You have a bicycle and know how to ride it,\\n* Your trip is less than 5 miles on good roads with no major hills,\\n* You are carrying less than 10 lbs of stuff and no passengers \\n* The weather isn't bad\\n\\nFor buses/trains, I don't necessarily advocate going significantly out of your way to use public transit, but if there *is* a bus or train that gets you from where you are to where you need to be in a comparable amount of time to a car, it should be taken. And there are more and more solutions to the last/first mile problem of public transit appearing every day: folding bicycles, electric skateboards, et cetera.\\n\\nI think that for trips such as these, and others where not using a car is little to no sacrifice in terms of time or convenience, people should avoid using their cars. \\n\\nWe'll have a happier, healthier populace--[studies](http://link.springer.com/article/10.1007%2Fs11116-014-9521-x) have shown that people who ride their bikes to work are generally happier than those who don't, in addition to obvious benefits to physical health.\\n\\nWe'll make life easier for people taking trips where a car is a significant benefit by reducing two of the major pains of driving: finding parking and traffic. \\n\\nWe'll reduce emissions not only by reducing overall car-miles, but by making cars that are on the road spend less time stuck in traffic.\\n\\nAnd there are a lot of these kinds of trips being made: 2008 data suggests that [more than half of car trips are less than 10 miles](https://www.fhwa.dot.gov/policyinformation/pubs/pl08021/fig4_5.cfm). If a significant portion of these trips could be replaced, the impact would be dramatic. If you're willing to look at a source with a more obvious agenda, [63% of trips are under 5 miles](http://www.bikeleague.org/content/national-household-travel-survey-short-trips-analysis)\\n\\n   \n",
       "121                                                                                                                                                                                                                                                                                                                                                                                                                                                                                                                                                                                                                                                                                                                                                                                                                                                                                                                                                                                                                                                                                                                                                                                                                                                                                                                                                                                                                                                                                                                                                                                                                                                                                                                                                                                                                                                                                                                                                                                                                                                                                                                                                                                                                                                                                                                                                                                                                                                                                                                                                                                                                                                                                                                                                                                                                                                                                                                                                                                                                                                                                                                                                                                                                                                                                                                                                                                                                                      There is no legitimate reason I can think of, especially at this point in time, for US leaders to be meddling around in the internal affairs of other countries. With all that is happening within the US, the current priorities of US leaders seems far away from where they should be. Most, if not all, focus should be on mitigating the disastrous effects of climate change, mobilizing against the pandemic, preparing for an inevitable eviction and financial crisis etc.\\n\\nInstead of dealing with issues at home, US leaders and media have decided it’s more important to interfere with the affairs of countries like Cuba, China, and others. Instead of using American tax dollars to aid American citizens, they’re going to bomb other countries. Instead of dealing with crumbling infrastructure, rampant poverty, and other crises prevalent in American communities, US leaders are ignore and neglect the needs of the American people in their own country in favor of expensive, imperialist foreign policy.\\n\\nThe constant meddling of US leaders in other countries seems to always takes priority over the needs and concerns of every day, working class American people, families, and communities. And while they love to hide their exploits behind notions of protecting our “national security” or fighting for “democracy” and “human rights” it’s much more about protecting the political and economic interests of the wealthy and powerful. It very rarely ever actually is about helping anyone.\\n\\nAdditionally, the problems of other countries should not be American problems. And more often than not, the US is in some way responsible for most of the world’s problems that US leaders claim they want to solve. Nearly every action the US has ever taken abroad has been detrimental to both Americans and the people of the countries destabilized by US involvement in some way. So if our leaders refuse to address the crises already afflicting Americans, they should cease meddling in the internal affairs of other countries altogether.   \n",
       "132                                                                                                                                                                                                                                                                                                                                                                                                                                                                                                                                                                                                                                                                                                                                                                                                                                                                                                                                                                                                                                                                                                                                                                                                                                                                                                                                                                                                                                                                                                                                                                                                                                                                                                                                                                                                                                                                                                                                                                                                                                                                                                                                                                                                                                                                                                                                                                                                                                                                                                                                                                                                                                                                                                                                                                                                                                                                                                                                                                                                                                                                                                                                                                                                                                                                                                                                                                                                                                                                                                                                                                                                                                                                            The news is depressing. It's full of fear-mongering, death, destruction, and it's bias toward the negative. This should be clear to anybody who turns on CNN, or reads the headlines every morning. People long for a \"slow news day\" because they might get a break from these titles of *death, destruction, and Armageddon coming to a city near you.* \\n\\nI think much of the chronic anxiety that seems so prevalent today stems from an increased focus on negative events worldwide, mixed with human nature to retain information about threats and forget positive, uplifting information. [Further reading: [Our new era of anxiety, Salon.com](http://www.salon.com/2012/06/02/our_new_era_of_anxiety/), [Recent trends in the incidences of anxiety diagnoses](http://www.plosone.org/article/info%3Adoi%2F10.1371%2Fjournal.pone.0041670)]\\n\\nWhile it's important to know what's going on in the world, watching the news isn't the only way to do it. It's just too much, looping the same information you heard at breakfast or the water cooler from a colleague, except with images to disturb you more. I'm always personally left with a sick dread after flicking off the news, or reading my trending topics on Twitter. \\n\\nWhy should we bother watching world news? It'd be difficult to argue you'd be left out of the loop if you don't watch the news. I actively avoid the news and still manage to know what's going on pretty much as fast as anybody else. If I want to understand an issue more, I wouldn't watch the news anyway, I'd read about the issue on Wikipedia, or some other source. \\n\\nI'm sure there are some compelling arguments on the other side, but I haven't heard any that have convinced me we should all be watching the news. I'm curious to hear your thoughts, and whether you can change my view.    \n",
       "155                                                                                                                                                                                                                                                                                                                                                                                                                                                                                                                                                                                                                                                                                                                                                                                                                                                                                                                                                                                                                                                                                                                                                                                                                                                                                                                                                                                                                                                                                                                                                                                                                                                                                                                                                                                                                                                                                                                                                                                                                                                                                                                                                                                                                                                                                                                                                                                                                                                                                                                                                                                                                                                                                                                                                                                                                                                                                                                                                                                                                                                                                                                                                                                                                                                                                                                                                                                                                                                                                                                                                                                                                                                                                                                                                                                                                                                                                                                                                                                                                                                                                                                                                                                                                                                                                                                                                                                                                                           I was in a discussion with another gentleman in a TIL article.  We were debating whether Genghis Khan was the most evil dude that ever walked the face of the earth.  I stated that he was enlightened (from a civil standpoint) when compared to his contemporaries, and that he certainly was not the most evil guy that ever walked the earth (as evil does not rest on scale of action alone).\\n\\nThe primary argument levied against me is that he was a genocidal mass murderer that was responsible for the deaths of about 11% of the world population at the time.  While the 11% part is more or less true, to me applying \"genocidal mass murderer\" is inconsistent with his conquests.  Even if you do think he is a genocidal mass murderer, does his death toll alone make him so much more exceptionally evil than other genocidal mass murderers?  \\n\\nAgain, I don't think he is a great guy.  In fact, I would not feel bad about putting him in my top 10 evil dudes category.  He did some terrible things.  But most evil guy to walk the earth? I don't see it.\\n\\nCMV\\n\\n   \n",
       "208                                                                                                                                                                                                                                                                                                                                                                                                                                                                                                                                                                                                                                                                                                                                                                                                                                                                                                                                                                                                                                                                                                                                                                                                                                                                                                                                                                                                                                                                                                                                                                                                                                                                                                                                                                                                                                                                                                                                                                                                                                                                                                                                                                                                                                                                                                                                                                                                                                                                                                                                                                                                                                                                                                                                                                                                                                                                                                                                                                                                                                                                                                                                                                                                                                                                                                                                                                                                                                                                                                                                                                                                                                                                                                                                                                                                                                                                                                                                                                                                                                                                                                                                                                                                                                                                                                                                                                                                                                                                                                                                                                                                                                                                                                                                                                                                                                                                                  Let's not pretend these people are living like they were 5,000 years ago. 95%+ of the native New World population was killed during the European expansion. To top it off, the rubber companies killed much of the rest of the natives off like animals. They are currently quarantined, and their technological and cultural ability to flourish was decimated hundreds of years ago. These are humans living without clothes, and without a steady source of food within a nature preserve. I, for one, find it repulsive. There is an amazing doc out there about the subject, I highly recommend it:\\n**First Contact: Lost Tribe of the Amazon**\\n\\n   \n",
       "227  1 in 68 children have now been diagnosed with autism ([source](http://www.cdc.gov/media/releases/2014/p0327-autism-spectrum-disorder.html)). That is insane. \\n\\nI really do not think that 1 in 68 children genetically has something genetically \"wrong\" with their brains, that causes repetitive behavior and social dysfunction. I think that certain genetic inherited traits can increase the risk factor for developing autism, but that does NOT mean that autism is \"caused\" by genetics. No more than being genetically black \"causes\" racism - blackness is a risk factor for a disease (racism) which is quite real, but purely a social construct. \\n\\nAny such prevalent dysfunction with our brains would have been weeded out a long time ago by evolution. And moreover, if that weren't the case, if so many of us throughout history lived with this dysfunction, we would have surely heard about it long before the 1940's with the research of Hans Asperger. \\n\\nMy contention here is that the only reasonable conclusion one can draw, is not that that all the sudden starting in late modernity you see a massive rise in the number of dysfunctional humans. That is preposterous. Rather, it is modern society which is dysfunctional. If these very same autistic kids grew up in a farming community in 1712, or a hunter-gatherer tribe in 15,000 B.C.E., they would have developed quite normally. Did you really think humans could handle the exponential growth of industrialization, globalization, technological advancement, and sweeping geopolitical social change with no problem whatsoever? Of course it is not going to affect every human equally. But some may be genetically predisposed to take the hit especially hard. Throughout the rest of human history, we lived in actual communities, where the pace of change was slow, and people picked up social skills organically. You could say that children were \"free range.\" Now, there is no social development which is not mediated by institutions. Schools are highly rigid environments which increasingly are designed to shuffle kids from class to class in order to increase their scores on standardized tests (somehow, this is \"education.\") Increasingly, there are no free-range children, but only factory-farmed children. When every nook and cranny of society is subdivided into individual units, separated by parking lots and big box stores, and integrated into a global neoliberal capitalist system increasingly ruled by the machinations of abstract financial instruments, then the organic communities which were essential for developing our social skills are destroyed. Sure, most kids end up adapting and do \"okay\" (when you ignore the fact that 10% of the population is on anti-depressants and the vast majority of people hate their jobs). But they do so in a highly artificial environment. And those kids who do not latch on to this artificial method of development and are left behind, we label them \"autistic.\"\\n\\nThe author of [\"bowling alone\"](https://en.wikipedia.org/wiki/Bowling_Alone) contends that there has been a major decline of social capital in the US since 1950, with a corresponding drop in voter turnout, civic associations, political party activism, and religious groups. The authentic social networks that used to bind us together are disintegrating, replaced by TV and now the internet and \"social\" media. Whereas in the past, neighborhoods might have shared the duty of taking care of kids, now you just plop your toddler in front of the TV and put in an \"educational\" DVD. \\n\\nAutism is quite real, it is quite serious, and we need to do something about it. But the thing we need to do is fix our dysfunctional social systems which are causing it, not \"fix\" these kids. \\n\\nNow just look at the symptoms of autism. Repetitive behavior. Hmm. Isn't that exactly what schools are encouraging with repetitive rote memorization of subjects which replaces actual learning? Isn't that what we do at our jobs all day - repetitive, boring tasks? Isn't that what we all do when we compulsively check our smartphones for updates? The astonishing thing is that we are somehow *not* all autistic. I believe that most of us achieve \"normality\" *despite* the odds being stacked against us. The fact that not everyone is able to achieve this normality does not mean there is anything wrong with them. \\n\\nI say all this not as an expert on autism. So I'm certainly open to someone more knowledgeable than I to change my mind. But I say it as someone who suffered from crippling shyness who sat alone at lunch every day at school, and whose social skills were very underdeveloped as a result. Had autism awareness been as prevalent in the 90's when I was in grade school as it is now, I believe I almost certainly would have been diagnosed as being on the spectrum at least. I am now basically a normally-functioning adult (if you ignore the psychological scarring of all the bad childhood memories of not fitting in). I wouldn't consider myself autistic though. I say that not to imply that autistic kids can just \"pull themselves up by the bootstraps\" and become normal, that would be absurd. But only to imply that the boundaries between autism and normality could be fluid, and evidence of the social-construct nature of the problem. \\n\\nPlease try to change my view. \\n   \n",
       "234                                                                                                                                                                                                                                                                                                                                                                                                                                                                                                                                                                                                                                                                                                                                                                                                                                                                                                                                                                                                                                                                                                                                                                                                                                                                                                                                                                                                                                                                                                                                                                                                                                                                                                                                                                                                                                                                                                                                                                                                                                                                                                                                                                                                                                                                                                                                                                                                                                                                                                                                                                                                                                                                                                                                                                                                                                                                                                                                                                                                                                                                                                                                                                                                                                                                                                                                                                                                                                                                                                                                                                                                                                                                                                                                                                                                                                                                                                                                                                                                                                                                                                                                                                                                                                                                                                                                                                                                                                                       It was my understanding that the majority of people knew, understood, and accepted the fact that major corporations in America are incredibly \"corrupt\". I use quotations because I believe it is a question of a degree to which each one is corrupt and who that corruption ends up effecting.\\n\\nSo, I consider people who present themselves as surprised by these actions indirectly responsible for them. The average person does not concern themselves with issues that do not affect them. They know these things are going on behind the scenes and choose to ignore them and then act surprised when they are revealed what happened.\\n\\nSee: The Bystander Effect\\n\\nIf there was more active scrutiny towards the actions of corporations than, the equivalent to a spotlight would be on them. They would still do illegal things but they would be far less harmful than destroying credit records / history.\\n\\nHowever, the human race is, in my eyes, notorious for waiting until the fire is under us, before taking action.\\n\\nSee: Global Warming\\n\\nSo, CMV.\\n   \n",
       "242                                                                                                                                                                                                                                                                                                                                                                                                                                                                                                                                                                                                                                                                                                                                                                                                                                                                                                                                                                                                                                                                                                                                                                                                                                                                                                                                                                                                                                                                                                                                                                                                                                                                                                                                                                                                                                                                                                                                                                                                                                                                                                                                                                                                                                                                                                                                                                                                                                                                                                                                                                                                                                                                                                                                                                                                                                                                                                                                                                                                                                                                                                                                                                                                                                                                                                                                                                                                                                                                                                                                                                                                                                                                                                                                                                                                                                                                                                                                                                                                                                                                                                                                                                                                                                                                                                                                                                                                                                                                                                                                                                                                                                                                                                                                                                                                                                                                                                                                                                  Terrorists by nature are trying to cause the maximum amount of shock in order to achieve their goals. Be it for religious or geopolitical reasons the end goal is the same, scare as many people as possible. \\n\\nThe media are responsible for going above and beyond factual reporting with lurid fear-inducing headlines like \"More attacks to come???\" The media's only motivation is to increase viewing figures for shareholders. Their methods manipulate our basic human nature for profit, we are not easily able to resist gawking, and should be outlawed.\\n\\n   \n",
       "250                                                                                                                                                                                                                                                                                                                                                                                                                                                                                                                                                                                                                                                                                                                                                                                                                                                                                                                                                                                                                                                                                                                                                                                                                                                                                                                                                                                                                                                                                                                                                                                                                                                                                                                                                                                                                                                                                                                                                                                                                                                                                                                                                                                                                                                                                                                                                                                                                                                                                                                                                                                                                                                                                                                                                                                                                                                                                                                                                                                                                                                                                                                                                                                                                                                                                                                                                                                                                                                                                                                                                                                                                                                                                                                                                                                                                                                                                                                                                                                                                                                                                                                                                                                                                                                                                                                                                                                                                                                                                                                             As you know, human blood is required for sustaining our unlife.  (Though some SJWs insist that animal blood is able to do the job as well, they should be discounted for this discussion.)  It is *not* required to kill humans if we don't fully drain them of their blood; they can easily recover from the anemia in just a few weeks with proper care and nutrition.\\n\\nUsing this method, a small herd of 20 or 30 adult humans can provide sufficient food for a single active vampire without killing any of the herd.  Additional humans can be used as breeding stock to help replace those who become sick or too old to contribute to the feeding process.\\n\\nI know that there are some radicals who object on the grounds that humans are sentient beings who deserve autonomy.  But this is irrelevant.  Humans on ranches already live full and productive lives as our food sources and occasionally as our pets (though I think it is a bad idea to become too attached to a potential meal).   \n",
       "266                                                                                                                                                                                                                                                                                                                                                                                                                                                                                                                                                                                                                                                                                                                                                                                                                                                                                                                                                                                                                                                                                                                                                                                                                                                                                                                                                                                                                                                                                                                                                                                                                                                                                                                                                                                                                                                                                                                                                                                                                                                                                                                                                                                                                                                                                                                                                                                                                                                                                                                                                                                                                                                                                                                                                                                                                                                                                                                                                                                                                                                                                                                                                                                                                                                                                                                                                                                                                                                                                                                                                                                                                                                                                                                                                                                                                                                                                                                                                                                                                                                                                                                                                                                                                                                                                                                                                                                                                                                                                                                                                                                                                                                                                                                                                                                                                                                                                                                                                                                                                                                                                                                                                        To expand on what I mean, I believe that anyone who I do not personally know or share a bond with aren't part of my life, and therefore aren't my concern in the slightest. That means charity, world news and current affairs are completely irrelevant and not part of my life.\\n\\nWhy should I care what happens to people I've never met and will never witness their troubles?   \n",
       "274                                                                                                                                                                                                                                                                                                                                                                                                                                                                                                                                                                                                                                                                                                                                                                                                                                                                                                                                                                                                                                                                                                                                                                                                                                                                                                                                                                                                                                                                                                                                                                                                                                                                                                                                                                                                                                                                                                                                                                                                                                                                                                                                                                                                                                                                                                                                                                                                                                                                                                                                                                                                                                                                                                                                                                                                                                                                                                                                                                                                                                                                                                                                                                                                                                                                                                                                                                                                                                                                                                                                                                                                       I've been thinking about this a lot recently, and I seem to be coming down on the for side. I'm very much openminded about it however.\\n\\nI believe the problems with democracy are a combination of three failures, which I shall briefly outline below:\\n\\nProblems with the system:\\n\\nFirst-past-the-post is absurdly unrepresentative and it doesn't allow for real change. This creates inefficiencies when new and pressing issues need to be dealt with, and merely forces a regression to centrism whether or not it is the most prudent policy.\\nProportional representation, on the other hand, would create a messy coalition with little authority and would almost inevitably lead to infighting of some description. This would simply get in the way and make it tough for any legislation to be passed.\\n\\nProblems with the electorate:\\n\\nI maintain that it is unreasonable to think that everyone's voice is equal. Although it may be non-PC to suggest it, the vote of a professor will generally be more rational than the vote of a poorly-educated worker. As the adage goes, democracy is a system where two fools can overrule a genius. Add in the spin and PR of modern politics and for most people elections simply become a lucky dip.\\n\\nProblems with the politicians:\\n\\nPoliticians are by nature mendacious, and there is little we could do to change that. This is the first main issue.\\nThe second is that politicians often fail to act in the country's best interests. Self interest is the overpowering factor in many of their decisions. As they seek reelection, they will notice a divergence between what is good for the country and what the electorate want to hear. They generally choose the latter.\\n\\nOverall, I believe democracy doesn't put the right people in power and distracts the people who do end up in power from what they should be doing. Change my view.\\n   \n",
       "279                                                                                                                                                                                                                                                                                                                                                                                                                                                                                                                                                                                                                                                                                                                                                                                                                                                                                                                                                                                                                                                                                                                                                                                                                                                                                                                                                                                                                                                                                                                                                                                                                                                                                                                                                                                                                                                                                                                                                                                                                                                                                                                                                                                                                                                                                                                                                                                                                                                                                                                                                                                                                                                                                                                                                                                                                                                                                                                                                                                                                                                                                                                                                                                                                                                                                                                                                                                                                                                                                                                                                                                                                                                                                                                                                                                                                                                                                                                                                                                                                                                                                                                                                                                        The Nuclear bomb, after it's first and last use in 1945, has been the single most peace generating invention known to man. \\n\\nOppenheimer said after he realized what he had created: \"I am become Death, the destroyer of worlds.\"\\n\\nI beg to differ. \\n\\nBecause of the existence of nuclear weapons, and the conclusion of mutually assured destruction, we have been forced into a state of peace rather than of war. More and more countries have developed nuclear weapons over time, and when they do, they sign the 'mutually assured destruction' contract, and as a result, peace ensues. \\n\\nThe battlegrounds of the world remain in which one or both sides do not, or cannot have a nuclear bomb. Civil wars in Africa. ISIS. These places cannot procure or control a nuclear bomb. \\n\\nAll of these calls for disarmament I believe do not take this into account. True, the sheer numbers of nuclear bombs in the world is unnecessary, and we could definitely dismantle a majority, but going all the way down to 0 is a mistake, because then we would just return to old-school methods of warfare, which are much more accessible, familiar, and easy slippery-slopes to fall into. The only difference now, is that the slippery-slope stays on the battleground instead of every nook and cranny of the populated world.    \n",
       "\n",
       "     true  predicted  \n",
       "56      1          0  \n",
       "64      1          0  \n",
       "72      1          0  \n",
       "76      1          0  \n",
       "88      1          0  \n",
       "107     1          0  \n",
       "121     1          0  \n",
       "132     1          0  \n",
       "155     0          1  \n",
       "208     0          1  \n",
       "227     0          1  \n",
       "234     0          1  \n",
       "242     0          1  \n",
       "250     0          1  \n",
       "266     0          1  \n",
       "274     0          1  \n",
       "279     0          1  "
      ]
     },
     "execution_count": 155,
     "metadata": {},
     "output_type": "execute_result"
    }
   ],
   "source": [
    "preds_df = pd.DataFrame({\n",
    "    'text':split_dfs['eval']['text'].values,\n",
    "    'true':split_dfs['eval']['label'].values,\n",
    "    'predicted':predicted_svm\n",
    "})\n",
    "preds_df.loc[preds_df['true']!=preds_df['predicted']]"
   ]
  },
  {
   "cell_type": "code",
   "execution_count": 156,
   "id": "1f5bbafc",
   "metadata": {
    "hidden": true,
    "scrolled": true
   },
   "outputs": [
    {
     "name": "stderr",
     "output_type": "stream",
     "text": [
      "/u/nlp/anaconda/main/anaconda3/envs/yiwei-climate/lib/python3.6/site-packages/sklearn/model_selection/_split.py:1978: FutureWarning: The default value of cv will change from 3 to 5 in version 0.22. Specify it explicitly to silence this warning.\n",
      "  warnings.warn(CV_WARNING, FutureWarning)\n"
     ]
    },
    {
     "name": "stdout",
     "output_type": "stream",
     "text": [
      "0.9451219512195121\n",
      "{'clf-svm__alpha': 0.001, 'tfidf__use_idf': True, 'vect__ngram_range': (1, 2)}\n"
     ]
    }
   ],
   "source": [
    "from sklearn.model_selection import GridSearchCV\n",
    "parameters_svm = {'vect__ngram_range': [(1, 1), (1, 2)],\n",
    "               'tfidf__use_idf': (True, False),\n",
    "               'clf-svm__alpha': (1e-2, 1e-3),\n",
    "}\n",
    "gs_clf_svm = GridSearchCV(text_clf_svm, parameters_svm, n_jobs=-1)\n",
    "gs_clf_svm = gs_clf_svm.fit(split_dfs['train']['text'].values, split_dfs['train']['label'].values)\n",
    "print(gs_clf_svm.best_score_)\n",
    "print(gs_clf_svm.best_params_)"
   ]
  },
  {
   "cell_type": "code",
   "execution_count": 159,
   "id": "6603c90a",
   "metadata": {
    "code_folding": [
     12
    ],
    "hidden": true,
    "scrolled": true
   },
   "outputs": [
    {
     "name": "stdout",
     "output_type": "stream",
     "text": [
      "25563 25502\n"
     ]
    }
   ],
   "source": [
    "# Apply model to unlabeled text\n",
    "unlabeled_ids = [convo.id for convo in corp_to_analyze['full_cmv'].iter_conversations()\n",
    "                 if convo.id not in climate_convo_idxs_gold \n",
    "                 and not is_removed_convo(corp_to_analyze['full_cmv'],convo.id)]\n",
    "df_ids = []\n",
    "for idx in unlabeled_ids:\n",
    "    try:\n",
    "        corp_to_analyze['full_cmv'].get_utterance(idx)\n",
    "        df_ids.append(idx)\n",
    "    except KeyError:\n",
    "        pass\n",
    "print(len(unlabeled_ids),len(df_ids))\n",
    "unlabeled_df = pd.DataFrame({\n",
    "                            'id':df_ids,\n",
    "                            'title':[corp_to_analyze['full_cmv'].get_conversation(idx).meta['title']\n",
    "                                     for idx in df_ids],\n",
    "                            'text':[corp_to_analyze['full_cmv'].get_utterance(idx).text\n",
    "                                     for idx in df_ids]\n",
    "                        })\n",
    "predicted_unlabeled_text = text_clf_svm.predict(unlabeled_df['text'].values)"
   ]
  },
  {
   "cell_type": "code",
   "execution_count": 160,
   "id": "e7436c04",
   "metadata": {
    "hidden": true
   },
   "outputs": [
    {
     "data": {
      "text/plain": [
       "0    23369\n",
       "1     2133\n",
       "Name: label, dtype: int64"
      ]
     },
     "execution_count": 160,
     "metadata": {},
     "output_type": "execute_result"
    }
   ],
   "source": [
    "unlabeled_df['label'] = predicted_unlabeled_text\n",
    "unlabeled_df['label'].value_counts()"
   ]
  },
  {
   "cell_type": "code",
   "execution_count": 161,
   "id": "7ed75f88",
   "metadata": {
    "hidden": true
   },
   "outputs": [],
   "source": [
    "unlabeled_df.loc[unlabeled_df['label']==1].to_csv('tf_idf_predicted_true.tsv',sep='\\t',header=True,index=False)"
   ]
  },
  {
   "cell_type": "markdown",
   "id": "ce20646e",
   "metadata": {
    "heading_collapsed": true
   },
   "source": [
    "# [OLD] Subsample for even distributions"
   ]
  },
  {
   "cell_type": "markdown",
   "id": "66e07568",
   "metadata": {
    "hidden": true
   },
   "source": [
    "Subsample from comments not receiving deltas by:\n",
    "   * **removing comments from OP(?)**\n",
    "   * limiting comment depth to odd depths <= 7\n",
    "   * matching comment time (fixed time window)\n",
    "   * matching comment order (number of comments before)\n",
    "   * matching comment length\n",
    "   * try to represent the same number of different voices/people"
   ]
  },
  {
   "cell_type": "code",
   "execution_count": 7,
   "id": "3a5bef63",
   "metadata": {
    "code_folding": [
     1,
     6
    ],
    "hidden": true
   },
   "outputs": [
    {
     "name": "stdout",
     "output_type": "stream",
     "text": [
      "Within full comments, found 31674 comments awarded deltas and 2865046 comments without\n",
      "Within climate comments, found 378 comments awarded deltas and 26877 comments without\n"
     ]
    }
   ],
   "source": [
    "# Checks if comment is not written by mod/bot, and not removed/delted\n",
    "def is_valid(utt):\n",
    "    return not utt.meta['written_by_bot'] \\\n",
    "    and not utt.text == '[deleted]' \\\n",
    "    and not utt.text == '[removed]'\n",
    "\n",
    "def filter_random_for_matched_mean(target_mean,epsilon,greater_than,dat,field,n=50000):\n",
    "    dat_ = dat.copy()\n",
    "    curr_mean = dat_[field].mean() \n",
    "    while abs(curr_mean - target_mean) > epsilon:\n",
    "        # randomly select a datapoint greater than target_mean to remove\n",
    "        if greater_than:\n",
    "            sample_dat_ = dat_.loc[dat_[field] > target_mean]\n",
    "        else:\n",
    "            sample_dat_ = dat_.loc[dat_[field] < target_mean]\n",
    "        rand = sample_dat_.sample(n=n, replace=False)\n",
    "        dat_ = dat_.drop(rand.index, axis=0)\n",
    "        curr_mean = dat_[field].mean() \n",
    "        print(f'Curr mean of {field}: {curr_mean}')\n",
    "    \n",
    "    return dat_\n",
    "\n",
    "# Number of comments w/ and w/o deltas\n",
    "total_delta_counts = Counter([utt.meta['is_awarded_delta'] \n",
    "                              for utt in corp_to_analyze['full_cmv'].iter_utterances()\n",
    "                              if is_valid(utt)])\n",
    "print('Within full comments, found {} comments awarded deltas and {} comments without'.format(\n",
    "    total_delta_counts[True], total_delta_counts[False]))\n",
    "\n",
    "cc_delta_counts = Counter([utt.meta['is_awarded_delta'] \n",
    "                           for utt in corp_to_analyze['full_cmv'].iter_utterances()\n",
    "                           if utt.meta['is_cc_related_gold']\n",
    "                           and is_valid(utt)])\n",
    "print('Within climate comments, found {} comments awarded deltas and {} comments without'.format(\n",
    "    cc_delta_counts[True], cc_delta_counts[False]))"
   ]
  },
  {
   "cell_type": "markdown",
   "id": "b04b8312",
   "metadata": {
    "heading_collapsed": true,
    "hidden": true
   },
   "source": [
    "## Depth"
   ]
  },
  {
   "cell_type": "code",
   "execution_count": 8,
   "id": "c0e09101",
   "metadata": {
    "code_folding": [],
    "hidden": true,
    "scrolled": true
   },
   "outputs": [
    {
     "name": "stderr",
     "output_type": "stream",
     "text": [
      "84258it [00:39, 2153.27it/s] \n",
      "3243830it [00:31, 102918.61it/s]\n"
     ]
    },
    {
     "name": "stdout",
     "output_type": "stream",
     "text": [
      "Found 30436 total comments w/ deltas and 1530576 comments w/o (excluding bots and mods, deleted) with odd depth <= 7.\n",
      "Found 361 CC comments w/ deltas and 13639 comments w/o (excluding bots and mods, deleted) with odd depth <= 7.\n"
     ]
    },
    {
     "data": {
      "image/png": "[encoded data removed]",
      "text/plain": [
       "<Figure size 432x432 with 4 Axes>"
      ]
     },
     "metadata": {
      "needs_background": "light"
     },
     "output_type": "display_data"
    }
   ],
   "source": [
    "# initialize depth dict: start by getting convo; then get root to leaf paths\n",
    "# for each path:\n",
    "#    index of utt in path is its depth\n",
    "depth_per_utt = {}\n",
    "for convo in tqdm(corp_to_analyze['full_cmv'].iter_conversations()):\n",
    "    paths = convo.get_root_to_leaf_paths()\n",
    "    for path in paths:\n",
    "        for i in range(len(path)):\n",
    "            utt_id = path[i].id\n",
    "            if utt_id not in depth_per_utt:\n",
    "                depth_per_utt[utt_id] = i\n",
    "                \n",
    "for utt in tqdm(corp_to_analyze['full_cmv'].iter_utterances()):\n",
    "    utt.meta['depth'] = depth_per_utt[utt.id]\n",
    "    \n",
    "# Distribution of comment depths for comments on cc-related posts, not written by bots/mods, awarded deltas\n",
    "utt_zip = [(utt.meta['depth'],utt.meta['is_awarded_delta'],utt.meta['is_cc_related_gold']) \n",
    "           for utt in corp_to_analyze['full_cmv'].iter_utterances() \n",
    "           if is_valid(utt)]\n",
    "\n",
    "to_plot_df = pd.DataFrame({\n",
    "    'depth':[item[0] for item in utt_zip],\n",
    "    'log_depth':[np.log(item[0]+1) for item in utt_zip],\n",
    "    'has_delta':[item[1] for item in utt_zip],\n",
    "    'is_cc':[item[2] for item in utt_zip]})\n",
    "\n",
    "g = sns.FacetGrid(to_plot_df, col=\"has_delta\", row='is_cc', sharey=False)\n",
    "g.map(sns.histplot, \"depth\")\n",
    "\n",
    "MAX_DEPTH = 7\n",
    "def is_valid_depth(utt,max_depth=MAX_DEPTH):\n",
    "    return utt.meta['depth'] <= max_depth and utt.meta['depth'] % 2 == 1\n",
    "\n",
    "depth_filtered_utts = [\n",
    "    utt for utt in corp_to_analyze['full_cmv'].iter_utterances()\n",
    "    if is_valid(utt)\n",
    "    and is_valid_depth(utt)]\n",
    "cc_depth_filtered_utts = [utt for utt in depth_filtered_utts if utt.meta['is_cc_related_gold']]\n",
    "delta_counts_depth_filtered = Counter([utt.meta['is_awarded_delta'] for utt in depth_filtered_utts])\n",
    "cc_delta_counts_depth_filtered = Counter([utt.meta['is_awarded_delta'] for utt in cc_depth_filtered_utts])\n",
    "print('Found {} total comments w/ deltas and {} comments w/o (excluding bots and mods, deleted) \\\n",
    "with odd depth <= 7.'.format(delta_counts_depth_filtered[True], delta_counts_depth_filtered[False]))\n",
    "print('Found {} CC comments w/ deltas and {} comments w/o (excluding bots and mods, deleted) \\\n",
    "with odd depth <= 7.'.format(cc_delta_counts_depth_filtered[True], cc_delta_counts_depth_filtered[False]))"
   ]
  },
  {
   "cell_type": "markdown",
   "id": "d00d92ec",
   "metadata": {
    "hidden": true
   },
   "source": [
    "## Time difference"
   ]
  },
  {
   "cell_type": "code",
   "execution_count": 9,
   "id": "eef20cc7",
   "metadata": {
    "code_folding": [
     0
    ],
    "hidden": true,
    "scrolled": true
   },
   "outputs": [
    {
     "name": "stderr",
     "output_type": "stream",
     "text": [
      "3243830it [00:35, 91944.68it/s] \n"
     ]
    },
    {
     "name": "stdout",
     "output_type": "stream",
     "text": [
      "Matching -delta sample to max time diff of +delta sample: 12.438397321042864\n",
      "Matching -delta sample to within epsilon=0.005 of mean time diff of +delta sample: 4.502540583404912\n",
      "Curr mean of log_time_diff_mins: 5.360090087267177\n",
      "Curr mean of log_time_diff_mins: 5.345606190765934\n",
      "Curr mean of log_time_diff_mins: 5.330537980796741\n",
      "Curr mean of log_time_diff_mins: 5.314829032002288\n",
      "Curr mean of log_time_diff_mins: 5.298459092859366\n",
      "Curr mean of log_time_diff_mins: 5.281746964104508\n",
      "Curr mean of log_time_diff_mins: 5.264162369879704\n",
      "Curr mean of log_time_diff_mins: 5.245732416830133\n",
      "Curr mean of log_time_diff_mins: 5.22638145096718\n",
      "Curr mean of log_time_diff_mins: 5.2063465029960945\n",
      "Curr mean of log_time_diff_mins: 5.185622878801651\n",
      "Curr mean of log_time_diff_mins: 5.16394347234059\n",
      "Curr mean of log_time_diff_mins: 5.141284182422304\n",
      "Curr mean of log_time_diff_mins: 5.117516195685187\n",
      "Curr mean of log_time_diff_mins: 5.092757009113072\n",
      "Curr mean of log_time_diff_mins: 5.067032832471578\n",
      "Curr mean of log_time_diff_mins: 5.040010798600313\n",
      "Curr mean of log_time_diff_mins: 5.0114100958631385\n",
      "Curr mean of log_time_diff_mins: 4.981568107245038\n",
      "Curr mean of log_time_diff_mins: 4.949934385519339\n",
      "Curr mean of log_time_diff_mins: 4.916533106037365\n",
      "Curr mean of log_time_diff_mins: 4.881466897927197\n",
      "Curr mean of log_time_diff_mins: 4.843969914372034\n",
      "Curr mean of log_time_diff_mins: 4.804228777084161\n",
      "Curr mean of log_time_diff_mins: 4.762001067568199\n",
      "Curr mean of log_time_diff_mins: 4.717061259589732\n",
      "Curr mean of log_time_diff_mins: 4.6694980111512345\n",
      "Curr mean of log_time_diff_mins: 4.618365797572286\n",
      "Curr mean of log_time_diff_mins: 4.563778428280997\n",
      "Curr mean of log_time_diff_mins: 4.504952111790579\n",
      "Found 31674 total comments w/ deltas and 1364884 matched-mean comments w/o (excluding bots and mods, deleted) with time diff. <= 12.44 log minutes.\n",
      "Found 378 CC comments w/ deltas and 11721 matched-mean comments w/o (excluding bots and mods, deleted) with time diff. <= 12.44 log minutes.\n"
     ]
    },
    {
     "data": {
      "image/png": "[encoded data removed]",
      "text/plain": [
       "<Figure size 432x432 with 4 Axes>"
      ]
     },
     "metadata": {
      "needs_background": "light"
     },
     "output_type": "display_data"
    },
    {
     "data": {
      "image/png": "[encoded data removed]",
      "text/plain": [
       "<Figure size 216x432 with 2 Axes>"
      ]
     },
     "metadata": {
      "needs_background": "light"
     },
     "output_type": "display_data"
    }
   ],
   "source": [
    "def get_rel_timestamp(corp,utt):\n",
    "    return utt.timestamp - corp.get_utterance(utt.conversation_id).timestamp\n",
    "\n",
    "for utt in tqdm(corp_to_analyze['full_cmv'].iter_utterances()):\n",
    "    utt.meta['time_diff'] = get_rel_timestamp(corp_to_analyze['full_cmv'],utt)\n",
    "    \n",
    "# Distribution of comment depths for comments on cc-related posts, not written by bots/mods, awarded deltas\n",
    "utt_zip = [(utt.id,utt.meta['time_diff'],utt.meta['is_awarded_delta'],utt.meta['is_cc_related_gold']) \n",
    "           for utt in corp_to_analyze['full_cmv'].iter_utterances() \n",
    "           if is_valid(utt)]\n",
    "\n",
    "to_plot_df = pd.DataFrame({\n",
    "    'id':[item[0] for item in utt_zip],\n",
    "    'time_diff_secs':[item[1] for item in utt_zip],\n",
    "    'time_diff_mins':[item[1]/60 for item in utt_zip],\n",
    "    'time_diff_hrs':[item[1]/(60*60) for item in utt_zip],\n",
    "    'log_time_diff_mins':[np.log((item[1]+1)/60) for item in utt_zip],\n",
    "    'log_time_diff_hrs':[np.log((item[1]+1)/3600) for item in utt_zip],\n",
    "    'has_delta':[item[2] for item in utt_zip],\n",
    "    'is_cc':[item[3] for item in utt_zip]})\n",
    "\n",
    "g = sns.FacetGrid(to_plot_df, col=\"has_delta\", row=\"is_cc\", sharey=False)#,  row=\"sex\")\n",
    "g.map(sns.histplot, \"log_time_diff_mins\")\n",
    "\n",
    "MAX_TIME_DIFF = to_plot_df.loc[to_plot_df['has_delta']]['log_time_diff_mins'].max()\n",
    "print(f'Matching -delta sample to max time diff of +delta sample: {MAX_TIME_DIFF}')\n",
    "max_time_diff_matched = to_plot_df.loc[(~to_plot_df['has_delta']) & \n",
    "                                       (to_plot_df['log_time_diff_mins'] <= MAX_TIME_DIFF)]\n",
    "\n",
    "target_mean_time_diff = to_plot_df.loc[to_plot_df['has_delta']]['log_time_diff_mins'].mean()\n",
    "epsilon = 0.005\n",
    "print(f'Matching -delta sample to within epsilon={epsilon} of mean time diff of +delta sample:', \n",
    "      target_mean_time_diff)\n",
    "mean_max_time_diff_matched = filter_random_for_matched_mean(target_mean_time_diff,0.005,True,\n",
    "                                                            max_time_diff_matched,\n",
    "                                                            'log_time_diff_mins')\n",
    "\n",
    "g = sns.FacetGrid(mean_max_time_diff_matched, col=\"has_delta\", row=\"is_cc\", sharey=False)#,  row=\"sex\")\n",
    "g.map(sns.histplot, \"log_time_diff_mins\")\n",
    "\n",
    "matched_no_deltas_ids = set(mean_max_time_diff_matched['id'].values)\n",
    "time_diff_filtered_utts = [\n",
    "    utt for utt in corp_to_analyze['full_cmv'].iter_utterances()\n",
    "    if is_valid(utt)\n",
    "    and (utt.meta['is_awarded_delta'] or (\n",
    "    not utt.meta['is_awarded_delta'] and utt.id in matched_no_deltas_ids))]\n",
    "cc_time_diff_filtered_utts = [utt for utt in time_diff_filtered_utts if utt.meta['is_cc_related_gold']]\n",
    "delta_counts_time_diff_filtered = Counter([utt.meta['is_awarded_delta'] for utt in time_diff_filtered_utts])\n",
    "cc_delta_counts_time_diff_filtered = Counter([utt.meta['is_awarded_delta'] for utt in cc_time_diff_filtered_utts])\n",
    "print('Found {} total comments w/ deltas and {} matched-mean comments w/o (excluding bots and mods, deleted) \\\n",
    "with time diff. <= {:0.2f} log minutes.'.format(delta_counts_time_diff_filtered[True], \n",
    "                                                delta_counts_time_diff_filtered[False],\n",
    "                                                MAX_TIME_DIFF))\n",
    "print('Found {} CC comments w/ deltas and {} matched-mean comments w/o (excluding bots and mods, deleted) \\\n",
    "with time diff. <= {:0.2f} log minutes.'.format(cc_delta_counts_time_diff_filtered[True], \n",
    "                                                cc_delta_counts_time_diff_filtered[False],\n",
    "                                                MAX_TIME_DIFF))"
   ]
  },
  {
   "cell_type": "markdown",
   "id": "f21f071e",
   "metadata": {
    "hidden": true
   },
   "source": [
    "## Order"
   ]
  },
  {
   "cell_type": "code",
   "execution_count": 10,
   "id": "cc2987fb",
   "metadata": {
    "code_folding": [
     0
    ],
    "hidden": true,
    "scrolled": true
   },
   "outputs": [
    {
     "name": "stderr",
     "output_type": "stream",
     "text": [
      "3243830it [28:51, 1873.37it/s]\n"
     ]
    },
    {
     "name": "stdout",
     "output_type": "stream",
     "text": [
      "Matching -delta sample to max comment order of +delta sample: 481\n",
      "Matching -delta sample to within epsilon=1 of mean comment order of +delta sample: 32.38321651827998\n",
      "Curr mean of order: 82.96713972309031\n",
      "Curr mean of order: 82.09895141235087\n",
      "Curr mean of order: 81.19154796899463\n",
      "Curr mean of order: 80.2694016076079\n",
      "Curr mean of order: 79.2973712526824\n",
      "Curr mean of order: 78.30195924373551\n",
      "Curr mean of order: 77.27773445333214\n",
      "Curr mean of order: 76.19789829726842\n",
      "Curr mean of order: 75.07539314873685\n",
      "Curr mean of order: 73.9119092672392\n",
      "Curr mean of order: 72.68600410835262\n",
      "Curr mean of order: 71.4089843487666\n",
      "Curr mean of order: 70.09266645461872\n",
      "Curr mean of order: 68.67544754952536\n",
      "Curr mean of order: 67.1930999140695\n",
      "Curr mean of order: 65.68119055742739\n",
      "Curr mean of order: 64.06745173185202\n",
      "Curr mean of order: 62.388822392091825\n",
      "Curr mean of order: 60.60605507866888\n",
      "Curr mean of order: 58.74135958302743\n",
      "Curr mean of order: 56.753723523935996\n",
      "Curr mean of order: 54.655102600979056\n",
      "Curr mean of order: 52.43275516302698\n",
      "Curr mean of order: 50.11112066353401\n",
      "Curr mean of order: 47.61106365939891\n",
      "Curr mean of order: 44.96896572457872\n",
      "Curr mean of order: 42.12427643299307\n",
      "Curr mean of order: 39.14768173543192\n",
      "Curr mean of order: 35.940218037324456\n",
      "Curr mean of order: 32.462974644548375\n",
      "Found 31674 total comments w/ deltas and 1363336 matched-mean comments w/o (excluding bots and mods, deleted) with order <= 481.00 comments.\n",
      "Found 378 CC comments w/ deltas and 12843 matched-mean comments w/o (excluding bots and mods, deleted) with order <= 481.00 comments.\n"
     ]
    },
    {
     "data": {
      "image/png": "[encoded data removed]",
      "text/plain": [
       "<Figure size 432x432 with 4 Axes>"
      ]
     },
     "metadata": {
      "needs_background": "light"
     },
     "output_type": "display_data"
    },
    {
     "data": {
      "image/png": "[encoded data removed]",
      "text/plain": [
       "<Figure size 216x432 with 2 Axes>"
      ]
     },
     "metadata": {
      "needs_background": "light"
     },
     "output_type": "display_data"
    }
   ],
   "source": [
    "def get_utt_order(corp,convo_id, utt_id):\n",
    "    convo = corp.get_conversation(convo_id)\n",
    "    in_order_utt_ids = [utt.id for utt in convo.get_chronological_utterance_list()]\n",
    "    return in_order_utt_ids.index(utt_id)\n",
    "\n",
    "for utt in tqdm(corp_to_analyze['full_cmv'].iter_utterances()):\n",
    "    utt.meta['order'] = get_utt_order(corp_to_analyze['full_cmv'], utt.conversation_id, utt.id)\n",
    "    \n",
    "# Distribution of comment depths for comments on cc-related posts, not written by bots/mods, awarded deltas\n",
    "utt_zip = [(utt.id,utt.meta['order'],utt.meta['is_awarded_delta'],utt.meta['is_cc_related_gold']) \n",
    "           for utt in corp_to_analyze['full_cmv'].iter_utterances() \n",
    "           if is_valid(utt)]\n",
    "\n",
    "to_plot_df = pd.DataFrame({\n",
    "    'id':[item[0] for item in utt_zip],\n",
    "    'order':[item[1] for item in utt_zip],\n",
    "    'log_order':[np.log(item[1]+1) for item in utt_zip],\n",
    "    'has_delta':[item[2] for item in utt_zip],\n",
    "    'to_keep':[item[2] <= 200 for item in utt_zip],\n",
    "    'is_cc':[item[3] for item in utt_zip]})\n",
    "\n",
    "g = sns.FacetGrid(to_plot_df, col=\"has_delta\", sharey=False, row=\"is_cc\")#, palette=['grey','orange'])\n",
    "g.map(sns.histplot, \"order\")\n",
    "#g.savefig('figs/delta_v_no_delta_order.png',dpi=200)\n",
    "\n",
    "MAX_ORDER = to_plot_df.loc[to_plot_df['has_delta']]['order'].max()\n",
    "print(f'Matching -delta sample to max comment order of +delta sample: {MAX_ORDER}')\n",
    "max_order_matched = to_plot_df.loc[(~to_plot_df['has_delta']) & \n",
    "                                   (to_plot_df['order'] <= MAX_ORDER)]\n",
    "\n",
    "target_mean_order = to_plot_df.loc[to_plot_df['has_delta']]['order'].mean()\n",
    "epsilon = 1\n",
    "print(f'Matching -delta sample to within epsilon={epsilon} of mean comment order of +delta sample:', \n",
    "      target_mean_order)\n",
    "mean_max_order_matched = filter_random_for_matched_mean(target_mean_order,epsilon,True,\n",
    "                                                            max_order_matched,\n",
    "                                                            'order')\n",
    "#target_mean,epsilon,greater_than,dat,field\n",
    "\n",
    "g = sns.FacetGrid(mean_max_order_matched, col=\"has_delta\", row=\"is_cc\", sharey=False)#,  row=\"sex\")\n",
    "g.map(sns.histplot, \"order\")\n",
    "\n",
    "matched_no_deltas_ids = set(mean_max_order_matched['id'].values)\n",
    "order_filtered_utts = [\n",
    "    utt for utt in corp_to_analyze['full_cmv'].iter_utterances()\n",
    "    if is_valid(utt)\n",
    "    and (utt.meta['is_awarded_delta'] or (\n",
    "    not utt.meta['is_awarded_delta'] and utt.id in matched_no_deltas_ids))]\n",
    "cc_order_filtered_utts = [utt for utt in order_filtered_utts if utt.meta['is_cc_related_gold']]\n",
    "delta_counts_order_filtered = Counter([utt.meta['is_awarded_delta'] for utt in order_filtered_utts])\n",
    "cc_delta_counts_order_filtered = Counter([utt.meta['is_awarded_delta'] for utt in cc_order_filtered_utts])\n",
    "print('Found {} total comments w/ deltas and {} matched-mean comments w/o (excluding bots and mods, deleted) \\\n",
    "with order <= {:0.2f} comments.'.format(delta_counts_order_filtered[True], \n",
    "                                                delta_counts_order_filtered[False],\n",
    "                                                MAX_ORDER))\n",
    "print('Found {} CC comments w/ deltas and {} matched-mean comments w/o (excluding bots and mods, deleted) \\\n",
    "with order <= {:0.2f} comments.'.format(cc_delta_counts_order_filtered[True], \n",
    "                                                cc_delta_counts_order_filtered[False],\n",
    "                                                MAX_ORDER))"
   ]
  },
  {
   "cell_type": "markdown",
   "id": "692b8f22",
   "metadata": {
    "hidden": true
   },
   "source": [
    "## Length"
   ]
  },
  {
   "cell_type": "code",
   "execution_count": 11,
   "id": "a51a0aef",
   "metadata": {
    "code_folding": [],
    "hidden": true,
    "scrolled": true
   },
   "outputs": [
    {
     "name": "stdout",
     "output_type": "stream",
     "text": [
      "Matching -delta sample to min log len of +delta sample: 2\n",
      "Matching -delta sample to within epsilon=0.05 of mean log len of +delta sample: 4.827211353508079\n",
      "Curr mean of log_len: 4.032936633940786\n",
      "Curr mean of log_len: 4.0397920817757385\n",
      "Curr mean of log_len: 4.046923742915588\n",
      "Curr mean of log_len: 4.054363622106029\n",
      "Curr mean of log_len: 4.062155804638746\n",
      "Curr mean of log_len: 4.0702130454263905\n",
      "Curr mean of log_len: 4.0786097180897345\n",
      "Curr mean of log_len: 4.08723604511754\n",
      "Curr mean of log_len: 4.096263749397243\n",
      "Curr mean of log_len: 4.105782450667212\n",
      "Curr mean of log_len: 4.115625308403872\n",
      "Curr mean of log_len: 4.126043662111532\n",
      "Curr mean of log_len: 4.136927206727823\n",
      "Curr mean of log_len: 4.1483857494499965\n",
      "Curr mean of log_len: 4.160290864566782\n",
      "Curr mean of log_len: 4.172854491182018\n",
      "Curr mean of log_len: 4.186054126094847\n",
      "Curr mean of log_len: 4.200027483128353\n",
      "Curr mean of log_len: 4.214707612088217\n",
      "Curr mean of log_len: 4.230305582725713\n",
      "Curr mean of log_len: 4.246860613623238\n",
      "Curr mean of log_len: 4.264286013014877\n",
      "Curr mean of log_len: 4.2828626733069814\n",
      "Curr mean of log_len: 4.302692725817859\n",
      "Curr mean of log_len: 4.323761822667578\n",
      "Curr mean of log_len: 4.346082484244976\n",
      "Curr mean of log_len: 4.37030447011484\n",
      "Curr mean of log_len: 4.396341040605908\n",
      "Curr mean of log_len: 4.424374198972204\n",
      "Curr mean of log_len: 4.454560589320566\n",
      "Curr mean of log_len: 4.487394847919142\n",
      "Curr mean of log_len: 4.523069941374686\n",
      "Curr mean of log_len: 4.561635594703702\n",
      "Curr mean of log_len: 4.60421019254564\n",
      "Curr mean of log_len: 4.651466509844963\n",
      "Curr mean of log_len: 4.703294619460746\n",
      "Curr mean of log_len: 4.760957908293066\n",
      "Curr mean of log_len: 4.825395920626508\n",
      "Found 26029 total comments w/ deltas and 676005 matched-mean comments w/o (excluding bots and mods, deleted) with log len >= 2.00.\n",
      "Found 326 CC comments w/ deltas and 7038 matched-mean comments w/o (excluding bots and mods, deleted) with log len >= 2.00.\n"
     ]
    },
    {
     "data": {
      "image/png": "[encoded data removed]",
      "text/plain": [
       "<Figure size 432x432 with 4 Axes>"
      ]
     },
     "metadata": {
      "needs_background": "light"
     },
     "output_type": "display_data"
    },
    {
     "data": {
      "image/png": "[encoded data removed]",
      "text/plain": [
       "<Figure size 216x432 with 2 Axes>"
      ]
     },
     "metadata": {
      "needs_background": "light"
     },
     "output_type": "display_data"
    }
   ],
   "source": [
    "# Distribution of comment lengths for comments on cc-related posts, not written by bots/mods, awarded deltas\n",
    "utt_zip = [(utt.id,len(utt.text.split()),utt.meta['is_awarded_delta'],utt.meta['is_cc_related_gold']) \n",
    "           for utt in corp_to_analyze['full_cmv'].iter_utterances() \n",
    "           if is_valid(utt)]\n",
    "\n",
    "to_plot_df = pd.DataFrame({\n",
    "    'id':[item[0] for item in utt_zip],\n",
    "    'len':[item[1] for item in utt_zip],\n",
    "    'log_len':[np.log(item[1]+1) for item in utt_zip],\n",
    "    'has_delta':[item[2] for item in utt_zip],\n",
    "    'to_keep':[np.log(item[1]+1)>=4 for item in utt_zip],\n",
    "    'is_cc':[item[3] for item in utt_zip]})\n",
    "\n",
    "g = sns.FacetGrid(to_plot_df, col=\"has_delta\", row='is_cc', sharey=False)#,  row=\"sex\")\n",
    "g.map(sns.histplot, \"log_len\")\n",
    "#g.savefig('figs/delta_v_no_delta_len.png',dpi=200)\n",
    "\n",
    "MIN_LEN = 2#to_plot_df.loc[to_plot_df['has_delta']]['log_len'].min()\n",
    "print(f'Matching -delta sample to min log len of +delta sample: {MIN_LEN}')\n",
    "min_len_matched = to_plot_df.loc[(~to_plot_df['has_delta']) & \n",
    "                                 (to_plot_df['log_len'] >= MIN_LEN)]\n",
    "\n",
    "target_mean_len = to_plot_df.loc[to_plot_df['has_delta']]['log_len'].mean()\n",
    "epsilon = 0.05\n",
    "print(f'Matching -delta sample to within epsilon={epsilon} of mean log len of +delta sample:', \n",
    "      target_mean_len)\n",
    "mean_min_len_matched = filter_random_for_matched_mean(target_mean_len,epsilon,False,\n",
    "                                                            min_len_matched,\n",
    "                                                            'log_len')\n",
    "\n",
    "g = sns.FacetGrid(mean_min_len_matched, col=\"has_delta\", row=\"is_cc\", sharey=False)#,  row=\"sex\")\n",
    "g.map(sns.histplot, \"log_len\")\n",
    "\n",
    "matched_no_deltas_ids = set(mean_min_len_matched['id'].values)\n",
    "len_filtered_utts = [\n",
    "    utt for utt in corp_to_analyze['full_cmv'].iter_utterances()\n",
    "    if is_valid(utt)\n",
    "    and np.log(len(utt.text.split())+1) >= 4\n",
    "    and (utt.meta['is_awarded_delta'] or (\n",
    "    not utt.meta['is_awarded_delta'] and utt.id in matched_no_deltas_ids))]\n",
    "cc_len_filtered_utts = [utt for utt in len_filtered_utts if utt.meta['is_cc_related_gold']]\n",
    "delta_counts_len_filtered = Counter([utt.meta['is_awarded_delta'] for utt in len_filtered_utts])\n",
    "cc_delta_counts_len_filtered = Counter([utt.meta['is_awarded_delta'] for utt in cc_len_filtered_utts])\n",
    "print('Found {} total comments w/ deltas and {} matched-mean comments w/o (excluding bots and mods, deleted) \\\n",
    "with log len >= {:0.2f}.'.format(delta_counts_len_filtered[True], \n",
    "                             delta_counts_len_filtered[False],\n",
    "                             MIN_LEN))\n",
    "print('Found {} CC comments w/ deltas and {} matched-mean comments w/o (excluding bots and mods, deleted) \\\n",
    "with log len >= {:0.2f}.'.format(cc_delta_counts_len_filtered[True], \n",
    "                             cc_delta_counts_len_filtered[False],\n",
    "                             MIN_LEN))"
   ]
  },
  {
   "cell_type": "code",
   "execution_count": null,
   "id": "dbf8e6ca",
   "metadata": {
    "hidden": true
   },
   "outputs": [],
   "source": [
    "to_plot_df.loc[to_plot_df['has_delta']].describe()"
   ]
  },
  {
   "cell_type": "markdown",
   "id": "64699d47",
   "metadata": {
    "hidden": true
   },
   "source": [
    "## Written by OP"
   ]
  },
  {
   "cell_type": "code",
   "execution_count": 12,
   "id": "03ed02ed",
   "metadata": {
    "hidden": true
   },
   "outputs": [
    {
     "name": "stdout",
     "output_type": "stream",
     "text": [
      "Found 2333405 valid comments not written by OP themselves.\n"
     ]
    }
   ],
   "source": [
    "# Finally, remove comments written by OP--these by design cannot get awarded deltas\n",
    "non_OP_utt_ids = [utt.id for utt in corp_to_analyze['full_cmv'].iter_utterances()\n",
    "                  if is_valid(utt) \n",
    "                  and utt.speaker.id != corp_to_analyze['full_cmv'].get_utterance(utt.conversation_id).speaker.id]\n",
    "print(f\"Found {len(non_OP_utt_ids)} valid comments not written by OP themselves.\")"
   ]
  },
  {
   "cell_type": "markdown",
   "id": "99343f5c",
   "metadata": {
    "hidden": true
   },
   "source": [
    "## Aggregating all criteria"
   ]
  },
  {
   "cell_type": "markdown",
   "id": "122101f2",
   "metadata": {
    "hidden": true
   },
   "source": [
    "Put everything together:\n",
    "* depth (<= max; odd)\n",
    "* time diff. (<= max log minutes)\n",
    "* order (<= max)\n",
    "* len (>= min log)\n",
    "* not written by OP"
   ]
  },
  {
   "cell_type": "code",
   "execution_count": 13,
   "id": "6c22a2ae",
   "metadata": {
    "code_folding": [],
    "hidden": true,
    "scrolled": true
   },
   "outputs": [
    {
     "name": "stdout",
     "output_type": "stream",
     "text": [
      "depth 1561012\n",
      "time_diff 1396558\n",
      "order 1395010\n",
      "len 702034\n",
      "non_OP 2333405\n",
      "Found 160528 valid utterances meeting all criteria.\n",
      "\n",
      "Found 24240 +delta comments and 136288 -delta comments among above.\n",
      "Found 310 +delta comments and 1239 -delta CC comments among above.\n"
     ]
    }
   ],
   "source": [
    "filtered_utts = {\n",
    "    'depth': depth_filtered_utts,\n",
    "    'time_diff': time_diff_filtered_utts,\n",
    "    'order': order_filtered_utts,\n",
    "    'len': len_filtered_utts,\n",
    "    'non_OP': non_OP_utt_ids,}\n",
    "for field in filtered_utts:\n",
    "    print(field,len(filtered_utts[field]))\n",
    "    \n",
    "filtered_intersection_utt_ids = set([utt.id for utt in depth_filtered_utts]).intersection(\n",
    "    set([utt.id for utt in time_diff_filtered_utts])\n",
    "        ).intersection(\n",
    "    set([utt.id for utt in order_filtered_utts])\n",
    "        ).intersection(\n",
    "    set([utt.id for utt in len_filtered_utts])\n",
    "        ).intersection(\n",
    "    set(non_OP_utt_ids)\n",
    "        ).intersection(\n",
    "    set([utt.id for utt in corp_to_analyze['full_cmv'].iter_utterances()\n",
    "        if is_valid(utt)])\n",
    ")\n",
    "\n",
    "print(f'Found {len(filtered_intersection_utt_ids)} valid utterances meeting all criteria.\\n')\n",
    "filtered_intersection_utts = [corp_to_analyze['full_cmv'].get_utterance(utt_id)\n",
    "                              for utt_id in filtered_intersection_utt_ids]\n",
    "cc_filtered_intersection_utts = [utt for utt in filtered_intersection_utts \n",
    "                                 if utt.meta['is_cc_related_gold']]\n",
    "delta_counts_filtered_utts = Counter([utt.meta['is_awarded_delta'] for utt in filtered_intersection_utts])\n",
    "cc_delta_counts_filtered_utts = Counter([utt.meta['is_awarded_delta'] for utt in cc_filtered_intersection_utts])\n",
    "print(f'Found {delta_counts_filtered_utts[True]} +delta comments and {delta_counts_filtered_utts[False]} \\\n",
    "-delta comments among above.')\n",
    "print(f'Found {cc_delta_counts_filtered_utts[True]} +delta comments and {cc_delta_counts_filtered_utts[False]} \\\n",
    "-delta CC comments among above.')"
   ]
  },
  {
   "cell_type": "code",
   "execution_count": 40,
   "id": "53354b65",
   "metadata": {
    "code_folding": [
     5,
     14
    ],
    "hidden": true,
    "scrolled": true
   },
   "outputs": [
    {
     "data": {
      "image/png": "[encoded data removed]",
      "text/plain": [
       "<Figure size 432x432 with 4 Axes>"
      ]
     },
     "metadata": {
      "needs_background": "light"
     },
     "output_type": "display_data"
    },
    {
     "data": {
      "image/png": "[encoded data removed]",
      "text/plain": [
       "<Figure size 432x432 with 4 Axes>"
      ]
     },
     "metadata": {
      "needs_background": "light"
     },
     "output_type": "display_data"
    },
    {
     "data": {
      "image/png": "[encoded data removed]",
      "text/plain": [
       "<Figure size 432x432 with 4 Axes>"
      ]
     },
     "metadata": {
      "needs_background": "light"
     },
     "output_type": "display_data"
    },
    {
     "data": {
      "image/png": "[encoded data removed]",
      "text/plain": [
       "<Figure size 432x432 with 4 Axes>"
      ]
     },
     "metadata": {
      "needs_background": "light"
     },
     "output_type": "display_data"
    }
   ],
   "source": [
    "# Sanity check plotted distributions\n",
    "utt_zip = [(utt.id,utt.meta['depth'],utt.meta['time_diff'],utt.meta['order'],\n",
    "           len(utt.text.split()),utt.meta['is_awarded_delta'],utt.meta['is_cc_related_gold']) \n",
    "           for utt in filtered_intersection_utts]\n",
    "\n",
    "to_plot_df = pd.DataFrame({\n",
    "    'id':[item[0] for item in utt_zip],\n",
    "    'depth':[item[1] for item in utt_zip],\n",
    "    'time_diff':[np.log((item[2]+1)/60) for item in utt_zip],\n",
    "    'order':[item[3] for item in utt_zip],\n",
    "    'len':[np.log(item[4]+1) for item in utt_zip],\n",
    "    'has_delta':[item[5] for item in utt_zip],\n",
    "    'is_cc':[item[6] for item in utt_zip]})\n",
    "\n",
    "for field in filtered_utts:\n",
    "    if field != 'non_OP':\n",
    "        g = sns.FacetGrid(to_plot_df, col=\"has_delta\", row='is_cc', sharey=False)\n",
    "        g.map(sns.histplot, field)"
   ]
  },
  {
   "cell_type": "code",
   "execution_count": 18,
   "id": "91afe34e",
   "metadata": {
    "hidden": true,
    "scrolled": false
   },
   "outputs": [
    {
     "name": "stdout",
     "output_type": "stream",
     "text": [
      "Counter({'t1': 160491})\n",
      "Counter({False: 160491})\n",
      "Counter({True: 160491})\n"
     ]
    }
   ],
   "source": [
    "# all utterances, no OPs\n",
    "print(Counter([x[:2] for x in filtered_intersection_utt_ids]))\n",
    "print(Counter([utt.meta['written_by_bot'] or utt.text=='[removed]' or utt.text=='[deleted]' \n",
    "         for utt in filtered_intersection_utts]))\n",
    "print(Counter([is_valid(utt)\n",
    "         for utt in filtered_intersection_utts]))"
   ]
  },
  {
   "cell_type": "code",
   "execution_count": 14,
   "id": "4a9f110f",
   "metadata": {
    "hidden": true,
    "scrolled": false
   },
   "outputs": [
    {
     "name": "stdout",
     "output_type": "stream",
     "text": [
      "Found 44363 conversations to which filtered comments belong.\n",
      "Number of Speakers: 43177\n",
      "Number of Utterances: 204891\n",
      "Number of Conversations: 44363\n",
      "Counter({False: 202946, True: 1945})\n"
     ]
    }
   ],
   "source": [
    "filtered_intersection_convo_ids = set([utt.conversation_id for utt in filtered_intersection_utts])\n",
    "#filtered_intersection_convo_utts = []\n",
    "print(f\"Found {len(filtered_intersection_convo_ids)} conversations to which filtered comments belong.\")\n",
    "ids_for_subsample = set(filtered_intersection_utt_ids) | filtered_intersection_convo_ids\n",
    "subsample = corp_to_analyze['full_cmv'].filter_utterances_by(lambda utt: utt.id in ids_for_subsample)\n",
    "subsample.print_summary_stats()\n",
    "print(Counter([utt.meta['is_cc_related_gold'] for utt in subsample.iter_utterances()]))\n",
    "# print(Counter([utt.meta['is_generic'] for utt in subsample.iter_utterances()]))\n",
    "# subsample.dump('subsampled_cmv_corpus','/u/scr/yiweil')"
   ]
  },
  {
   "cell_type": "code",
   "execution_count": 50,
   "id": "04bec229",
   "metadata": {
    "hidden": true
   },
   "outputs": [],
   "source": [
    "subsample.dump('subsampled_cmv_corpus','/u/scr/yiweil')"
   ]
  },
  {
   "cell_type": "code",
   "execution_count": 20,
   "id": "efc5b807",
   "metadata": {
    "hidden": true
   },
   "outputs": [
    {
     "data": {
      "text/plain": [
       "3009059"
      ]
     },
     "execution_count": 20,
     "metadata": {},
     "output_type": "execute_result"
    }
   ],
   "source": [
    "all_convo_utt_ids = set()\n",
    "for convo in subsample.iter_conversations():\n",
    "    all_convo_utt_ids |= set(convo.meta['all_comment_ids'])\n",
    "len(all_convo_utt_ids)"
   ]
  },
  {
   "cell_type": "code",
   "execution_count": 21,
   "id": "5cb1573e",
   "metadata": {
    "hidden": true,
    "scrolled": true
   },
   "outputs": [
    {
     "data": {
      "text/plain": [
       "True"
      ]
     },
     "execution_count": 21,
     "metadata": {},
     "output_type": "execute_result"
    }
   ],
   "source": [
    "set([x for x in subsample.get_utterance_ids()\n",
    "    if x[:2]=='t1']).issubset(all_convo_utt_ids)"
   ]
  },
  {
   "cell_type": "code",
   "execution_count": 15,
   "id": "2e210a88",
   "metadata": {
    "hidden": true
   },
   "outputs": [
    {
     "data": {
      "text/plain": [
       "32586"
      ]
     },
     "execution_count": 15,
     "metadata": {},
     "output_type": "execute_result"
    }
   ],
   "source": [
    "generic_dict = pickle.load(open('new_generic_dict_matched_cmv_subsample.pkl','rb'))\n",
    "generic_missing = set(filtered_intersection_utt_ids).difference(set(generic_dict.keys()))\n",
    "len(generic_missing)"
   ]
  },
  {
   "cell_type": "code",
   "execution_count": 49,
   "id": "36076eff",
   "metadata": {
    "hidden": true,
    "scrolled": true
   },
   "outputs": [
    {
     "name": "stderr",
     "output_type": "stream",
     "text": [
      "100%|██████████| 6701/6701 [53:19<00:00,  2.09it/s]   \n"
     ]
    },
    {
     "name": "stdout",
     "output_type": "stream",
     "text": [
      "Size of generic ids dict: 246153.\n"
     ]
    },
    {
     "ename": "KeyError",
     "evalue": "'is_generic'",
     "output_type": "error",
     "traceback": [
      "\u001b[0;31m---------------------------------------------------------------------------\u001b[0m",
      "\u001b[0;31mKeyError\u001b[0m                                  Traceback (most recent call last)",
      "\u001b[0;32m<ipython-input-49-ea3b143533c1>\u001b[0m in \u001b[0;36m<module>\u001b[0;34m\u001b[0m\n\u001b[1;32m     12\u001b[0m \u001b[0;34m\u001b[0m\u001b[0m\n\u001b[1;32m     13\u001b[0m \u001b[0mprint\u001b[0m\u001b[0;34m(\u001b[0m\u001b[0;34mf\"Size of generic ids dict: {len(generic_dict)}.\"\u001b[0m\u001b[0;34m)\u001b[0m\u001b[0;34m\u001b[0m\u001b[0;34m\u001b[0m\u001b[0m\n\u001b[0;32m---> 14\u001b[0;31m \u001b[0mprint\u001b[0m\u001b[0;34m(\u001b[0m\u001b[0mCounter\u001b[0m\u001b[0;34m(\u001b[0m\u001b[0;34m[\u001b[0m\u001b[0mutt\u001b[0m\u001b[0;34m.\u001b[0m\u001b[0mmeta\u001b[0m\u001b[0;34m[\u001b[0m\u001b[0;34m'is_generic'\u001b[0m\u001b[0;34m]\u001b[0m \u001b[0;32mfor\u001b[0m \u001b[0mutt\u001b[0m \u001b[0;32min\u001b[0m \u001b[0msubsample\u001b[0m\u001b[0;34m.\u001b[0m\u001b[0miter_utterances\u001b[0m\u001b[0;34m(\u001b[0m\u001b[0;34m)\u001b[0m\u001b[0;34m]\u001b[0m\u001b[0;34m)\u001b[0m\u001b[0;34m)\u001b[0m\u001b[0;34m\u001b[0m\u001b[0;34m\u001b[0m\u001b[0m\n\u001b[0m\u001b[1;32m     15\u001b[0m \u001b[0;31m#pickle.dump(generic_dict,open('generic_dict_matched_cmv_subsample.pkl','wb'))\u001b[0m\u001b[0;34m\u001b[0m\u001b[0;34m\u001b[0m\u001b[0;34m\u001b[0m\u001b[0m\n",
      "\u001b[0;32m<ipython-input-49-ea3b143533c1>\u001b[0m in \u001b[0;36m<listcomp>\u001b[0;34m(.0)\u001b[0m\n\u001b[1;32m     12\u001b[0m \u001b[0;34m\u001b[0m\u001b[0m\n\u001b[1;32m     13\u001b[0m \u001b[0mprint\u001b[0m\u001b[0;34m(\u001b[0m\u001b[0;34mf\"Size of generic ids dict: {len(generic_dict)}.\"\u001b[0m\u001b[0;34m)\u001b[0m\u001b[0;34m\u001b[0m\u001b[0;34m\u001b[0m\u001b[0m\n\u001b[0;32m---> 14\u001b[0;31m \u001b[0mprint\u001b[0m\u001b[0;34m(\u001b[0m\u001b[0mCounter\u001b[0m\u001b[0;34m(\u001b[0m\u001b[0;34m[\u001b[0m\u001b[0mutt\u001b[0m\u001b[0;34m.\u001b[0m\u001b[0mmeta\u001b[0m\u001b[0;34m[\u001b[0m\u001b[0;34m'is_generic'\u001b[0m\u001b[0;34m]\u001b[0m \u001b[0;32mfor\u001b[0m \u001b[0mutt\u001b[0m \u001b[0;32min\u001b[0m \u001b[0msubsample\u001b[0m\u001b[0;34m.\u001b[0m\u001b[0miter_utterances\u001b[0m\u001b[0;34m(\u001b[0m\u001b[0;34m)\u001b[0m\u001b[0;34m]\u001b[0m\u001b[0;34m)\u001b[0m\u001b[0;34m)\u001b[0m\u001b[0;34m\u001b[0m\u001b[0;34m\u001b[0m\u001b[0m\n\u001b[0m\u001b[1;32m     15\u001b[0m \u001b[0;31m#pickle.dump(generic_dict,open('generic_dict_matched_cmv_subsample.pkl','wb'))\u001b[0m\u001b[0;34m\u001b[0m\u001b[0;34m\u001b[0m\u001b[0;34m\u001b[0m\u001b[0m\n",
      "\u001b[0;32m/u/nlp/anaconda/main/anaconda3/envs/yiwei-climate/lib/python3.6/site-packages/convokit/model/convoKitMeta.py\u001b[0m in \u001b[0;36m__getitem__\u001b[0;34m(self, item)\u001b[0m\n\u001b[1;32m     16\u001b[0m \u001b[0;34m\u001b[0m\u001b[0m\n\u001b[1;32m     17\u001b[0m     \u001b[0;32mdef\u001b[0m \u001b[0m__getitem__\u001b[0m\u001b[0;34m(\u001b[0m\u001b[0mself\u001b[0m\u001b[0;34m,\u001b[0m \u001b[0mitem\u001b[0m\u001b[0;34m)\u001b[0m\u001b[0;34m:\u001b[0m\u001b[0;34m\u001b[0m\u001b[0;34m\u001b[0m\u001b[0m\n\u001b[0;32m---> 18\u001b[0;31m         \u001b[0;32mreturn\u001b[0m \u001b[0mdict\u001b[0m\u001b[0;34m.\u001b[0m\u001b[0m__getitem__\u001b[0m\u001b[0;34m(\u001b[0m\u001b[0mself\u001b[0m\u001b[0;34m,\u001b[0m \u001b[0mitem\u001b[0m\u001b[0;34m)\u001b[0m\u001b[0;34m\u001b[0m\u001b[0;34m\u001b[0m\u001b[0m\n\u001b[0m\u001b[1;32m     19\u001b[0m \u001b[0;34m\u001b[0m\u001b[0m\n\u001b[1;32m     20\u001b[0m     \u001b[0;34m@\u001b[0m\u001b[0mstaticmethod\u001b[0m\u001b[0;34m\u001b[0m\u001b[0;34m\u001b[0m\u001b[0m\n",
      "\u001b[0;31mKeyError\u001b[0m: 'is_generic'"
     ]
    }
   ],
   "source": [
    "# # Filter out generic utterances\n",
    "# #utt_ids_to_generic = dict()\n",
    "# for utt_id in tqdm(generic_missing):\n",
    "#     utt = subsample.get_utterance(utt_id)\n",
    "#     if is_valid(utt) and utt.id[:2] == 't1':\n",
    "#         bool_ = is_generic(utt.text,compiled_pats=generic_regex_pats)\n",
    "#         utt.meta['is_generic'] = bool_\n",
    "#         generic_dict[utt.id] = bool_\n",
    "#     else:\n",
    "#         utt.meta['is_generic'] = None\n",
    "#         generic_dict[utt.id] = False\n",
    "\n",
    "# print(f\"Size of generic ids dict: {len(generic_dict)}.\")\n",
    "# print(Counter([utt.meta['is_generic'] for utt in subsample.iter_utterances()]))\n",
    "# #pickle.dump(generic_dict,open('generic_dict_matched_cmv_subsample.pkl','wb'))"
   ]
  },
  {
   "cell_type": "code",
   "execution_count": 50,
   "id": "11a2fe2f",
   "metadata": {
    "hidden": true
   },
   "outputs": [],
   "source": [
    "pickle.dump(generic_dict,open('new_generic_dict_matched_cmv_subsample.pkl','wb'))"
   ]
  },
  {
   "cell_type": "markdown",
   "id": "ae798cd3",
   "metadata": {
    "heading_collapsed": true
   },
   "source": [
    "# [OLD] Matched length/topic comments for binary prediction"
   ]
  },
  {
   "cell_type": "code",
   "execution_count": 44,
   "id": "535a9869",
   "metadata": {
    "code_folding": [
     0,
     3,
     8,
     17,
     21,
     39
    ],
    "hidden": true
   },
   "outputs": [],
   "source": [
    "def fewer_n_words(utt,n=20):\n",
    "    return len(utt.text.strip().split()) < n\n",
    "\n",
    "def OP_not_deleted(corp,convo_id):\n",
    "    return corp.get_utterance(convo_id).speaker.id is not None\n",
    "\n",
    "delta_awarding_ids = set(deltalog['awarding_utt_id'].values)\n",
    "awarding2awarded = dict(zip(deltalog['awarding_utt_id'],deltalog['awarded_utt_id']))\n",
    "def OP_deltas(corp,convo_id):\n",
    "    convo = corp.get_conversation(convo_id)\n",
    "    op_id = corp.get_utterance(convo_id).speaker.id\n",
    "    op_utt_ids = set([utt_id for utt_id in convo.get_utterance_ids()\n",
    "                      if corp.get_utterance(utt_id).speaker.id == op_id])\n",
    "    #print(op_id)\n",
    "    #print(op_utt_ids)\n",
    "    return op_utt_ids.intersection(delta_awarding_ids)\n",
    "\n",
    "def has_enough_challengers(corp,convo_id,n=10):\n",
    "    num_challengers = len(corp.get_conversation(convo_id).get_speaker_ids())\n",
    "    return num_challengers >= n\n",
    "\n",
    "def has_enough_prior_failed_args(corp,convo_id,n=3,verbose=False):\n",
    "    convo = corp.get_conversation(convo_id)\n",
    "    OP_id = corp.get_utterance(convo_id).speaker.id\n",
    "    in_order_utts = [utt for utt in convo.get_chronological_utterance_list()]\n",
    "    last_OP_utt = [utt for utt in in_order_utts if utt.speaker.id == OP_id][-1]\n",
    "    utts_prior_to_last_OP_utt = in_order_utts[:in_order_utts.index(last_OP_utt)]\n",
    "    utts_prior_delta_counts = Counter([utt.meta['is_awarded_delta'] for utt in utts_prior_to_last_OP_utt])\n",
    "    \n",
    "    if verbose:\n",
    "        print('conversation URL:',convo.meta['url'])\n",
    "        print('OP username:',OP_id)\n",
    "        print('last OP reply:',last_OP_utt.meta['permalink'])\n",
    "        print('delta counts of prior utts:',utts_prior_delta_counts)\n",
    "    return utts_prior_delta_counts[False] >= n\n",
    "\n",
    "def has_enough_counterarguments(corp,convo_id):\n",
    "    return has_enough_challengers(corp,convo_id) and has_enough_prior_failed_args(corp,convo_id)\n",
    "\n",
    "def is_generic_from_cache(utt):\n",
    "    return utt.meta['is_generic']"
   ]
  },
  {
   "cell_type": "code",
   "execution_count": 45,
   "id": "bbc537d5",
   "metadata": {
    "hidden": true,
    "scrolled": true
   },
   "outputs": [
    {
     "name": "stdout",
     "output_type": "stream",
     "text": [
      "conversation URL: https://www.reddit.com/r/changemyview/comments/o9pyz7/cmv_we_should_cure_disabilities_if_we_can_despite/\n",
      "OP username: UndeadSocrates\n",
      "last OP reply: /r/changemyview/comments/o9pyz7/cmv_we_should_cure_disabilities_if_we_can_despite/h3dqfwp/\n",
      "delta counts of prior utts: Counter({False: 63, True: 2})\n"
     ]
    },
    {
     "data": {
      "text/plain": [
       "True"
      ]
     },
     "execution_count": 45,
     "metadata": {},
     "output_type": "execute_result"
    }
   ],
   "source": [
    "has_enough_prior_failed_args(corp_to_analyze['full_cmv'],convo.id,verbose=True)"
   ]
  },
  {
   "cell_type": "code",
   "execution_count": 57,
   "id": "18ba5859",
   "metadata": {
    "hidden": true,
    "scrolled": false
   },
   "outputs": [
    {
     "name": "stdout",
     "output_type": "stream",
     "text": [
      "Annotating generic utterances in full_cmv...\n"
     ]
    },
    {
     "name": "stderr",
     "output_type": "stream",
     "text": [
      "204936it [00:01, 177757.85it/s]"
     ]
    },
    {
     "name": "stdout",
     "output_type": "stream",
     "text": [
      "Filtering to 756789 non-generic comments.\n"
     ]
    },
    {
     "name": "stderr",
     "output_type": "stream",
     "text": [
      "\n"
     ]
    }
   ],
   "source": [
    "print(\"Annotating generic utterances in {}...\".format(corp_name))\n",
    "subsample = annotate_generic_comments(\n",
    "    subsample, \n",
    "    GENERIC_REGEX_PATS,\n",
    "    fname='non_generic_utt_ids_matched_cmv_subsample.pkl')"
   ]
  },
  {
   "cell_type": "code",
   "execution_count": 59,
   "id": "67947f9a",
   "metadata": {
    "hidden": true,
    "scrolled": true
   },
   "outputs": [
    {
     "data": {
      "text/plain": [
       "Counter({'t1': 2081})"
      ]
     },
     "execution_count": 59,
     "metadata": {},
     "output_type": "execute_result"
    }
   ],
   "source": [
    "Counter([utt.id[:2] for utt in subsample.iter_utterances()\n",
    "        if utt.meta['is_generic']])"
   ]
  },
  {
   "cell_type": "code",
   "execution_count": 60,
   "id": "7ab2c9e1",
   "metadata": {
    "hidden": true
   },
   "outputs": [
    {
     "data": {
      "text/plain": [
       "Counter({True: 184475, False: 20461})"
      ]
     },
     "execution_count": 60,
     "metadata": {},
     "output_type": "execute_result"
    }
   ],
   "source": [
    "Counter([is_valid(utt)\n",
    "        for utt in subsample.iter_utterances()])"
   ]
  },
  {
   "cell_type": "code",
   "execution_count": 78,
   "id": "301a4bbe",
   "metadata": {
    "hidden": true,
    "scrolled": true
   },
   "outputs": [
    {
     "data": {
      "text/plain": [
       "Counter({'t3': 36})"
      ]
     },
     "execution_count": 78,
     "metadata": {},
     "output_type": "execute_result"
    }
   ],
   "source": [
    "Counter([utt.id[:2] for utt in subsample.iter_utterances()\n",
    "        if utt.meta['written_by_bot']])"
   ]
  },
  {
   "cell_type": "code",
   "execution_count": 79,
   "id": "6413e4de",
   "metadata": {
    "code_folding": [],
    "hidden": true,
    "scrolled": true
   },
   "outputs": [
    {
     "name": "stdout",
     "output_type": "stream",
     "text": [
      "9025 42694\n"
     ]
    }
   ],
   "source": [
    "regression_convo_ids = set([convo.id for convo in subsample.iter_conversations()\n",
    "                            if OP_not_deleted(corp_to_analyze['full_cmv'],convo.id)\n",
    "                            and (len(OP_deltas(corp_to_analyze['full_cmv'],convo.id)) > 0)\n",
    "                            and has_enough_counterarguments(corp_to_analyze['full_cmv'],convo.id)\n",
    "                            ])\n",
    "regression_utt_ids = set([utt.id for utt in subsample.iter_utterances()\n",
    "                      if utt.id[:2] == 't1'\n",
    "                      and (not utt.meta['is_generic'])\n",
    "                      and is_valid(utt)\n",
    "                      and (not fewer_n_words(utt))\n",
    "                      and utt.conversation_id in regression_convo_ids])\n",
    "print(len(regression_convo_ids),len(regression_utt_ids))"
   ]
  },
  {
   "cell_type": "code",
   "execution_count": 74,
   "id": "57fd07b7",
   "metadata": {
    "hidden": true,
    "scrolled": false
   },
   "outputs": [
    {
     "data": {
      "text/plain": [
       "False"
      ]
     },
     "execution_count": 74,
     "metadata": {},
     "output_type": "execute_result"
    }
   ],
   "source": [
    "not subsample.get_utterance(utt_id).meta['is_generic']"
   ]
  },
  {
   "cell_type": "code",
   "execution_count": 80,
   "id": "8c7ed0b9",
   "metadata": {
    "code_folding": [],
    "hidden": true,
    "scrolled": false
   },
   "outputs": [
    {
     "ename": "AssertionError",
     "evalue": "",
     "output_type": "error",
     "traceback": [
      "\u001b[0;31m---------------------------------------------------------------------------\u001b[0m",
      "\u001b[0;31mAssertionError\u001b[0m                            Traceback (most recent call last)",
      "\u001b[0;32m<ipython-input-80-aa930a3de9de>\u001b[0m in \u001b[0;36m<module>\u001b[0;34m\u001b[0m\n\u001b[1;32m      4\u001b[0m         \u001b[0;32mif\u001b[0m \u001b[0;34m(\u001b[0m\u001b[0mutt_id\u001b[0m\u001b[0;34m[\u001b[0m\u001b[0;34m:\u001b[0m\u001b[0;36m2\u001b[0m\u001b[0;34m]\u001b[0m \u001b[0;34m==\u001b[0m \u001b[0;34m't1'\u001b[0m\u001b[0;34m)\u001b[0m \u001b[0;32mand\u001b[0m \u001b[0;34m(\u001b[0m\u001b[0;32mnot\u001b[0m \u001b[0mutt\u001b[0m\u001b[0;34m.\u001b[0m\u001b[0mmeta\u001b[0m\u001b[0;34m[\u001b[0m\u001b[0;34m'is_generic'\u001b[0m\u001b[0;34m]\u001b[0m\u001b[0;34m)\u001b[0m \u001b[0;32mand\u001b[0m \u001b[0;34m(\u001b[0m\u001b[0mis_valid\u001b[0m\u001b[0;34m(\u001b[0m\u001b[0mutt\u001b[0m\u001b[0;34m)\u001b[0m\u001b[0;34m)\u001b[0m \u001b[0;32mand\u001b[0m \u001b[0;34m(\u001b[0m\u001b[0;32mnot\u001b[0m \u001b[0mfewer_n_words\u001b[0m\u001b[0;34m(\u001b[0m\u001b[0mutt\u001b[0m\u001b[0;34m)\u001b[0m\u001b[0;34m)\u001b[0m\u001b[0;34m:\u001b[0m\u001b[0;34m\u001b[0m\u001b[0;34m\u001b[0m\u001b[0m\n\u001b[1;32m      5\u001b[0m             \u001b[0;31m#print(not utt.meta['is_generic'])\u001b[0m\u001b[0;34m\u001b[0m\u001b[0;34m\u001b[0m\u001b[0;34m\u001b[0m\u001b[0m\n\u001b[0;32m----> 6\u001b[0;31m             \u001b[0;32massert\u001b[0m \u001b[0mutt_id\u001b[0m \u001b[0;32min\u001b[0m \u001b[0mregression_utt_ids\u001b[0m\u001b[0;34m\u001b[0m\u001b[0;34m\u001b[0m\u001b[0m\n\u001b[0m\u001b[1;32m      7\u001b[0m             \u001b[0mutt\u001b[0m \u001b[0;34m=\u001b[0m \u001b[0msubsample\u001b[0m\u001b[0;34m.\u001b[0m\u001b[0mget_utterance\u001b[0m\u001b[0;34m(\u001b[0m\u001b[0mutt_id\u001b[0m\u001b[0;34m)\u001b[0m\u001b[0;34m\u001b[0m\u001b[0;34m\u001b[0m\u001b[0m\n\u001b[1;32m      8\u001b[0m             \u001b[0mjson_obj\u001b[0m \u001b[0;34m=\u001b[0m \u001b[0mget_stanza_json\u001b[0m\u001b[0;34m(\u001b[0m\u001b[0mutt\u001b[0m\u001b[0;34m)\u001b[0m\u001b[0;34m\u001b[0m\u001b[0;34m\u001b[0m\u001b[0m\n",
      "\u001b[0;31mAssertionError\u001b[0m: "
     ]
    }
   ],
   "source": [
    "for convo_id in regression_convo_ids:\n",
    "    convo = subsample.get_conversation(convo_id)\n",
    "    for utt_id in convo.get_utterance_ids():\n",
    "        if (utt_id[:2] == 't1') and (not utt.meta['is_generic']) and (is_valid(utt)) and (not fewer_n_words(utt)):\n",
    "            #print(not utt.meta['is_generic'])\n",
    "            assert utt_id in regression_utt_ids\n",
    "            utt = subsample.get_utterance(utt_id)\n",
    "            json_obj = get_stanza_json(utt)"
   ]
  },
  {
   "cell_type": "code",
   "execution_count": 81,
   "id": "44fb9d81",
   "metadata": {
    "hidden": true
   },
   "outputs": [
    {
     "data": {
      "text/plain": [
       "False"
      ]
     },
     "execution_count": 81,
     "metadata": {},
     "output_type": "execute_result"
    }
   ],
   "source": [
    "utt.meta['is_generic']"
   ]
  },
  {
   "cell_type": "code",
   "execution_count": 77,
   "id": "4ef9b865",
   "metadata": {
    "hidden": true,
    "scrolled": true
   },
   "outputs": [
    {
     "data": {
      "text/plain": [
       "{'subreddit_id': 't5_2w2s8',\n",
       " 'author_is_blocked': False,\n",
       " 'awarders': [],\n",
       " 'author_flair_type': 'text',\n",
       " 'total_awards_received': 0,\n",
       " 'subreddit': 'changemyview',\n",
       " 'user_reports': [],\n",
       " 'gilded': 0,\n",
       " 'archived': False,\n",
       " 'collapsed_reason_code': None,\n",
       " 'no_follow': True,\n",
       " 'can_mod_post': False,\n",
       " 'send_replies': True,\n",
       " 'score': 1,\n",
       " 'author_fullname': 't2_6pjqc0',\n",
       " 'all_awardings': [],\n",
       " 'collapsed': False,\n",
       " 'edited': False,\n",
       " 'top_awarded_type': None,\n",
       " 'name': 't1_hcg43t9',\n",
       " 'is_submitter': False,\n",
       " 'downs': 0,\n",
       " 'author_flair_richtext': [],\n",
       " 'removal_reason': None,\n",
       " 'collapsed_reason': None,\n",
       " 'distinguished': None,\n",
       " 'stickied': False,\n",
       " 'author_premium': False,\n",
       " 'can_gild': True,\n",
       " 'score_hidden': False,\n",
       " 'permalink': '/r/changemyview/comments/pm48p2/cmv_almost_irregardless_of_opinion_if_we_expect/hcg43t9/',\n",
       " 'subreddit_type': 'public',\n",
       " 'locked': False,\n",
       " 'created': 1631375745.0,\n",
       " 'author_flair_text': '2∆',\n",
       " 'treatment_tags': [],\n",
       " 'link_id': 't3_pm48p2',\n",
       " 'subreddit_name_prefixed': 'r/changemyview',\n",
       " 'controversiality': 0,\n",
       " 'mod_reports': [],\n",
       " 'ups': 1,\n",
       " 'reply_ids': ['t1_hcgu2mj'],\n",
       " 'written_by_bot': False,\n",
       " 'is_awarded_delta': True,\n",
       " 'num_deltas': 1,\n",
       " 'is_cc_related_gold': False,\n",
       " 'depth': 1,\n",
       " 'time_diff': 23650.0,\n",
       " 'order': 161,\n",
       " 'is_generic': False}"
      ]
     },
     "execution_count": 77,
     "metadata": {},
     "output_type": "execute_result"
    }
   ],
   "source": [
    "utt.meta"
   ]
  },
  {
   "cell_type": "code",
   "execution_count": 223,
   "id": "6ad031f1",
   "metadata": {
    "hidden": true
   },
   "outputs": [],
   "source": [
    "pickle.dump({'convo': regression_convo_ids,\n",
    "             'utt': regression_utt_ids},open('convo_utt_ids_for_regression.pkl','wb'))"
   ]
  },
  {
   "cell_type": "markdown",
   "id": "0aee2d99",
   "metadata": {
    "hidden": true
   },
   "source": [
    "Hence, for each rooted path-unit that wins\n",
    "a ∆, we find the rooted path-unit in the same discussion tree that\n",
    "did not win a ∆ but was the most “similar” in topic. We measure\n",
    "similarity between rooted path-units based on Jaccard similarity in\n",
    "the root replies after removing stopwords (as defined by Mallet’s\n",
    "dictionary [31]).\n",
    "Jaccard(A, B) = |A ∩ B|\n",
    "|A ∪ B|\n",
    ",\n",
    "where A, B are the sets of words in the first reply of each of the two\n",
    "rooted path-units."
   ]
  },
  {
   "cell_type": "code",
   "execution_count": 173,
   "id": "1292d71e",
   "metadata": {
    "code_folding": [
     3,
     6,
     10
    ],
    "hidden": true
   },
   "outputs": [],
   "source": [
    "from nltk.corpus import stopwords\n",
    "stops = set(stopwords.words('english'))\n",
    "\n",
    "def get_jaccard_sim(utt1,utt2,to_ignore=stops):\n",
    "    json1 = get_stanza_json(utt1)\n",
    "    json2 = get_stanza_json(utt2)\n",
    "    utt1_words = [x['lemma'] if x['lemma'] is not None \n",
    "                   else x['text']\n",
    "                   for sent in json1['parse']\n",
    "                   for x in sent]\n",
    "    utt2_words = [x['lemma'] if x['lemma'] is not None \n",
    "                   else x['text']\n",
    "                   for sent in json2['parse']\n",
    "                   for x in sent]\n",
    "    utt1_words = set([w for w in utt1_words if w not in to_ignore])\n",
    "    utt2_words = set([w for w in utt2_words if w not in to_ignore])\n",
    "    return len(utt1_words.intersection(utt2_words))/len(utt1_words | utt2_words)"
   ]
  },
  {
   "cell_type": "code",
   "execution_count": 222,
   "id": "95a62cda",
   "metadata": {
    "code_folding": [
     2
    ],
    "hidden": true,
    "scrolled": true
   },
   "outputs": [
    {
     "name": "stderr",
     "output_type": "stream",
     "text": [
      " 18%|█▊        | 1586/9033 [05:08<24:08,  5.14it/s] \n"
     ]
    },
    {
     "ename": "KeyboardInterrupt",
     "evalue": "",
     "output_type": "error",
     "traceback": [
      "\u001b[0;31m---------------------------------------------------------------------------\u001b[0m",
      "\u001b[0;31mKeyboardInterrupt\u001b[0m                         Traceback (most recent call last)",
      "\u001b[0;32m<ipython-input-222-992754ad0c4b>\u001b[0m in \u001b[0;36m<module>\u001b[0;34m\u001b[0m\n\u001b[1;32m     17\u001b[0m                 \u001b[0;31m#print(f\"\\tLooking for most similar utt to '{pos_delta_utt.text}'...\")\u001b[0m\u001b[0;34m\u001b[0m\u001b[0;34m\u001b[0m\u001b[0;34m\u001b[0m\u001b[0m\n\u001b[1;32m     18\u001b[0m                 sims = [(get_jaccard_sim(pos_delta_utt,subsample.get_utterance(utt_id)),utt_id)\n\u001b[0;32m---> 19\u001b[0;31m                         for utt_id in non_delta_ids]\n\u001b[0m\u001b[1;32m     20\u001b[0m                 \u001b[0msorted_sims\u001b[0m \u001b[0;34m=\u001b[0m \u001b[0msorted\u001b[0m\u001b[0;34m(\u001b[0m\u001b[0msims\u001b[0m\u001b[0;34m,\u001b[0m\u001b[0mkey\u001b[0m\u001b[0;34m=\u001b[0m\u001b[0;32mlambda\u001b[0m \u001b[0mx\u001b[0m\u001b[0;34m:\u001b[0m\u001b[0mx\u001b[0m\u001b[0;34m[\u001b[0m\u001b[0;36m0\u001b[0m\u001b[0;34m]\u001b[0m\u001b[0;34m,\u001b[0m\u001b[0mreverse\u001b[0m\u001b[0;34m=\u001b[0m\u001b[0;32mTrue\u001b[0m\u001b[0;34m)\u001b[0m\u001b[0;34m\u001b[0m\u001b[0;34m\u001b[0m\u001b[0m\n\u001b[1;32m     21\u001b[0m                 \u001b[0;31m#print(\"\\tSorted Jaccard similarities:\",sorted_sims)\u001b[0m\u001b[0;34m\u001b[0m\u001b[0;34m\u001b[0m\u001b[0;34m\u001b[0m\u001b[0m\n",
      "\u001b[0;32m<ipython-input-222-992754ad0c4b>\u001b[0m in \u001b[0;36m<listcomp>\u001b[0;34m(.0)\u001b[0m\n\u001b[1;32m     17\u001b[0m                 \u001b[0;31m#print(f\"\\tLooking for most similar utt to '{pos_delta_utt.text}'...\")\u001b[0m\u001b[0;34m\u001b[0m\u001b[0;34m\u001b[0m\u001b[0;34m\u001b[0m\u001b[0m\n\u001b[1;32m     18\u001b[0m                 sims = [(get_jaccard_sim(pos_delta_utt,subsample.get_utterance(utt_id)),utt_id)\n\u001b[0;32m---> 19\u001b[0;31m                         for utt_id in non_delta_ids]\n\u001b[0m\u001b[1;32m     20\u001b[0m                 \u001b[0msorted_sims\u001b[0m \u001b[0;34m=\u001b[0m \u001b[0msorted\u001b[0m\u001b[0;34m(\u001b[0m\u001b[0msims\u001b[0m\u001b[0;34m,\u001b[0m\u001b[0mkey\u001b[0m\u001b[0;34m=\u001b[0m\u001b[0;32mlambda\u001b[0m \u001b[0mx\u001b[0m\u001b[0;34m:\u001b[0m\u001b[0mx\u001b[0m\u001b[0;34m[\u001b[0m\u001b[0;36m0\u001b[0m\u001b[0;34m]\u001b[0m\u001b[0;34m,\u001b[0m\u001b[0mreverse\u001b[0m\u001b[0;34m=\u001b[0m\u001b[0;32mTrue\u001b[0m\u001b[0;34m)\u001b[0m\u001b[0;34m\u001b[0m\u001b[0;34m\u001b[0m\u001b[0m\n\u001b[1;32m     21\u001b[0m                 \u001b[0;31m#print(\"\\tSorted Jaccard similarities:\",sorted_sims)\u001b[0m\u001b[0;34m\u001b[0m\u001b[0;34m\u001b[0m\u001b[0;34m\u001b[0m\u001b[0m\n",
      "\u001b[0;32m<ipython-input-173-2ba50193f487>\u001b[0m in \u001b[0;36mget_jaccard_sim\u001b[0;34m(utt1, utt2, to_ignore)\u001b[0m\n\u001b[1;32m      4\u001b[0m \u001b[0;32mdef\u001b[0m \u001b[0mget_jaccard_sim\u001b[0m\u001b[0;34m(\u001b[0m\u001b[0mutt1\u001b[0m\u001b[0;34m,\u001b[0m\u001b[0mutt2\u001b[0m\u001b[0;34m,\u001b[0m\u001b[0mto_ignore\u001b[0m\u001b[0;34m=\u001b[0m\u001b[0mstops\u001b[0m\u001b[0;34m)\u001b[0m\u001b[0;34m:\u001b[0m\u001b[0;34m\u001b[0m\u001b[0;34m\u001b[0m\u001b[0m\n\u001b[1;32m      5\u001b[0m     \u001b[0mjson1\u001b[0m \u001b[0;34m=\u001b[0m \u001b[0mget_stanza_json\u001b[0m\u001b[0;34m(\u001b[0m\u001b[0mutt1\u001b[0m\u001b[0;34m)\u001b[0m\u001b[0;34m\u001b[0m\u001b[0;34m\u001b[0m\u001b[0m\n\u001b[0;32m----> 6\u001b[0;31m     \u001b[0mjson2\u001b[0m \u001b[0;34m=\u001b[0m \u001b[0mget_stanza_json\u001b[0m\u001b[0;34m(\u001b[0m\u001b[0mutt2\u001b[0m\u001b[0;34m)\u001b[0m\u001b[0;34m\u001b[0m\u001b[0;34m\u001b[0m\u001b[0m\n\u001b[0m\u001b[1;32m      7\u001b[0m     utt1_words = [x['lemma'] if x['lemma'] is not None \n\u001b[1;32m      8\u001b[0m                    \u001b[0;32melse\u001b[0m \u001b[0mx\u001b[0m\u001b[0;34m[\u001b[0m\u001b[0;34m'text'\u001b[0m\u001b[0;34m]\u001b[0m\u001b[0;34m\u001b[0m\u001b[0;34m\u001b[0m\u001b[0m\n",
      "\u001b[0;32m<ipython-input-200-893481cfb273>\u001b[0m in \u001b[0;36mget_stanza_json\u001b[0;34m(utt, stanza_dir)\u001b[0m\n\u001b[1;32m     28\u001b[0m     stanza_dir='/u/scr/yiweil/Green-American-Lexicon/2_data_exploration/combined_stanza_output_with_ner_embed_removed'):\n\u001b[1;32m     29\u001b[0m     \u001b[0;32mif\u001b[0m \u001b[0mlen\u001b[0m\u001b[0;34m(\u001b[0m\u001b[0mutt\u001b[0m\u001b[0;34m.\u001b[0m\u001b[0mtext\u001b[0m\u001b[0;34m)\u001b[0m \u001b[0;34m>\u001b[0m \u001b[0;36m0\u001b[0m\u001b[0;34m:\u001b[0m\u001b[0;34m\u001b[0m\u001b[0;34m\u001b[0m\u001b[0m\n\u001b[0;32m---> 30\u001b[0;31m         \u001b[0;32mreturn\u001b[0m \u001b[0mjson\u001b[0m\u001b[0;34m.\u001b[0m\u001b[0mload\u001b[0m\u001b[0;34m(\u001b[0m\u001b[0mopen\u001b[0m\u001b[0;34m(\u001b[0m\u001b[0mos\u001b[0m\u001b[0;34m.\u001b[0m\u001b[0mpath\u001b[0m\u001b[0;34m.\u001b[0m\u001b[0mjoin\u001b[0m\u001b[0;34m(\u001b[0m\u001b[0mstanza_dir\u001b[0m\u001b[0;34m,\u001b[0m\u001b[0;34mf'{utt.id}.json'\u001b[0m\u001b[0;34m)\u001b[0m\u001b[0;34m,\u001b[0m\u001b[0;34m'r'\u001b[0m\u001b[0;34m)\u001b[0m\u001b[0;34m)\u001b[0m\u001b[0;34m\u001b[0m\u001b[0;34m\u001b[0m\u001b[0m\n\u001b[0m\u001b[1;32m     31\u001b[0m \u001b[0;34m\u001b[0m\u001b[0m\n\u001b[1;32m     32\u001b[0m \u001b[0;32mfrom\u001b[0m \u001b[0msklearn\u001b[0m\u001b[0;34m.\u001b[0m\u001b[0mfeature_extraction\u001b[0m\u001b[0;34m.\u001b[0m\u001b[0mtext\u001b[0m \u001b[0;32mimport\u001b[0m \u001b[0mCountVectorizer\u001b[0m\u001b[0;34m\u001b[0m\u001b[0;34m\u001b[0m\u001b[0m\n",
      "\u001b[0;32m/u/nlp/anaconda/main/anaconda3/envs/yiwei-climate/lib/python3.6/_bootlocale.py\u001b[0m in \u001b[0;36mgetpreferredencoding\u001b[0;34m(do_setlocale)\u001b[0m\n\u001b[1;32m     21\u001b[0m             \u001b[0;32mreturn\u001b[0m \u001b[0mlocale\u001b[0m\u001b[0;34m.\u001b[0m\u001b[0mgetpreferredencoding\u001b[0m\u001b[0;34m(\u001b[0m\u001b[0mdo_setlocale\u001b[0m\u001b[0;34m)\u001b[0m\u001b[0;34m\u001b[0m\u001b[0;34m\u001b[0m\u001b[0m\n\u001b[1;32m     22\u001b[0m     \u001b[0;32melse\u001b[0m\u001b[0;34m:\u001b[0m\u001b[0;34m\u001b[0m\u001b[0;34m\u001b[0m\u001b[0m\n\u001b[0;32m---> 23\u001b[0;31m         \u001b[0;32mdef\u001b[0m \u001b[0mgetpreferredencoding\u001b[0m\u001b[0;34m(\u001b[0m\u001b[0mdo_setlocale\u001b[0m\u001b[0;34m=\u001b[0m\u001b[0;32mTrue\u001b[0m\u001b[0;34m)\u001b[0m\u001b[0;34m:\u001b[0m\u001b[0;34m\u001b[0m\u001b[0;34m\u001b[0m\u001b[0m\n\u001b[0m\u001b[1;32m     24\u001b[0m             \u001b[0;32massert\u001b[0m \u001b[0;32mnot\u001b[0m \u001b[0mdo_setlocale\u001b[0m\u001b[0;34m\u001b[0m\u001b[0;34m\u001b[0m\u001b[0m\n\u001b[1;32m     25\u001b[0m             \u001b[0mresult\u001b[0m \u001b[0;34m=\u001b[0m \u001b[0m_locale\u001b[0m\u001b[0;34m.\u001b[0m\u001b[0mnl_langinfo\u001b[0m\u001b[0;34m(\u001b[0m\u001b[0m_locale\u001b[0m\u001b[0;34m.\u001b[0m\u001b[0mCODESET\u001b[0m\u001b[0;34m)\u001b[0m\u001b[0;34m\u001b[0m\u001b[0;34m\u001b[0m\u001b[0m\n",
      "\u001b[0;31mKeyboardInterrupt\u001b[0m: "
     ]
    }
   ],
   "source": [
    "matched_pairs = defaultdict()\n",
    "\n",
    "for convo_id in tqdm(regression_convo_ids):\n",
    "    convo = subsample.get_conversation(convo_id)\n",
    "    convo_delta_awarding_ids = OP_deltas(corp_to_analyze['full_cmv'],convo_id)\n",
    "    convo_delta_awarded_ids = set([awarding2awarded[x] for x in convo_delta_awarding_ids]).intersection(\n",
    "        regression_utt_ids)\n",
    "    non_delta_ids = set([x for x in convo.get_utterance_ids() if x[:2] == 't1'\n",
    "                         and x in regression_utt_ids]).difference(\n",
    "        convo_delta_awarded_ids)\n",
    "    #print(f\"Found {len(convo_delta_awarded_ids)} comments awarded deltas in conversation {convo_id}.\")\n",
    "    #print(f\"Found {len(non_delta_ids)} comments not-awarded deltas in conversation {convo_id}.\")\n",
    "    if len(non_delta_ids) > 0:\n",
    "        for delta_utt_id in convo_delta_awarded_ids: # find most similar -delta utt for each +delta utt w/ a delta\n",
    "            try:\n",
    "                pos_delta_utt = subsample.get_utterance(delta_utt_id)\n",
    "                #print(f\"\\tLooking for most similar utt to '{pos_delta_utt.text}'...\")\n",
    "                sims = [(get_jaccard_sim(pos_delta_utt,subsample.get_utterance(utt_id)),utt_id)\n",
    "                        for utt_id in non_delta_ids]\n",
    "                sorted_sims = sorted(sims,key=lambda x:x[0],reverse=True)\n",
    "                #print(\"\\tSorted Jaccard similarities:\",sorted_sims)\n",
    "                most_sim_utt_id = sorted_sims[0][1]\n",
    "                #print(\"\\tMost similar utt:\",subsample.get_utterance(most_sim_utt_id).text)\n",
    "                matched_pairs[delta_utt_id] = most_sim_utt_id\n",
    "            except KeyError:\n",
    "                pass\n",
    "            \n",
    "pickle.dump(matched_pairs,open('matched_pairs_for_regression.pkl','wb'))"
   ]
  },
  {
   "cell_type": "code",
   "execution_count": 187,
   "id": "9ebcee82",
   "metadata": {
    "hidden": true
   },
   "outputs": [
    {
     "data": {
      "text/plain": [
       "defaultdict(None, {})"
      ]
     },
     "execution_count": 187,
     "metadata": {},
     "output_type": "execute_result"
    }
   ],
   "source": [
    "matched_pairs"
   ]
  },
  {
   "cell_type": "markdown",
   "id": "a11145d4",
   "metadata": {
    "hidden": true
   },
   "source": [
    "Hence we develop a post-mortem “dissection” task (labelled root\n",
    "truncated) in which we only consider the root reply and truncate\n",
    "the longer one within a pair so that both root replies have the same\n",
    "number of words. This forcefully removes all length effects."
   ]
  },
  {
   "cell_type": "code",
   "execution_count": null,
   "id": "c57c97a5",
   "metadata": {
    "hidden": true
   },
   "outputs": [],
   "source": [
    "matched_pairs_truncated = {\n",
    "    key[:max(len(subsample.get_utterance(key).text),\n",
    "             len(subsample.get_utterance(matched_pairs[key]).text))]: \\\n",
    "    matched_pairs[key][:max(len(subsample.get_utterance(key).text),\n",
    "                            len(subsample.get_utterance(matched_pairs[key]).text))]\n",
    "}"
   ]
  },
  {
   "cell_type": "code",
   "execution_count": null,
   "id": "7bf0ed51",
   "metadata": {
    "hidden": true
   },
   "outputs": [],
   "source": []
  },
  {
   "cell_type": "markdown",
   "id": "536b98c7",
   "metadata": {
    "heading_collapsed": true
   },
   "source": [
    "# [OLD] Stance labeling"
   ]
  },
  {
   "cell_type": "code",
   "execution_count": 71,
   "id": "59ac4f06",
   "metadata": {
    "hidden": true
   },
   "outputs": [
    {
     "data": {
      "text/plain": [
       "(150, array(['t3_an59pr', 't3_563ep2', 't3_2ylc5a'], dtype='<U9'))"
      ]
     },
     "execution_count": 71,
     "metadata": {},
     "output_type": "execute_result"
    }
   ],
   "source": [
    "# Select random sample to manually classify\n",
    "sample_convo_ids = np.random.choice(climate_convo_idxs,size=150,replace=False)\n",
    "len(sample_convo_ids),sample_convo_ids[:3]"
   ]
  },
  {
   "cell_type": "code",
   "execution_count": 83,
   "id": "f9d103ea",
   "metadata": {
    "hidden": true,
    "scrolled": true
   },
   "outputs": [],
   "source": [
    "# Write to file to manually label\n",
    "pd.DataFrame({\n",
    "    'id': sample_convo_ids,\n",
    "    'title': [corpus.get_utterance(convo_id).meta['title'] \n",
    "             if 'title' in corpus.get_utterance(convo_id).meta else -1\n",
    "             for convo_id in sample_convo_ids],\n",
    "    'label': [-1]*len(sample_convo_ids)\n",
    "}).to_csv('cmv_climate_posts_to_manually_stance_label.csv',header=True,index=False)"
   ]
  },
  {
   "cell_type": "code",
   "execution_count": 57,
   "id": "f8c0ff7a",
   "metadata": {
    "hidden": true,
    "scrolled": false
   },
   "outputs": [
    {
     "data": {
      "text/html": [
       "<div>\n",
       "<style scoped>\n",
       "    .dataframe tbody tr th:only-of-type {\n",
       "        vertical-align: middle;\n",
       "    }\n",
       "\n",
       "    .dataframe tbody tr th {\n",
       "        vertical-align: top;\n",
       "    }\n",
       "\n",
       "    .dataframe thead th {\n",
       "        text-align: right;\n",
       "    }\n",
       "</style>\n",
       "<table border=\"1\" class=\"dataframe\">\n",
       "  <thead>\n",
       "    <tr style=\"text-align: right;\">\n",
       "      <th></th>\n",
       "      <th>id</th>\n",
       "      <th>title</th>\n",
       "      <th>label</th>\n",
       "    </tr>\n",
       "  </thead>\n",
       "  <tbody>\n",
       "    <tr>\n",
       "      <th>0</th>\n",
       "      <td>t3_an59pr</td>\n",
       "      <td>CMV: The most ethical course of action is to take very drastic measures to stop climate change</td>\n",
       "      <td>p</td>\n",
       "    </tr>\n",
       "    <tr>\n",
       "      <th>1</th>\n",
       "      <td>t3_563ep2</td>\n",
       "      <td>CMV: I will not have kids due to climate change.</td>\n",
       "      <td>ps</td>\n",
       "    </tr>\n",
       "    <tr>\n",
       "      <th>2</th>\n",
       "      <td>t3_2ylc5a</td>\n",
       "      <td>CMV:Climate change is a scam by the UN</td>\n",
       "      <td>a</td>\n",
       "    </tr>\n",
       "    <tr>\n",
       "      <th>3</th>\n",
       "      <td>t3_ehwa7r</td>\n",
       "      <td>Politicians who don't believe in climate change should not be allowed to hold public office</td>\n",
       "      <td>ps</td>\n",
       "    </tr>\n",
       "    <tr>\n",
       "      <th>4</th>\n",
       "      <td>t3_bg5fnj</td>\n",
       "      <td>CMV: Patanogia donating $10 Million towards climate change sets a bad precedent.</td>\n",
       "      <td>an</td>\n",
       "    </tr>\n",
       "  </tbody>\n",
       "</table>\n",
       "</div>"
      ],
      "text/plain": [
       "          id  \\\n",
       "0  t3_an59pr   \n",
       "1  t3_563ep2   \n",
       "2  t3_2ylc5a   \n",
       "3  t3_ehwa7r   \n",
       "4  t3_bg5fnj   \n",
       "\n",
       "                                                                                            title  \\\n",
       "0  CMV: The most ethical course of action is to take very drastic measures to stop climate change   \n",
       "1                                                CMV: I will not have kids due to climate change.   \n",
       "2                                                          CMV:Climate change is a scam by the UN   \n",
       "3     Politicians who don't believe in climate change should not be allowed to hold public office   \n",
       "4                CMV: Patanogia donating $10 Million towards climate change sets a bad precedent.   \n",
       "\n",
       "  label  \n",
       "0     p  \n",
       "1    ps  \n",
       "2     a  \n",
       "3    ps  \n",
       "4    an  "
      ]
     },
     "execution_count": 57,
     "metadata": {},
     "output_type": "execute_result"
    }
   ],
   "source": [
    "# Read in labels\n",
    "sample_with_labels_df = pd.read_csv('/u/scr/yiweil/Green-American-Lexicon/2_data_exploration/\\\n",
    "cmv_climate_posts_with_manual_stance_labels.csv',header=0)\n",
    "sample_with_labels_df.head()"
   ]
  },
  {
   "cell_type": "code",
   "execution_count": 58,
   "id": "861cc869",
   "metadata": {
    "hidden": true,
    "scrolled": true
   },
   "outputs": [
    {
     "data": {
      "text/plain": [
       "pro        92\n",
       "anti       38\n",
       "neutral    20\n",
       "Name: manual_label_macro, dtype: int64"
      ]
     },
     "execution_count": 58,
     "metadata": {},
     "output_type": "execute_result"
    }
   ],
   "source": [
    "# Aggregate fine-grained annotations into one of 3 macro categories\n",
    "sample_with_labels_df['manual_label_macro'] = sample_with_labels_df['label'].apply(lambda x: x[0])\n",
    "sample_with_labels_df['manual_label_macro'] = sample_with_labels_df['manual_label_macro'].apply(\n",
    "    lambda x: {'p':'pro',\n",
    "               'a':'anti',\n",
    "               'n':'neutral'}[x] if x in {'p','a','n'} else x)\n",
    "sample_with_labels_df['manual_label_macro'].value_counts()"
   ]
  },
  {
   "cell_type": "code",
   "execution_count": 62,
   "id": "e61e7f63",
   "metadata": {
    "hidden": true
   },
   "outputs": [
    {
     "data": {
      "text/plain": [
       "ps    0.380000\n",
       "a     0.246667\n",
       "p     0.126667\n",
       "n     0.126667\n",
       "pa    0.106667\n",
       "an    0.006667\n",
       "na    0.006667\n",
       "Name: label, dtype: float64"
      ]
     },
     "execution_count": 62,
     "metadata": {},
     "output_type": "execute_result"
    }
   ],
   "source": [
    "sample_with_labels_df['label'].value_counts()/sum(sample_with_labels_df['label'].value_counts())"
   ]
  },
  {
   "cell_type": "code",
   "execution_count": 59,
   "id": "97575b9a",
   "metadata": {
    "hidden": true
   },
   "outputs": [
    {
     "ename": "NameError",
     "evalue": "name 'ax' is not defined",
     "output_type": "error",
     "traceback": [
      "\u001b[0;31m---------------------------------------------------------------------------\u001b[0m",
      "\u001b[0;31mNameError\u001b[0m                                 Traceback (most recent call last)",
      "\u001b[0;32m<ipython-input-59-84ac8f91c1b0>\u001b[0m in \u001b[0;36m<module>\u001b[0;34m\u001b[0m\n\u001b[1;32m     10\u001b[0m \u001b[0msample_with_labels_df\u001b[0m\u001b[0;34m[\u001b[0m\u001b[0;34m'year'\u001b[0m\u001b[0;34m]\u001b[0m \u001b[0;34m=\u001b[0m \u001b[0msample_with_labels_df\u001b[0m\u001b[0;34m[\u001b[0m\u001b[0;34m'time'\u001b[0m\u001b[0;34m]\u001b[0m\u001b[0;34m.\u001b[0m\u001b[0mapply\u001b[0m\u001b[0;34m(\u001b[0m\u001b[0;32mlambda\u001b[0m \u001b[0mx\u001b[0m\u001b[0;34m:\u001b[0m \u001b[0mdatetime\u001b[0m\u001b[0;34m.\u001b[0m\u001b[0mutcfromtimestamp\u001b[0m\u001b[0;34m(\u001b[0m\u001b[0mx\u001b[0m\u001b[0;34m)\u001b[0m\u001b[0;34m.\u001b[0m\u001b[0myear\u001b[0m\u001b[0;34m)\u001b[0m\u001b[0;34m\u001b[0m\u001b[0;34m\u001b[0m\u001b[0m\n\u001b[1;32m     11\u001b[0m \u001b[0;34m\u001b[0m\u001b[0m\n\u001b[0;32m---> 12\u001b[0;31m \u001b[0msns\u001b[0m\u001b[0;34m.\u001b[0m\u001b[0mdisplot\u001b[0m\u001b[0;34m(\u001b[0m\u001b[0mdata\u001b[0m\u001b[0;34m=\u001b[0m\u001b[0msample_with_labels_df\u001b[0m\u001b[0;34m,\u001b[0m\u001b[0mx\u001b[0m\u001b[0;34m=\u001b[0m\u001b[0;34m'year'\u001b[0m\u001b[0;34m,\u001b[0m\u001b[0mhue\u001b[0m\u001b[0;34m=\u001b[0m\u001b[0;34m'manual_label_macro'\u001b[0m\u001b[0;34m,\u001b[0m\u001b[0max\u001b[0m\u001b[0;34m=\u001b[0m\u001b[0max\u001b[0m\u001b[0;34m,\u001b[0m\u001b[0mmultiple\u001b[0m\u001b[0;34m=\u001b[0m\u001b[0;34m'stack'\u001b[0m\u001b[0;34m)\u001b[0m\u001b[0;34m\u001b[0m\u001b[0;34m\u001b[0m\u001b[0m\n\u001b[0m\u001b[1;32m     13\u001b[0m \u001b[0mplt\u001b[0m\u001b[0;34m.\u001b[0m\u001b[0mxlabel\u001b[0m\u001b[0;34m(\u001b[0m\u001b[0;34m''\u001b[0m\u001b[0;34m)\u001b[0m\u001b[0;34m\u001b[0m\u001b[0;34m\u001b[0m\u001b[0m\n\u001b[1;32m     14\u001b[0m \u001b[0mplt\u001b[0m\u001b[0;34m.\u001b[0m\u001b[0mylabel\u001b[0m\u001b[0;34m(\u001b[0m\u001b[0;34m'Number of posts'\u001b[0m\u001b[0;34m)\u001b[0m\u001b[0;34m\u001b[0m\u001b[0;34m\u001b[0m\u001b[0m\n",
      "\u001b[0;31mNameError\u001b[0m: name 'ax' is not defined"
     ]
    }
   ],
   "source": [
    "# Plot distribution over time\n",
    "# x-axis: time\n",
    "# y-axis: conversation stance\n",
    "\n",
    "from datetime import datetime\n",
    "def get_convo_time(convo_id):\n",
    "    return corpus.get_utterance(convo_id).meta['created']\n",
    "\n",
    "sample_with_labels_df['time'] = sample_with_labels_df['id'].apply(lambda x: get_convo_time(x))\n",
    "sample_with_labels_df['year'] = sample_with_labels_df['time'].apply(lambda x: datetime.utcfromtimestamp(x).year)\n",
    "\n",
    "sns.displot(data=sample_with_labels_df,x='year',hue='manual_label_macro',ax=ax,multiple='stack')\n",
    "plt.xlabel('')\n",
    "plt.ylabel('Number of posts')\n",
    "plt.title('Stance of post titles over time')\n",
    "sns.despine()\n",
    "plt.legend(title='Stance of post title', loc='upper left', labels=['neutral', 'anti', 'pro'])"
   ]
  },
  {
   "cell_type": "code",
   "execution_count": 63,
   "id": "e36397f1",
   "metadata": {
    "hidden": true,
    "scrolled": false
   },
   "outputs": [
    {
     "data": {
      "image/png": "[encoded data removed]",
      "text/plain": [
       "<Figure size 360x360 with 1 Axes>"
      ]
     },
     "metadata": {
      "needs_background": "light"
     },
     "output_type": "display_data"
    }
   ],
   "source": [
    "plt.rcParams['figure.figsize'] = [10, 14]\n",
    "sns.displot(data=sample_with_labels_df.loc[sample_with_labels_df['label']\n",
    "                                          .isin({'p','ps','pa','a','n'})],x='year',hue='label',multiple='stack',\n",
    "           hue_order=['a','n','p','ps','pa'],legend=False)\n",
    "plt.xlabel('')\n",
    "plt.ylabel('Number of posts',fontsize=20)\n",
    "plt.title('Stance of post titles over time',fontsize=24)\n",
    "sns.despine()\n",
    "plt.legend(title='', loc='upper left', labels=['anti', 'neutral', 'pro_explicit', 'pro_implicit',\n",
    "                                                                  'pro_doom'][::-1],\n",
    "          fontsize=15)\n",
    "plt.savefig('figs/stance_manual_labels_over_time.png',dpi=200,bbox_inches=\"tight\")"
   ]
  },
  {
   "cell_type": "code",
   "execution_count": null,
   "id": "6fa5c382",
   "metadata": {
    "hidden": true
   },
   "outputs": [],
   "source": []
  }
 ],
 "metadata": {
  "kernelspec": {
   "display_name": "Python 3",
   "language": "python",
   "name": "python3"
  },
  "language_info": {
   "codemirror_mode": {
    "name": "ipython",
    "version": 3
   },
   "file_extension": ".py",
   "mimetype": "text/x-python",
   "name": "python",
   "nbconvert_exporter": "python",
   "pygments_lexer": "ipython3",
   "version": "3.6.8"
  },
  "toc": {
   "base_numbering": 1,
   "nav_menu": {},
   "number_sections": true,
   "sideBar": true,
   "skip_h1_title": false,
   "title_cell": "Table of Contents",
   "title_sidebar": "Contents",
   "toc_cell": false,
   "toc_position": {},
   "toc_section_display": true,
   "toc_window_display": false
  },
  "varInspector": {
   "cols": {
    "lenName": 16,
    "lenType": 16,
    "lenVar": 40
   },
   "kernels_config": {
    "python": {
     "delete_cmd_postfix": "",
     "delete_cmd_prefix": "del ",
     "library": "var_list.py",
     "varRefreshCmd": "print(var_dic_list())"
    },
    "r": {
     "delete_cmd_postfix": ") ",
     "delete_cmd_prefix": "rm(",
     "library": "var_list.r",
     "varRefreshCmd": "cat(var_dic_list()) "
    }
   },
   "types_to_exclude": [
    "module",
    "function",
    "builtin_function_or_method",
    "instance",
    "_Feature"
   ],
   "window_display": false
  }
 },
 "nbformat": 4,
 "nbformat_minor": 5
}
